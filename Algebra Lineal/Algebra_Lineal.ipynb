{
 "cells": [
  {
   "cell_type": "markdown",
   "id": "debe1d18",
   "metadata": {},
   "source": [
    "## Álgebra Lineal\n",
    "### Día 28 de septiembre"
   ]
  },
  {
   "cell_type": "code",
   "execution_count": null,
   "id": "b7e0bdb7",
   "metadata": {},
   "outputs": [],
   "source": [
    "import numpy as np"
   ]
  },
  {
   "cell_type": "code",
   "execution_count": null,
   "id": "bf33b219",
   "metadata": {},
   "outputs": [],
   "source": [
    "A=[[1,2,3],\n",
    "  [4,5,6],\n",
    "  [7,8,9]]"
   ]
  },
  {
   "cell_type": "code",
   "execution_count": null,
   "id": "1e850d47",
   "metadata": {},
   "outputs": [],
   "source": [
    "A=np.array(A)"
   ]
  },
  {
   "cell_type": "code",
   "execution_count": null,
   "id": "896ae267",
   "metadata": {},
   "outputs": [],
   "source": [
    "A.dtype"
   ]
  },
  {
   "cell_type": "code",
   "execution_count": null,
   "id": "f55ba0f5",
   "metadata": {},
   "outputs": [],
   "source": [
    "A.shape"
   ]
  },
  {
   "cell_type": "code",
   "execution_count": null,
   "id": "e1c7d7f2",
   "metadata": {},
   "outputs": [],
   "source": [
    "## Calcula el determiante\n",
    "np.linalg.det(A)"
   ]
  },
  {
   "cell_type": "code",
   "execution_count": null,
   "id": "7cb492db",
   "metadata": {},
   "outputs": [],
   "source": [
    "### Calcular la inversa de A\n",
    "np.linalg.inv(A)"
   ]
  },
  {
   "cell_type": "code",
   "execution_count": null,
   "id": "279c4ae4",
   "metadata": {},
   "outputs": [],
   "source": [
    "A @ np.linalg.inv(A)"
   ]
  },
  {
   "cell_type": "code",
   "execution_count": null,
   "id": "540a7e35",
   "metadata": {},
   "outputs": [],
   "source": [
    "np.transpose(A)"
   ]
  },
  {
   "cell_type": "markdown",
   "id": "852108eb",
   "metadata": {},
   "source": [
    "## Sistema de Ecuaciones Lineales"
   ]
  },
  {
   "attachments": {},
   "cell_type": "markdown",
   "id": "fe493a13",
   "metadata": {},
   "source": [
    "$$\\left\\{  \n",
    "    \\begin{array}\n",
    "        x-2y&=&1 \\\\\n",
    "        3x-4y&=&5 \\\\\n",
    "    \\end{array}\n",
    "\\right.$$"
   ]
  },
  {
   "cell_type": "code",
   "execution_count": null,
   "id": "582f30fe",
   "metadata": {},
   "outputs": [],
   "source": [
    "range(10)"
   ]
  },
  {
   "cell_type": "code",
   "execution_count": null,
   "id": "a6f920c1",
   "metadata": {},
   "outputs": [],
   "source": [
    "x_valores=np.linspace(0,10,50)"
   ]
  },
  {
   "cell_type": "code",
   "execution_count": null,
   "id": "ff6b65c7",
   "metadata": {},
   "outputs": [],
   "source": [
    "import matplotlib.pyplot as plt"
   ]
  },
  {
   "cell_type": "code",
   "execution_count": null,
   "id": "f3e88701",
   "metadata": {},
   "outputs": [],
   "source": [
    "plt.plot(x_valores,(1-x_valores)/(-2)) ## La grafíca de la primera ecuación\n",
    "plt.plot(x_valores,(5-3 * x_valores)/(-4)) ## La grafíca de la segunda ecuación"
   ]
  },
  {
   "cell_type": "markdown",
   "id": "6c8af158",
   "metadata": {},
   "source": [
    "$$\\left\\{  \n",
    "\\begin{eqnarray*}\n",
    "x-2y&=&1 \\\\\n",
    "2x-4y&=&5 \\\\\n",
    "\\end{eqnarray*}\n",
    "\\right.$$ =\n",
    "$$\n",
    "\\left(\n",
    "\\begin{eqnarray*}\n",
    "1 && -2 \\\\\n",
    "2 && -4\n",
    "\\end{eqnarray*}\n",
    "\\right)\n",
    "$$\n"
   ]
  },
  {
   "cell_type": "code",
   "execution_count": null,
   "id": "f579f0f9",
   "metadata": {},
   "outputs": [],
   "source": [
    "plt.plot(x_valores,(1-x_valores)/(-2)) ## La grafíca de la primera ecuación\n",
    "plt.plot(x_valores,(5-2* x_valores)/(-4)) ## La grafíca de la segunda ecuación"
   ]
  },
  {
   "cell_type": "markdown",
   "id": "f63ed5a1",
   "metadata": {},
   "source": [
    "$$\\left\\{  \n",
    "\\begin{eqnarray*}\n",
    "x-2y&=&1 \\\\\n",
    "2x-4y&=&2 \\\\\n",
    "\\end{eqnarray*}\n",
    "\\right.$$ =\n",
    "$$\n",
    "\\left(\n",
    "\\begin{eqnarray*}\n",
    "1 && -2 \\\\\n",
    "2 && -4\n",
    "\\end{eqnarray*}\n",
    "\\right)\n",
    "$$"
   ]
  },
  {
   "cell_type": "code",
   "execution_count": null,
   "id": "fa9673fd",
   "metadata": {},
   "outputs": [],
   "source": [
    "plt.plot(x_valores,(1-x_valores)/(-2)) ## La grafíca de la primera ecuación\n",
    "plt.plot(x_valores,(2-2* x_valores)/(-4)) ## La grafíca de la segunda ecuación"
   ]
  },
  {
   "cell_type": "code",
   "execution_count": null,
   "id": "0cfdf799",
   "metadata": {},
   "outputs": [],
   "source": [
    "## Matriz de coeficientes\n",
    "A=np.array([[1,-2],[3,-4]])\n",
    "b=np.array([1.0,5.0])"
   ]
  },
  {
   "cell_type": "code",
   "execution_count": null,
   "id": "6cbade50",
   "metadata": {},
   "outputs": [],
   "source": [
    "np.linalg.solve(A,b)"
   ]
  },
  {
   "cell_type": "code",
   "execution_count": null,
   "id": "f17a64f9",
   "metadata": {},
   "outputs": [],
   "source": [
    "np.linalg.inv(A)@b"
   ]
  },
  {
   "cell_type": "code",
   "execution_count": null,
   "id": "1b5c73bf",
   "metadata": {},
   "outputs": [],
   "source": [
    "X=np.linalg.solve(A,b)\n",
    "A@ X==b"
   ]
  },
  {
   "cell_type": "code",
   "execution_count": null,
   "id": "7c33ba89",
   "metadata": {},
   "outputs": [],
   "source": [
    "A @ X"
   ]
  },
  {
   "cell_type": "code",
   "execution_count": null,
   "id": "bdd3483f",
   "metadata": {},
   "outputs": [],
   "source": [
    "## Matriz de coeficientes\n",
    "A=np.array([[1,-2],[2,-4]])\n",
    "b=np.array([1.0,5.0])\n",
    "np.linalg.solve(A,b)\n"
   ]
  },
  {
   "cell_type": "markdown",
   "id": "e9ebfee4",
   "metadata": {},
   "source": [
    "$$\\left\\{  \n",
    "\\begin{eqnarray*}\n",
    "x-2y+z&=&1 \\\\\n",
    "2x-4y+z&=&2 \\\\\n",
    "x-y+2z&=&5 \\\\\n",
    "\\end{eqnarray*}\n",
    "\\right.$$"
   ]
  },
  {
   "cell_type": "code",
   "execution_count": null,
   "id": "4338a809",
   "metadata": {},
   "outputs": [],
   "source": [
    "A=np.array([[1,-2,1],[2,-4,1],[1,-1,2]])\n",
    "b=np.array([1,2,5])"
   ]
  },
  {
   "cell_type": "code",
   "execution_count": null,
   "id": "53f7eeb9",
   "metadata": {},
   "outputs": [],
   "source": [
    "np.linalg.det(A)"
   ]
  },
  {
   "cell_type": "code",
   "execution_count": null,
   "id": "103757e5",
   "metadata": {},
   "outputs": [],
   "source": [
    "np.linalg.solve(A,b)"
   ]
  },
  {
   "cell_type": "code",
   "execution_count": null,
   "id": "bd2aec28",
   "metadata": {},
   "outputs": [],
   "source": [
    "vector=np.array([1,2,3,4,5,6])"
   ]
  },
  {
   "cell_type": "code",
   "execution_count": null,
   "id": "b1fe7b4d",
   "metadata": {},
   "outputs": [],
   "source": [
    "np.linalg.norm(vector) # Norma 2"
   ]
  },
  {
   "cell_type": "markdown",
   "id": "866584ea",
   "metadata": {},
   "source": [
    "## La norma 1 $L_1$"
   ]
  },
  {
   "cell_type": "code",
   "execution_count": null,
   "id": "e3b79652",
   "metadata": {},
   "outputs": [],
   "source": [
    "np.linalg.norm(vector,ord=1)"
   ]
  },
  {
   "cell_type": "code",
   "execution_count": null,
   "id": "37899038",
   "metadata": {},
   "outputs": [],
   "source": [
    "## La nomra infinito\n",
    "np.linalg.norm(vector,ord=np.inf)"
   ]
  },
  {
   "cell_type": "markdown",
   "id": "bd0b3341",
   "metadata": {},
   "source": [
    "$$L_{\\infty}<\\ldots<L_3<L_2 <L_1$$"
   ]
  },
  {
   "cell_type": "code",
   "execution_count": null,
   "id": "3dc99ce1",
   "metadata": {},
   "outputs": [],
   "source": [
    "np.linalg.norm(vector,ord=0)"
   ]
  },
  {
   "cell_type": "code",
   "execution_count": null,
   "id": "974d1227",
   "metadata": {},
   "outputs": [],
   "source": [
    "vector=np.array([0,10,-1,0])\n",
    "\n",
    "np.linalg.norm(vector,ord=0)"
   ]
  },
  {
   "cell_type": "code",
   "execution_count": null,
   "id": "3cf06d8c",
   "metadata": {},
   "outputs": [],
   "source": [
    "## Datos Curiosos"
   ]
  },
  {
   "cell_type": "code",
   "execution_count": null,
   "id": "bcb5f97a",
   "metadata": {},
   "outputs": [],
   "source": [
    "### Traza"
   ]
  },
  {
   "cell_type": "markdown",
   "id": "6f25a369",
   "metadata": {},
   "source": [
    "$$\\left(\n",
    "\\begin{eqnarray*}\n",
    "1 & 2 & 3\\\\\n",
    "1 & 2 & 3\\\\\n",
    "1 & 2 & 3\n",
    "\\end{eqnarray*}\n",
    "\\right)$$"
   ]
  },
  {
   "cell_type": "code",
   "execution_count": null,
   "id": "f1081005",
   "metadata": {},
   "outputs": [],
   "source": [
    "np.trace(np.array([[1,2,3],[1,2,3],[1,2,3]]))"
   ]
  },
  {
   "cell_type": "code",
   "execution_count": null,
   "id": "c91584e5",
   "metadata": {},
   "outputs": [],
   "source": [
    "np.linalg.det(np.array([[1,2,3],[1,2,3],[1,2,3]]))"
   ]
  },
  {
   "cell_type": "markdown",
   "id": "23825177",
   "metadata": {},
   "source": [
    "### Matriz Triangular\n",
    "#### Matrz triangular superior\n",
    "$$\\left(\n",
    "\\begin{eqnarray*}\n",
    "1 & 2 & 3\\\\\n",
    "0 & 2 & 3\\\\\n",
    "0 & 0 & 3\n",
    "\\end{eqnarray*}\n",
    "\\right)$$\n",
    "\n",
    "\n",
    "#### Matriz Triangular Inferior\n",
    "$$\\left(\n",
    "\\begin{eqnarray*}\n",
    "1 & 0 & 0\\\\\n",
    "1 & 2 & 0\\\\\n",
    "1 & 2 & 3\n",
    "\\end{eqnarray*}\n",
    "\\right)$$\n",
    "\n",
    "\n"
   ]
  },
  {
   "cell_type": "markdown",
   "id": "b24436ce",
   "metadata": {},
   "source": [
    "### Matriz Simétrica\n",
    "$$ A^t =A$$\n"
   ]
  },
  {
   "cell_type": "markdown",
   "id": "f9ef80b6",
   "metadata": {},
   "source": [
    "## Matriz Antisimetrica\n",
    "\n",
    "$$A=-A^t$$\n",
    "* Candidatas a matriz antisimetrica son aquellas que la diagonal principal es cero"
   ]
  },
  {
   "cell_type": "code",
   "execution_count": null,
   "id": "3eefcc8f",
   "metadata": {},
   "outputs": [],
   "source": [
    "A=np.array([[0,1],[-1,0]])"
   ]
  },
  {
   "cell_type": "code",
   "execution_count": null,
   "id": "054fb0d4",
   "metadata": {},
   "outputs": [],
   "source": [
    "A"
   ]
  },
  {
   "cell_type": "code",
   "execution_count": null,
   "id": "1aef12cb",
   "metadata": {},
   "outputs": [],
   "source": [
    "np.transpose(A)"
   ]
  },
  {
   "cell_type": "code",
   "execution_count": null,
   "id": "b587da56",
   "metadata": {},
   "outputs": [],
   "source": [
    "A==-np.transpose(A)"
   ]
  },
  {
   "cell_type": "code",
   "execution_count": null,
   "id": "e646b271",
   "metadata": {},
   "outputs": [],
   "source": [
    "A=np.array([[3,1],[1,4]])"
   ]
  },
  {
   "cell_type": "code",
   "execution_count": null,
   "id": "c14121e1",
   "metadata": {},
   "outputs": [],
   "source": [
    "A==np.transpose(A)"
   ]
  },
  {
   "cell_type": "code",
   "execution_count": null,
   "id": "340fc9f2",
   "metadata": {},
   "outputs": [],
   "source": [
    "### Valores Propios y vectores propios, autovalores y autovectores, eigenvalues y eigenvectors"
   ]
  },
  {
   "cell_type": "markdown",
   "id": "b343a7b3",
   "metadata": {},
   "source": [
    "## Valores Propios\n",
    "\n",
    "\n",
    "$$ A-\\lambda* I$$\n",
    "calculamos el determiante de dicha matriz e igualamos cero\n",
    "$$ |A-\\lambda* I|=0$$\n"
   ]
  },
  {
   "cell_type": "markdown",
   "id": "19b9bb0c",
   "metadata": {},
   "source": [
    "$$\\left(\n",
    "\\begin{eqnarray*}\n",
    "1 & 2 & 3\\\\\n",
    "4 & 5 & 6\\\\\n",
    "7 & 8 & 9\n",
    "\\end{eqnarray*}\n",
    "\\right)$$"
   ]
  },
  {
   "cell_type": "markdown",
   "id": "595aac3a",
   "metadata": {},
   "source": [
    "$$ A - \\lambda I$$\n",
    "\n",
    "$\\left(\n",
    "\\begin{eqnarray*}\n",
    "1 & 2 & 3\\\\\n",
    "4 & 5 & 6\\\\\n",
    "7 & 8 & 9\n",
    "\\end{eqnarray*} \\right) $\n",
    "$-\\lambda\n",
    "\\left(\n",
    "\\begin{eqnarray*}\n",
    "1 & 0 & 0\\\\\n",
    "0 & 1 & 0\\\\\n",
    "0 & 0 & 1\n",
    "\\end{eqnarray*}\n",
    "\\right)$ \n",
    "=$\n",
    "\\left(\n",
    "\\begin{eqnarray*}\n",
    "1 & 2 & 3\\\\\n",
    "4 & 5 & 6\\\\\n",
    "7 & 8 & 9\n",
    "\\end{eqnarray*} \\right)$ $- \n",
    "\\left(\n",
    "\\begin{eqnarray*}\n",
    "\\lambda & 0 & 0\\\\\n",
    "0 & \\lambda & 0\\\\\n",
    "0 & 0 & \\lambda\n",
    "\\end{eqnarray*}\n",
    "\\right)$"
   ]
  },
  {
   "cell_type": "code",
   "execution_count": null,
   "id": "5224771a",
   "metadata": {},
   "outputs": [],
   "source": [
    "A=np.array([[1,2,3],[4,5,6],[7,8,9]])"
   ]
  },
  {
   "cell_type": "code",
   "execution_count": null,
   "id": "a12f4849",
   "metadata": {},
   "outputs": [],
   "source": [
    "np.linalg.eig(A)"
   ]
  },
  {
   "cell_type": "markdown",
   "id": "35b92fe8",
   "metadata": {},
   "source": [
    "$$A\\times \\vec{v}_1=\\lambda_1 \\vec{v}_1$$"
   ]
  },
  {
   "cell_type": "code",
   "execution_count": null,
   "id": "497e3388",
   "metadata": {},
   "outputs": [],
   "source": []
  }
 ],
 "metadata": {
  "kernelspec": {
   "display_name": "base",
   "language": "python",
   "name": "python3"
  },
  "language_info": {
   "codemirror_mode": {
    "name": "ipython",
    "version": 3
   },
   "file_extension": ".py",
   "mimetype": "text/x-python",
   "name": "python",
   "nbconvert_exporter": "python",
   "pygments_lexer": "ipython3",
   "version": "3.9.12"
  },
  "vscode": {
   "interpreter": {
    "hash": "93b270aff94e38196a98effae74ed121e7c4be36a010106ff9b6f6d47d6f1709"
   }
  }
 },
 "nbformat": 4,
 "nbformat_minor": 5
}
