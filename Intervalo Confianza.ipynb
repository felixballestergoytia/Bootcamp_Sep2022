{
 "cells": [
  {
   "cell_type": "code",
   "execution_count": 1,
   "id": "e1e90d66",
   "metadata": {},
   "outputs": [],
   "source": [
    "## 25 de noviembre\n",
    "### Librerias\n",
    "import numpy as np\n",
    "import scipy.stats as ss\n",
    "import random \n",
    "import math\n",
    "import matplotlib.pyplot as plt "
   ]
  },
  {
   "cell_type": "code",
   "execution_count": 5,
   "id": "011f85f0",
   "metadata": {},
   "outputs": [],
   "source": [
    "np.random.seed(1234)\n",
    "#Poblacion_1=ss.poisson.rvs()\n",
    "Poblacion_1=ss.poisson.rvs(loc=5,mu=35,size=15000000)\n",
    "Poblacion_2=ss.poisson.rvs(loc=18,mu=10,size=10000000)"
   ]
  },
  {
   "cell_type": "code",
   "execution_count": 6,
   "id": "42d1388c",
   "metadata": {},
   "outputs": [],
   "source": [
    "Poblacion=np.concatenate((Poblacion_1,Poblacion_2))"
   ]
  },
  {
   "cell_type": "code",
   "execution_count": 7,
   "id": "bb9fda33",
   "metadata": {},
   "outputs": [
    {
     "data": {
      "text/plain": [
       "25000000"
      ]
     },
     "execution_count": 7,
     "metadata": {},
     "output_type": "execute_result"
    }
   ],
   "source": [
    "len(Poblacion)"
   ]
  },
  {
   "cell_type": "code",
   "execution_count": 8,
   "id": "1a584a5e",
   "metadata": {},
   "outputs": [
    {
     "data": {
      "text/plain": [
       "35.20056272"
      ]
     },
     "execution_count": 8,
     "metadata": {},
     "output_type": "execute_result"
    }
   ],
   "source": [
    "Poblacion.mean()"
   ]
  },
  {
   "cell_type": "code",
   "execution_count": 9,
   "id": "e387d9d7",
   "metadata": {},
   "outputs": [
    {
     "data": {
      "text/plain": [
       "40.00116353333333"
      ]
     },
     "execution_count": 9,
     "metadata": {},
     "output_type": "execute_result"
    }
   ],
   "source": [
    "Poblacion_1.mean()"
   ]
  },
  {
   "cell_type": "code",
   "execution_count": 10,
   "id": "7df1923f",
   "metadata": {},
   "outputs": [
    {
     "data": {
      "text/plain": [
       "27.9996615"
      ]
     },
     "execution_count": 10,
     "metadata": {},
     "output_type": "execute_result"
    }
   ],
   "source": [
    "Poblacion_2.mean()"
   ]
  },
  {
   "cell_type": "code",
   "execution_count": 11,
   "id": "7ad6e45f",
   "metadata": {},
   "outputs": [],
   "source": [
    "## seleccionamos una muestra\n",
    "muestra_edades=np.random.choice(a=Poblacion,size=50000)"
   ]
  },
  {
   "cell_type": "code",
   "execution_count": 12,
   "id": "12f485d7",
   "metadata": {},
   "outputs": [
    {
     "data": {
      "text/plain": [
       "35.17866"
      ]
     },
     "execution_count": 12,
     "metadata": {},
     "output_type": "execute_result"
    }
   ],
   "source": [
    "muestra_edades.mean()"
   ]
  },
  {
   "cell_type": "code",
   "execution_count": 13,
   "id": "5ca11c77",
   "metadata": {},
   "outputs": [
    {
     "data": {
      "text/plain": [
       "0.02190271999999993"
      ]
     },
     "execution_count": 13,
     "metadata": {},
     "output_type": "execute_result"
    }
   ],
   "source": [
    "### Frecuencia Absoluta\n",
    "Poblacion.mean()-muestra_edades.mean()"
   ]
  },
  {
   "cell_type": "code",
   "execution_count": 17,
   "id": "25769759",
   "metadata": {},
   "outputs": [
    {
     "data": {
      "text/plain": [
       "0.062222641649860334"
      ]
     },
     "execution_count": 17,
     "metadata": {},
     "output_type": "execute_result"
    }
   ],
   "source": [
    "### Frecuencia relativa\n",
    "abs((Poblacion.mean()-muestra_edades.mean())/Poblacion.mean())*100"
   ]
  },
  {
   "cell_type": "code",
   "execution_count": 18,
   "id": "9a6c89d5",
   "metadata": {},
   "outputs": [],
   "source": [
    "### Proporción \n",
    "poblacion_color_ojos=([\"marron\"]*137215 + [\"azul\"]*50025+[\"verde\"]*80132+[\"negro\"]*20200)"
   ]
  },
  {
   "cell_type": "code",
   "execution_count": 19,
   "id": "133cecbf",
   "metadata": {},
   "outputs": [
    {
     "data": {
      "text/plain": [
       "287572"
      ]
     },
     "execution_count": 19,
     "metadata": {},
     "output_type": "execute_result"
    }
   ],
   "source": [
    "len(poblacion_color_ojos)"
   ]
  },
  {
   "cell_type": "code",
   "execution_count": 21,
   "id": "bae46cab",
   "metadata": {},
   "outputs": [],
   "source": [
    "## Muestra\n",
    "muestra_color_ojos=random.sample(poblacion_color_ojos,2300)"
   ]
  },
  {
   "cell_type": "code",
   "execution_count": 24,
   "id": "a479f905",
   "metadata": {},
   "outputs": [
    {
     "name": "stdout",
     "output_type": "stream",
     "text": [
      "proporcion estimada del marron será: 0.4743478260869565\n",
      "proporcion estimada del negro será: 0.07782608695652174\n",
      "proporcion estimada del azul será: 0.17173913043478262\n",
      "proporcion estimada del verde será: 0.27608695652173915\n"
     ]
    }
   ],
   "source": [
    "for color in set(poblacion_color_ojos):\n",
    "    print(\"proporcion estimada del {color} será: {resultado}\".format(color=color,resultado=muestra_color_ojos.count(color)/len(muestra_color_ojos)))"
   ]
  },
  {
   "cell_type": "code",
   "execution_count": 26,
   "id": "ae36d030",
   "metadata": {},
   "outputs": [],
   "source": [
    "import pandas as pd"
   ]
  },
  {
   "cell_type": "code",
   "execution_count": 28,
   "id": "e3868699",
   "metadata": {},
   "outputs": [
    {
     "data": {
      "text/html": [
       "<div>\n",
       "<style scoped>\n",
       "    .dataframe tbody tr th:only-of-type {\n",
       "        vertical-align: middle;\n",
       "    }\n",
       "\n",
       "    .dataframe tbody tr th {\n",
       "        vertical-align: top;\n",
       "    }\n",
       "\n",
       "    .dataframe thead th {\n",
       "        text-align: right;\n",
       "    }\n",
       "</style>\n",
       "<table border=\"1\" class=\"dataframe\">\n",
       "  <thead>\n",
       "    <tr style=\"text-align: right;\">\n",
       "      <th></th>\n",
       "      <th>0</th>\n",
       "    </tr>\n",
       "  </thead>\n",
       "  <tbody>\n",
       "    <tr>\n",
       "      <th>0</th>\n",
       "      <td>marron</td>\n",
       "    </tr>\n",
       "    <tr>\n",
       "      <th>1</th>\n",
       "      <td>marron</td>\n",
       "    </tr>\n",
       "    <tr>\n",
       "      <th>2</th>\n",
       "      <td>marron</td>\n",
       "    </tr>\n",
       "    <tr>\n",
       "      <th>3</th>\n",
       "      <td>marron</td>\n",
       "    </tr>\n",
       "    <tr>\n",
       "      <th>4</th>\n",
       "      <td>marron</td>\n",
       "    </tr>\n",
       "    <tr>\n",
       "      <th>...</th>\n",
       "      <td>...</td>\n",
       "    </tr>\n",
       "    <tr>\n",
       "      <th>287567</th>\n",
       "      <td>negro</td>\n",
       "    </tr>\n",
       "    <tr>\n",
       "      <th>287568</th>\n",
       "      <td>negro</td>\n",
       "    </tr>\n",
       "    <tr>\n",
       "      <th>287569</th>\n",
       "      <td>negro</td>\n",
       "    </tr>\n",
       "    <tr>\n",
       "      <th>287570</th>\n",
       "      <td>negro</td>\n",
       "    </tr>\n",
       "    <tr>\n",
       "      <th>287571</th>\n",
       "      <td>negro</td>\n",
       "    </tr>\n",
       "  </tbody>\n",
       "</table>\n",
       "<p>287572 rows × 1 columns</p>\n",
       "</div>"
      ],
      "text/plain": [
       "             0\n",
       "0       marron\n",
       "1       marron\n",
       "2       marron\n",
       "3       marron\n",
       "4       marron\n",
       "...        ...\n",
       "287567   negro\n",
       "287568   negro\n",
       "287569   negro\n",
       "287570   negro\n",
       "287571   negro\n",
       "\n",
       "[287572 rows x 1 columns]"
      ]
     },
     "execution_count": 28,
     "metadata": {},
     "output_type": "execute_result"
    }
   ],
   "source": [
    "pd.DataFrame(poblacion_color_ojos)#.values_count()"
   ]
  },
  {
   "cell_type": "code",
   "execution_count": 29,
   "id": "a967d2e7",
   "metadata": {},
   "outputs": [],
   "source": [
    "a=pd.DataFrame(poblacion_color_ojos)"
   ]
  },
  {
   "cell_type": "code",
   "execution_count": 30,
   "id": "79cb9b25",
   "metadata": {},
   "outputs": [
    {
     "data": {
      "text/plain": [
       "marron    0.477150\n",
       "verde     0.278650\n",
       "azul      0.173956\n",
       "negro     0.070243\n",
       "Name: 0, dtype: float64"
      ]
     },
     "execution_count": 30,
     "metadata": {},
     "output_type": "execute_result"
    }
   ],
   "source": [
    "a[0].value_counts(normalize=True)"
   ]
  },
  {
   "cell_type": "code",
   "execution_count": 33,
   "id": "04193f86",
   "metadata": {},
   "outputs": [
    {
     "data": {
      "image/png": "[encoded data removed]",
      "text/plain": [
       "<Figure size 432x288 with 1 Axes>"
      ]
     },
     "metadata": {
      "needs_background": "light"
     },
     "output_type": "display_data"
    }
   ],
   "source": [
    "pd.DataFrame(Poblacion).hist(bins=50,range=(17.5,70));"
   ]
  },
  {
   "cell_type": "code",
   "execution_count": 34,
   "id": "9102d3e6",
   "metadata": {},
   "outputs": [
    {
     "data": {
      "text/plain": [
       "-0.6947503357645544"
      ]
     },
     "execution_count": 34,
     "metadata": {},
     "output_type": "execute_result"
    }
   ],
   "source": [
    "ss.kurtosis(Poblacion)"
   ]
  },
  {
   "cell_type": "code",
   "execution_count": 35,
   "id": "0fa7083a",
   "metadata": {},
   "outputs": [
    {
     "data": {
      "text/plain": [
       "0.343981711746185"
      ]
     },
     "execution_count": 35,
     "metadata": {},
     "output_type": "execute_result"
    }
   ],
   "source": [
    "ss.skew(Poblacion)"
   ]
  },
  {
   "cell_type": "code",
   "execution_count": 36,
   "id": "68debd75",
   "metadata": {},
   "outputs": [],
   "source": [
    "np.random.seed(125)\n",
    "estimacion_puntual=[]\n",
    "for x in range(200):\n",
    "    muestra=np.random.choice(a=Poblacion,size=1000)\n",
    "    estimacion_puntual.append(muestra.mean())"
   ]
  },
  {
   "cell_type": "code",
   "execution_count": 39,
   "id": "08ee5e1e",
   "metadata": {},
   "outputs": [
    {
     "data": {
      "image/png": "[encoded data removed]",
      "text/plain": [
       "<Figure size 432x288 with 1 Axes>"
      ]
     },
     "metadata": {
      "needs_background": "light"
     },
     "output_type": "display_data"
    }
   ],
   "source": [
    "pd.DataFrame(estimacion_puntual).plot(kind=\"density\");"
   ]
  },
  {
   "cell_type": "code",
   "execution_count": 41,
   "id": "56ec8044",
   "metadata": {},
   "outputs": [
    {
     "data": {
      "text/plain": [
       "35.20601"
      ]
     },
     "execution_count": 41,
     "metadata": {},
     "output_type": "execute_result"
    }
   ],
   "source": [
    "np.array(estimacion_puntual).mean()"
   ]
  },
  {
   "cell_type": "code",
   "execution_count": 42,
   "id": "8a24a139",
   "metadata": {},
   "outputs": [
    {
     "data": {
      "text/plain": [
       "35.20056272"
      ]
     },
     "execution_count": 42,
     "metadata": {},
     "output_type": "execute_result"
    }
   ],
   "source": [
    "Poblacion.mean()"
   ]
  },
  {
   "cell_type": "code",
   "execution_count": 43,
   "id": "8e59da9d",
   "metadata": {},
   "outputs": [],
   "source": [
    "### Intervalos de Confianza"
   ]
  },
  {
   "cell_type": "code",
   "execution_count": 44,
   "id": "59e5a9b4",
   "metadata": {},
   "outputs": [],
   "source": [
    "n=100\n",
    "muestra=np.random.choice(a=Poblacion,size=n)\n",
    "media_muestral=muestra.mean()"
   ]
  },
  {
   "cell_type": "code",
   "execution_count": 45,
   "id": "36a5d13a",
   "metadata": {},
   "outputs": [],
   "source": [
    "## Conociendo la varianza"
   ]
  },
  {
   "cell_type": "code",
   "execution_count": 54,
   "id": "3788c42f",
   "metadata": {},
   "outputs": [],
   "source": [
    "alpha=0.05"
   ]
  },
  {
   "cell_type": "code",
   "execution_count": 55,
   "id": "2284d326",
   "metadata": {},
   "outputs": [],
   "source": [
    "z_alpha_2=alpha/2"
   ]
  },
  {
   "cell_type": "markdown",
   "id": "5ce1ff42",
   "metadata": {},
   "source": [
    "$$\\bar{x}\\pm Z_{\\cfrac{\\alpha}{2}}\\cfrac{\\sigma}{\\sqrt{n}}$$"
   ]
  },
  {
   "cell_type": "code",
   "execution_count": 56,
   "id": "142410b6",
   "metadata": {},
   "outputs": [],
   "source": [
    "z_critico=ss.norm.ppf(z_alpha_2)"
   ]
  },
  {
   "cell_type": "code",
   "execution_count": 57,
   "id": "99d80f03",
   "metadata": {},
   "outputs": [
    {
     "data": {
      "text/plain": [
       "-1.9599639845400545"
      ]
     },
     "execution_count": 57,
     "metadata": {},
     "output_type": "execute_result"
    }
   ],
   "source": [
    "z_critico"
   ]
  },
  {
   "cell_type": "code",
   "execution_count": 58,
   "id": "a0682dd1",
   "metadata": {},
   "outputs": [],
   "source": [
    "desviacion=Poblacion.std()"
   ]
  },
  {
   "cell_type": "code",
   "execution_count": 62,
   "id": "27f523ec",
   "metadata": {},
   "outputs": [],
   "source": [
    "Error=z_critico*(desviacion/n)"
   ]
  },
  {
   "cell_type": "code",
   "execution_count": 63,
   "id": "5a3ec8e8",
   "metadata": {},
   "outputs": [
    {
     "name": "stdout",
     "output_type": "stream",
     "text": [
      "Mi intervalo de confianza para la media es de [35.02872262234928,35.33127737765072]\n"
     ]
    }
   ],
   "source": [
    "print(\"Mi intervalo de confianza para la media es de [{0},{1}]\".format(media_muestral+Error,media_muestral-Error))"
   ]
  },
  {
   "cell_type": "code",
   "execution_count": 68,
   "id": "8c54a40c",
   "metadata": {},
   "outputs": [],
   "source": [
    "Intervalo=[]\n",
    "muestra_medias=[]\n",
    "for i in range(30):\n",
    "    muestra=np.random.choice(a=Poblacion,size=n)\n",
    "    muestra_medias.append(muestra.mean())\n",
    "    z_critico=ss.norm.ppf(0.975)\n",
    "    desviacion=Poblacion.std()\n",
    "    error=z_critico*(desviacion/n)\n",
    "    Intervalo_confianza=(muestra.mean()-error,muestra.mean()+error)\n",
    "    Intervalo.append(Intervalo_confianza)\n"
   ]
  },
  {
   "cell_type": "code",
   "execution_count": 72,
   "id": "9ad836ef",
   "metadata": {},
   "outputs": [
    {
     "data": {
      "image/png": "[encoded data removed]",
      "text/plain": [
       "<Figure size 432x288 with 1 Axes>"
      ]
     },
     "metadata": {
      "needs_background": "light"
     },
     "output_type": "display_data"
    }
   ],
   "source": [
    "plt.errorbar(x=np.arange(0.1,30,1),\n",
    "            y=muestra_medias,\n",
    "            yerr=[(max-min)/2 for max, min in Intervalo],\n",
    "            fmt='o');"
   ]
  },
  {
   "cell_type": "code",
   "execution_count": 73,
   "id": "c7e028ba",
   "metadata": {},
   "outputs": [],
   "source": [
    "### La varianza población es desconocida"
   ]
  },
  {
   "cell_type": "code",
   "execution_count": 74,
   "id": "b211f8b4",
   "metadata": {},
   "outputs": [],
   "source": [
    "n=23\n",
    "muestra=np.random.choice(a=Poblacion,size=n)"
   ]
  },
  {
   "cell_type": "code",
   "execution_count": 75,
   "id": "ad2a42cb",
   "metadata": {},
   "outputs": [],
   "source": [
    "media_muestral=muestra.mean()\n",
    "t_critico=ss.t.ppf(0.975,df=n-1)\n",
    "cuasi_desviacion_muestral=muestra.std(ddof=1)\n"
   ]
  },
  {
   "cell_type": "code",
   "execution_count": 77,
   "id": "92e53a36",
   "metadata": {},
   "outputs": [],
   "source": [
    "intervalo_confianza=(media_muestral-t_critico*cuasi_desviacion_muestral/math.sqrt(n),media_muestral+t_critico*cuasi_desviacion_muestral/math.sqrt(n))"
   ]
  },
  {
   "cell_type": "code",
   "execution_count": 78,
   "id": "9b7442f4",
   "metadata": {},
   "outputs": [
    {
     "data": {
      "text/plain": [
       "(32.505752914080084, 40.972507955485135)"
      ]
     },
     "execution_count": 78,
     "metadata": {},
     "output_type": "execute_result"
    }
   ],
   "source": [
    "intervalo_confianza"
   ]
  },
  {
   "cell_type": "code",
   "execution_count": 79,
   "id": "24e708c9",
   "metadata": {},
   "outputs": [],
   "source": [
    "### Ejercicio\n",
    "\n",
    "### que voy hacer esquema\n",
    "## Extraer un numero aleatorio\n",
    "### coger una muestra con ese numero aleatorio del dataframe \n",
    "### coger y hacer un intervalo de confianza por cada una de la muestra\n",
    "#### Mostrar por pantalla\n",
    "\n",
    "\n",
    "# IMPORTING REQUIRED LIBRARIES & ASSIGNING ALIASES:\n",
    "import seaborn as sns\n",
    "import pandas as pd\n",
    "import matplotlib.pyplot as plt\n",
    "# Loading built-in Datasets:\n",
    "iris = sns.load_dataset(\"iris\")\n",
    "\n",
    "\n",
    "\n",
    "# ci_length = z_value * np.sqrt((acc_test * (1 - acc_test)) / y_test.shape[0])\n",
    "\n",
    "# ci_lower = acc_test - ci_length\n",
    "# ci_upper = acc_test + ci_length\n",
    "\n",
    "# print(ci_lower, ci_upper)"
   ]
  },
  {
   "cell_type": "code",
   "execution_count": 80,
   "id": "60b3e93c",
   "metadata": {},
   "outputs": [
    {
     "data": {
      "text/html": [
       "<div>\n",
       "<style scoped>\n",
       "    .dataframe tbody tr th:only-of-type {\n",
       "        vertical-align: middle;\n",
       "    }\n",
       "\n",
       "    .dataframe tbody tr th {\n",
       "        vertical-align: top;\n",
       "    }\n",
       "\n",
       "    .dataframe thead th {\n",
       "        text-align: right;\n",
       "    }\n",
       "</style>\n",
       "<table border=\"1\" class=\"dataframe\">\n",
       "  <thead>\n",
       "    <tr style=\"text-align: right;\">\n",
       "      <th></th>\n",
       "      <th>sepal_length</th>\n",
       "      <th>sepal_width</th>\n",
       "      <th>petal_length</th>\n",
       "      <th>petal_width</th>\n",
       "      <th>species</th>\n",
       "    </tr>\n",
       "  </thead>\n",
       "  <tbody>\n",
       "    <tr>\n",
       "      <th>0</th>\n",
       "      <td>5.1</td>\n",
       "      <td>3.5</td>\n",
       "      <td>1.4</td>\n",
       "      <td>0.2</td>\n",
       "      <td>setosa</td>\n",
       "    </tr>\n",
       "    <tr>\n",
       "      <th>1</th>\n",
       "      <td>4.9</td>\n",
       "      <td>3.0</td>\n",
       "      <td>1.4</td>\n",
       "      <td>0.2</td>\n",
       "      <td>setosa</td>\n",
       "    </tr>\n",
       "    <tr>\n",
       "      <th>2</th>\n",
       "      <td>4.7</td>\n",
       "      <td>3.2</td>\n",
       "      <td>1.3</td>\n",
       "      <td>0.2</td>\n",
       "      <td>setosa</td>\n",
       "    </tr>\n",
       "    <tr>\n",
       "      <th>3</th>\n",
       "      <td>4.6</td>\n",
       "      <td>3.1</td>\n",
       "      <td>1.5</td>\n",
       "      <td>0.2</td>\n",
       "      <td>setosa</td>\n",
       "    </tr>\n",
       "    <tr>\n",
       "      <th>4</th>\n",
       "      <td>5.0</td>\n",
       "      <td>3.6</td>\n",
       "      <td>1.4</td>\n",
       "      <td>0.2</td>\n",
       "      <td>setosa</td>\n",
       "    </tr>\n",
       "    <tr>\n",
       "      <th>...</th>\n",
       "      <td>...</td>\n",
       "      <td>...</td>\n",
       "      <td>...</td>\n",
       "      <td>...</td>\n",
       "      <td>...</td>\n",
       "    </tr>\n",
       "    <tr>\n",
       "      <th>145</th>\n",
       "      <td>6.7</td>\n",
       "      <td>3.0</td>\n",
       "      <td>5.2</td>\n",
       "      <td>2.3</td>\n",
       "      <td>virginica</td>\n",
       "    </tr>\n",
       "    <tr>\n",
       "      <th>146</th>\n",
       "      <td>6.3</td>\n",
       "      <td>2.5</td>\n",
       "      <td>5.0</td>\n",
       "      <td>1.9</td>\n",
       "      <td>virginica</td>\n",
       "    </tr>\n",
       "    <tr>\n",
       "      <th>147</th>\n",
       "      <td>6.5</td>\n",
       "      <td>3.0</td>\n",
       "      <td>5.2</td>\n",
       "      <td>2.0</td>\n",
       "      <td>virginica</td>\n",
       "    </tr>\n",
       "    <tr>\n",
       "      <th>148</th>\n",
       "      <td>6.2</td>\n",
       "      <td>3.4</td>\n",
       "      <td>5.4</td>\n",
       "      <td>2.3</td>\n",
       "      <td>virginica</td>\n",
       "    </tr>\n",
       "    <tr>\n",
       "      <th>149</th>\n",
       "      <td>5.9</td>\n",
       "      <td>3.0</td>\n",
       "      <td>5.1</td>\n",
       "      <td>1.8</td>\n",
       "      <td>virginica</td>\n",
       "    </tr>\n",
       "  </tbody>\n",
       "</table>\n",
       "<p>150 rows × 5 columns</p>\n",
       "</div>"
      ],
      "text/plain": [
       "     sepal_length  sepal_width  petal_length  petal_width    species\n",
       "0             5.1          3.5           1.4          0.2     setosa\n",
       "1             4.9          3.0           1.4          0.2     setosa\n",
       "2             4.7          3.2           1.3          0.2     setosa\n",
       "3             4.6          3.1           1.5          0.2     setosa\n",
       "4             5.0          3.6           1.4          0.2     setosa\n",
       "..            ...          ...           ...          ...        ...\n",
       "145           6.7          3.0           5.2          2.3  virginica\n",
       "146           6.3          2.5           5.0          1.9  virginica\n",
       "147           6.5          3.0           5.2          2.0  virginica\n",
       "148           6.2          3.4           5.4          2.3  virginica\n",
       "149           5.9          3.0           5.1          1.8  virginica\n",
       "\n",
       "[150 rows x 5 columns]"
      ]
     },
     "execution_count": 80,
     "metadata": {},
     "output_type": "execute_result"
    }
   ],
   "source": [
    "iris"
   ]
  },
  {
   "cell_type": "code",
   "execution_count": 83,
   "id": "518fdc86",
   "metadata": {},
   "outputs": [],
   "source": []
  },
  {
   "cell_type": "code",
   "execution_count": 95,
   "id": "6cdacfb9",
   "metadata": {},
   "outputs": [],
   "source": [
    "import seaborn as sns\n",
    "import pandas as pd\n",
    "import matplotlib.pyplot as plt\n",
    "# Loading built-in Datasets:\n",
    "iris = sns.load_dataset(\"iris\")\n",
    "def intervalos_confianza(dataframe,n1=30,n2=50):\n",
    "    for i in dataframe.select_dtypes(include=\"number\").columns:\n",
    "        if n1<150 & n2<150:\n",
    "            muestra_iris=iris.sample(np.random.randint(n1,n2))\n",
    "            if len(muestra_iris)<30:\n",
    "                n=len(muestra_iris)\n",
    "                print(\"Utilizaremos la t stdunet\")\n",
    "\n",
    "                media_muestral=muestra_iris[i].mean()\n",
    "                t_critico=ss.t.ppf(0.975,df=len(muestra_iris)-1)\n",
    "                cuasi_desviacion_muestral=muestra_iris[i].std(ddof=1)\n",
    "                intervalo_confianza=(media_muestral-t_critico*cuasi_desviacion_muestral/math.sqrt(n),media_muestral+t_critico*cuasi_desviacion_muestral/math.sqrt(n))\n",
    "                print(\"Intervalo de confianza para la columna {i} es de {IC}\".format(i=i,IC=intervalo_confianza))\n",
    "            if len(muestra_iris)<150 & len(muestra_iris)>29:\n",
    "                n=len(muestra_iris)\n",
    "                print(\"Utilizaremos la normal stdunet\")\n",
    "                z_critico=ss.norm.ppf(0.975)\n",
    "                media_muestral=muestra_iris[i].mean()        \n",
    "                cuasi_desviacion_muestral=muestra_iris[i].std(ddof=1)\n",
    "                intervalo_confianza=(media_muestral-z_critico*cuasi_desviacion_muestral/math.sqrt(n),media_muestral+z_critico*cuasi_desviacion_muestral/math.sqrt(n))\n",
    "                print(\"Intervalo de confianza para la columna {i} es de {IC}\".format(i=i,IC=intervalo_confianza))\n",
    "        else:\n",
    "            break#(\"Error\")"
   ]
  },
  {
   "cell_type": "code",
   "execution_count": 96,
   "id": "09e9ccc2",
   "metadata": {},
   "outputs": [],
   "source": [
    "intervalos_confianza(iris,200,250)"
   ]
  }
 ],
 "metadata": {
  "kernelspec": {
   "display_name": "Python 3 (ipykernel)",
   "language": "python",
   "name": "python3"
  },
  "language_info": {
   "codemirror_mode": {
    "name": "ipython",
    "version": 3
   },
   "file_extension": ".py",
   "mimetype": "text/x-python",
   "name": "python",
   "nbconvert_exporter": "python",
   "pygments_lexer": "ipython3",
   "version": "3.9.12"
  }
 },
 "nbformat": 4,
 "nbformat_minor": 5
}
