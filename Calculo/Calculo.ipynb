{
 "cells": [
  {
   "cell_type": "code",
   "execution_count": null,
   "id": "b30f7548",
   "metadata": {},
   "outputs": [],
   "source": [
    "## Calculo"
   ]
  },
  {
   "cell_type": "markdown",
   "id": "44673dd2",
   "metadata": {},
   "source": [
    "$$ f(x)= x^2 +2x +1$$\n",
    "$$ f(x)=sen(x)$$\n",
    "$$ f(x)=\\cfrac{x^2-2}{x^3+4}$$"
   ]
  },
  {
   "cell_type": "code",
   "execution_count": null,
   "id": "87ae2214",
   "metadata": {},
   "outputs": [],
   "source": [
    "def funcion_f(x):\n",
    "    return x**2 + 2*x +1"
   ]
  },
  {
   "cell_type": "markdown",
   "id": "8e8cde0f",
   "metadata": {},
   "source": [
    "$$f(x)=x^2+2x+1$$\n",
    "$$f(5)=5^2+2*5+1=36$$"
   ]
  },
  {
   "cell_type": "code",
   "execution_count": null,
   "id": "383c0d27",
   "metadata": {},
   "outputs": [],
   "source": [
    "funcion_f(5)"
   ]
  },
  {
   "cell_type": "code",
   "execution_count": null,
   "id": "e7dfe4e3",
   "metadata": {},
   "outputs": [],
   "source": [
    "funcion_f(4)"
   ]
  },
  {
   "cell_type": "code",
   "execution_count": null,
   "id": "de6a89a0",
   "metadata": {},
   "outputs": [],
   "source": [
    "funcion_f(0)"
   ]
  },
  {
   "cell_type": "code",
   "execution_count": null,
   "id": "a699b71c",
   "metadata": {},
   "outputs": [],
   "source": [
    "def funcion_f1(x):\n",
    "    return (x**2 + 2*x +1)/(x**2-1)"
   ]
  },
  {
   "cell_type": "code",
   "execution_count": null,
   "id": "92a6c266",
   "metadata": {},
   "outputs": [],
   "source": [
    "funcion_f1(5)"
   ]
  },
  {
   "cell_type": "code",
   "execution_count": null,
   "id": "df886dd7",
   "metadata": {},
   "outputs": [],
   "source": [
    "funcion_f1(0)"
   ]
  },
  {
   "cell_type": "code",
   "execution_count": null,
   "id": "7738e552",
   "metadata": {},
   "outputs": [],
   "source": [
    "funcion_f1(1)"
   ]
  },
  {
   "cell_type": "code",
   "execution_count": null,
   "id": "9232664a",
   "metadata": {},
   "outputs": [],
   "source": [
    "for i in range(-2,2):\n",
    "    try:\n",
    "        print(funcion_f1(i))\n",
    "    except:\n",
    "        print(\"División incorrecta para el valor\")\n",
    "        print(i)\n",
    "        print(\"=\"*20)"
   ]
  },
  {
   "cell_type": "markdown",
   "id": "f8d008d1",
   "metadata": {},
   "source": [
    "## derivada\n",
    "$$ V=\\cfrac{E_f-E_i}{T_f-T_i}$$"
   ]
  },
  {
   "cell_type": "markdown",
   "id": "17f833f9",
   "metadata": {},
   "source": [
    "$$V=\\cfrac{\\vartriangle E}{\\vartriangle T}$$"
   ]
  },
  {
   "cell_type": "markdown",
   "id": "fe6dd10c",
   "metadata": {},
   "source": [
    "$$\\lim_{h\\to 0} \\cfrac{f(x+h)-f(x)}{h}$$"
   ]
  },
  {
   "cell_type": "code",
   "execution_count": null,
   "id": "d2918381",
   "metadata": {},
   "outputs": [],
   "source": [
    "def derivada(x):\n",
    "    h=0.02\n",
    "    return (funcion_f(x+h)-funcion_f(x))/h"
   ]
  },
  {
   "cell_type": "code",
   "execution_count": null,
   "id": "cf7b5f28",
   "metadata": {},
   "outputs": [],
   "source": [
    "derivada(5)"
   ]
  },
  {
   "cell_type": "code",
   "execution_count": null,
   "id": "ce1c5f51",
   "metadata": {},
   "outputs": [],
   "source": [
    "for i in range(-10,10):\n",
    "    print(i)\n",
    "    print(derivada(i))\n",
    "    print(\"=\"*20)"
   ]
  },
  {
   "cell_type": "code",
   "execution_count": null,
   "id": "a260581b",
   "metadata": {},
   "outputs": [],
   "source": [
    "def derivada(x,h=0.02):\n",
    "    return (funcion_f(x+h)-funcion_f(x))/h"
   ]
  },
  {
   "cell_type": "code",
   "execution_count": null,
   "id": "b4390dad",
   "metadata": {},
   "outputs": [],
   "source": [
    "derivada(5,0.0000001)"
   ]
  },
  {
   "cell_type": "markdown",
   "id": "95444aa9",
   "metadata": {},
   "source": [
    "* Para calcular la recta tangente a mi función\n",
    "* para calcular los máximos y mínimo de mi función\n"
   ]
  },
  {
   "cell_type": "markdown",
   "id": "194c1e91",
   "metadata": {},
   "source": [
    "$$ y-f(x_0)=f'(x_0)(x-x_0)$$"
   ]
  },
  {
   "cell_type": "code",
   "execution_count": null,
   "id": "158015a9",
   "metadata": {},
   "outputs": [],
   "source": [
    "def funcion_f(x):\n",
    "    return (x**2 + 2*x +1)"
   ]
  },
  {
   "cell_type": "markdown",
   "id": "26be89f3",
   "metadata": {},
   "source": [
    "$$\"\"y-f(x_0)=f'(x_0)(x-x_0)\"$$"
   ]
  },
  {
   "cell_type": "markdown",
   "id": "54d3594a",
   "metadata": {},
   "source": [
    "Ejemplo\n",
    "$$y-4=3(x-2)$$"
   ]
  },
  {
   "cell_type": "code",
   "execution_count": null,
   "id": "365d7993",
   "metadata": {},
   "outputs": [],
   "source": [
    "import matplotlib.pyplot as plt"
   ]
  },
  {
   "cell_type": "code",
   "execution_count": null,
   "id": "e6d7c225",
   "metadata": {},
   "outputs": [],
   "source": [
    "plt.style.use('ggplot')"
   ]
  },
  {
   "cell_type": "code",
   "execution_count": null,
   "id": "e2d253b4",
   "metadata": {},
   "outputs": [],
   "source": [
    "x=range(2,15)"
   ]
  },
  {
   "cell_type": "code",
   "execution_count": null,
   "id": "befa1fda",
   "metadata": {},
   "outputs": [],
   "source": [
    "plt.plot(x,[funcion_f1(i) for i in x])"
   ]
  },
  {
   "cell_type": "code",
   "execution_count": null,
   "id": "2a243fd4",
   "metadata": {},
   "outputs": [],
   "source": [
    "x=range(-15,15)\n",
    "plt.plot(x,[funcion_f(i) for i in x]);"
   ]
  },
  {
   "cell_type": "markdown",
   "id": "a52ed5ff",
   "metadata": {},
   "source": [
    "$$f(x) \\text{hacer la primera derivada e igularla a cero}$$"
   ]
  },
  {
   "cell_type": "markdown",
   "id": "4d5d5833",
   "metadata": {},
   "source": [
    "$$x^n \\to n * x^{n-1}$$\n",
    "$$ a \\to 0 $$\n",
    "$$ \\sin(x) \\to \\cos(x)$$\n",
    "$$ \\cos(x) \\to -\\sin(x)$$"
   ]
  },
  {
   "cell_type": "code",
   "execution_count": null,
   "id": "4d240da6",
   "metadata": {},
   "outputs": [],
   "source": [
    "import numpy as np"
   ]
  },
  {
   "cell_type": "code",
   "execution_count": null,
   "id": "820540a6",
   "metadata": {},
   "outputs": [],
   "source": [
    "x=range(-10,15)\n",
    "plt.plot(x,[np.sin(i) for i in x]);\n",
    "plt.plot(x,[np.cos(i) for i in x]);"
   ]
  },
  {
   "cell_type": "markdown",
   "id": "4158f8c9",
   "metadata": {},
   "source": [
    "$$ f(x)=x^2 +2x$$\n",
    "$$ f(x,y)=x*y+2x-2y $$"
   ]
  },
  {
   "cell_type": "code",
   "execution_count": null,
   "id": "bec8d789",
   "metadata": {},
   "outputs": [],
   "source": [
    "def funcion_xy(x,y):\n",
    "    return x*y+2*x-2*y"
   ]
  },
  {
   "cell_type": "code",
   "execution_count": null,
   "id": "c39bafc5",
   "metadata": {},
   "outputs": [],
   "source": [
    "funcion_xy(0,0)"
   ]
  },
  {
   "cell_type": "code",
   "execution_count": null,
   "id": "6322e89b",
   "metadata": {},
   "outputs": [],
   "source": [
    "funcion_xy(0,1)"
   ]
  },
  {
   "cell_type": "markdown",
   "id": "8e2d394e",
   "metadata": {},
   "source": [
    "$$\\cfrac{\\partial f(x,y)}{\\partial x} = \\lim_{h \\to 0} \\cfrac{f(x+h,y)-f(x,y)}{h}$$\n",
    "$$\\cfrac{\\partial f(x,y)}{\\partial y} = \\lim_{h \\to 0} \\cfrac{f(x,y+h)-f(x,y)}{h}$$"
   ]
  },
  {
   "cell_type": "markdown",
   "id": "857768fc",
   "metadata": {},
   "source": [
    "#vector gradiente\n",
    "$$\\nabla f(x,y)=\\left(\\cfrac{\\partial f(x,y)}{\\partial x}, \\cfrac{\\partial f(x,y)}{\\partial y}\\right)$$"
   ]
  },
  {
   "cell_type": "markdown",
   "id": "7ca07c7b",
   "metadata": {},
   "source": [
    "red--> 1\n",
    "green--> 2 \n",
    "blue -- > 3"
   ]
  },
  {
   "cell_type": "markdown",
   "id": "b122e03e",
   "metadata": {},
   "source": [
    "        red   green  blue\n",
    "red      1     0       0\n",
    "green    0     1       0\n",
    "red      1     0       0"
   ]
  },
  {
   "cell_type": "code",
   "execution_count": null,
   "id": "321eee6c",
   "metadata": {},
   "outputs": [],
   "source": [
    "(1,2,3)"
   ]
  },
  {
   "cell_type": "code",
   "execution_count": null,
   "id": "c99725f8",
   "metadata": {},
   "outputs": [],
   "source": [
    "import numpy "
   ]
  },
  {
   "cell_type": "code",
   "execution_count": null,
   "id": "1ee66f02",
   "metadata": {},
   "outputs": [],
   "source": [
    "### array\n",
    "array_vacio=[]"
   ]
  },
  {
   "cell_type": "code",
   "execution_count": null,
   "id": "8d230411",
   "metadata": {},
   "outputs": [],
   "source": [
    "l=[1,2,3]"
   ]
  },
  {
   "cell_type": "code",
   "execution_count": null,
   "id": "b487d305",
   "metadata": {},
   "outputs": [],
   "source": [
    "l"
   ]
  },
  {
   "cell_type": "code",
   "execution_count": null,
   "id": "d130a11a",
   "metadata": {},
   "outputs": [],
   "source": [
    "v=numpy.array(l)"
   ]
  },
  {
   "cell_type": "code",
   "execution_count": null,
   "id": "c059bf3c",
   "metadata": {},
   "outputs": [],
   "source": [
    "v"
   ]
  },
  {
   "cell_type": "code",
   "execution_count": null,
   "id": "6b400da2",
   "metadata": {},
   "outputs": [],
   "source": [
    "v.shape"
   ]
  },
  {
   "cell_type": "markdown",
   "id": "07da9f32",
   "metadata": {},
   "source": [
    "$$ \\left({1\\\\2\\\\3}\\right)$$"
   ]
  },
  {
   "cell_type": "code",
   "execution_count": null,
   "id": "b9cf7a09",
   "metadata": {},
   "outputs": [],
   "source": [
    "v.dtype"
   ]
  },
  {
   "cell_type": "code",
   "execution_count": null,
   "id": "7a279c62",
   "metadata": {},
   "outputs": [],
   "source": [
    "v1=numpy.array([2.5,5,3,5,7])"
   ]
  },
  {
   "cell_type": "code",
   "execution_count": null,
   "id": "0b278055",
   "metadata": {},
   "outputs": [],
   "source": [
    "v1.shape"
   ]
  },
  {
   "cell_type": "code",
   "execution_count": null,
   "id": "00dbe5b8",
   "metadata": {},
   "outputs": [],
   "source": [
    "v1.dtype"
   ]
  },
  {
   "cell_type": "code",
   "execution_count": null,
   "id": "8b06c10d",
   "metadata": {},
   "outputs": [],
   "source": [
    "v2=v1.T"
   ]
  },
  {
   "cell_type": "code",
   "execution_count": null,
   "id": "fb8c256d",
   "metadata": {},
   "outputs": [],
   "source": [
    "print(v2)"
   ]
  },
  {
   "cell_type": "code",
   "execution_count": null,
   "id": "3a9e6777",
   "metadata": {},
   "outputs": [],
   "source": [
    "v2.shape"
   ]
  },
  {
   "cell_type": "code",
   "execution_count": null,
   "id": "2943da00",
   "metadata": {},
   "outputs": [],
   "source": [
    "ceros=numpy.zeros([4,2])"
   ]
  },
  {
   "cell_type": "code",
   "execution_count": null,
   "id": "93ee27d0",
   "metadata": {},
   "outputs": [],
   "source": [
    "ceros"
   ]
  },
  {
   "cell_type": "code",
   "execution_count": null,
   "id": "e5f5f30b",
   "metadata": {},
   "outputs": [],
   "source": [
    "ceros=numpy.zeros([10,5])"
   ]
  },
  {
   "cell_type": "code",
   "execution_count": null,
   "id": "474cc573",
   "metadata": {},
   "outputs": [],
   "source": [
    "ceros"
   ]
  },
  {
   "cell_type": "code",
   "execution_count": null,
   "id": "232396b5",
   "metadata": {},
   "outputs": [],
   "source": [
    "unos=numpy.ones([10])"
   ]
  },
  {
   "cell_type": "code",
   "execution_count": null,
   "id": "0472ff35",
   "metadata": {},
   "outputs": [],
   "source": [
    "unos"
   ]
  },
  {
   "cell_type": "code",
   "execution_count": null,
   "id": "992ee66a",
   "metadata": {},
   "outputs": [],
   "source": [
    "unos.shape"
   ]
  },
  {
   "cell_type": "code",
   "execution_count": null,
   "id": "90a6e14d",
   "metadata": {},
   "outputs": [],
   "source": [
    "unos=numpy.ones([10,5])"
   ]
  },
  {
   "cell_type": "code",
   "execution_count": null,
   "id": "bd767d1b",
   "metadata": {},
   "outputs": [],
   "source": [
    "unos"
   ]
  },
  {
   "cell_type": "code",
   "execution_count": null,
   "id": "c611b913",
   "metadata": {},
   "outputs": [],
   "source": [
    "## Apilar = stack"
   ]
  },
  {
   "cell_type": "code",
   "execution_count": null,
   "id": "5fe8ac43",
   "metadata": {},
   "outputs": [],
   "source": [
    "a1=[1,2,3]\n",
    "a2=[4,5,6]\n",
    "a=numpy.vstack((a1,a2))"
   ]
  },
  {
   "cell_type": "code",
   "execution_count": null,
   "id": "bdfa5f61",
   "metadata": {},
   "outputs": [],
   "source": [
    "a"
   ]
  },
  {
   "cell_type": "code",
   "execution_count": null,
   "id": "3135b32b",
   "metadata": {},
   "outputs": [],
   "source": [
    "a.shape"
   ]
  },
  {
   "cell_type": "code",
   "execution_count": null,
   "id": "cc18fe0c",
   "metadata": {},
   "outputs": [],
   "source": [
    "a=numpy.hstack((a1,a2))"
   ]
  },
  {
   "cell_type": "code",
   "execution_count": null,
   "id": "030c5be6",
   "metadata": {},
   "outputs": [],
   "source": [
    "a.shape"
   ]
  },
  {
   "cell_type": "code",
   "execution_count": null,
   "id": "78968e1c",
   "metadata": {},
   "outputs": [],
   "source": [
    "numpy.hstack(a1,a2)"
   ]
  },
  {
   "cell_type": "code",
   "execution_count": null,
   "id": "eee7666d",
   "metadata": {},
   "outputs": [],
   "source": [
    "a2[0]"
   ]
  },
  {
   "cell_type": "code",
   "execution_count": null,
   "id": "854ce53f",
   "metadata": {},
   "outputs": [],
   "source": [
    "a2[2]"
   ]
  },
  {
   "cell_type": "code",
   "execution_count": null,
   "id": "64f74f79",
   "metadata": {},
   "outputs": [],
   "source": [
    "a2[-1]"
   ]
  },
  {
   "cell_type": "code",
   "execution_count": null,
   "id": "11bccc6d",
   "metadata": {},
   "outputs": [],
   "source": [
    "a2[:2]"
   ]
  },
  {
   "cell_type": "code",
   "execution_count": null,
   "id": "a037ae81",
   "metadata": {},
   "outputs": [],
   "source": [
    "a2[1:]"
   ]
  },
  {
   "cell_type": "code",
   "execution_count": null,
   "id": "44ed90b9",
   "metadata": {},
   "outputs": [],
   "source": [
    "a2[-2]"
   ]
  },
  {
   "cell_type": "code",
   "execution_count": null,
   "id": "2350f118",
   "metadata": {},
   "outputs": [],
   "source": [
    "a2=numpy.array(a2)"
   ]
  },
  {
   "cell_type": "code",
   "execution_count": null,
   "id": "6a64da00",
   "metadata": {},
   "outputs": [],
   "source": [
    "## Esto no es una suma correcta\n",
    "2+a2"
   ]
  },
  {
   "cell_type": "code",
   "execution_count": null,
   "id": "5f6fed57",
   "metadata": {},
   "outputs": [],
   "source": [
    "3*a2"
   ]
  },
  {
   "cell_type": "code",
   "execution_count": null,
   "id": "3fb94988",
   "metadata": {},
   "outputs": [],
   "source": [
    "a2 * 2"
   ]
  },
  {
   "cell_type": "code",
   "execution_count": null,
   "id": "db51fe4b",
   "metadata": {},
   "outputs": [],
   "source": [
    "a2 /4"
   ]
  },
  {
   "cell_type": "code",
   "execution_count": null,
   "id": "10e1041e",
   "metadata": {},
   "outputs": [],
   "source": [
    "x=numpy.array([4,6,3,2,1])\n",
    "y=numpy.arange(1,6)## me crea un array del 1 al 5"
   ]
  },
  {
   "cell_type": "code",
   "execution_count": null,
   "id": "208cd8b6",
   "metadata": {},
   "outputs": [],
   "source": [
    "y"
   ]
  },
  {
   "cell_type": "code",
   "execution_count": null,
   "id": "8ab22144",
   "metadata": {},
   "outputs": [],
   "source": [
    "x+y"
   ]
  },
  {
   "cell_type": "code",
   "execution_count": null,
   "id": "b209dfd1",
   "metadata": {},
   "outputs": [],
   "source": [
    "x-y"
   ]
  },
  {
   "cell_type": "code",
   "execution_count": null,
   "id": "7f7b91d4",
   "metadata": {},
   "outputs": [],
   "source": [
    "x*y"
   ]
  },
  {
   "cell_type": "markdown",
   "id": "3afa987c",
   "metadata": {},
   "source": [
    "## Producto Escalar o interior\n",
    "$$<x,y>=\\sum_{i=0}^{n-1} x_i \\times y_i$$"
   ]
  },
  {
   "cell_type": "code",
   "execution_count": null,
   "id": "db45be3d",
   "metadata": {},
   "outputs": [],
   "source": [
    "x @ y"
   ]
  },
  {
   "cell_type": "code",
   "execution_count": null,
   "id": "e70b0afd",
   "metadata": {},
   "outputs": [],
   "source": [
    "sum(x * y)"
   ]
  },
  {
   "cell_type": "code",
   "execution_count": null,
   "id": "acff0493",
   "metadata": {},
   "outputs": [],
   "source": [
    "numpy.dot(x,y)"
   ]
  },
  {
   "cell_type": "code",
   "execution_count": null,
   "id": "6a517baf",
   "metadata": {},
   "outputs": [],
   "source": [
    "t1=numpy.array([1,0])\n",
    "t2=numpy.array([0,1])"
   ]
  },
  {
   "cell_type": "code",
   "execution_count": null,
   "id": "c5781244",
   "metadata": {},
   "outputs": [],
   "source": [
    "def move_spines():\n",
    "    \"\"\"Crea la figura de pyplot y los ejes. Mueve las lineas de la izquierda y de abajo\n",
    "    para que se intersecten con el origen. Elimina las lineas de la derecha y la de arriba.\n",
    "    Devuelve los ejes.\"\"\"\n",
    "    fix, ax = plt.subplots()\n",
    "    for spine in [\"left\", \"bottom\"]:\n",
    "        ax.spines[spine].set_position(\"zero\")\n",
    "    \n",
    "    for spine in [\"right\", \"top\"]:\n",
    "        ax.spines[spine].set_color(\"none\")\n",
    "    \n",
    "    return ax"
   ]
  },
  {
   "cell_type": "code",
   "execution_count": null,
   "id": "cdc843ac",
   "metadata": {},
   "outputs": [],
   "source": [
    "def vect_fig(): \n",
    "    \"\"\"Genera el grafico de los vectores en el plano\"\"\"\n",
    "    ax = move_spines()\n",
    "    \n",
    "    ax.set_xlim(-5, 5)\n",
    "    ax.set_ylim(-5, 5)\n",
    "    ax.grid()\n",
    "    vecs = [[0, 3], [3, 0]] # lista de vectores\n",
    "    for v in vecs:\n",
    "        ax.annotate(\" \", xy=v, xytext=[0, 0],\n",
    "                   arrowprops=dict(facecolor=\"blue\",\n",
    "                                  shrink=0,\n",
    "                                  alpha=0.7,\n",
    "                                  width=0.5))\n",
    "        ax.text(1.1 * v[0], 1.1 * v[1], v)"
   ]
  },
  {
   "cell_type": "code",
   "execution_count": null,
   "id": "60b0fc4a",
   "metadata": {},
   "outputs": [],
   "source": [
    "vect_fig() "
   ]
  },
  {
   "cell_type": "code",
   "execution_count": null,
   "id": "860eae6d",
   "metadata": {},
   "outputs": [],
   "source": [
    "numpy.array([0,3])@numpy.array([3,0])"
   ]
  },
  {
   "cell_type": "markdown",
   "id": "678f1d66",
   "metadata": {},
   "source": [
    "### Norma\n",
    "$$||x||= \\sqrt{<x,x>}=\\sqrt{\\sum_{i=0}^{n-1} x_i^2}$$"
   ]
  },
  {
   "cell_type": "code",
   "execution_count": null,
   "id": "297d280b",
   "metadata": {},
   "outputs": [],
   "source": [
    "a2@a2"
   ]
  },
  {
   "cell_type": "code",
   "execution_count": null,
   "id": "2e99bf25",
   "metadata": {},
   "outputs": [],
   "source": [
    "numpy.sqrt(a2@a2)"
   ]
  },
  {
   "cell_type": "code",
   "execution_count": null,
   "id": "31e604ef",
   "metadata": {},
   "outputs": [],
   "source": [
    "numpy.linalg.norm(a2)"
   ]
  },
  {
   "cell_type": "markdown",
   "id": "db509160",
   "metadata": {},
   "source": [
    "# Matrices"
   ]
  },
  {
   "cell_type": "code",
   "execution_count": null,
   "id": "defe346a",
   "metadata": {},
   "outputs": [],
   "source": [
    "## Matriz Identidad, esta matriz siempre tiene el mismo número de filas que de columnas\n",
    "I=numpy.eye(4)"
   ]
  },
  {
   "cell_type": "code",
   "execution_count": null,
   "id": "3d2c4767",
   "metadata": {},
   "outputs": [],
   "source": [
    "I.shape"
   ]
  },
  {
   "cell_type": "code",
   "execution_count": null,
   "id": "ef96f1ec",
   "metadata": {},
   "outputs": [],
   "source": [
    "I.dtype"
   ]
  },
  {
   "cell_type": "code",
   "execution_count": null,
   "id": "e8d627af",
   "metadata": {},
   "outputs": [],
   "source": [
    "I"
   ]
  },
  {
   "cell_type": "code",
   "execution_count": null,
   "id": "da814dbd",
   "metadata": {},
   "outputs": [],
   "source": [
    "A=numpy.array([[1,2,3,4],\n",
    "              [-1,-2,-3,-4],\n",
    "              [5,6,7,8],\n",
    "              [-5,-6,-7,-8]])"
   ]
  },
  {
   "cell_type": "code",
   "execution_count": null,
   "id": "ceb0a9fd",
   "metadata": {},
   "outputs": [],
   "source": [
    "A"
   ]
  },
  {
   "cell_type": "code",
   "execution_count": null,
   "id": "fecbb7ed",
   "metadata": {},
   "outputs": [],
   "source": [
    "A@I"
   ]
  },
  {
   "cell_type": "code",
   "execution_count": null,
   "id": "c1f6386d",
   "metadata": {},
   "outputs": [],
   "source": [
    "B=numpy.array([[0,1,0,0],\n",
    "              [0,1,0,0],\n",
    "              [0,0,1,0],\n",
    "              [0,0,0,1]])"
   ]
  },
  {
   "cell_type": "markdown",
   "id": "1d4537a2",
   "metadata": {},
   "source": [
    "## Producto de Matrices"
   ]
  },
  {
   "cell_type": "code",
   "execution_count": null,
   "id": "717b44fb",
   "metadata": {},
   "outputs": [],
   "source": [
    "A@B"
   ]
  },
  {
   "cell_type": "code",
   "execution_count": null,
   "id": "e8f30dc6",
   "metadata": {},
   "outputs": [],
   "source": [
    "B@A"
   ]
  },
  {
   "cell_type": "code",
   "execution_count": null,
   "id": "3df4c928",
   "metadata": {},
   "outputs": [],
   "source": [
    "B=numpy.array([[2,4],[0,2]])\n",
    "C=numpy.array([[1,0],[3,2]])"
   ]
  },
  {
   "cell_type": "code",
   "execution_count": null,
   "id": "c6584d29",
   "metadata": {},
   "outputs": [],
   "source": [
    "B@C"
   ]
  },
  {
   "cell_type": "markdown",
   "id": "a5135605",
   "metadata": {},
   "source": [
    "* la matriz de la izquierda tenga el mismo numero de columnas que filas tiene la matriz de la derecha\n",
    "\n",
    "B sería la izquierda\n",
    "C sería la derecha\n",
    "\n",
    "* el resultafo final sería una matriz que tiene el número de filas de la columna de la izquierda y el número de columnas de la matriz de la derecha"
   ]
  },
  {
   "cell_type": "markdown",
   "id": "3aa70aaa",
   "metadata": {},
   "source": [
    "B=(3,2)\n",
    "\n",
    "C=(2,3)\n",
    "\n",
    "tamaño de multiplicar B@C sería 3,3\n",
    "\n",
    "tamaño de multiplicar C@B sería 2,2"
   ]
  },
  {
   "cell_type": "markdown",
   "id": "8e5c92b3",
   "metadata": {},
   "source": [
    "## Sumar matrices"
   ]
  },
  {
   "cell_type": "code",
   "execution_count": null,
   "id": "0aaa228b",
   "metadata": {},
   "outputs": [],
   "source": [
    "C+B"
   ]
  },
  {
   "cell_type": "code",
   "execution_count": null,
   "id": "a302f11b",
   "metadata": {},
   "outputs": [],
   "source": [
    "A+B"
   ]
  },
  {
   "cell_type": "markdown",
   "id": "7139c43a",
   "metadata": {},
   "source": [
    "#### Propiedades\n",
    "Para poder sumar o restar matrices debe cumplir que ambas matrices tengan mismas filas y columnas"
   ]
  },
  {
   "cell_type": "code",
   "execution_count": null,
   "id": "82a87f55",
   "metadata": {},
   "outputs": [],
   "source": []
  }
 ],
 "metadata": {
  "kernelspec": {
   "display_name": "base",
   "language": "python",
   "name": "python3"
  },
  "language_info": {
   "codemirror_mode": {
    "name": "ipython",
    "version": 3
   },
   "file_extension": ".py",
   "mimetype": "text/x-python",
   "name": "python",
   "nbconvert_exporter": "python",
   "pygments_lexer": "ipython3",
   "version": "3.9.12"
  },
  "vscode": {
   "interpreter": {
    "hash": "93b270aff94e38196a98effae74ed121e7c4be36a010106ff9b6f6d47d6f1709"
   }
  }
 },
 "nbformat": 4,
 "nbformat_minor": 5
}
