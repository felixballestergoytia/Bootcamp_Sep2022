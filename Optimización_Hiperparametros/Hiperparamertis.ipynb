{
 "cells": [
  {
   "cell_type": "code",
   "execution_count": 1,
   "metadata": {},
   "outputs": [],
   "source": [
    "import pandas as pd\n",
    "import numpy as np\n",
    "from sklearn.datasets import make_classification"
   ]
  },
  {
   "cell_type": "code",
   "execution_count": 2,
   "metadata": {},
   "outputs": [],
   "source": [
    "from sklearn.datasets import make_regression"
   ]
  },
  {
   "cell_type": "code",
   "execution_count": 3,
   "metadata": {},
   "outputs": [],
   "source": [
    "X,y=make_regression()"
   ]
  },
  {
   "cell_type": "code",
   "execution_count": 8,
   "metadata": {},
   "outputs": [],
   "source": [
    "from sklearn.tree import DecisionTreeRegressor"
   ]
  },
  {
   "cell_type": "code",
   "execution_count": 9,
   "metadata": {},
   "outputs": [],
   "source": [
    "from sklearn.model_selection import train_test_split"
   ]
  },
  {
   "cell_type": "code",
   "execution_count": 10,
   "metadata": {},
   "outputs": [],
   "source": [
    "X_train, X_test, y_train, y_test = train_test_split(X,y, test_size=0.2,random_state=1234)"
   ]
  },
  {
   "cell_type": "code",
   "execution_count": 77,
   "metadata": {},
   "outputs": [],
   "source": [
    "Modelo=DecisionTreeRegressor(random_state=1234)\n",
    "Modelo_G=DecisionTreeRegressor(random_state=1234)"
   ]
  },
  {
   "cell_type": "code",
   "execution_count": 78,
   "metadata": {},
   "outputs": [
    {
     "name": "stdout",
     "output_type": "stream",
     "text": [
      "\u001b[1;31mInit signature:\u001b[0m\n",
      "\u001b[0mDecisionTreeRegressor\u001b[0m\u001b[1;33m(\u001b[0m\u001b[1;33m\n",
      "\u001b[0m    \u001b[1;33m*\u001b[0m\u001b[1;33m,\u001b[0m\u001b[1;33m\n",
      "\u001b[0m    \u001b[0mcriterion\u001b[0m\u001b[1;33m=\u001b[0m\u001b[1;34m'squared_error'\u001b[0m\u001b[1;33m,\u001b[0m\u001b[1;33m\n",
      "\u001b[0m    \u001b[0msplitter\u001b[0m\u001b[1;33m=\u001b[0m\u001b[1;34m'best'\u001b[0m\u001b[1;33m,\u001b[0m\u001b[1;33m\n",
      "\u001b[0m    \u001b[0mmax_depth\u001b[0m\u001b[1;33m=\u001b[0m\u001b[1;32mNone\u001b[0m\u001b[1;33m,\u001b[0m\u001b[1;33m\n",
      "\u001b[0m    \u001b[0mmin_samples_split\u001b[0m\u001b[1;33m=\u001b[0m\u001b[1;36m2\u001b[0m\u001b[1;33m,\u001b[0m\u001b[1;33m\n",
      "\u001b[0m    \u001b[0mmin_samples_leaf\u001b[0m\u001b[1;33m=\u001b[0m\u001b[1;36m1\u001b[0m\u001b[1;33m,\u001b[0m\u001b[1;33m\n",
      "\u001b[0m    \u001b[0mmin_weight_fraction_leaf\u001b[0m\u001b[1;33m=\u001b[0m\u001b[1;36m0.0\u001b[0m\u001b[1;33m,\u001b[0m\u001b[1;33m\n",
      "\u001b[0m    \u001b[0mmax_features\u001b[0m\u001b[1;33m=\u001b[0m\u001b[1;32mNone\u001b[0m\u001b[1;33m,\u001b[0m\u001b[1;33m\n",
      "\u001b[0m    \u001b[0mrandom_state\u001b[0m\u001b[1;33m=\u001b[0m\u001b[1;32mNone\u001b[0m\u001b[1;33m,\u001b[0m\u001b[1;33m\n",
      "\u001b[0m    \u001b[0mmax_leaf_nodes\u001b[0m\u001b[1;33m=\u001b[0m\u001b[1;32mNone\u001b[0m\u001b[1;33m,\u001b[0m\u001b[1;33m\n",
      "\u001b[0m    \u001b[0mmin_impurity_decrease\u001b[0m\u001b[1;33m=\u001b[0m\u001b[1;36m0.0\u001b[0m\u001b[1;33m,\u001b[0m\u001b[1;33m\n",
      "\u001b[0m    \u001b[0mccp_alpha\u001b[0m\u001b[1;33m=\u001b[0m\u001b[1;36m0.0\u001b[0m\u001b[1;33m,\u001b[0m\u001b[1;33m\n",
      "\u001b[0m\u001b[1;33m)\u001b[0m\u001b[1;33m\u001b[0m\u001b[1;33m\u001b[0m\u001b[0m\n",
      "\u001b[1;31mDocstring:\u001b[0m     \n",
      "A decision tree regressor.\n",
      "\n",
      "Read more in the :ref:`User Guide <tree>`.\n",
      "\n",
      "Parameters\n",
      "----------\n",
      "criterion : {\"squared_error\", \"friedman_mse\", \"absolute_error\",             \"poisson\"}, default=\"squared_error\"\n",
      "    The function to measure the quality of a split. Supported criteria\n",
      "    are \"squared_error\" for the mean squared error, which is equal to\n",
      "    variance reduction as feature selection criterion and minimizes the L2\n",
      "    loss using the mean of each terminal node, \"friedman_mse\", which uses\n",
      "    mean squared error with Friedman's improvement score for potential\n",
      "    splits, \"absolute_error\" for the mean absolute error, which minimizes\n",
      "    the L1 loss using the median of each terminal node, and \"poisson\" which\n",
      "    uses reduction in Poisson deviance to find splits.\n",
      "\n",
      "    .. versionadded:: 0.18\n",
      "       Mean Absolute Error (MAE) criterion.\n",
      "\n",
      "    .. versionadded:: 0.24\n",
      "        Poisson deviance criterion.\n",
      "\n",
      "    .. deprecated:: 1.0\n",
      "        Criterion \"mse\" was deprecated in v1.0 and will be removed in\n",
      "        version 1.2. Use `criterion=\"squared_error\"` which is equivalent.\n",
      "\n",
      "    .. deprecated:: 1.0\n",
      "        Criterion \"mae\" was deprecated in v1.0 and will be removed in\n",
      "        version 1.2. Use `criterion=\"absolute_error\"` which is equivalent.\n",
      "\n",
      "splitter : {\"best\", \"random\"}, default=\"best\"\n",
      "    The strategy used to choose the split at each node. Supported\n",
      "    strategies are \"best\" to choose the best split and \"random\" to choose\n",
      "    the best random split.\n",
      "\n",
      "max_depth : int, default=None\n",
      "    The maximum depth of the tree. If None, then nodes are expanded until\n",
      "    all leaves are pure or until all leaves contain less than\n",
      "    min_samples_split samples.\n",
      "\n",
      "min_samples_split : int or float, default=2\n",
      "    The minimum number of samples required to split an internal node:\n",
      "\n",
      "    - If int, then consider `min_samples_split` as the minimum number.\n",
      "    - If float, then `min_samples_split` is a fraction and\n",
      "      `ceil(min_samples_split * n_samples)` are the minimum\n",
      "      number of samples for each split.\n",
      "\n",
      "    .. versionchanged:: 0.18\n",
      "       Added float values for fractions.\n",
      "\n",
      "min_samples_leaf : int or float, default=1\n",
      "    The minimum number of samples required to be at a leaf node.\n",
      "    A split point at any depth will only be considered if it leaves at\n",
      "    least ``min_samples_leaf`` training samples in each of the left and\n",
      "    right branches.  This may have the effect of smoothing the model,\n",
      "    especially in regression.\n",
      "\n",
      "    - If int, then consider `min_samples_leaf` as the minimum number.\n",
      "    - If float, then `min_samples_leaf` is a fraction and\n",
      "      `ceil(min_samples_leaf * n_samples)` are the minimum\n",
      "      number of samples for each node.\n",
      "\n",
      "    .. versionchanged:: 0.18\n",
      "       Added float values for fractions.\n",
      "\n",
      "min_weight_fraction_leaf : float, default=0.0\n",
      "    The minimum weighted fraction of the sum total of weights (of all\n",
      "    the input samples) required to be at a leaf node. Samples have\n",
      "    equal weight when sample_weight is not provided.\n",
      "\n",
      "max_features : int, float or {\"auto\", \"sqrt\", \"log2\"}, default=None\n",
      "    The number of features to consider when looking for the best split:\n",
      "\n",
      "    - If int, then consider `max_features` features at each split.\n",
      "    - If float, then `max_features` is a fraction and\n",
      "      `int(max_features * n_features)` features are considered at each\n",
      "      split.\n",
      "    - If \"auto\", then `max_features=n_features`.\n",
      "    - If \"sqrt\", then `max_features=sqrt(n_features)`.\n",
      "    - If \"log2\", then `max_features=log2(n_features)`.\n",
      "    - If None, then `max_features=n_features`.\n",
      "\n",
      "    Note: the search for a split does not stop until at least one\n",
      "    valid partition of the node samples is found, even if it requires to\n",
      "    effectively inspect more than ``max_features`` features.\n",
      "\n",
      "random_state : int, RandomState instance or None, default=None\n",
      "    Controls the randomness of the estimator. The features are always\n",
      "    randomly permuted at each split, even if ``splitter`` is set to\n",
      "    ``\"best\"``. When ``max_features < n_features``, the algorithm will\n",
      "    select ``max_features`` at random at each split before finding the best\n",
      "    split among them. But the best found split may vary across different\n",
      "    runs, even if ``max_features=n_features``. That is the case, if the\n",
      "    improvement of the criterion is identical for several splits and one\n",
      "    split has to be selected at random. To obtain a deterministic behaviour\n",
      "    during fitting, ``random_state`` has to be fixed to an integer.\n",
      "    See :term:`Glossary <random_state>` for details.\n",
      "\n",
      "max_leaf_nodes : int, default=None\n",
      "    Grow a tree with ``max_leaf_nodes`` in best-first fashion.\n",
      "    Best nodes are defined as relative reduction in impurity.\n",
      "    If None then unlimited number of leaf nodes.\n",
      "\n",
      "min_impurity_decrease : float, default=0.0\n",
      "    A node will be split if this split induces a decrease of the impurity\n",
      "    greater than or equal to this value.\n",
      "\n",
      "    The weighted impurity decrease equation is the following::\n",
      "\n",
      "        N_t / N * (impurity - N_t_R / N_t * right_impurity\n",
      "                            - N_t_L / N_t * left_impurity)\n",
      "\n",
      "    where ``N`` is the total number of samples, ``N_t`` is the number of\n",
      "    samples at the current node, ``N_t_L`` is the number of samples in the\n",
      "    left child, and ``N_t_R`` is the number of samples in the right child.\n",
      "\n",
      "    ``N``, ``N_t``, ``N_t_R`` and ``N_t_L`` all refer to the weighted sum,\n",
      "    if ``sample_weight`` is passed.\n",
      "\n",
      "    .. versionadded:: 0.19\n",
      "\n",
      "ccp_alpha : non-negative float, default=0.0\n",
      "    Complexity parameter used for Minimal Cost-Complexity Pruning. The\n",
      "    subtree with the largest cost complexity that is smaller than\n",
      "    ``ccp_alpha`` will be chosen. By default, no pruning is performed. See\n",
      "    :ref:`minimal_cost_complexity_pruning` for details.\n",
      "\n",
      "    .. versionadded:: 0.22\n",
      "\n",
      "Attributes\n",
      "----------\n",
      "feature_importances_ : ndarray of shape (n_features,)\n",
      "    The feature importances.\n",
      "    The higher, the more important the feature.\n",
      "    The importance of a feature is computed as the\n",
      "    (normalized) total reduction of the criterion brought\n",
      "    by that feature. It is also known as the Gini importance [4]_.\n",
      "\n",
      "    Warning: impurity-based feature importances can be misleading for\n",
      "    high cardinality features (many unique values). See\n",
      "    :func:`sklearn.inspection.permutation_importance` as an alternative.\n",
      "\n",
      "max_features_ : int\n",
      "    The inferred value of max_features.\n",
      "\n",
      "n_features_ : int\n",
      "    The number of features when ``fit`` is performed.\n",
      "\n",
      "    .. deprecated:: 1.0\n",
      "       `n_features_` is deprecated in 1.0 and will be removed in\n",
      "       1.2. Use `n_features_in_` instead.\n",
      "\n",
      "n_features_in_ : int\n",
      "    Number of features seen during :term:`fit`.\n",
      "\n",
      "    .. versionadded:: 0.24\n",
      "\n",
      "feature_names_in_ : ndarray of shape (`n_features_in_`,)\n",
      "    Names of features seen during :term:`fit`. Defined only when `X`\n",
      "    has feature names that are all strings.\n",
      "\n",
      "    .. versionadded:: 1.0\n",
      "\n",
      "n_outputs_ : int\n",
      "    The number of outputs when ``fit`` is performed.\n",
      "\n",
      "tree_ : Tree instance\n",
      "    The underlying Tree object. Please refer to\n",
      "    ``help(sklearn.tree._tree.Tree)`` for attributes of Tree object and\n",
      "    :ref:`sphx_glr_auto_examples_tree_plot_unveil_tree_structure.py`\n",
      "    for basic usage of these attributes.\n",
      "\n",
      "See Also\n",
      "--------\n",
      "DecisionTreeClassifier : A decision tree classifier.\n",
      "\n",
      "Notes\n",
      "-----\n",
      "The default values for the parameters controlling the size of the trees\n",
      "(e.g. ``max_depth``, ``min_samples_leaf``, etc.) lead to fully grown and\n",
      "unpruned trees which can potentially be very large on some data sets. To\n",
      "reduce memory consumption, the complexity and size of the trees should be\n",
      "controlled by setting those parameter values.\n",
      "\n",
      "References\n",
      "----------\n",
      "\n",
      ".. [1] https://en.wikipedia.org/wiki/Decision_tree_learning\n",
      "\n",
      ".. [2] L. Breiman, J. Friedman, R. Olshen, and C. Stone, \"Classification\n",
      "       and Regression Trees\", Wadsworth, Belmont, CA, 1984.\n",
      "\n",
      ".. [3] T. Hastie, R. Tibshirani and J. Friedman. \"Elements of Statistical\n",
      "       Learning\", Springer, 2009.\n",
      "\n",
      ".. [4] L. Breiman, and A. Cutler, \"Random Forests\",\n",
      "       https://www.stat.berkeley.edu/~breiman/RandomForests/cc_home.htm\n",
      "\n",
      "Examples\n",
      "--------\n",
      ">>> from sklearn.datasets import load_diabetes\n",
      ">>> from sklearn.model_selection import cross_val_score\n",
      ">>> from sklearn.tree import DecisionTreeRegressor\n",
      ">>> X, y = load_diabetes(return_X_y=True)\n",
      ">>> regressor = DecisionTreeRegressor(random_state=0)\n",
      ">>> cross_val_score(regressor, X, y, cv=10)\n",
      "...                    # doctest: +SKIP\n",
      "...\n",
      "array([-0.39..., -0.46...,  0.02...,  0.06..., -0.50...,\n",
      "       0.16...,  0.11..., -0.73..., -0.30..., -0.00...])\n",
      "\u001b[1;31mFile:\u001b[0m           c:\\users\\daniel montes\\anaconda3\\lib\\site-packages\\sklearn\\tree\\_classes.py\n",
      "\u001b[1;31mType:\u001b[0m           ABCMeta\n",
      "\u001b[1;31mSubclasses:\u001b[0m     ExtraTreeRegressor\n"
     ]
    }
   ],
   "source": [
    "DecisionTreeRegressor?"
   ]
  },
  {
   "cell_type": "code",
   "execution_count": 79,
   "metadata": {},
   "outputs": [],
   "source": [
    "from sklearn.model_selection import GridSearchCV, RandomizedSearchCV"
   ]
  },
  {
   "cell_type": "code",
   "execution_count": 80,
   "metadata": {},
   "outputs": [],
   "source": [
    "# print(Modelo.__doc__)"
   ]
  },
  {
   "cell_type": "code",
   "execution_count": 81,
   "metadata": {},
   "outputs": [
    {
     "data": {
      "text/plain": [
       "{'ccp_alpha': 0.0,\n",
       " 'criterion': 'squared_error',\n",
       " 'max_depth': None,\n",
       " 'max_features': None,\n",
       " 'max_leaf_nodes': None,\n",
       " 'min_impurity_decrease': 0.0,\n",
       " 'min_samples_leaf': 1,\n",
       " 'min_samples_split': 2,\n",
       " 'min_weight_fraction_leaf': 0.0,\n",
       " 'random_state': 1234,\n",
       " 'splitter': 'best'}"
      ]
     },
     "execution_count": 81,
     "metadata": {},
     "output_type": "execute_result"
    }
   ],
   "source": [
    "Modelo.get_params()"
   ]
  },
  {
   "cell_type": "code",
   "execution_count": 82,
   "metadata": {},
   "outputs": [],
   "source": [
    "diccionario={\n",
    " #'ccp_alpha': np.linspace(0,1,10),#10\n",
    " 'criterion': ['squared_error',\"absolute_error\",\"friedman_mse\"],#3\n",
    " 'max_depth': range(1,11),#10\n",
    " 'max_features': range(1,11),#10\n",
    " #'max_leaf_nodes': np.linspace(10,100,10),#10\n",
    " #'min_impurity_decrease': np.linspace(0,1,10),#10\n",
    " #'min_weight_fraction_leaf': np.linspace(0,1,10),#10\n",
    " 'splitter': [\"best\", \"random\"] #\n",
    "}"
   ]
  },
  {
   "cell_type": "code",
   "execution_count": 83,
   "metadata": {},
   "outputs": [],
   "source": [
    "Ajuste=GridSearchCV(estimator=Modelo_G,\n",
    "            param_grid=diccionario)"
   ]
  },
  {
   "cell_type": "code",
   "execution_count": 84,
   "metadata": {},
   "outputs": [
    {
     "data": {
      "text/plain": [
       "GridSearchCV(estimator=DecisionTreeRegressor(random_state=1234),\n",
       "             param_grid={'criterion': ['squared_error', 'absolute_error',\n",
       "                                       'friedman_mse'],\n",
       "                         'max_depth': range(1, 11),\n",
       "                         'max_features': range(1, 11),\n",
       "                         'splitter': ['best', 'random']})"
      ]
     },
     "execution_count": 84,
     "metadata": {},
     "output_type": "execute_result"
    }
   ],
   "source": [
    "Ajuste.fit(X_train,y_train)"
   ]
  },
  {
   "cell_type": "code",
   "execution_count": 85,
   "metadata": {},
   "outputs": [
    {
     "data": {
      "text/plain": [
       "DecisionTreeRegressor(max_depth=3, max_features=10, random_state=1234,\n",
       "                      splitter='random')"
      ]
     },
     "execution_count": 85,
     "metadata": {},
     "output_type": "execute_result"
    }
   ],
   "source": [
    "Ajuste.best_estimator_"
   ]
  },
  {
   "cell_type": "code",
   "execution_count": 86,
   "metadata": {},
   "outputs": [],
   "source": [
    "y_pred_G=Ajuste.predict(X_test)"
   ]
  },
  {
   "cell_type": "code",
   "execution_count": 87,
   "metadata": {},
   "outputs": [
    {
     "data": {
      "text/plain": [
       "DecisionTreeRegressor(random_state=1234)"
      ]
     },
     "execution_count": 87,
     "metadata": {},
     "output_type": "execute_result"
    }
   ],
   "source": [
    "Modelo.fit(X_train,y_train)"
   ]
  },
  {
   "cell_type": "code",
   "execution_count": 88,
   "metadata": {},
   "outputs": [],
   "source": [
    "y_pred_A=Modelo.predict(X_test)"
   ]
  },
  {
   "cell_type": "code",
   "execution_count": 89,
   "metadata": {},
   "outputs": [],
   "source": [
    "from sklearn.metrics import mean_absolute_error"
   ]
  },
  {
   "cell_type": "code",
   "execution_count": 90,
   "metadata": {},
   "outputs": [
    {
     "data": {
      "text/plain": [
       "199.3696512266025"
      ]
     },
     "execution_count": 90,
     "metadata": {},
     "output_type": "execute_result"
    }
   ],
   "source": [
    "mean_absolute_error(y_test,y_pred_A)"
   ]
  },
  {
   "cell_type": "code",
   "execution_count": 91,
   "metadata": {},
   "outputs": [
    {
     "data": {
      "text/plain": [
       "154.73438525226982"
      ]
     },
     "execution_count": 91,
     "metadata": {},
     "output_type": "execute_result"
    }
   ],
   "source": [
    "mean_absolute_error(y_test,y_pred_G)"
   ]
  },
  {
   "cell_type": "code",
   "execution_count": 92,
   "metadata": {},
   "outputs": [
    {
     "data": {
      "text/plain": [
       "(600, 17)"
      ]
     },
     "execution_count": 92,
     "metadata": {},
     "output_type": "execute_result"
    }
   ],
   "source": [
    "pd.DataFrame(Ajuste.cv_results_).sort_values(by=\"rank_test_score\").shape"
   ]
  },
  {
   "cell_type": "code",
   "execution_count": 93,
   "metadata": {},
   "outputs": [],
   "source": [
    "Ajuste=RandomizedSearchCV(estimator=Modelo_G,\n",
    "            param_distributions=diccionario,n_jobs=-1,n_iter=10)"
   ]
  },
  {
   "cell_type": "code",
   "execution_count": 94,
   "metadata": {},
   "outputs": [
    {
     "data": {
      "text/plain": [
       "RandomizedSearchCV(estimator=DecisionTreeRegressor(random_state=1234),\n",
       "                   n_jobs=-1,\n",
       "                   param_distributions={'criterion': ['squared_error',\n",
       "                                                      'absolute_error',\n",
       "                                                      'friedman_mse'],\n",
       "                                        'max_depth': range(1, 11),\n",
       "                                        'max_features': range(1, 11),\n",
       "                                        'splitter': ['best', 'random']})"
      ]
     },
     "execution_count": 94,
     "metadata": {},
     "output_type": "execute_result"
    }
   ],
   "source": [
    "Ajuste.fit(X_train,y_train)"
   ]
  },
  {
   "cell_type": "code",
   "execution_count": 95,
   "metadata": {},
   "outputs": [
    {
     "data": {
      "text/plain": [
       "DecisionTreeRegressor(criterion='friedman_mse', max_depth=1, max_features=6,\n",
       "                      random_state=1234, splitter='random')"
      ]
     },
     "execution_count": 95,
     "metadata": {},
     "output_type": "execute_result"
    }
   ],
   "source": [
    "Ajuste.best_estimator_"
   ]
  },
  {
   "cell_type": "code",
   "execution_count": 96,
   "metadata": {},
   "outputs": [
    {
     "data": {
      "text/plain": [
       "0.07405946784803645"
      ]
     },
     "execution_count": 96,
     "metadata": {},
     "output_type": "execute_result"
    }
   ],
   "source": [
    "Ajuste.best_score_"
   ]
  },
  {
   "cell_type": "code",
   "execution_count": 97,
   "metadata": {},
   "outputs": [
    {
     "data": {
      "text/plain": [
       "(10, 17)"
      ]
     },
     "execution_count": 97,
     "metadata": {},
     "output_type": "execute_result"
    }
   ],
   "source": [
    "pd.DataFrame(Ajuste.cv_results_).sort_values(by=\"rank_test_score\").shape"
   ]
  },
  {
   "cell_type": "code",
   "execution_count": 98,
   "metadata": {},
   "outputs": [
    {
     "data": {
      "text/html": [
       "<div>\n",
       "<style scoped>\n",
       "    .dataframe tbody tr th:only-of-type {\n",
       "        vertical-align: middle;\n",
       "    }\n",
       "\n",
       "    .dataframe tbody tr th {\n",
       "        vertical-align: top;\n",
       "    }\n",
       "\n",
       "    .dataframe thead th {\n",
       "        text-align: right;\n",
       "    }\n",
       "</style>\n",
       "<table border=\"1\" class=\"dataframe\">\n",
       "  <thead>\n",
       "    <tr style=\"text-align: right;\">\n",
       "      <th></th>\n",
       "      <th>mean_fit_time</th>\n",
       "      <th>std_fit_time</th>\n",
       "      <th>mean_score_time</th>\n",
       "      <th>std_score_time</th>\n",
       "      <th>param_splitter</th>\n",
       "      <th>param_max_features</th>\n",
       "      <th>param_max_depth</th>\n",
       "      <th>param_criterion</th>\n",
       "      <th>params</th>\n",
       "      <th>split0_test_score</th>\n",
       "      <th>split1_test_score</th>\n",
       "      <th>split2_test_score</th>\n",
       "      <th>split3_test_score</th>\n",
       "      <th>split4_test_score</th>\n",
       "      <th>mean_test_score</th>\n",
       "      <th>std_test_score</th>\n",
       "      <th>rank_test_score</th>\n",
       "    </tr>\n",
       "  </thead>\n",
       "  <tbody>\n",
       "    <tr>\n",
       "      <th>1</th>\n",
       "      <td>0.004585</td>\n",
       "      <td>0.006687</td>\n",
       "      <td>0.001995</td>\n",
       "      <td>1.995087e-03</td>\n",
       "      <td>random</td>\n",
       "      <td>6</td>\n",
       "      <td>1</td>\n",
       "      <td>friedman_mse</td>\n",
       "      <td>{'splitter': 'random', 'max_features': 6, 'max...</td>\n",
       "      <td>0.006235</td>\n",
       "      <td>0.133853</td>\n",
       "      <td>0.020459</td>\n",
       "      <td>0.075166</td>\n",
       "      <td>0.134585</td>\n",
       "      <td>0.074059</td>\n",
       "      <td>0.054246</td>\n",
       "      <td>1</td>\n",
       "    </tr>\n",
       "    <tr>\n",
       "      <th>4</th>\n",
       "      <td>0.001396</td>\n",
       "      <td>0.000489</td>\n",
       "      <td>0.000997</td>\n",
       "      <td>4.422006e-07</td>\n",
       "      <td>random</td>\n",
       "      <td>1</td>\n",
       "      <td>2</td>\n",
       "      <td>absolute_error</td>\n",
       "      <td>{'splitter': 'random', 'max_features': 1, 'max...</td>\n",
       "      <td>0.042581</td>\n",
       "      <td>-0.000830</td>\n",
       "      <td>-0.006462</td>\n",
       "      <td>-0.226215</td>\n",
       "      <td>-0.211295</td>\n",
       "      <td>-0.080444</td>\n",
       "      <td>0.114296</td>\n",
       "      <td>2</td>\n",
       "    </tr>\n",
       "    <tr>\n",
       "      <th>5</th>\n",
       "      <td>0.001197</td>\n",
       "      <td>0.000399</td>\n",
       "      <td>0.000798</td>\n",
       "      <td>3.991143e-04</td>\n",
       "      <td>best</td>\n",
       "      <td>3</td>\n",
       "      <td>3</td>\n",
       "      <td>friedman_mse</td>\n",
       "      <td>{'splitter': 'best', 'max_features': 3, 'max_d...</td>\n",
       "      <td>-0.213911</td>\n",
       "      <td>-0.593626</td>\n",
       "      <td>-0.018930</td>\n",
       "      <td>-0.671103</td>\n",
       "      <td>-0.541414</td>\n",
       "      <td>-0.407797</td>\n",
       "      <td>0.249209</td>\n",
       "      <td>3</td>\n",
       "    </tr>\n",
       "    <tr>\n",
       "      <th>7</th>\n",
       "      <td>0.002194</td>\n",
       "      <td>0.000977</td>\n",
       "      <td>0.000598</td>\n",
       "      <td>7.974031e-04</td>\n",
       "      <td>random</td>\n",
       "      <td>2</td>\n",
       "      <td>9</td>\n",
       "      <td>absolute_error</td>\n",
       "      <td>{'splitter': 'random', 'max_features': 2, 'max...</td>\n",
       "      <td>-0.665167</td>\n",
       "      <td>-0.097713</td>\n",
       "      <td>0.156336</td>\n",
       "      <td>-1.100470</td>\n",
       "      <td>-0.763573</td>\n",
       "      <td>-0.494118</td>\n",
       "      <td>0.458204</td>\n",
       "      <td>4</td>\n",
       "    </tr>\n",
       "    <tr>\n",
       "      <th>8</th>\n",
       "      <td>0.002594</td>\n",
       "      <td>0.000797</td>\n",
       "      <td>0.001195</td>\n",
       "      <td>3.997726e-04</td>\n",
       "      <td>random</td>\n",
       "      <td>8</td>\n",
       "      <td>8</td>\n",
       "      <td>absolute_error</td>\n",
       "      <td>{'splitter': 'random', 'max_features': 8, 'max...</td>\n",
       "      <td>-0.791161</td>\n",
       "      <td>-0.573038</td>\n",
       "      <td>0.048424</td>\n",
       "      <td>-0.609408</td>\n",
       "      <td>-0.951387</td>\n",
       "      <td>-0.575314</td>\n",
       "      <td>0.340070</td>\n",
       "      <td>5</td>\n",
       "    </tr>\n",
       "    <tr>\n",
       "      <th>3</th>\n",
       "      <td>0.001396</td>\n",
       "      <td>0.000489</td>\n",
       "      <td>0.001196</td>\n",
       "      <td>3.994722e-04</td>\n",
       "      <td>random</td>\n",
       "      <td>10</td>\n",
       "      <td>6</td>\n",
       "      <td>friedman_mse</td>\n",
       "      <td>{'splitter': 'random', 'max_features': 10, 'ma...</td>\n",
       "      <td>-1.019677</td>\n",
       "      <td>-0.462783</td>\n",
       "      <td>0.168298</td>\n",
       "      <td>-0.286197</td>\n",
       "      <td>-1.364747</td>\n",
       "      <td>-0.593021</td>\n",
       "      <td>0.541905</td>\n",
       "      <td>6</td>\n",
       "    </tr>\n",
       "    <tr>\n",
       "      <th>0</th>\n",
       "      <td>0.002792</td>\n",
       "      <td>0.001596</td>\n",
       "      <td>0.000997</td>\n",
       "      <td>1.206313e-06</td>\n",
       "      <td>best</td>\n",
       "      <td>7</td>\n",
       "      <td>3</td>\n",
       "      <td>squared_error</td>\n",
       "      <td>{'splitter': 'best', 'max_features': 7, 'max_d...</td>\n",
       "      <td>-0.919719</td>\n",
       "      <td>-2.385027</td>\n",
       "      <td>0.077423</td>\n",
       "      <td>-0.954669</td>\n",
       "      <td>0.229381</td>\n",
       "      <td>-0.790522</td>\n",
       "      <td>0.935907</td>\n",
       "      <td>7</td>\n",
       "    </tr>\n",
       "    <tr>\n",
       "      <th>2</th>\n",
       "      <td>0.001795</td>\n",
       "      <td>0.000400</td>\n",
       "      <td>0.000598</td>\n",
       "      <td>4.885389e-04</td>\n",
       "      <td>random</td>\n",
       "      <td>6</td>\n",
       "      <td>10</td>\n",
       "      <td>squared_error</td>\n",
       "      <td>{'splitter': 'random', 'max_features': 6, 'max...</td>\n",
       "      <td>-1.455368</td>\n",
       "      <td>-2.072531</td>\n",
       "      <td>-0.395064</td>\n",
       "      <td>-0.208962</td>\n",
       "      <td>-0.096567</td>\n",
       "      <td>-0.845698</td>\n",
       "      <td>0.780579</td>\n",
       "      <td>8</td>\n",
       "    </tr>\n",
       "    <tr>\n",
       "      <th>6</th>\n",
       "      <td>0.001995</td>\n",
       "      <td>0.000001</td>\n",
       "      <td>0.000598</td>\n",
       "      <td>4.878778e-04</td>\n",
       "      <td>best</td>\n",
       "      <td>8</td>\n",
       "      <td>8</td>\n",
       "      <td>friedman_mse</td>\n",
       "      <td>{'splitter': 'best', 'max_features': 8, 'max_d...</td>\n",
       "      <td>-3.105918</td>\n",
       "      <td>-1.243257</td>\n",
       "      <td>-0.207557</td>\n",
       "      <td>-1.197440</td>\n",
       "      <td>-0.148005</td>\n",
       "      <td>-1.180435</td>\n",
       "      <td>1.069965</td>\n",
       "      <td>9</td>\n",
       "    </tr>\n",
       "    <tr>\n",
       "      <th>9</th>\n",
       "      <td>0.001596</td>\n",
       "      <td>0.000488</td>\n",
       "      <td>0.000997</td>\n",
       "      <td>3.069587e-06</td>\n",
       "      <td>best</td>\n",
       "      <td>2</td>\n",
       "      <td>5</td>\n",
       "      <td>friedman_mse</td>\n",
       "      <td>{'splitter': 'best', 'max_features': 2, 'max_d...</td>\n",
       "      <td>-1.447871</td>\n",
       "      <td>-1.685515</td>\n",
       "      <td>0.033652</td>\n",
       "      <td>-0.225670</td>\n",
       "      <td>-3.464851</td>\n",
       "      <td>-1.358051</td>\n",
       "      <td>1.246838</td>\n",
       "      <td>10</td>\n",
       "    </tr>\n",
       "  </tbody>\n",
       "</table>\n",
       "</div>"
      ],
      "text/plain": [
       "   mean_fit_time  std_fit_time  mean_score_time  std_score_time  \\\n",
       "1       0.004585      0.006687         0.001995    1.995087e-03   \n",
       "4       0.001396      0.000489         0.000997    4.422006e-07   \n",
       "5       0.001197      0.000399         0.000798    3.991143e-04   \n",
       "7       0.002194      0.000977         0.000598    7.974031e-04   \n",
       "8       0.002594      0.000797         0.001195    3.997726e-04   \n",
       "3       0.001396      0.000489         0.001196    3.994722e-04   \n",
       "0       0.002792      0.001596         0.000997    1.206313e-06   \n",
       "2       0.001795      0.000400         0.000598    4.885389e-04   \n",
       "6       0.001995      0.000001         0.000598    4.878778e-04   \n",
       "9       0.001596      0.000488         0.000997    3.069587e-06   \n",
       "\n",
       "  param_splitter param_max_features param_max_depth param_criterion  \\\n",
       "1         random                  6               1    friedman_mse   \n",
       "4         random                  1               2  absolute_error   \n",
       "5           best                  3               3    friedman_mse   \n",
       "7         random                  2               9  absolute_error   \n",
       "8         random                  8               8  absolute_error   \n",
       "3         random                 10               6    friedman_mse   \n",
       "0           best                  7               3   squared_error   \n",
       "2         random                  6              10   squared_error   \n",
       "6           best                  8               8    friedman_mse   \n",
       "9           best                  2               5    friedman_mse   \n",
       "\n",
       "                                              params  split0_test_score  \\\n",
       "1  {'splitter': 'random', 'max_features': 6, 'max...           0.006235   \n",
       "4  {'splitter': 'random', 'max_features': 1, 'max...           0.042581   \n",
       "5  {'splitter': 'best', 'max_features': 3, 'max_d...          -0.213911   \n",
       "7  {'splitter': 'random', 'max_features': 2, 'max...          -0.665167   \n",
       "8  {'splitter': 'random', 'max_features': 8, 'max...          -0.791161   \n",
       "3  {'splitter': 'random', 'max_features': 10, 'ma...          -1.019677   \n",
       "0  {'splitter': 'best', 'max_features': 7, 'max_d...          -0.919719   \n",
       "2  {'splitter': 'random', 'max_features': 6, 'max...          -1.455368   \n",
       "6  {'splitter': 'best', 'max_features': 8, 'max_d...          -3.105918   \n",
       "9  {'splitter': 'best', 'max_features': 2, 'max_d...          -1.447871   \n",
       "\n",
       "   split1_test_score  split2_test_score  split3_test_score  split4_test_score  \\\n",
       "1           0.133853           0.020459           0.075166           0.134585   \n",
       "4          -0.000830          -0.006462          -0.226215          -0.211295   \n",
       "5          -0.593626          -0.018930          -0.671103          -0.541414   \n",
       "7          -0.097713           0.156336          -1.100470          -0.763573   \n",
       "8          -0.573038           0.048424          -0.609408          -0.951387   \n",
       "3          -0.462783           0.168298          -0.286197          -1.364747   \n",
       "0          -2.385027           0.077423          -0.954669           0.229381   \n",
       "2          -2.072531          -0.395064          -0.208962          -0.096567   \n",
       "6          -1.243257          -0.207557          -1.197440          -0.148005   \n",
       "9          -1.685515           0.033652          -0.225670          -3.464851   \n",
       "\n",
       "   mean_test_score  std_test_score  rank_test_score  \n",
       "1         0.074059        0.054246                1  \n",
       "4        -0.080444        0.114296                2  \n",
       "5        -0.407797        0.249209                3  \n",
       "7        -0.494118        0.458204                4  \n",
       "8        -0.575314        0.340070                5  \n",
       "3        -0.593021        0.541905                6  \n",
       "0        -0.790522        0.935907                7  \n",
       "2        -0.845698        0.780579                8  \n",
       "6        -1.180435        1.069965                9  \n",
       "9        -1.358051        1.246838               10  "
      ]
     },
     "execution_count": 98,
     "metadata": {},
     "output_type": "execute_result"
    }
   ],
   "source": [
    "pd.DataFrame(Ajuste.cv_results_).sort_values(by=\"rank_test_score\")"
   ]
  },
  {
   "cell_type": "code",
   "execution_count": null,
   "metadata": {},
   "outputs": [],
   "source": []
  }
 ],
 "metadata": {
  "kernelspec": {
   "display_name": "base",
   "language": "python",
   "name": "python3"
  },
  "language_info": {
   "codemirror_mode": {
    "name": "ipython",
    "version": 3
   },
   "file_extension": ".py",
   "mimetype": "text/x-python",
   "name": "python",
   "nbconvert_exporter": "python",
   "pygments_lexer": "ipython3",
   "version": "3.9.12"
  },
  "orig_nbformat": 4,
  "vscode": {
   "interpreter": {
    "hash": "93b270aff94e38196a98effae74ed121e7c4be36a010106ff9b6f6d47d6f1709"
   }
  }
 },
 "nbformat": 4,
 "nbformat_minor": 2
}
