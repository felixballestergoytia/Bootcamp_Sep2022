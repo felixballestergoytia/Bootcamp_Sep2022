{
 "cells": [
  {
   "attachments": {},
   "cell_type": "markdown",
   "metadata": {},
   "source": [
    "# Series temporales\n",
    "Nuestra variable independiente será el tiempo que lo denotaremos por t $\\to$ \n",
    "* ``si vamos al  pasado`` se expresará t-1, t-2, t-3,... \n",
    "* ``si vamos al  futuro`` se expresará t+1, t+2, t+3,... "
   ]
  },
  {
   "attachments": {},
   "cell_type": "markdown",
   "metadata": {},
   "source": [
    "* Estacionaria --> \n",
    "    * ``se mantega la media`` \n",
    "    * `` sea homocedástica`` = se mantenga la varianza"
   ]
  },
  {
   "cell_type": "code",
   "execution_count": null,
   "metadata": {},
   "outputs": [],
   "source": [
    "## Librerias\n",
    "import pandas as pd\n",
    "import numpy as np\n",
    "from datetime import datetime\n",
    "import seaborn as sns\n",
    "import matplotlib.pyplot as plt\n",
    "import statsmodels.api as sm\n",
    "#from pandas_datareader import data as web\n",
    "from pydataset import data\n",
    "plt.style.use('ggplot')"
   ]
  },
  {
   "cell_type": "code",
   "execution_count": null,
   "metadata": {},
   "outputs": [],
   "source": [
    "comienzo=datetime(2010,1,1)\n",
    "final=datetime(2020,3,10)"
   ]
  },
  {
   "cell_type": "code",
   "execution_count": null,
   "metadata": {},
   "outputs": [],
   "source": [
    "final-comienzo"
   ]
  },
  {
   "cell_type": "code",
   "execution_count": null,
   "metadata": {},
   "outputs": [],
   "source": [
    "df = pd.read_csv('./Datos/Index2018.csv')"
   ]
  },
  {
   "cell_type": "code",
   "execution_count": null,
   "metadata": {},
   "outputs": [],
   "source": [
    "df.head()"
   ]
  },
  {
   "cell_type": "code",
   "execution_count": null,
   "metadata": {},
   "outputs": [],
   "source": [
    "df.describe()"
   ]
  },
  {
   "cell_type": "code",
   "execution_count": null,
   "metadata": {},
   "outputs": [],
   "source": [
    "df.dtypes"
   ]
  },
  {
   "cell_type": "code",
   "execution_count": null,
   "metadata": {},
   "outputs": [],
   "source": [
    "df.date=pd.to_datetime(df.date,dayfirst=True)"
   ]
  },
  {
   "cell_type": "code",
   "execution_count": null,
   "metadata": {},
   "outputs": [],
   "source": [
    "df.dtypes"
   ]
  },
  {
   "cell_type": "code",
   "execution_count": null,
   "metadata": {},
   "outputs": [],
   "source": [
    "df.head()"
   ]
  },
  {
   "cell_type": "code",
   "execution_count": null,
   "metadata": {},
   "outputs": [],
   "source": [
    "df.spx.plot()"
   ]
  },
  {
   "cell_type": "code",
   "execution_count": null,
   "metadata": {},
   "outputs": [],
   "source": [
    "df.nikkei.plot()"
   ]
  },
  {
   "cell_type": "code",
   "execution_count": null,
   "metadata": {},
   "outputs": [],
   "source": [
    "df_fecha=df.copy()"
   ]
  },
  {
   "cell_type": "code",
   "execution_count": null,
   "metadata": {},
   "outputs": [],
   "source": [
    "df_fecha.set_index(\"date\",inplace=True)"
   ]
  },
  {
   "cell_type": "code",
   "execution_count": null,
   "metadata": {},
   "outputs": [],
   "source": [
    "df_fecha.nikkei.plot()"
   ]
  },
  {
   "cell_type": "code",
   "execution_count": null,
   "metadata": {},
   "outputs": [],
   "source": [
    "df_fecha.head()"
   ]
  },
  {
   "cell_type": "code",
   "execution_count": null,
   "metadata": {},
   "outputs": [],
   "source": [
    "## Frecuencia diaria\n",
    "df_fecha.asfreq('d')"
   ]
  },
  {
   "cell_type": "code",
   "execution_count": null,
   "metadata": {},
   "outputs": [],
   "source": [
    "## Frecuencia último día del mes\n",
    "df_fecha.asfreq('M')"
   ]
  },
  {
   "cell_type": "code",
   "execution_count": null,
   "metadata": {},
   "outputs": [],
   "source": [
    "## Para rellenar los nulos\n",
    "## usando forward fill\n",
    "df_fecha.asfreq('d',method=\"ffill\")"
   ]
  },
  {
   "cell_type": "code",
   "execution_count": null,
   "metadata": {},
   "outputs": [],
   "source": [
    "## usando back fill\n",
    "df_fecha.asfreq('d',method=\"bfill\")"
   ]
  },
  {
   "cell_type": "code",
   "execution_count": null,
   "metadata": {},
   "outputs": [],
   "source": [
    "## Frecuencia último día del mes laborable\n",
    "df_fecha.asfreq('BM')"
   ]
  },
  {
   "cell_type": "code",
   "execution_count": null,
   "metadata": {},
   "outputs": [],
   "source": [
    "df_fecha.asfreq('BM').isnull().sum()"
   ]
  },
  {
   "cell_type": "code",
   "execution_count": null,
   "metadata": {},
   "outputs": [],
   "source": [
    "## Cierre de trimestre\n",
    "df_fecha.asfreq('BQ')"
   ]
  },
  {
   "attachments": {},
   "cell_type": "markdown",
   "metadata": {},
   "source": [
    "#### Calcular tasas de variación por \"Día\"\n",
    "* Tasa de Variación \n",
    "\n",
    "$\\cfrac{VF-VI}{VI}=\\cfrac{VF}{VI}-1$"
   ]
  },
  {
   "attachments": {},
   "cell_type": "markdown",
   "metadata": {},
   "source": [
    "## Ejercicio\n",
    "Calcular la tasa de variación de cada una de las columnas generando una nueva columna"
   ]
  },
  {
   "attachments": {},
   "cell_type": "markdown",
   "metadata": {},
   "source": [
    "Sería el valor de la fila i partido el valor de la fila i-1 y despues restarlo por 1"
   ]
  },
  {
   "cell_type": "code",
   "execution_count": null,
   "metadata": {},
   "outputs": [],
   "source": [
    "df[\"nikkei_lag1\"]=df[\"nikkei\"].shift(1)"
   ]
  },
  {
   "cell_type": "code",
   "execution_count": null,
   "metadata": {},
   "outputs": [],
   "source": [
    "df_fecha[\"nikkei_tv\"]=df_fecha[\"nikkei\"]/df_fecha[\"nikkei\"].shift(1) - 1"
   ]
  },
  {
   "cell_type": "code",
   "execution_count": null,
   "metadata": {},
   "outputs": [],
   "source": [
    "df_fecha.head()"
   ]
  },
  {
   "cell_type": "code",
   "execution_count": null,
   "metadata": {},
   "outputs": [],
   "source": [
    "def calculo_tv(df,columna):\n",
    "    return df[columna]/df[columna].shift(1) - 1"
   ]
  },
  {
   "cell_type": "code",
   "execution_count": null,
   "metadata": {},
   "outputs": [],
   "source": [
    "ciclo,tendencia=sm.tsa.filters.hpfilter(df[\"nikkei\"])"
   ]
  },
  {
   "cell_type": "code",
   "execution_count": null,
   "metadata": {},
   "outputs": [],
   "source": [
    "df[\"Tendencia_Nikkei\"]=tendencia"
   ]
  },
  {
   "cell_type": "code",
   "execution_count": null,
   "metadata": {},
   "outputs": [],
   "source": [
    "df[[\"nikkei\",\"Tendencia_Nikkei\"]].plot();"
   ]
  },
  {
   "cell_type": "code",
   "execution_count": null,
   "metadata": {},
   "outputs": [],
   "source": [
    "df[\"nikkei_MV\"]=df[\"nikkei\"].rolling(5).mean()"
   ]
  },
  {
   "cell_type": "code",
   "execution_count": null,
   "metadata": {},
   "outputs": [],
   "source": [
    "df[[\"nikkei\",\"Tendencia_Nikkei\",\"nikkei_MV\"]].tail(20).plot();"
   ]
  },
  {
   "cell_type": "code",
   "execution_count": null,
   "metadata": {},
   "outputs": [],
   "source": [
    "sm.tsa.seasonal_decompose(df[\"nikkei\"].tail(60),model=\"additive\",period=30).plot();"
   ]
  },
  {
   "attachments": {},
   "cell_type": "markdown",
   "metadata": {},
   "source": [
    "## machie learning\n",
    "utilizabamos la función train_test_split y ``cogíamos`` una muestra aleatoria"
   ]
  },
  {
   "cell_type": "code",
   "execution_count": null,
   "metadata": {},
   "outputs": [],
   "source": [
    "tamanyo=int(len(df)*0.7)\n",
    "df_train=df.iloc[:tamanyo]\n",
    "df_test=df.iloc[tamanyo:]"
   ]
  },
  {
   "cell_type": "code",
   "execution_count": null,
   "metadata": {},
   "outputs": [],
   "source": [
    "## Estacionariedad\n",
    "import statsmodels.tsa.stattools as sts"
   ]
  },
  {
   "cell_type": "code",
   "execution_count": null,
   "metadata": {},
   "outputs": [],
   "source": [
    "sts.adfuller(df.nikkei)"
   ]
  },
  {
   "attachments": {},
   "cell_type": "markdown",
   "metadata": {},
   "source": [
    "$$ H_0: \\text{Los datos son no estacionarios}$$\n",
    "$$ H_1: \\text{Los datos son estacionarios}$$\n"
   ]
  },
  {
   "cell_type": "code",
   "execution_count": null,
   "metadata": {},
   "outputs": [],
   "source": [
    "print(\"El p valor es: {0:.2f}\".format(sts.adfuller(df.nikkei)[1]))"
   ]
  },
  {
   "cell_type": "code",
   "execution_count": null,
   "metadata": {},
   "outputs": [],
   "source": [
    "## Suavizado de datos\n",
    "### Metodo de Holt-Winters"
   ]
  },
  {
   "cell_type": "code",
   "execution_count": null,
   "metadata": {},
   "outputs": [],
   "source": [
    "from statsmodels.tsa.holtwinters import SimpleExpSmoothing"
   ]
  },
  {
   "cell_type": "code",
   "execution_count": null,
   "metadata": {},
   "outputs": [],
   "source": [
    "cantidad=5\n",
    "alpha=2/(cantidad+1)"
   ]
  },
  {
   "cell_type": "code",
   "execution_count": null,
   "metadata": {},
   "outputs": [],
   "source": [
    "### otra manera de medias moviles\n",
    "df[\"nikkei_5\"]=df[\"nikkei\"].ewm(alpha=alpha).mean()"
   ]
  },
  {
   "cell_type": "code",
   "execution_count": null,
   "metadata": {},
   "outputs": [],
   "source": [
    "df.head()"
   ]
  },
  {
   "cell_type": "code",
   "execution_count": null,
   "metadata": {},
   "outputs": [],
   "source": [
    "df[[\"nikkei\",\"nikkei_5\",\"nikkei_MV\"]].tail(20).plot()"
   ]
  },
  {
   "cell_type": "code",
   "execution_count": null,
   "metadata": {},
   "outputs": [],
   "source": [
    "df[\"nikkei_EXPS\"]=SimpleExpSmoothing(df[\"nikkei\"]).fit(smoothing_level=alpha).fittedvalues"
   ]
  },
  {
   "cell_type": "code",
   "execution_count": null,
   "metadata": {},
   "outputs": [],
   "source": [
    "df[[\"nikkei\",\"nikkei_5\",\"nikkei_MV\",\"nikkei_EXPS\"]].tail(20).plot()"
   ]
  },
  {
   "cell_type": "code",
   "execution_count": null,
   "metadata": {},
   "outputs": [],
   "source": [
    "## Doble suavizado\n",
    "from statsmodels.tsa.holtwinters import ExponentialSmoothing"
   ]
  },
  {
   "cell_type": "code",
   "execution_count": null,
   "metadata": {},
   "outputs": [],
   "source": [
    "df[\"nikkei_EXPS\"]=ExponentialSmoothing(df[\"nikkei\"]).fit(smoothing_level=alpha).fittedvalues.shift(-1)"
   ]
  },
  {
   "cell_type": "code",
   "execution_count": null,
   "metadata": {},
   "outputs": [],
   "source": [
    "df[[\"nikkei\",\"nikkei_5\",\"nikkei_MV\",\"nikkei_EXPS\"]].tail(20).plot()"
   ]
  },
  {
   "cell_type": "code",
   "execution_count": null,
   "metadata": {},
   "outputs": [],
   "source": [
    "## Suavizado triple\n",
    "df[\"nikkei_EXPS\"]=ExponentialSmoothing(df[\"nikkei\"],trend=\"add\",seasonal=\"add\",seasonal_periods=12).fit(smoothing_level=alpha).fittedvalues"
   ]
  },
  {
   "cell_type": "code",
   "execution_count": null,
   "metadata": {},
   "outputs": [],
   "source": [
    "df[[\"nikkei\",\"nikkei_5\",\"nikkei_MV\",\"nikkei_EXPS\"]].tail(20).plot()"
   ]
  },
  {
   "cell_type": "code",
   "execution_count": null,
   "metadata": {},
   "outputs": [],
   "source": [
    "modelo=ExponentialSmoothing(df[\"nikkei\"],trend=\"add\",seasonal=\"add\",seasonal_periods=12).fit()"
   ]
  },
  {
   "cell_type": "code",
   "execution_count": null,
   "metadata": {},
   "outputs": [],
   "source": [
    "prediccion_20=modelo.forecast(20)"
   ]
  },
  {
   "cell_type": "code",
   "execution_count": null,
   "metadata": {},
   "outputs": [],
   "source": [
    "df[\"nikkei\"].tail(10).plot()\n",
    "prediccion_20.plot(label=\"Prediccion modelo aditivo\")"
   ]
  },
  {
   "attachments": {},
   "cell_type": "markdown",
   "metadata": {},
   "source": [
    "## Modelo AR\n",
    "### AR(1)\n",
    "$$y_t=\\beta_1 y_{t-1} + C + \\epsilon_{t-1}$$"
   ]
  },
  {
   "attachments": {},
   "cell_type": "markdown",
   "metadata": {},
   "source": [
    "### AR(p)\n",
    "$$y_t=\\beta_1 y_{t-1} + \\beta_2 y_{t-2} + \\ldots+\\beta_p y_{t-p} + C + \\epsilon_{t-1}$$"
   ]
  },
  {
   "cell_type": "code",
   "execution_count": null,
   "metadata": {},
   "outputs": [],
   "source": [
    "from statsmodels.tsa.arima.model import ARIMA"
   ]
  },
  {
   "cell_type": "code",
   "execution_count": null,
   "metadata": {},
   "outputs": [],
   "source": [
    "modelo_ar=ARIMA(df.nikkei,order=(1,0,0))\n",
    "resultado_ar=modelo_ar.fit()"
   ]
  },
  {
   "cell_type": "code",
   "execution_count": null,
   "metadata": {},
   "outputs": [],
   "source": [
    "resultado_ar.summary()"
   ]
  },
  {
   "cell_type": "code",
   "execution_count": null,
   "metadata": {},
   "outputs": [],
   "source": [
    "modelo_ar2=ARIMA(df.nikkei,order=(2,0,0))\n",
    "resultado_ar2=modelo_ar2.fit()\n",
    "resultado_ar2.summary()"
   ]
  },
  {
   "attachments": {},
   "cell_type": "markdown",
   "metadata": {},
   "source": [
    "## Medias moviles\n",
    "### MA(1)\n",
    "$$ y_t = C + \\epsilon_{t-1} $$\n",
    "\n",
    "### MA(q)\n",
    "$$ y_t = C + \\epsilon_{t-1} + \\ldots + \\epsilon_{t-q}  $$"
   ]
  },
  {
   "cell_type": "code",
   "execution_count": null,
   "metadata": {},
   "outputs": [],
   "source": [
    "modelo_ma=ARIMA(df.nikkei,order=(0,0,1))\n",
    "resultado_ma=modelo_ma.fit()\n",
    "resultado_ma.summary()"
   ]
  },
  {
   "cell_type": "code",
   "execution_count": null,
   "metadata": {},
   "outputs": [],
   "source": [
    "### ARMA(1,1)\n",
    "modelo_ma=ARIMA(df.nikkei,order=(1,0,1))\n",
    "resultado_ma=modelo_ma.fit()\n",
    "resultado_ma.summary()"
   ]
  },
  {
   "cell_type": "code",
   "execution_count": null,
   "metadata": {},
   "outputs": [],
   "source": [
    "resultado_ar.summary()"
   ]
  },
  {
   "cell_type": "code",
   "execution_count": null,
   "metadata": {},
   "outputs": [],
   "source": [
    "### ARMA(2,1)\n",
    "modelo_arma21=ARIMA(df.nikkei,order=(3,0,3))\n",
    "resultado_arma21=modelo_arma21.fit()\n",
    "resultado_arma21.summary()"
   ]
  },
  {
   "cell_type": "code",
   "execution_count": null,
   "metadata": {},
   "outputs": [],
   "source": [
    "### ARIMA(1,1,1)\n",
    "modelo_arima111=ARIMA(df.nikkei,order=(1,1,1))\n",
    "resultado_arima111=modelo_arima111.fit()\n",
    "resultado_arima111.summary()"
   ]
  },
  {
   "attachments": {},
   "cell_type": "markdown",
   "metadata": {},
   "source": [
    "### Ejercicio\n",
    "* Del fichero uspopulation calcular el mejor modelo que se ajuste utilizando un modelo  ARIMA.\n",
    "una vez detectado cual es el mejor modelo ARIMA que se ajuste, divida en train y test para predecir utilizado\n",
    "``modelo_entrenad.predict(start=**longitud de train**,end=**Longitud de train mas longitud del test -1)``\n",
    "y comparad con la métrica pertinente si es se ajusta bien o no"
   ]
  },
  {
   "attachments": {},
   "cell_type": "markdown",
   "metadata": {},
   "source": [
    "Ejemplo\n",
    "```\n",
    "x_train=df.iloc[:tamanyo]\n",
    "x_test=df.iloc[tamanyo:]\n",
    "modelo=ARIMA(x_train,order=(p,i,q))\n",
    "prediccion=modelo.predict(start=len(x_train),end=len(x_train)+len(x_test)-1)\n",
    "```"
   ]
  },
  {
   "cell_type": "code",
   "execution_count": 109,
   "metadata": {},
   "outputs": [
    {
     "data": {
      "image/png": "[encoded data removed]",
      "text/plain": [
       "<Figure size 864x360 with 1 Axes>"
      ]
     },
     "metadata": {},
     "output_type": "display_data"
    }
   ],
   "source": [
    "## Solucion\n",
    "df = pd.read_csv('./Datos/uspopulation.csv',index_col='DATE',parse_dates=True)\n",
    "df.index.freq = 'MS'\n",
    "\n",
    "\n",
    "ax = df['PopEst'].plot(figsize=(12,5));\n",
    "ax.autoscale(axis='x',tight=True)"
   ]
  },
  {
   "cell_type": "code",
   "execution_count": 110,
   "metadata": {},
   "outputs": [],
   "source": [
    "train = df.iloc[:84]\n",
    "test = df.iloc[84:]"
   ]
  },
  {
   "cell_type": "code",
   "execution_count": 119,
   "metadata": {},
   "outputs": [
    {
     "data": {
      "text/html": [
       "<table class=\"simpletable\">\n",
       "<caption>SARIMAX Results</caption>\n",
       "<tr>\n",
       "  <th>Dep. Variable:</th>        <td>PopEst</td>      <th>  No. Observations:  </th>    <td>96</td>   \n",
       "</tr>\n",
       "<tr>\n",
       "  <th>Model:</th>            <td>ARIMA(1, 0, 0)</td>  <th>  Log Likelihood     </th> <td>-640.831</td>\n",
       "</tr>\n",
       "<tr>\n",
       "  <th>Date:</th>            <td>Fri, 10 Mar 2023</td> <th>  AIC                </th> <td>1287.662</td>\n",
       "</tr>\n",
       "<tr>\n",
       "  <th>Time:</th>                <td>21:05:27</td>     <th>  BIC                </th> <td>1295.355</td>\n",
       "</tr>\n",
       "<tr>\n",
       "  <th>Sample:</th>             <td>01-01-2011</td>    <th>  HQIC               </th> <td>1290.772</td>\n",
       "</tr>\n",
       "<tr>\n",
       "  <th></th>                   <td>- 12-01-2018</td>   <th>                     </th>     <td> </td>   \n",
       "</tr>\n",
       "<tr>\n",
       "  <th>Covariance Type:</th>        <td>opg</td>       <th>                     </th>     <td> </td>   \n",
       "</tr>\n",
       "</table>\n",
       "<table class=\"simpletable\">\n",
       "<tr>\n",
       "     <td></td>       <th>coef</th>     <th>std err</th>      <th>z</th>      <th>P>|z|</th>  <th>[0.025</th>    <th>0.975]</th>  \n",
       "</tr>\n",
       "<tr>\n",
       "  <th>const</th>  <td> 3.198e+05</td> <td> 9009.890</td> <td>   35.497</td> <td> 0.000</td> <td> 3.02e+05</td> <td> 3.37e+05</td>\n",
       "</tr>\n",
       "<tr>\n",
       "  <th>ar.L1</th>  <td>    0.9998</td> <td>    0.004</td> <td>  258.736</td> <td> 0.000</td> <td>    0.992</td> <td>    1.007</td>\n",
       "</tr>\n",
       "<tr>\n",
       "  <th>sigma2</th> <td> 3.396e+04</td> <td> 2.72e+04</td> <td>    1.247</td> <td> 0.212</td> <td>-1.94e+04</td> <td> 8.73e+04</td>\n",
       "</tr>\n",
       "</table>\n",
       "<table class=\"simpletable\">\n",
       "<tr>\n",
       "  <th>Ljung-Box (L1) (Q):</th>     <td>9.16</td> <th>  Jarque-Bera (JB):  </th> <td>8834.36</td>\n",
       "</tr>\n",
       "<tr>\n",
       "  <th>Prob(Q):</th>                <td>0.00</td> <th>  Prob(JB):          </th>  <td>0.00</td>  \n",
       "</tr>\n",
       "<tr>\n",
       "  <th>Heteroskedasticity (H):</th> <td>0.94</td> <th>  Skew:              </th>  <td>-5.77</td> \n",
       "</tr>\n",
       "<tr>\n",
       "  <th>Prob(H) (two-sided):</th>    <td>0.86</td> <th>  Kurtosis:          </th>  <td>48.56</td> \n",
       "</tr>\n",
       "</table><br/><br/>Warnings:<br/>[1] Covariance matrix calculated using the outer product of gradients (complex-step)."
      ],
      "text/plain": [
       "<class 'statsmodels.iolib.summary.Summary'>\n",
       "\"\"\"\n",
       "                               SARIMAX Results                                \n",
       "==============================================================================\n",
       "Dep. Variable:                 PopEst   No. Observations:                   96\n",
       "Model:                 ARIMA(1, 0, 0)   Log Likelihood                -640.831\n",
       "Date:                Fri, 10 Mar 2023   AIC                           1287.662\n",
       "Time:                        21:05:27   BIC                           1295.355\n",
       "Sample:                    01-01-2011   HQIC                          1290.772\n",
       "                         - 12-01-2018                                         \n",
       "Covariance Type:                  opg                                         \n",
       "==============================================================================\n",
       "                 coef    std err          z      P>|z|      [0.025      0.975]\n",
       "------------------------------------------------------------------------------\n",
       "const       3.198e+05   9009.890     35.497      0.000    3.02e+05    3.37e+05\n",
       "ar.L1          0.9998      0.004    258.736      0.000       0.992       1.007\n",
       "sigma2      3.396e+04   2.72e+04      1.247      0.212   -1.94e+04    8.73e+04\n",
       "===================================================================================\n",
       "Ljung-Box (L1) (Q):                   9.16   Jarque-Bera (JB):              8834.36\n",
       "Prob(Q):                              0.00   Prob(JB):                         0.00\n",
       "Heteroskedasticity (H):               0.94   Skew:                            -5.77\n",
       "Prob(H) (two-sided):                  0.86   Kurtosis:                        48.56\n",
       "===================================================================================\n",
       "\n",
       "Warnings:\n",
       "[1] Covariance matrix calculated using the outer product of gradients (complex-step).\n",
       "\"\"\""
      ]
     },
     "execution_count": 119,
     "metadata": {},
     "output_type": "execute_result"
    }
   ],
   "source": [
    "model = ARIMA(df['PopEst'],order=(1,0,0))\n",
    "AR1fit = model.fit()\n",
    "AR1fit.summary()"
   ]
  },
  {
   "cell_type": "code",
   "execution_count": 120,
   "metadata": {},
   "outputs": [
    {
     "data": {
      "text/html": [
       "<table class=\"simpletable\">\n",
       "<caption>SARIMAX Results</caption>\n",
       "<tr>\n",
       "  <th>Dep. Variable:</th>        <td>PopEst</td>      <th>  No. Observations:  </th>    <td>96</td>   \n",
       "</tr>\n",
       "<tr>\n",
       "  <th>Model:</th>            <td>ARIMA(2, 0, 0)</td>  <th>  Log Likelihood     </th> <td>-386.494</td>\n",
       "</tr>\n",
       "<tr>\n",
       "  <th>Date:</th>            <td>Fri, 10 Mar 2023</td> <th>  AIC                </th>  <td>780.988</td>\n",
       "</tr>\n",
       "<tr>\n",
       "  <th>Time:</th>                <td>21:05:31</td>     <th>  BIC                </th>  <td>791.246</td>\n",
       "</tr>\n",
       "<tr>\n",
       "  <th>Sample:</th>             <td>01-01-2011</td>    <th>  HQIC               </th>  <td>785.134</td>\n",
       "</tr>\n",
       "<tr>\n",
       "  <th></th>                   <td>- 12-01-2018</td>   <th>                     </th>     <td> </td>   \n",
       "</tr>\n",
       "<tr>\n",
       "  <th>Covariance Type:</th>        <td>opg</td>       <th>                     </th>     <td> </td>   \n",
       "</tr>\n",
       "</table>\n",
       "<table class=\"simpletable\">\n",
       "<tr>\n",
       "     <td></td>       <th>coef</th>     <th>std err</th>      <th>z</th>      <th>P>|z|</th>  <th>[0.025</th>    <th>0.975]</th>  \n",
       "</tr>\n",
       "<tr>\n",
       "  <th>const</th>  <td> 3.198e+05</td> <td>    0.006</td> <td> 5.26e+07</td> <td> 0.000</td> <td>  3.2e+05</td> <td>  3.2e+05</td>\n",
       "</tr>\n",
       "<tr>\n",
       "  <th>ar.L1</th>  <td>    1.9964</td> <td>    0.007</td> <td>  287.984</td> <td> 0.000</td> <td>    1.983</td> <td>    2.010</td>\n",
       "</tr>\n",
       "<tr>\n",
       "  <th>ar.L2</th>  <td>   -0.9967</td> <td>    0.007</td> <td> -144.113</td> <td> 0.000</td> <td>   -1.010</td> <td>   -0.983</td>\n",
       "</tr>\n",
       "<tr>\n",
       "  <th>sigma2</th> <td>  151.9664</td> <td>   39.915</td> <td>    3.807</td> <td> 0.000</td> <td>   73.735</td> <td>  230.198</td>\n",
       "</tr>\n",
       "</table>\n",
       "<table class=\"simpletable\">\n",
       "<tr>\n",
       "  <th>Ljung-Box (L1) (Q):</th>     <td>50.05</td> <th>  Jarque-Bera (JB):  </th> <td>7.78</td> \n",
       "</tr>\n",
       "<tr>\n",
       "  <th>Prob(Q):</th>                <td>0.00</td>  <th>  Prob(JB):          </th> <td>0.02</td> \n",
       "</tr>\n",
       "<tr>\n",
       "  <th>Heteroskedasticity (H):</th> <td>0.78</td>  <th>  Skew:              </th> <td>-0.25</td>\n",
       "</tr>\n",
       "<tr>\n",
       "  <th>Prob(H) (two-sided):</th>    <td>0.49</td>  <th>  Kurtosis:          </th> <td>1.69</td> \n",
       "</tr>\n",
       "</table><br/><br/>Warnings:<br/>[1] Covariance matrix calculated using the outer product of gradients (complex-step).<br/>[2] Covariance matrix is singular or near-singular, with condition number 2.48e+19. Standard errors may be unstable."
      ],
      "text/plain": [
       "<class 'statsmodels.iolib.summary.Summary'>\n",
       "\"\"\"\n",
       "                               SARIMAX Results                                \n",
       "==============================================================================\n",
       "Dep. Variable:                 PopEst   No. Observations:                   96\n",
       "Model:                 ARIMA(2, 0, 0)   Log Likelihood                -386.494\n",
       "Date:                Fri, 10 Mar 2023   AIC                            780.988\n",
       "Time:                        21:05:31   BIC                            791.246\n",
       "Sample:                    01-01-2011   HQIC                           785.134\n",
       "                         - 12-01-2018                                         \n",
       "Covariance Type:                  opg                                         \n",
       "==============================================================================\n",
       "                 coef    std err          z      P>|z|      [0.025      0.975]\n",
       "------------------------------------------------------------------------------\n",
       "const       3.198e+05      0.006   5.26e+07      0.000     3.2e+05     3.2e+05\n",
       "ar.L1          1.9964      0.007    287.984      0.000       1.983       2.010\n",
       "ar.L2         -0.9967      0.007   -144.113      0.000      -1.010      -0.983\n",
       "sigma2       151.9664     39.915      3.807      0.000      73.735     230.198\n",
       "===================================================================================\n",
       "Ljung-Box (L1) (Q):                  50.05   Jarque-Bera (JB):                 7.78\n",
       "Prob(Q):                              0.00   Prob(JB):                         0.02\n",
       "Heteroskedasticity (H):               0.78   Skew:                            -0.25\n",
       "Prob(H) (two-sided):                  0.49   Kurtosis:                         1.69\n",
       "===================================================================================\n",
       "\n",
       "Warnings:\n",
       "[1] Covariance matrix calculated using the outer product of gradients (complex-step).\n",
       "[2] Covariance matrix is singular or near-singular, with condition number 2.48e+19. Standard errors may be unstable.\n",
       "\"\"\""
      ]
     },
     "execution_count": 120,
     "metadata": {},
     "output_type": "execute_result"
    }
   ],
   "source": [
    "model = ARIMA(df['PopEst'],order=(2,0,0))\n",
    "AR1fit = model.fit()\n",
    "AR1fit.summary()"
   ]
  },
  {
   "cell_type": "code",
   "execution_count": 121,
   "metadata": {},
   "outputs": [
    {
     "data": {
      "text/html": [
       "<table class=\"simpletable\">\n",
       "<caption>SARIMAX Results</caption>\n",
       "<tr>\n",
       "  <th>Dep. Variable:</th>        <td>PopEst</td>      <th>  No. Observations:  </th>    <td>96</td>   \n",
       "</tr>\n",
       "<tr>\n",
       "  <th>Model:</th>            <td>ARIMA(3, 0, 0)</td>  <th>  Log Likelihood     </th> <td>-350.233</td>\n",
       "</tr>\n",
       "<tr>\n",
       "  <th>Date:</th>            <td>Fri, 10 Mar 2023</td> <th>  AIC                </th>  <td>710.466</td>\n",
       "</tr>\n",
       "<tr>\n",
       "  <th>Time:</th>                <td>21:05:36</td>     <th>  BIC                </th>  <td>723.288</td>\n",
       "</tr>\n",
       "<tr>\n",
       "  <th>Sample:</th>             <td>01-01-2011</td>    <th>  HQIC               </th>  <td>715.649</td>\n",
       "</tr>\n",
       "<tr>\n",
       "  <th></th>                   <td>- 12-01-2018</td>   <th>                     </th>     <td> </td>   \n",
       "</tr>\n",
       "<tr>\n",
       "  <th>Covariance Type:</th>        <td>opg</td>       <th>                     </th>     <td> </td>   \n",
       "</tr>\n",
       "</table>\n",
       "<table class=\"simpletable\">\n",
       "<tr>\n",
       "     <td></td>       <th>coef</th>     <th>std err</th>      <th>z</th>      <th>P>|z|</th>  <th>[0.025</th>    <th>0.975]</th>  \n",
       "</tr>\n",
       "<tr>\n",
       "  <th>const</th>  <td> 3.198e+05</td> <td>    0.001</td> <td> 2.47e+08</td> <td> 0.000</td> <td>  3.2e+05</td> <td>  3.2e+05</td>\n",
       "</tr>\n",
       "<tr>\n",
       "  <th>ar.L1</th>  <td>    2.7265</td> <td>    0.084</td> <td>   32.285</td> <td> 0.000</td> <td>    2.561</td> <td>    2.892</td>\n",
       "</tr>\n",
       "<tr>\n",
       "  <th>ar.L2</th>  <td>   -2.4581</td> <td>    0.168</td> <td>  -14.625</td> <td> 0.000</td> <td>   -2.788</td> <td>   -2.129</td>\n",
       "</tr>\n",
       "<tr>\n",
       "  <th>ar.L3</th>  <td>    0.7316</td> <td>    0.084</td> <td>    8.739</td> <td> 0.000</td> <td>    0.567</td> <td>    0.896</td>\n",
       "</tr>\n",
       "<tr>\n",
       "  <th>sigma2</th> <td>   69.6977</td> <td>   11.391</td> <td>    6.118</td> <td> 0.000</td> <td>   47.371</td> <td>   92.024</td>\n",
       "</tr>\n",
       "</table>\n",
       "<table class=\"simpletable\">\n",
       "<tr>\n",
       "  <th>Ljung-Box (L1) (Q):</th>     <td>6.77</td> <th>  Jarque-Bera (JB):  </th> <td>0.04</td>\n",
       "</tr>\n",
       "<tr>\n",
       "  <th>Prob(Q):</th>                <td>0.01</td> <th>  Prob(JB):          </th> <td>0.98</td>\n",
       "</tr>\n",
       "<tr>\n",
       "  <th>Heteroskedasticity (H):</th> <td>0.67</td> <th>  Skew:              </th> <td>0.03</td>\n",
       "</tr>\n",
       "<tr>\n",
       "  <th>Prob(H) (two-sided):</th>    <td>0.27</td> <th>  Kurtosis:          </th> <td>2.92</td>\n",
       "</tr>\n",
       "</table><br/><br/>Warnings:<br/>[1] Covariance matrix calculated using the outer product of gradients (complex-step).<br/>[2] Covariance matrix is singular or near-singular, with condition number 7.19e+19. Standard errors may be unstable."
      ],
      "text/plain": [
       "<class 'statsmodels.iolib.summary.Summary'>\n",
       "\"\"\"\n",
       "                               SARIMAX Results                                \n",
       "==============================================================================\n",
       "Dep. Variable:                 PopEst   No. Observations:                   96\n",
       "Model:                 ARIMA(3, 0, 0)   Log Likelihood                -350.233\n",
       "Date:                Fri, 10 Mar 2023   AIC                            710.466\n",
       "Time:                        21:05:36   BIC                            723.288\n",
       "Sample:                    01-01-2011   HQIC                           715.649\n",
       "                         - 12-01-2018                                         \n",
       "Covariance Type:                  opg                                         \n",
       "==============================================================================\n",
       "                 coef    std err          z      P>|z|      [0.025      0.975]\n",
       "------------------------------------------------------------------------------\n",
       "const       3.198e+05      0.001   2.47e+08      0.000     3.2e+05     3.2e+05\n",
       "ar.L1          2.7265      0.084     32.285      0.000       2.561       2.892\n",
       "ar.L2         -2.4581      0.168    -14.625      0.000      -2.788      -2.129\n",
       "ar.L3          0.7316      0.084      8.739      0.000       0.567       0.896\n",
       "sigma2        69.6977     11.391      6.118      0.000      47.371      92.024\n",
       "===================================================================================\n",
       "Ljung-Box (L1) (Q):                   6.77   Jarque-Bera (JB):                 0.04\n",
       "Prob(Q):                              0.01   Prob(JB):                         0.98\n",
       "Heteroskedasticity (H):               0.67   Skew:                             0.03\n",
       "Prob(H) (two-sided):                  0.27   Kurtosis:                         2.92\n",
       "===================================================================================\n",
       "\n",
       "Warnings:\n",
       "[1] Covariance matrix calculated using the outer product of gradients (complex-step).\n",
       "[2] Covariance matrix is singular or near-singular, with condition number 7.19e+19. Standard errors may be unstable.\n",
       "\"\"\""
      ]
     },
     "execution_count": 121,
     "metadata": {},
     "output_type": "execute_result"
    }
   ],
   "source": [
    "model = ARIMA(df['PopEst'],order=(3,0,0))\n",
    "AR1fit = model.fit()\n",
    "AR1fit.summary()"
   ]
  },
  {
   "cell_type": "code",
   "execution_count": 122,
   "metadata": {},
   "outputs": [
    {
     "data": {
      "text/html": [
       "<table class=\"simpletable\">\n",
       "<caption>SARIMAX Results</caption>\n",
       "<tr>\n",
       "  <th>Dep. Variable:</th>        <td>PopEst</td>      <th>  No. Observations:  </th>    <td>96</td>   \n",
       "</tr>\n",
       "<tr>\n",
       "  <th>Model:</th>            <td>ARIMA(4, 0, 0)</td>  <th>  Log Likelihood     </th> <td>-343.194</td>\n",
       "</tr>\n",
       "<tr>\n",
       "  <th>Date:</th>            <td>Fri, 10 Mar 2023</td> <th>  AIC                </th>  <td>698.387</td>\n",
       "</tr>\n",
       "<tr>\n",
       "  <th>Time:</th>                <td>21:05:45</td>     <th>  BIC                </th>  <td>713.774</td>\n",
       "</tr>\n",
       "<tr>\n",
       "  <th>Sample:</th>             <td>01-01-2011</td>    <th>  HQIC               </th>  <td>704.607</td>\n",
       "</tr>\n",
       "<tr>\n",
       "  <th></th>                   <td>- 12-01-2018</td>   <th>                     </th>     <td> </td>   \n",
       "</tr>\n",
       "<tr>\n",
       "  <th>Covariance Type:</th>        <td>opg</td>       <th>                     </th>     <td> </td>   \n",
       "</tr>\n",
       "</table>\n",
       "<table class=\"simpletable\">\n",
       "<tr>\n",
       "     <td></td>       <th>coef</th>     <th>std err</th>      <th>z</th>      <th>P>|z|</th>  <th>[0.025</th>    <th>0.975]</th>  \n",
       "</tr>\n",
       "<tr>\n",
       "  <th>const</th>  <td> 3.198e+05</td> <td>    0.001</td> <td>  5.2e+08</td> <td> 0.000</td> <td>  3.2e+05</td> <td>  3.2e+05</td>\n",
       "</tr>\n",
       "<tr>\n",
       "  <th>ar.L1</th>  <td>    2.9995</td> <td>    0.123</td> <td>   24.350</td> <td> 0.000</td> <td>    2.758</td> <td>    3.241</td>\n",
       "</tr>\n",
       "<tr>\n",
       "  <th>ar.L2</th>  <td>   -3.3768</td> <td>    0.344</td> <td>   -9.823</td> <td> 0.000</td> <td>   -4.051</td> <td>   -2.703</td>\n",
       "</tr>\n",
       "<tr>\n",
       "  <th>ar.L3</th>  <td>    1.7514</td> <td>    0.332</td> <td>    5.268</td> <td> 0.000</td> <td>    1.100</td> <td>    2.403</td>\n",
       "</tr>\n",
       "<tr>\n",
       "  <th>ar.L4</th>  <td>   -0.3742</td> <td>    0.112</td> <td>   -3.334</td> <td> 0.001</td> <td>   -0.594</td> <td>   -0.154</td>\n",
       "</tr>\n",
       "<tr>\n",
       "  <th>sigma2</th> <td>   59.7466</td> <td>    9.987</td> <td>    5.982</td> <td> 0.000</td> <td>   40.172</td> <td>   79.321</td>\n",
       "</tr>\n",
       "</table>\n",
       "<table class=\"simpletable\">\n",
       "<tr>\n",
       "  <th>Ljung-Box (L1) (Q):</th>     <td>0.36</td> <th>  Jarque-Bera (JB):  </th> <td>0.34</td>\n",
       "</tr>\n",
       "<tr>\n",
       "  <th>Prob(Q):</th>                <td>0.55</td> <th>  Prob(JB):          </th> <td>0.85</td>\n",
       "</tr>\n",
       "<tr>\n",
       "  <th>Heteroskedasticity (H):</th> <td>0.61</td> <th>  Skew:              </th> <td>0.04</td>\n",
       "</tr>\n",
       "<tr>\n",
       "  <th>Prob(H) (two-sided):</th>    <td>0.17</td> <th>  Kurtosis:          </th> <td>2.72</td>\n",
       "</tr>\n",
       "</table><br/><br/>Warnings:<br/>[1] Covariance matrix calculated using the outer product of gradients (complex-step).<br/>[2] Covariance matrix is singular or near-singular, with condition number 3.46e+20. Standard errors may be unstable."
      ],
      "text/plain": [
       "<class 'statsmodels.iolib.summary.Summary'>\n",
       "\"\"\"\n",
       "                               SARIMAX Results                                \n",
       "==============================================================================\n",
       "Dep. Variable:                 PopEst   No. Observations:                   96\n",
       "Model:                 ARIMA(4, 0, 0)   Log Likelihood                -343.194\n",
       "Date:                Fri, 10 Mar 2023   AIC                            698.387\n",
       "Time:                        21:05:45   BIC                            713.774\n",
       "Sample:                    01-01-2011   HQIC                           704.607\n",
       "                         - 12-01-2018                                         \n",
       "Covariance Type:                  opg                                         \n",
       "==============================================================================\n",
       "                 coef    std err          z      P>|z|      [0.025      0.975]\n",
       "------------------------------------------------------------------------------\n",
       "const       3.198e+05      0.001    5.2e+08      0.000     3.2e+05     3.2e+05\n",
       "ar.L1          2.9995      0.123     24.350      0.000       2.758       3.241\n",
       "ar.L2         -3.3768      0.344     -9.823      0.000      -4.051      -2.703\n",
       "ar.L3          1.7514      0.332      5.268      0.000       1.100       2.403\n",
       "ar.L4         -0.3742      0.112     -3.334      0.001      -0.594      -0.154\n",
       "sigma2        59.7466      9.987      5.982      0.000      40.172      79.321\n",
       "===================================================================================\n",
       "Ljung-Box (L1) (Q):                   0.36   Jarque-Bera (JB):                 0.34\n",
       "Prob(Q):                              0.55   Prob(JB):                         0.85\n",
       "Heteroskedasticity (H):               0.61   Skew:                             0.04\n",
       "Prob(H) (two-sided):                  0.17   Kurtosis:                         2.72\n",
       "===================================================================================\n",
       "\n",
       "Warnings:\n",
       "[1] Covariance matrix calculated using the outer product of gradients (complex-step).\n",
       "[2] Covariance matrix is singular or near-singular, with condition number 3.46e+20. Standard errors may be unstable.\n",
       "\"\"\""
      ]
     },
     "execution_count": 122,
     "metadata": {},
     "output_type": "execute_result"
    }
   ],
   "source": [
    "model = ARIMA(df['PopEst'],order=(4,0,0))\n",
    "AR1fit = model.fit()\n",
    "AR1fit.summary()"
   ]
  },
  {
   "cell_type": "code",
   "execution_count": 123,
   "metadata": {},
   "outputs": [
    {
     "data": {
      "text/html": [
       "<table class=\"simpletable\">\n",
       "<caption>SARIMAX Results</caption>\n",
       "<tr>\n",
       "  <th>Dep. Variable:</th>        <td>PopEst</td>      <th>  No. Observations:  </th>    <td>96</td>   \n",
       "</tr>\n",
       "<tr>\n",
       "  <th>Model:</th>            <td>ARIMA(5, 0, 0)</td>  <th>  Log Likelihood     </th> <td>-341.862</td>\n",
       "</tr>\n",
       "<tr>\n",
       "  <th>Date:</th>            <td>Fri, 10 Mar 2023</td> <th>  AIC                </th>  <td>697.724</td>\n",
       "</tr>\n",
       "<tr>\n",
       "  <th>Time:</th>                <td>21:05:50</td>     <th>  BIC                </th>  <td>715.674</td>\n",
       "</tr>\n",
       "<tr>\n",
       "  <th>Sample:</th>             <td>01-01-2011</td>    <th>  HQIC               </th>  <td>704.979</td>\n",
       "</tr>\n",
       "<tr>\n",
       "  <th></th>                   <td>- 12-01-2018</td>   <th>                     </th>     <td> </td>   \n",
       "</tr>\n",
       "<tr>\n",
       "  <th>Covariance Type:</th>        <td>opg</td>       <th>                     </th>     <td> </td>   \n",
       "</tr>\n",
       "</table>\n",
       "<table class=\"simpletable\">\n",
       "<tr>\n",
       "     <td></td>       <th>coef</th>     <th>std err</th>      <th>z</th>      <th>P>|z|</th>  <th>[0.025</th>    <th>0.975]</th>  \n",
       "</tr>\n",
       "<tr>\n",
       "  <th>const</th>  <td> 3.198e+05</td> <td>    0.000</td> <td> 7.12e+08</td> <td> 0.000</td> <td>  3.2e+05</td> <td>  3.2e+05</td>\n",
       "</tr>\n",
       "<tr>\n",
       "  <th>ar.L1</th>  <td>    2.9355</td> <td>    0.126</td> <td>   23.339</td> <td> 0.000</td> <td>    2.689</td> <td>    3.182</td>\n",
       "</tr>\n",
       "<tr>\n",
       "  <th>ar.L2</th>  <td>   -3.0791</td> <td>    0.398</td> <td>   -7.735</td> <td> 0.000</td> <td>   -3.859</td> <td>   -2.299</td>\n",
       "</tr>\n",
       "<tr>\n",
       "  <th>ar.L3</th>  <td>    1.1813</td> <td>    0.545</td> <td>    2.167</td> <td> 0.030</td> <td>    0.113</td> <td>    2.250</td>\n",
       "</tr>\n",
       "<tr>\n",
       "  <th>ar.L4</th>  <td>    0.1296</td> <td>    0.406</td> <td>    0.319</td> <td> 0.750</td> <td>   -0.667</td> <td>    0.926</td>\n",
       "</tr>\n",
       "<tr>\n",
       "  <th>ar.L5</th>  <td>   -0.1674</td> <td>    0.129</td> <td>   -1.297</td> <td> 0.195</td> <td>   -0.420</td> <td>    0.086</td>\n",
       "</tr>\n",
       "<tr>\n",
       "  <th>sigma2</th> <td>   58.0145</td> <td>    9.781</td> <td>    5.931</td> <td> 0.000</td> <td>   38.844</td> <td>   77.185</td>\n",
       "</tr>\n",
       "</table>\n",
       "<table class=\"simpletable\">\n",
       "<tr>\n",
       "  <th>Ljung-Box (L1) (Q):</th>     <td>0.69</td> <th>  Jarque-Bera (JB):  </th> <td>0.49</td>\n",
       "</tr>\n",
       "<tr>\n",
       "  <th>Prob(Q):</th>                <td>0.41</td> <th>  Prob(JB):          </th> <td>0.78</td>\n",
       "</tr>\n",
       "<tr>\n",
       "  <th>Heteroskedasticity (H):</th> <td>0.61</td> <th>  Skew:              </th> <td>0.07</td>\n",
       "</tr>\n",
       "<tr>\n",
       "  <th>Prob(H) (two-sided):</th>    <td>0.16</td> <th>  Kurtosis:          </th> <td>2.68</td>\n",
       "</tr>\n",
       "</table><br/><br/>Warnings:<br/>[1] Covariance matrix calculated using the outer product of gradients (complex-step).<br/>[2] Covariance matrix is singular or near-singular, with condition number 1.19e+20. Standard errors may be unstable."
      ],
      "text/plain": [
       "<class 'statsmodels.iolib.summary.Summary'>\n",
       "\"\"\"\n",
       "                               SARIMAX Results                                \n",
       "==============================================================================\n",
       "Dep. Variable:                 PopEst   No. Observations:                   96\n",
       "Model:                 ARIMA(5, 0, 0)   Log Likelihood                -341.862\n",
       "Date:                Fri, 10 Mar 2023   AIC                            697.724\n",
       "Time:                        21:05:50   BIC                            715.674\n",
       "Sample:                    01-01-2011   HQIC                           704.979\n",
       "                         - 12-01-2018                                         \n",
       "Covariance Type:                  opg                                         \n",
       "==============================================================================\n",
       "                 coef    std err          z      P>|z|      [0.025      0.975]\n",
       "------------------------------------------------------------------------------\n",
       "const       3.198e+05      0.000   7.12e+08      0.000     3.2e+05     3.2e+05\n",
       "ar.L1          2.9355      0.126     23.339      0.000       2.689       3.182\n",
       "ar.L2         -3.0791      0.398     -7.735      0.000      -3.859      -2.299\n",
       "ar.L3          1.1813      0.545      2.167      0.030       0.113       2.250\n",
       "ar.L4          0.1296      0.406      0.319      0.750      -0.667       0.926\n",
       "ar.L5         -0.1674      0.129     -1.297      0.195      -0.420       0.086\n",
       "sigma2        58.0145      9.781      5.931      0.000      38.844      77.185\n",
       "===================================================================================\n",
       "Ljung-Box (L1) (Q):                   0.69   Jarque-Bera (JB):                 0.49\n",
       "Prob(Q):                              0.41   Prob(JB):                         0.78\n",
       "Heteroskedasticity (H):               0.61   Skew:                             0.07\n",
       "Prob(H) (two-sided):                  0.16   Kurtosis:                         2.68\n",
       "===================================================================================\n",
       "\n",
       "Warnings:\n",
       "[1] Covariance matrix calculated using the outer product of gradients (complex-step).\n",
       "[2] Covariance matrix is singular or near-singular, with condition number 1.19e+20. Standard errors may be unstable.\n",
       "\"\"\""
      ]
     },
     "execution_count": 123,
     "metadata": {},
     "output_type": "execute_result"
    }
   ],
   "source": [
    "model = ARIMA(df['PopEst'],order=(5,0,0))\n",
    "AR1fit = model.fit()\n",
    "AR1fit.summary()"
   ]
  },
  {
   "cell_type": "code",
   "execution_count": 124,
   "metadata": {},
   "outputs": [
    {
     "data": {
      "text/html": [
       "<table class=\"simpletable\">\n",
       "<caption>SARIMAX Results</caption>\n",
       "<tr>\n",
       "  <th>Dep. Variable:</th>        <td>PopEst</td>      <th>  No. Observations:  </th>    <td>96</td>   \n",
       "</tr>\n",
       "<tr>\n",
       "  <th>Model:</th>            <td>ARIMA(6, 0, 0)</td>  <th>  Log Likelihood     </th> <td>-326.488</td>\n",
       "</tr>\n",
       "<tr>\n",
       "  <th>Date:</th>            <td>Fri, 10 Mar 2023</td> <th>  AIC                </th>  <td>668.975</td>\n",
       "</tr>\n",
       "<tr>\n",
       "  <th>Time:</th>                <td>21:06:03</td>     <th>  BIC                </th>  <td>689.490</td>\n",
       "</tr>\n",
       "<tr>\n",
       "  <th>Sample:</th>             <td>01-01-2011</td>    <th>  HQIC               </th>  <td>677.268</td>\n",
       "</tr>\n",
       "<tr>\n",
       "  <th></th>                   <td>- 12-01-2018</td>   <th>                     </th>     <td> </td>   \n",
       "</tr>\n",
       "<tr>\n",
       "  <th>Covariance Type:</th>        <td>opg</td>       <th>                     </th>     <td> </td>   \n",
       "</tr>\n",
       "</table>\n",
       "<table class=\"simpletable\">\n",
       "<tr>\n",
       "     <td></td>       <th>coef</th>     <th>std err</th>      <th>z</th>      <th>P>|z|</th>  <th>[0.025</th>    <th>0.975]</th>  \n",
       "</tr>\n",
       "<tr>\n",
       "  <th>const</th>  <td> 3.198e+05</td> <td>    0.001</td> <td> 2.88e+08</td> <td> 0.000</td> <td>  3.2e+05</td> <td>  3.2e+05</td>\n",
       "</tr>\n",
       "<tr>\n",
       "  <th>ar.L1</th>  <td>    2.8407</td> <td>    0.102</td> <td>   27.728</td> <td> 0.000</td> <td>    2.640</td> <td>    3.042</td>\n",
       "</tr>\n",
       "<tr>\n",
       "  <th>ar.L2</th>  <td>   -3.0169</td> <td>    0.326</td> <td>   -9.257</td> <td> 0.000</td> <td>   -3.656</td> <td>   -2.378</td>\n",
       "</tr>\n",
       "<tr>\n",
       "  <th>ar.L3</th>  <td>    1.8606</td> <td>    0.461</td> <td>    4.036</td> <td> 0.000</td> <td>    0.957</td> <td>    2.764</td>\n",
       "</tr>\n",
       "<tr>\n",
       "  <th>ar.L4</th>  <td>   -1.5691</td> <td>    0.447</td> <td>   -3.513</td> <td> 0.000</td> <td>   -2.444</td> <td>   -0.694</td>\n",
       "</tr>\n",
       "<tr>\n",
       "  <th>ar.L5</th>  <td>    1.4192</td> <td>    0.305</td> <td>    4.650</td> <td> 0.000</td> <td>    0.821</td> <td>    2.018</td>\n",
       "</tr>\n",
       "<tr>\n",
       "  <th>ar.L6</th>  <td>   -0.5347</td> <td>    0.096</td> <td>   -5.545</td> <td> 0.000</td> <td>   -0.724</td> <td>   -0.346</td>\n",
       "</tr>\n",
       "<tr>\n",
       "  <th>sigma2</th> <td>   41.6400</td> <td>    6.883</td> <td>    6.050</td> <td> 0.000</td> <td>   28.150</td> <td>   55.130</td>\n",
       "</tr>\n",
       "</table>\n",
       "<table class=\"simpletable\">\n",
       "<tr>\n",
       "  <th>Ljung-Box (L1) (Q):</th>     <td>1.90</td> <th>  Jarque-Bera (JB):  </th> <td>1.75</td>\n",
       "</tr>\n",
       "<tr>\n",
       "  <th>Prob(Q):</th>                <td>0.17</td> <th>  Prob(JB):          </th> <td>0.42</td>\n",
       "</tr>\n",
       "<tr>\n",
       "  <th>Heteroskedasticity (H):</th> <td>0.42</td> <th>  Skew:              </th> <td>0.29</td>\n",
       "</tr>\n",
       "<tr>\n",
       "  <th>Prob(H) (two-sided):</th>    <td>0.02</td> <th>  Kurtosis:          </th> <td>2.69</td>\n",
       "</tr>\n",
       "</table><br/><br/>Warnings:<br/>[1] Covariance matrix calculated using the outer product of gradients (complex-step).<br/>[2] Covariance matrix is singular or near-singular, with condition number 3.07e+19. Standard errors may be unstable."
      ],
      "text/plain": [
       "<class 'statsmodels.iolib.summary.Summary'>\n",
       "\"\"\"\n",
       "                               SARIMAX Results                                \n",
       "==============================================================================\n",
       "Dep. Variable:                 PopEst   No. Observations:                   96\n",
       "Model:                 ARIMA(6, 0, 0)   Log Likelihood                -326.488\n",
       "Date:                Fri, 10 Mar 2023   AIC                            668.975\n",
       "Time:                        21:06:03   BIC                            689.490\n",
       "Sample:                    01-01-2011   HQIC                           677.268\n",
       "                         - 12-01-2018                                         \n",
       "Covariance Type:                  opg                                         \n",
       "==============================================================================\n",
       "                 coef    std err          z      P>|z|      [0.025      0.975]\n",
       "------------------------------------------------------------------------------\n",
       "const       3.198e+05      0.001   2.88e+08      0.000     3.2e+05     3.2e+05\n",
       "ar.L1          2.8407      0.102     27.728      0.000       2.640       3.042\n",
       "ar.L2         -3.0169      0.326     -9.257      0.000      -3.656      -2.378\n",
       "ar.L3          1.8606      0.461      4.036      0.000       0.957       2.764\n",
       "ar.L4         -1.5691      0.447     -3.513      0.000      -2.444      -0.694\n",
       "ar.L5          1.4192      0.305      4.650      0.000       0.821       2.018\n",
       "ar.L6         -0.5347      0.096     -5.545      0.000      -0.724      -0.346\n",
       "sigma2        41.6400      6.883      6.050      0.000      28.150      55.130\n",
       "===================================================================================\n",
       "Ljung-Box (L1) (Q):                   1.90   Jarque-Bera (JB):                 1.75\n",
       "Prob(Q):                              0.17   Prob(JB):                         0.42\n",
       "Heteroskedasticity (H):               0.42   Skew:                             0.29\n",
       "Prob(H) (two-sided):                  0.02   Kurtosis:                         2.69\n",
       "===================================================================================\n",
       "\n",
       "Warnings:\n",
       "[1] Covariance matrix calculated using the outer product of gradients (complex-step).\n",
       "[2] Covariance matrix is singular or near-singular, with condition number 3.07e+19. Standard errors may be unstable.\n",
       "\"\"\""
      ]
     },
     "execution_count": 124,
     "metadata": {},
     "output_type": "execute_result"
    }
   ],
   "source": [
    "model = ARIMA(df['PopEst'],order=(6,0,0))\n",
    "AR1fit = model.fit()\n",
    "AR1fit.summary()"
   ]
  },
  {
   "cell_type": "code",
   "execution_count": 125,
   "metadata": {},
   "outputs": [
    {
     "name": "stderr",
     "output_type": "stream",
     "text": [
      "c:\\Users\\Daniel Montes\\Anaconda3\\lib\\site-packages\\statsmodels\\base\\model.py:604: ConvergenceWarning: Maximum Likelihood optimization failed to converge. Check mle_retvals\n",
      "  warnings.warn(\"Maximum Likelihood optimization failed to \"\n"
     ]
    },
    {
     "data": {
      "text/html": [
       "<table class=\"simpletable\">\n",
       "<caption>SARIMAX Results</caption>\n",
       "<tr>\n",
       "  <th>Dep. Variable:</th>        <td>PopEst</td>      <th>  No. Observations:  </th>    <td>96</td>   \n",
       "</tr>\n",
       "<tr>\n",
       "  <th>Model:</th>            <td>ARIMA(12, 0, 0)</td> <th>  Log Likelihood     </th> <td>-292.814</td>\n",
       "</tr>\n",
       "<tr>\n",
       "  <th>Date:</th>            <td>Fri, 10 Mar 2023</td> <th>  AIC                </th>  <td>613.628</td>\n",
       "</tr>\n",
       "<tr>\n",
       "  <th>Time:</th>                <td>21:06:18</td>     <th>  BIC                </th>  <td>649.529</td>\n",
       "</tr>\n",
       "<tr>\n",
       "  <th>Sample:</th>             <td>01-01-2011</td>    <th>  HQIC               </th>  <td>628.140</td>\n",
       "</tr>\n",
       "<tr>\n",
       "  <th></th>                   <td>- 12-01-2018</td>   <th>                     </th>     <td> </td>   \n",
       "</tr>\n",
       "<tr>\n",
       "  <th>Covariance Type:</th>        <td>opg</td>       <th>                     </th>     <td> </td>   \n",
       "</tr>\n",
       "</table>\n",
       "<table class=\"simpletable\">\n",
       "<tr>\n",
       "     <td></td>       <th>coef</th>     <th>std err</th>      <th>z</th>      <th>P>|z|</th>  <th>[0.025</th>    <th>0.975]</th>  \n",
       "</tr>\n",
       "<tr>\n",
       "  <th>const</th>  <td> 3.198e+05</td> <td>    0.002</td> <td> 1.87e+08</td> <td> 0.000</td> <td>  3.2e+05</td> <td>  3.2e+05</td>\n",
       "</tr>\n",
       "<tr>\n",
       "  <th>ar.L1</th>  <td>    2.3120</td> <td>    0.104</td> <td>   22.147</td> <td> 0.000</td> <td>    2.107</td> <td>    2.517</td>\n",
       "</tr>\n",
       "<tr>\n",
       "  <th>ar.L2</th>  <td>   -2.1518</td> <td>    0.280</td> <td>   -7.691</td> <td> 0.000</td> <td>   -2.700</td> <td>   -1.603</td>\n",
       "</tr>\n",
       "<tr>\n",
       "  <th>ar.L3</th>  <td>    1.5366</td> <td>    0.360</td> <td>    4.263</td> <td> 0.000</td> <td>    0.830</td> <td>    2.243</td>\n",
       "</tr>\n",
       "<tr>\n",
       "  <th>ar.L4</th>  <td>   -1.4304</td> <td>    0.375</td> <td>   -3.813</td> <td> 0.000</td> <td>   -2.166</td> <td>   -0.695</td>\n",
       "</tr>\n",
       "<tr>\n",
       "  <th>ar.L5</th>  <td>    1.2570</td> <td>    0.382</td> <td>    3.288</td> <td> 0.001</td> <td>    0.508</td> <td>    2.006</td>\n",
       "</tr>\n",
       "<tr>\n",
       "  <th>ar.L6</th>  <td>   -1.0793</td> <td>    0.391</td> <td>   -2.761</td> <td> 0.006</td> <td>   -1.846</td> <td>   -0.313</td>\n",
       "</tr>\n",
       "<tr>\n",
       "  <th>ar.L7</th>  <td>    1.0540</td> <td>    0.399</td> <td>    2.645</td> <td> 0.008</td> <td>    0.273</td> <td>    1.835</td>\n",
       "</tr>\n",
       "<tr>\n",
       "  <th>ar.L8</th>  <td>   -0.7788</td> <td>    0.399</td> <td>   -1.953</td> <td> 0.051</td> <td>   -1.560</td> <td>    0.003</td>\n",
       "</tr>\n",
       "<tr>\n",
       "  <th>ar.L9</th>  <td>    0.7906</td> <td>    0.398</td> <td>    1.988</td> <td> 0.047</td> <td>    0.011</td> <td>    1.570</td>\n",
       "</tr>\n",
       "<tr>\n",
       "  <th>ar.L10</th> <td>   -1.1034</td> <td>    0.318</td> <td>   -3.466</td> <td> 0.001</td> <td>   -1.727</td> <td>   -0.479</td>\n",
       "</tr>\n",
       "<tr>\n",
       "  <th>ar.L11</th> <td>    1.0545</td> <td>    0.238</td> <td>    4.437</td> <td> 0.000</td> <td>    0.589</td> <td>    1.520</td>\n",
       "</tr>\n",
       "<tr>\n",
       "  <th>ar.L12</th> <td>   -0.4613</td> <td>    0.104</td> <td>   -4.434</td> <td> 0.000</td> <td>   -0.665</td> <td>   -0.257</td>\n",
       "</tr>\n",
       "<tr>\n",
       "  <th>sigma2</th> <td>   19.1272</td> <td>    3.609</td> <td>    5.300</td> <td> 0.000</td> <td>   12.054</td> <td>   26.201</td>\n",
       "</tr>\n",
       "</table>\n",
       "<table class=\"simpletable\">\n",
       "<tr>\n",
       "  <th>Ljung-Box (L1) (Q):</th>     <td>3.06</td> <th>  Jarque-Bera (JB):  </th> <td>0.80</td> \n",
       "</tr>\n",
       "<tr>\n",
       "  <th>Prob(Q):</th>                <td>0.08</td> <th>  Prob(JB):          </th> <td>0.67</td> \n",
       "</tr>\n",
       "<tr>\n",
       "  <th>Heteroskedasticity (H):</th> <td>0.60</td> <th>  Skew:              </th> <td>-0.15</td>\n",
       "</tr>\n",
       "<tr>\n",
       "  <th>Prob(H) (two-sided):</th>    <td>0.16</td> <th>  Kurtosis:          </th> <td>2.68</td> \n",
       "</tr>\n",
       "</table><br/><br/>Warnings:<br/>[1] Covariance matrix calculated using the outer product of gradients (complex-step).<br/>[2] Covariance matrix is singular or near-singular, with condition number 2.11e+19. Standard errors may be unstable."
      ],
      "text/plain": [
       "<class 'statsmodels.iolib.summary.Summary'>\n",
       "\"\"\"\n",
       "                               SARIMAX Results                                \n",
       "==============================================================================\n",
       "Dep. Variable:                 PopEst   No. Observations:                   96\n",
       "Model:                ARIMA(12, 0, 0)   Log Likelihood                -292.814\n",
       "Date:                Fri, 10 Mar 2023   AIC                            613.628\n",
       "Time:                        21:06:18   BIC                            649.529\n",
       "Sample:                    01-01-2011   HQIC                           628.140\n",
       "                         - 12-01-2018                                         \n",
       "Covariance Type:                  opg                                         \n",
       "==============================================================================\n",
       "                 coef    std err          z      P>|z|      [0.025      0.975]\n",
       "------------------------------------------------------------------------------\n",
       "const       3.198e+05      0.002   1.87e+08      0.000     3.2e+05     3.2e+05\n",
       "ar.L1          2.3120      0.104     22.147      0.000       2.107       2.517\n",
       "ar.L2         -2.1518      0.280     -7.691      0.000      -2.700      -1.603\n",
       "ar.L3          1.5366      0.360      4.263      0.000       0.830       2.243\n",
       "ar.L4         -1.4304      0.375     -3.813      0.000      -2.166      -0.695\n",
       "ar.L5          1.2570      0.382      3.288      0.001       0.508       2.006\n",
       "ar.L6         -1.0793      0.391     -2.761      0.006      -1.846      -0.313\n",
       "ar.L7          1.0540      0.399      2.645      0.008       0.273       1.835\n",
       "ar.L8         -0.7788      0.399     -1.953      0.051      -1.560       0.003\n",
       "ar.L9          0.7906      0.398      1.988      0.047       0.011       1.570\n",
       "ar.L10        -1.1034      0.318     -3.466      0.001      -1.727      -0.479\n",
       "ar.L11         1.0545      0.238      4.437      0.000       0.589       1.520\n",
       "ar.L12        -0.4613      0.104     -4.434      0.000      -0.665      -0.257\n",
       "sigma2        19.1272      3.609      5.300      0.000      12.054      26.201\n",
       "===================================================================================\n",
       "Ljung-Box (L1) (Q):                   3.06   Jarque-Bera (JB):                 0.80\n",
       "Prob(Q):                              0.08   Prob(JB):                         0.67\n",
       "Heteroskedasticity (H):               0.60   Skew:                            -0.15\n",
       "Prob(H) (two-sided):                  0.16   Kurtosis:                         2.68\n",
       "===================================================================================\n",
       "\n",
       "Warnings:\n",
       "[1] Covariance matrix calculated using the outer product of gradients (complex-step).\n",
       "[2] Covariance matrix is singular or near-singular, with condition number 2.11e+19. Standard errors may be unstable.\n",
       "\"\"\""
      ]
     },
     "execution_count": 125,
     "metadata": {},
     "output_type": "execute_result"
    }
   ],
   "source": [
    "model = ARIMA(df['PopEst'],order=(12,0,0))\n",
    "AR1fit = model.fit()\n",
    "AR1fit.summary()"
   ]
  },
  {
   "cell_type": "code",
   "execution_count": 126,
   "metadata": {},
   "outputs": [
    {
     "data": {
      "text/html": [
       "<table class=\"simpletable\">\n",
       "<caption>SARIMAX Results</caption>\n",
       "<tr>\n",
       "  <th>Dep. Variable:</th>        <td>PopEst</td>      <th>  No. Observations:  </th>    <td>96</td>   \n",
       "</tr>\n",
       "<tr>\n",
       "  <th>Model:</th>            <td>ARIMA(12, 1, 0)</td> <th>  Log Likelihood     </th> <td>-290.269</td>\n",
       "</tr>\n",
       "<tr>\n",
       "  <th>Date:</th>            <td>Fri, 10 Mar 2023</td> <th>  AIC                </th>  <td>606.538</td>\n",
       "</tr>\n",
       "<tr>\n",
       "  <th>Time:</th>                <td>21:06:26</td>     <th>  BIC                </th>  <td>639.738</td>\n",
       "</tr>\n",
       "<tr>\n",
       "  <th>Sample:</th>             <td>01-01-2011</td>    <th>  HQIC               </th>  <td>619.953</td>\n",
       "</tr>\n",
       "<tr>\n",
       "  <th></th>                   <td>- 12-01-2018</td>   <th>                     </th>     <td> </td>   \n",
       "</tr>\n",
       "<tr>\n",
       "  <th>Covariance Type:</th>        <td>opg</td>       <th>                     </th>     <td> </td>   \n",
       "</tr>\n",
       "</table>\n",
       "<table class=\"simpletable\">\n",
       "<tr>\n",
       "     <td></td>       <th>coef</th>     <th>std err</th>      <th>z</th>      <th>P>|z|</th>  <th>[0.025</th>    <th>0.975]</th>  \n",
       "</tr>\n",
       "<tr>\n",
       "  <th>ar.L1</th>  <td>    1.4092</td> <td>    0.087</td> <td>   16.143</td> <td> 0.000</td> <td>    1.238</td> <td>    1.580</td>\n",
       "</tr>\n",
       "<tr>\n",
       "  <th>ar.L2</th>  <td>   -1.0063</td> <td>    0.146</td> <td>   -6.911</td> <td> 0.000</td> <td>   -1.292</td> <td>   -0.721</td>\n",
       "</tr>\n",
       "<tr>\n",
       "  <th>ar.L3</th>  <td>    0.8696</td> <td>    0.164</td> <td>    5.315</td> <td> 0.000</td> <td>    0.549</td> <td>    1.190</td>\n",
       "</tr>\n",
       "<tr>\n",
       "  <th>ar.L4</th>  <td>   -0.8336</td> <td>    0.153</td> <td>   -5.447</td> <td> 0.000</td> <td>   -1.134</td> <td>   -0.534</td>\n",
       "</tr>\n",
       "<tr>\n",
       "  <th>ar.L5</th>  <td>    0.7143</td> <td>    0.164</td> <td>    4.354</td> <td> 0.000</td> <td>    0.393</td> <td>    1.036</td>\n",
       "</tr>\n",
       "<tr>\n",
       "  <th>ar.L6</th>  <td>   -0.7316</td> <td>    0.181</td> <td>   -4.033</td> <td> 0.000</td> <td>   -1.087</td> <td>   -0.376</td>\n",
       "</tr>\n",
       "<tr>\n",
       "  <th>ar.L7</th>  <td>    0.6358</td> <td>    0.175</td> <td>    3.640</td> <td> 0.000</td> <td>    0.293</td> <td>    0.978</td>\n",
       "</tr>\n",
       "<tr>\n",
       "  <th>ar.L8</th>  <td>   -0.4978</td> <td>    0.194</td> <td>   -2.560</td> <td> 0.010</td> <td>   -0.879</td> <td>   -0.117</td>\n",
       "</tr>\n",
       "<tr>\n",
       "  <th>ar.L9</th>  <td>    0.7223</td> <td>    0.179</td> <td>    4.035</td> <td> 0.000</td> <td>    0.371</td> <td>    1.073</td>\n",
       "</tr>\n",
       "<tr>\n",
       "  <th>ar.L10</th> <td>   -0.8769</td> <td>    0.146</td> <td>   -5.994</td> <td> 0.000</td> <td>   -1.164</td> <td>   -0.590</td>\n",
       "</tr>\n",
       "<tr>\n",
       "  <th>ar.L11</th> <td>    0.9148</td> <td>    0.141</td> <td>    6.488</td> <td> 0.000</td> <td>    0.638</td> <td>    1.191</td>\n",
       "</tr>\n",
       "<tr>\n",
       "  <th>ar.L12</th> <td>   -0.3252</td> <td>    0.087</td> <td>   -3.755</td> <td> 0.000</td> <td>   -0.495</td> <td>   -0.155</td>\n",
       "</tr>\n",
       "<tr>\n",
       "  <th>sigma2</th> <td>   14.6944</td> <td>    2.300</td> <td>    6.390</td> <td> 0.000</td> <td>   10.187</td> <td>   19.201</td>\n",
       "</tr>\n",
       "</table>\n",
       "<table class=\"simpletable\">\n",
       "<tr>\n",
       "  <th>Ljung-Box (L1) (Q):</th>     <td>0.78</td> <th>  Jarque-Bera (JB):  </th> <td>0.19</td>\n",
       "</tr>\n",
       "<tr>\n",
       "  <th>Prob(Q):</th>                <td>0.38</td> <th>  Prob(JB):          </th> <td>0.91</td>\n",
       "</tr>\n",
       "<tr>\n",
       "  <th>Heteroskedasticity (H):</th> <td>0.41</td> <th>  Skew:              </th> <td>0.01</td>\n",
       "</tr>\n",
       "<tr>\n",
       "  <th>Prob(H) (two-sided):</th>    <td>0.01</td> <th>  Kurtosis:          </th> <td>2.78</td>\n",
       "</tr>\n",
       "</table><br/><br/>Warnings:<br/>[1] Covariance matrix calculated using the outer product of gradients (complex-step)."
      ],
      "text/plain": [
       "<class 'statsmodels.iolib.summary.Summary'>\n",
       "\"\"\"\n",
       "                               SARIMAX Results                                \n",
       "==============================================================================\n",
       "Dep. Variable:                 PopEst   No. Observations:                   96\n",
       "Model:                ARIMA(12, 1, 0)   Log Likelihood                -290.269\n",
       "Date:                Fri, 10 Mar 2023   AIC                            606.538\n",
       "Time:                        21:06:26   BIC                            639.738\n",
       "Sample:                    01-01-2011   HQIC                           619.953\n",
       "                         - 12-01-2018                                         \n",
       "Covariance Type:                  opg                                         \n",
       "==============================================================================\n",
       "                 coef    std err          z      P>|z|      [0.025      0.975]\n",
       "------------------------------------------------------------------------------\n",
       "ar.L1          1.4092      0.087     16.143      0.000       1.238       1.580\n",
       "ar.L2         -1.0063      0.146     -6.911      0.000      -1.292      -0.721\n",
       "ar.L3          0.8696      0.164      5.315      0.000       0.549       1.190\n",
       "ar.L4         -0.8336      0.153     -5.447      0.000      -1.134      -0.534\n",
       "ar.L5          0.7143      0.164      4.354      0.000       0.393       1.036\n",
       "ar.L6         -0.7316      0.181     -4.033      0.000      -1.087      -0.376\n",
       "ar.L7          0.6358      0.175      3.640      0.000       0.293       0.978\n",
       "ar.L8         -0.4978      0.194     -2.560      0.010      -0.879      -0.117\n",
       "ar.L9          0.7223      0.179      4.035      0.000       0.371       1.073\n",
       "ar.L10        -0.8769      0.146     -5.994      0.000      -1.164      -0.590\n",
       "ar.L11         0.9148      0.141      6.488      0.000       0.638       1.191\n",
       "ar.L12        -0.3252      0.087     -3.755      0.000      -0.495      -0.155\n",
       "sigma2        14.6944      2.300      6.390      0.000      10.187      19.201\n",
       "===================================================================================\n",
       "Ljung-Box (L1) (Q):                   0.78   Jarque-Bera (JB):                 0.19\n",
       "Prob(Q):                              0.38   Prob(JB):                         0.91\n",
       "Heteroskedasticity (H):               0.41   Skew:                             0.01\n",
       "Prob(H) (two-sided):                  0.01   Kurtosis:                         2.78\n",
       "===================================================================================\n",
       "\n",
       "Warnings:\n",
       "[1] Covariance matrix calculated using the outer product of gradients (complex-step).\n",
       "\"\"\""
      ]
     },
     "execution_count": 126,
     "metadata": {},
     "output_type": "execute_result"
    }
   ],
   "source": [
    "model = ARIMA(df['PopEst'],order=(12,1,0))\n",
    "AR1fit = model.fit()\n",
    "AR1fit.summary()"
   ]
  },
  {
   "attachments": {},
   "cell_type": "markdown",
   "metadata": {},
   "source": [
    "me quedo con este ultimo modelo ¿Por qué? por que sí"
   ]
  },
  {
   "cell_type": "code",
   "execution_count": 127,
   "metadata": {},
   "outputs": [
    {
     "name": "stderr",
     "output_type": "stream",
     "text": [
      "c:\\Users\\Daniel Montes\\Anaconda3\\lib\\site-packages\\statsmodels\\base\\model.py:604: ConvergenceWarning: Maximum Likelihood optimization failed to converge. Check mle_retvals\n",
      "  warnings.warn(\"Maximum Likelihood optimization failed to \"\n"
     ]
    },
    {
     "data": {
      "text/html": [
       "<table class=\"simpletable\">\n",
       "<caption>SARIMAX Results</caption>\n",
       "<tr>\n",
       "  <th>Dep. Variable:</th>        <td>PopEst</td>      <th>  No. Observations:  </th>    <td>84</td>   \n",
       "</tr>\n",
       "<tr>\n",
       "  <th>Model:</th>            <td>ARIMA(12, 1, 0)</td> <th>  Log Likelihood     </th> <td>-259.756</td>\n",
       "</tr>\n",
       "<tr>\n",
       "  <th>Date:</th>            <td>Fri, 10 Mar 2023</td> <th>  AIC                </th>  <td>545.512</td>\n",
       "</tr>\n",
       "<tr>\n",
       "  <th>Time:</th>                <td>21:07:23</td>     <th>  BIC                </th>  <td>576.957</td>\n",
       "</tr>\n",
       "<tr>\n",
       "  <th>Sample:</th>             <td>01-01-2011</td>    <th>  HQIC               </th>  <td>558.145</td>\n",
       "</tr>\n",
       "<tr>\n",
       "  <th></th>                   <td>- 12-01-2017</td>   <th>                     </th>     <td> </td>   \n",
       "</tr>\n",
       "<tr>\n",
       "  <th>Covariance Type:</th>        <td>opg</td>       <th>                     </th>     <td> </td>   \n",
       "</tr>\n",
       "</table>\n",
       "<table class=\"simpletable\">\n",
       "<tr>\n",
       "     <td></td>       <th>coef</th>     <th>std err</th>      <th>z</th>      <th>P>|z|</th>  <th>[0.025</th>    <th>0.975]</th>  \n",
       "</tr>\n",
       "<tr>\n",
       "  <th>ar.L1</th>  <td>    1.4158</td> <td>    0.093</td> <td>   15.294</td> <td> 0.000</td> <td>    1.234</td> <td>    1.597</td>\n",
       "</tr>\n",
       "<tr>\n",
       "  <th>ar.L2</th>  <td>   -1.0078</td> <td>    0.155</td> <td>   -6.498</td> <td> 0.000</td> <td>   -1.312</td> <td>   -0.704</td>\n",
       "</tr>\n",
       "<tr>\n",
       "  <th>ar.L3</th>  <td>    0.8882</td> <td>    0.174</td> <td>    5.107</td> <td> 0.000</td> <td>    0.547</td> <td>    1.229</td>\n",
       "</tr>\n",
       "<tr>\n",
       "  <th>ar.L4</th>  <td>   -0.8765</td> <td>    0.166</td> <td>   -5.274</td> <td> 0.000</td> <td>   -1.202</td> <td>   -0.551</td>\n",
       "</tr>\n",
       "<tr>\n",
       "  <th>ar.L5</th>  <td>    0.7753</td> <td>    0.179</td> <td>    4.343</td> <td> 0.000</td> <td>    0.425</td> <td>    1.125</td>\n",
       "</tr>\n",
       "<tr>\n",
       "  <th>ar.L6</th>  <td>   -0.8046</td> <td>    0.198</td> <td>   -4.068</td> <td> 0.000</td> <td>   -1.192</td> <td>   -0.417</td>\n",
       "</tr>\n",
       "<tr>\n",
       "  <th>ar.L7</th>  <td>    0.7094</td> <td>    0.191</td> <td>    3.721</td> <td> 0.000</td> <td>    0.336</td> <td>    1.083</td>\n",
       "</tr>\n",
       "<tr>\n",
       "  <th>ar.L8</th>  <td>   -0.5531</td> <td>    0.210</td> <td>   -2.636</td> <td> 0.008</td> <td>   -0.964</td> <td>   -0.142</td>\n",
       "</tr>\n",
       "<tr>\n",
       "  <th>ar.L9</th>  <td>    0.7484</td> <td>    0.192</td> <td>    3.899</td> <td> 0.000</td> <td>    0.372</td> <td>    1.125</td>\n",
       "</tr>\n",
       "<tr>\n",
       "  <th>ar.L10</th> <td>   -0.8931</td> <td>    0.156</td> <td>   -5.734</td> <td> 0.000</td> <td>   -1.198</td> <td>   -0.588</td>\n",
       "</tr>\n",
       "<tr>\n",
       "  <th>ar.L11</th> <td>    0.9330</td> <td>    0.151</td> <td>    6.183</td> <td> 0.000</td> <td>    0.637</td> <td>    1.229</td>\n",
       "</tr>\n",
       "<tr>\n",
       "  <th>ar.L12</th> <td>   -0.3409</td> <td>    0.093</td> <td>   -3.654</td> <td> 0.000</td> <td>   -0.524</td> <td>   -0.158</td>\n",
       "</tr>\n",
       "<tr>\n",
       "  <th>sigma2</th> <td>   15.5671</td> <td>    2.658</td> <td>    5.858</td> <td> 0.000</td> <td>   10.358</td> <td>   20.776</td>\n",
       "</tr>\n",
       "</table>\n",
       "<table class=\"simpletable\">\n",
       "<tr>\n",
       "  <th>Ljung-Box (L1) (Q):</th>     <td>1.01</td> <th>  Jarque-Bera (JB):  </th> <td>0.35</td>\n",
       "</tr>\n",
       "<tr>\n",
       "  <th>Prob(Q):</th>                <td>0.32</td> <th>  Prob(JB):          </th> <td>0.84</td>\n",
       "</tr>\n",
       "<tr>\n",
       "  <th>Heteroskedasticity (H):</th> <td>0.44</td> <th>  Skew:              </th> <td>0.01</td>\n",
       "</tr>\n",
       "<tr>\n",
       "  <th>Prob(H) (two-sided):</th>    <td>0.03</td> <th>  Kurtosis:          </th> <td>2.68</td>\n",
       "</tr>\n",
       "</table><br/><br/>Warnings:<br/>[1] Covariance matrix calculated using the outer product of gradients (complex-step)."
      ],
      "text/plain": [
       "<class 'statsmodels.iolib.summary.Summary'>\n",
       "\"\"\"\n",
       "                               SARIMAX Results                                \n",
       "==============================================================================\n",
       "Dep. Variable:                 PopEst   No. Observations:                   84\n",
       "Model:                ARIMA(12, 1, 0)   Log Likelihood                -259.756\n",
       "Date:                Fri, 10 Mar 2023   AIC                            545.512\n",
       "Time:                        21:07:23   BIC                            576.957\n",
       "Sample:                    01-01-2011   HQIC                           558.145\n",
       "                         - 12-01-2017                                         \n",
       "Covariance Type:                  opg                                         \n",
       "==============================================================================\n",
       "                 coef    std err          z      P>|z|      [0.025      0.975]\n",
       "------------------------------------------------------------------------------\n",
       "ar.L1          1.4158      0.093     15.294      0.000       1.234       1.597\n",
       "ar.L2         -1.0078      0.155     -6.498      0.000      -1.312      -0.704\n",
       "ar.L3          0.8882      0.174      5.107      0.000       0.547       1.229\n",
       "ar.L4         -0.8765      0.166     -5.274      0.000      -1.202      -0.551\n",
       "ar.L5          0.7753      0.179      4.343      0.000       0.425       1.125\n",
       "ar.L6         -0.8046      0.198     -4.068      0.000      -1.192      -0.417\n",
       "ar.L7          0.7094      0.191      3.721      0.000       0.336       1.083\n",
       "ar.L8         -0.5531      0.210     -2.636      0.008      -0.964      -0.142\n",
       "ar.L9          0.7484      0.192      3.899      0.000       0.372       1.125\n",
       "ar.L10        -0.8931      0.156     -5.734      0.000      -1.198      -0.588\n",
       "ar.L11         0.9330      0.151      6.183      0.000       0.637       1.229\n",
       "ar.L12        -0.3409      0.093     -3.654      0.000      -0.524      -0.158\n",
       "sigma2        15.5671      2.658      5.858      0.000      10.358      20.776\n",
       "===================================================================================\n",
       "Ljung-Box (L1) (Q):                   1.01   Jarque-Bera (JB):                 0.35\n",
       "Prob(Q):                              0.32   Prob(JB):                         0.84\n",
       "Heteroskedasticity (H):               0.44   Skew:                             0.01\n",
       "Prob(H) (two-sided):                  0.03   Kurtosis:                         2.68\n",
       "===================================================================================\n",
       "\n",
       "Warnings:\n",
       "[1] Covariance matrix calculated using the outer product of gradients (complex-step).\n",
       "\"\"\""
      ]
     },
     "execution_count": 127,
     "metadata": {},
     "output_type": "execute_result"
    }
   ],
   "source": [
    "model = ARIMA(train['PopEst'],order=(12,1,0))\n",
    "AR1fit = model.fit()\n",
    "AR1fit.summary()"
   ]
  },
  {
   "cell_type": "code",
   "execution_count": 130,
   "metadata": {},
   "outputs": [],
   "source": [
    "comienzo=len(train)\n",
    "fin=len(train)+len(test)-1\n",
    "predicciones = AR1fit.predict(start=comienzo, end=fin)"
   ]
  },
  {
   "cell_type": "code",
   "execution_count": 140,
   "metadata": {},
   "outputs": [],
   "source": [
    "df_predict=pd.DataFrame(predicciones)"
   ]
  },
  {
   "cell_type": "code",
   "execution_count": 141,
   "metadata": {},
   "outputs": [
    {
     "data": {
      "text/html": [
       "<div>\n",
       "<style scoped>\n",
       "    .dataframe tbody tr th:only-of-type {\n",
       "        vertical-align: middle;\n",
       "    }\n",
       "\n",
       "    .dataframe tbody tr th {\n",
       "        vertical-align: top;\n",
       "    }\n",
       "\n",
       "    .dataframe thead th {\n",
       "        text-align: right;\n",
       "    }\n",
       "</style>\n",
       "<table border=\"1\" class=\"dataframe\">\n",
       "  <thead>\n",
       "    <tr style=\"text-align: right;\">\n",
       "      <th></th>\n",
       "      <th>predicted_mean</th>\n",
       "    </tr>\n",
       "  </thead>\n",
       "  <tbody>\n",
       "    <tr>\n",
       "      <th>2018-01-01</th>\n",
       "      <td>326521.331891</td>\n",
       "    </tr>\n",
       "    <tr>\n",
       "      <th>2018-02-01</th>\n",
       "      <td>326654.732308</td>\n",
       "    </tr>\n",
       "    <tr>\n",
       "      <th>2018-03-01</th>\n",
       "      <td>326790.376385</td>\n",
       "    </tr>\n",
       "    <tr>\n",
       "      <th>2018-04-01</th>\n",
       "      <td>326936.462662</td>\n",
       "    </tr>\n",
       "    <tr>\n",
       "      <th>2018-05-01</th>\n",
       "      <td>327093.655849</td>\n",
       "    </tr>\n",
       "    <tr>\n",
       "      <th>2018-06-01</th>\n",
       "      <td>327263.443244</td>\n",
       "    </tr>\n",
       "    <tr>\n",
       "      <th>2018-07-01</th>\n",
       "      <td>327445.654192</td>\n",
       "    </tr>\n",
       "    <tr>\n",
       "      <th>2018-08-01</th>\n",
       "      <td>327632.984116</td>\n",
       "    </tr>\n",
       "    <tr>\n",
       "      <th>2018-09-01</th>\n",
       "      <td>327821.362490</td>\n",
       "    </tr>\n",
       "    <tr>\n",
       "      <th>2018-10-01</th>\n",
       "      <td>327999.683701</td>\n",
       "    </tr>\n",
       "    <tr>\n",
       "      <th>2018-11-01</th>\n",
       "      <td>328162.864835</td>\n",
       "    </tr>\n",
       "    <tr>\n",
       "      <th>2018-12-01</th>\n",
       "      <td>328315.614227</td>\n",
       "    </tr>\n",
       "  </tbody>\n",
       "</table>\n",
       "</div>"
      ],
      "text/plain": [
       "            predicted_mean\n",
       "2018-01-01   326521.331891\n",
       "2018-02-01   326654.732308\n",
       "2018-03-01   326790.376385\n",
       "2018-04-01   326936.462662\n",
       "2018-05-01   327093.655849\n",
       "2018-06-01   327263.443244\n",
       "2018-07-01   327445.654192\n",
       "2018-08-01   327632.984116\n",
       "2018-09-01   327821.362490\n",
       "2018-10-01   327999.683701\n",
       "2018-11-01   328162.864835\n",
       "2018-12-01   328315.614227"
      ]
     },
     "execution_count": 141,
     "metadata": {},
     "output_type": "execute_result"
    }
   ],
   "source": [
    "df_predict"
   ]
  },
  {
   "cell_type": "code",
   "execution_count": 133,
   "metadata": {},
   "outputs": [
    {
     "data": {
      "text/html": [
       "<div>\n",
       "<style scoped>\n",
       "    .dataframe tbody tr th:only-of-type {\n",
       "        vertical-align: middle;\n",
       "    }\n",
       "\n",
       "    .dataframe tbody tr th {\n",
       "        vertical-align: top;\n",
       "    }\n",
       "\n",
       "    .dataframe thead th {\n",
       "        text-align: right;\n",
       "    }\n",
       "</style>\n",
       "<table border=\"1\" class=\"dataframe\">\n",
       "  <thead>\n",
       "    <tr style=\"text-align: right;\">\n",
       "      <th></th>\n",
       "      <th>PopEst</th>\n",
       "    </tr>\n",
       "    <tr>\n",
       "      <th>DATE</th>\n",
       "      <th></th>\n",
       "    </tr>\n",
       "  </thead>\n",
       "  <tbody>\n",
       "    <tr>\n",
       "      <th>2018-01-01</th>\n",
       "      <td>326527</td>\n",
       "    </tr>\n",
       "    <tr>\n",
       "      <th>2018-02-01</th>\n",
       "      <td>326669</td>\n",
       "    </tr>\n",
       "    <tr>\n",
       "      <th>2018-03-01</th>\n",
       "      <td>326812</td>\n",
       "    </tr>\n",
       "    <tr>\n",
       "      <th>2018-04-01</th>\n",
       "      <td>326968</td>\n",
       "    </tr>\n",
       "    <tr>\n",
       "      <th>2018-05-01</th>\n",
       "      <td>327134</td>\n",
       "    </tr>\n",
       "    <tr>\n",
       "      <th>2018-06-01</th>\n",
       "      <td>327312</td>\n",
       "    </tr>\n",
       "    <tr>\n",
       "      <th>2018-07-01</th>\n",
       "      <td>327502</td>\n",
       "    </tr>\n",
       "    <tr>\n",
       "      <th>2018-08-01</th>\n",
       "      <td>327698</td>\n",
       "    </tr>\n",
       "    <tr>\n",
       "      <th>2018-09-01</th>\n",
       "      <td>327893</td>\n",
       "    </tr>\n",
       "    <tr>\n",
       "      <th>2018-10-01</th>\n",
       "      <td>328077</td>\n",
       "    </tr>\n",
       "    <tr>\n",
       "      <th>2018-11-01</th>\n",
       "      <td>328241</td>\n",
       "    </tr>\n",
       "    <tr>\n",
       "      <th>2018-12-01</th>\n",
       "      <td>328393</td>\n",
       "    </tr>\n",
       "  </tbody>\n",
       "</table>\n",
       "</div>"
      ],
      "text/plain": [
       "            PopEst\n",
       "DATE              \n",
       "2018-01-01  326527\n",
       "2018-02-01  326669\n",
       "2018-03-01  326812\n",
       "2018-04-01  326968\n",
       "2018-05-01  327134\n",
       "2018-06-01  327312\n",
       "2018-07-01  327502\n",
       "2018-08-01  327698\n",
       "2018-09-01  327893\n",
       "2018-10-01  328077\n",
       "2018-11-01  328241\n",
       "2018-12-01  328393"
      ]
     },
     "execution_count": 133,
     "metadata": {},
     "output_type": "execute_result"
    }
   ],
   "source": [
    "test"
   ]
  },
  {
   "cell_type": "code",
   "execution_count": 136,
   "metadata": {},
   "outputs": [],
   "source": [
    "from sklearn.metrics import mean_absolute_error,mean_absolute_percentage_error,mean_squared_error"
   ]
  },
  {
   "cell_type": "code",
   "execution_count": 142,
   "metadata": {},
   "outputs": [
    {
     "data": {
      "text/plain": [
       "48.98617509163645"
      ]
     },
     "execution_count": 142,
     "metadata": {},
     "output_type": "execute_result"
    }
   ],
   "source": [
    "mean_absolute_error(test[\"PopEst\"],df_predict[\"predicted_mean\"])"
   ]
  },
  {
   "cell_type": "code",
   "execution_count": 143,
   "metadata": {},
   "outputs": [
    {
     "data": {
      "text/plain": [
       "0.00014946790219604156"
      ]
     },
     "execution_count": 143,
     "metadata": {},
     "output_type": "execute_result"
    }
   ],
   "source": [
    "mean_absolute_percentage_error(test[\"PopEst\"],df_predict[\"predicted_mean\"])"
   ]
  },
  {
   "cell_type": "code",
   "execution_count": 144,
   "metadata": {},
   "outputs": [
    {
     "data": {
      "text/plain": [
       "3024.0506828754446"
      ]
     },
     "execution_count": 144,
     "metadata": {},
     "output_type": "execute_result"
    }
   ],
   "source": [
    "mean_squared_error(test[\"PopEst\"],df_predict[\"predicted_mean\"])"
   ]
  },
  {
   "cell_type": "code",
   "execution_count": null,
   "metadata": {},
   "outputs": [],
   "source": []
  }
 ],
 "metadata": {
  "kernelspec": {
   "display_name": "base",
   "language": "python",
   "name": "python3"
  },
  "language_info": {
   "codemirror_mode": {
    "name": "ipython",
    "version": 3
   },
   "file_extension": ".py",
   "mimetype": "text/x-python",
   "name": "python",
   "nbconvert_exporter": "python",
   "pygments_lexer": "ipython3",
   "version": "3.9.12"
  },
  "orig_nbformat": 4
 },
 "nbformat": 4,
 "nbformat_minor": 2
}
