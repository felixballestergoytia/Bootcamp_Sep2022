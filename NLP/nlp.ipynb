{
 "cells": [
  {
   "cell_type": "code",
   "execution_count": 63,
   "metadata": {},
   "outputs": [],
   "source": [
    "import pandas as pd\n",
    "import numpy as np\n",
    "import matplotlib.pyplot as plt"
   ]
  },
  {
   "cell_type": "code",
   "execution_count": 64,
   "metadata": {},
   "outputs": [],
   "source": [
    "Frase = \"Pronto será el desafío de tripulaciones\""
   ]
  },
  {
   "cell_type": "code",
   "execution_count": 65,
   "metadata": {},
   "outputs": [
    {
     "data": {
      "text/plain": [
       "True"
      ]
     },
     "execution_count": 65,
     "metadata": {},
     "output_type": "execute_result"
    }
   ],
   "source": [
    "## Para saber si una palabra está contenida en el texto\n",
    "\"el\" in Frase"
   ]
  },
  {
   "cell_type": "code",
   "execution_count": 66,
   "metadata": {},
   "outputs": [
    {
     "data": {
      "text/plain": [
       "12"
      ]
     },
     "execution_count": 66,
     "metadata": {},
     "output_type": "execute_result"
    }
   ],
   "source": [
    "## Para saber la posición de una palabra está contenida en el texto\n",
    "Frase.index(\"el\")"
   ]
  },
  {
   "cell_type": "code",
   "execution_count": 67,
   "metadata": {},
   "outputs": [
    {
     "data": {
      "text/plain": [
       "'el'"
      ]
     },
     "execution_count": 67,
     "metadata": {},
     "output_type": "execute_result"
    }
   ],
   "source": [
    "Frase.split()[2]"
   ]
  },
  {
   "cell_type": "code",
   "execution_count": 68,
   "metadata": {},
   "outputs": [
    {
     "data": {
      "text/plain": [
       "'oífased'"
      ]
     },
     "execution_count": 68,
     "metadata": {},
     "output_type": "execute_result"
    }
   ],
   "source": [
    "Frase.split()[3][::-1]"
   ]
  },
  {
   "cell_type": "code",
   "execution_count": 69,
   "metadata": {},
   "outputs": [
    {
     "data": {
      "text/plain": [
       "'Prontode'"
      ]
     },
     "execution_count": 69,
     "metadata": {},
     "output_type": "execute_result"
    }
   ],
   "source": [
    "## se quiere concatenar palabras\n",
    "Palabras=Frase.split()\n",
    "Palabra_primera=Palabras[0]\n",
    "Palabra_segunda=Palabras[4]\n",
    "Palabra_primera + Palabra_segunda"
   ]
  },
  {
   "cell_type": "code",
   "execution_count": 70,
   "metadata": {},
   "outputs": [
    {
     "name": "stderr",
     "output_type": "stream",
     "text": [
      "[nltk_data] Downloading package punkt to C:\\Users\\Daniel\n",
      "[nltk_data]     Montes\\AppData\\Roaming\\nltk_data...\n",
      "[nltk_data]   Package punkt is already up-to-date!\n",
      "[nltk_data] Downloading package averaged_perceptron_tagger to\n",
      "[nltk_data]     C:\\Users\\Daniel Montes\\AppData\\Roaming\\nltk_data...\n",
      "[nltk_data]   Package averaged_perceptron_tagger is already up-to-\n",
      "[nltk_data]       date!\n",
      "[nltk_data] Downloading package stopwords to C:\\Users\\Daniel\n",
      "[nltk_data]     Montes\\AppData\\Roaming\\nltk_data...\n",
      "[nltk_data]   Package stopwords is already up-to-date!\n"
     ]
    },
    {
     "data": {
      "text/plain": [
       "True"
      ]
     },
     "execution_count": 70,
     "metadata": {},
     "output_type": "execute_result"
    }
   ],
   "source": [
    "from nltk import word_tokenize, download, pos_tag\n",
    "download([\"punkt\",\"averaged_perceptron_tagger\",\"stopwords\"])"
   ]
  },
  {
   "cell_type": "code",
   "execution_count": 71,
   "metadata": {},
   "outputs": [
    {
     "data": {
      "text/plain": [
       "[('Pronto', 'NNP'),\n",
       " ('será', 'NN'),\n",
       " ('el', 'NN'),\n",
       " ('desafío', 'NN'),\n",
       " ('de', 'IN'),\n",
       " ('tripulaciones', 'NNS')]"
      ]
     },
     "execution_count": 71,
     "metadata": {},
     "output_type": "execute_result"
    }
   ],
   "source": [
    "pos_tag(word_tokenize(Frase))"
   ]
  },
  {
   "cell_type": "code",
   "execution_count": 72,
   "metadata": {},
   "outputs": [],
   "source": [
    "Frase=\"I am green student\""
   ]
  },
  {
   "cell_type": "code",
   "execution_count": 73,
   "metadata": {},
   "outputs": [
    {
     "data": {
      "text/plain": [
       "[('I', 'PRP'), ('am', 'VBP'), ('green', 'JJ'), ('student', 'NN')]"
      ]
     },
     "execution_count": 73,
     "metadata": {},
     "output_type": "execute_result"
    }
   ],
   "source": [
    "pos_tag(word_tokenize(Frase))"
   ]
  },
  {
   "cell_type": "code",
   "execution_count": 74,
   "metadata": {},
   "outputs": [],
   "source": [
    "from nltk.corpus import stopwords"
   ]
  },
  {
   "cell_type": "code",
   "execution_count": 75,
   "metadata": {},
   "outputs": [
    {
     "data": {
      "text/plain": [
       "['i',\n",
       " 'me',\n",
       " 'my',\n",
       " 'myself',\n",
       " 'we',\n",
       " 'our',\n",
       " 'ours',\n",
       " 'ourselves',\n",
       " 'you',\n",
       " \"you're\",\n",
       " \"you've\",\n",
       " \"you'll\",\n",
       " \"you'd\",\n",
       " 'your',\n",
       " 'yours',\n",
       " 'yourself',\n",
       " 'yourselves',\n",
       " 'he',\n",
       " 'him',\n",
       " 'his',\n",
       " 'himself',\n",
       " 'she',\n",
       " \"she's\",\n",
       " 'her',\n",
       " 'hers',\n",
       " 'herself',\n",
       " 'it',\n",
       " \"it's\",\n",
       " 'its',\n",
       " 'itself',\n",
       " 'they',\n",
       " 'them',\n",
       " 'their',\n",
       " 'theirs',\n",
       " 'themselves',\n",
       " 'what',\n",
       " 'which',\n",
       " 'who',\n",
       " 'whom',\n",
       " 'this',\n",
       " 'that',\n",
       " \"that'll\",\n",
       " 'these',\n",
       " 'those',\n",
       " 'am',\n",
       " 'is',\n",
       " 'are',\n",
       " 'was',\n",
       " 'were',\n",
       " 'be',\n",
       " 'been',\n",
       " 'being',\n",
       " 'have',\n",
       " 'has',\n",
       " 'had',\n",
       " 'having',\n",
       " 'do',\n",
       " 'does',\n",
       " 'did',\n",
       " 'doing',\n",
       " 'a',\n",
       " 'an',\n",
       " 'the',\n",
       " 'and',\n",
       " 'but',\n",
       " 'if',\n",
       " 'or',\n",
       " 'because',\n",
       " 'as',\n",
       " 'until',\n",
       " 'while',\n",
       " 'of',\n",
       " 'at',\n",
       " 'by',\n",
       " 'for',\n",
       " 'with',\n",
       " 'about',\n",
       " 'against',\n",
       " 'between',\n",
       " 'into',\n",
       " 'through',\n",
       " 'during',\n",
       " 'before',\n",
       " 'after',\n",
       " 'above',\n",
       " 'below',\n",
       " 'to',\n",
       " 'from',\n",
       " 'up',\n",
       " 'down',\n",
       " 'in',\n",
       " 'out',\n",
       " 'on',\n",
       " 'off',\n",
       " 'over',\n",
       " 'under',\n",
       " 'again',\n",
       " 'further',\n",
       " 'then',\n",
       " 'once',\n",
       " 'here',\n",
       " 'there',\n",
       " 'when',\n",
       " 'where',\n",
       " 'why',\n",
       " 'how',\n",
       " 'all',\n",
       " 'any',\n",
       " 'both',\n",
       " 'each',\n",
       " 'few',\n",
       " 'more',\n",
       " 'most',\n",
       " 'other',\n",
       " 'some',\n",
       " 'such',\n",
       " 'no',\n",
       " 'nor',\n",
       " 'not',\n",
       " 'only',\n",
       " 'own',\n",
       " 'same',\n",
       " 'so',\n",
       " 'than',\n",
       " 'too',\n",
       " 'very',\n",
       " 's',\n",
       " 't',\n",
       " 'can',\n",
       " 'will',\n",
       " 'just',\n",
       " 'don',\n",
       " \"don't\",\n",
       " 'should',\n",
       " \"should've\",\n",
       " 'now',\n",
       " 'd',\n",
       " 'll',\n",
       " 'm',\n",
       " 'o',\n",
       " 're',\n",
       " 've',\n",
       " 'y',\n",
       " 'ain',\n",
       " 'aren',\n",
       " \"aren't\",\n",
       " 'couldn',\n",
       " \"couldn't\",\n",
       " 'didn',\n",
       " \"didn't\",\n",
       " 'doesn',\n",
       " \"doesn't\",\n",
       " 'hadn',\n",
       " \"hadn't\",\n",
       " 'hasn',\n",
       " \"hasn't\",\n",
       " 'haven',\n",
       " \"haven't\",\n",
       " 'isn',\n",
       " \"isn't\",\n",
       " 'ma',\n",
       " 'mightn',\n",
       " \"mightn't\",\n",
       " 'mustn',\n",
       " \"mustn't\",\n",
       " 'needn',\n",
       " \"needn't\",\n",
       " 'shan',\n",
       " \"shan't\",\n",
       " 'shouldn',\n",
       " \"shouldn't\",\n",
       " 'wasn',\n",
       " \"wasn't\",\n",
       " 'weren',\n",
       " \"weren't\",\n",
       " 'won',\n",
       " \"won't\",\n",
       " 'wouldn',\n",
       " \"wouldn't\"]"
      ]
     },
     "execution_count": 75,
     "metadata": {},
     "output_type": "execute_result"
    }
   ],
   "source": [
    "stopwords.words(\"english\")"
   ]
  },
  {
   "cell_type": "code",
   "execution_count": 76,
   "metadata": {},
   "outputs": [
    {
     "name": "stdout",
     "output_type": "stream",
     "text": [
      "['de', 'la', 'que', 'el', 'en', 'y', 'a', 'los', 'del', 'se', 'las', 'por', 'un', 'para', 'con', 'no', 'una', 'su', 'al', 'lo', 'como', 'más', 'pero', 'sus', 'le', 'ya', 'o', 'este', 'sí', 'porque', 'esta', 'entre', 'cuando', 'muy', 'sin', 'sobre', 'también', 'me', 'hasta', 'hay', 'donde', 'quien', 'desde', 'todo', 'nos', 'durante', 'todos', 'uno', 'les', 'ni', 'contra', 'otros', 'ese', 'eso', 'ante', 'ellos', 'e', 'esto', 'mí', 'antes', 'algunos', 'qué', 'unos', 'yo', 'otro', 'otras', 'otra', 'él', 'tanto', 'esa', 'estos', 'mucho', 'quienes', 'nada', 'muchos', 'cual', 'poco', 'ella', 'estar', 'estas', 'algunas', 'algo', 'nosotros', 'mi', 'mis', 'tú', 'te', 'ti', 'tu', 'tus', 'ellas', 'nosotras', 'vosotros', 'vosotras', 'os', 'mío', 'mía', 'míos', 'mías', 'tuyo', 'tuya', 'tuyos', 'tuyas', 'suyo', 'suya', 'suyos', 'suyas', 'nuestro', 'nuestra', 'nuestros', 'nuestras', 'vuestro', 'vuestra', 'vuestros', 'vuestras', 'esos', 'esas', 'estoy', 'estás', 'está', 'estamos', 'estáis', 'están', 'esté', 'estés', 'estemos', 'estéis', 'estén', 'estaré', 'estarás', 'estará', 'estaremos', 'estaréis', 'estarán', 'estaría', 'estarías', 'estaríamos', 'estaríais', 'estarían', 'estaba', 'estabas', 'estábamos', 'estabais', 'estaban', 'estuve', 'estuviste', 'estuvo', 'estuvimos', 'estuvisteis', 'estuvieron', 'estuviera', 'estuvieras', 'estuviéramos', 'estuvierais', 'estuvieran', 'estuviese', 'estuvieses', 'estuviésemos', 'estuvieseis', 'estuviesen', 'estando', 'estado', 'estada', 'estados', 'estadas', 'estad', 'he', 'has', 'ha', 'hemos', 'habéis', 'han', 'haya', 'hayas', 'hayamos', 'hayáis', 'hayan', 'habré', 'habrás', 'habrá', 'habremos', 'habréis', 'habrán', 'habría', 'habrías', 'habríamos', 'habríais', 'habrían', 'había', 'habías', 'habíamos', 'habíais', 'habían', 'hube', 'hubiste', 'hubo', 'hubimos', 'hubisteis', 'hubieron', 'hubiera', 'hubieras', 'hubiéramos', 'hubierais', 'hubieran', 'hubiese', 'hubieses', 'hubiésemos', 'hubieseis', 'hubiesen', 'habiendo', 'habido', 'habida', 'habidos', 'habidas', 'soy', 'eres', 'es', 'somos', 'sois', 'son', 'sea', 'seas', 'seamos', 'seáis', 'sean', 'seré', 'serás', 'será', 'seremos', 'seréis', 'serán', 'sería', 'serías', 'seríamos', 'seríais', 'serían', 'era', 'eras', 'éramos', 'erais', 'eran', 'fui', 'fuiste', 'fue', 'fuimos', 'fuisteis', 'fueron', 'fuera', 'fueras', 'fuéramos', 'fuerais', 'fueran', 'fuese', 'fueses', 'fuésemos', 'fueseis', 'fuesen', 'sintiendo', 'sentido', 'sentida', 'sentidos', 'sentidas', 'siente', 'sentid', 'tengo', 'tienes', 'tiene', 'tenemos', 'tenéis', 'tienen', 'tenga', 'tengas', 'tengamos', 'tengáis', 'tengan', 'tendré', 'tendrás', 'tendrá', 'tendremos', 'tendréis', 'tendrán', 'tendría', 'tendrías', 'tendríamos', 'tendríais', 'tendrían', 'tenía', 'tenías', 'teníamos', 'teníais', 'tenían', 'tuve', 'tuviste', 'tuvo', 'tuvimos', 'tuvisteis', 'tuvieron', 'tuviera', 'tuvieras', 'tuviéramos', 'tuvierais', 'tuvieran', 'tuviese', 'tuvieses', 'tuviésemos', 'tuvieseis', 'tuviesen', 'teniendo', 'tenido', 'tenida', 'tenidos', 'tenidas', 'tened']\n"
     ]
    }
   ],
   "source": [
    "print(stopwords.words('spanish'))"
   ]
  },
  {
   "cell_type": "code",
   "execution_count": 77,
   "metadata": {},
   "outputs": [],
   "source": [
    "Frase_larga=\"En un lugar de la mancha de cuyo nombre no quiero acordarme\""
   ]
  },
  {
   "cell_type": "code",
   "execution_count": 78,
   "metadata": {},
   "outputs": [
    {
     "data": {
      "text/plain": [
       "['lugar', 'mancha', 'cuyo', 'nombre', 'quiero', 'acordarme']"
      ]
     },
     "execution_count": 78,
     "metadata": {},
     "output_type": "execute_result"
    }
   ],
   "source": [
    "[palabra for palabra in Frase_larga.lower().split() if palabra not in stopwords.words('spanish')]"
   ]
  },
  {
   "cell_type": "code",
   "execution_count": 79,
   "metadata": {},
   "outputs": [],
   "source": [
    "### Normalización del texto\n",
    "Frase_para_normalizar=\"Yo visité en el año 20-12-18 EEUU desde GB\""
   ]
  },
  {
   "cell_type": "code",
   "execution_count": 80,
   "metadata": {},
   "outputs": [
    {
     "data": {
      "text/plain": [
       "'Yo visité en el año 20-12-2018 Estados Unidos desde Gran Bretaña'"
      ]
     },
     "execution_count": 80,
     "metadata": {},
     "output_type": "execute_result"
    }
   ],
   "source": [
    "Frase_para_normalizar.replace(\"EEUU\",\"Estados Unidos\").replace(\"GB\",\"Gran Bretaña\").replace(\"-18\",\"-2018\")"
   ]
  },
  {
   "cell_type": "code",
   "execution_count": 81,
   "metadata": {},
   "outputs": [],
   "source": [
    "from nltk import word_tokenize\n",
    "from autocorrect import Speller"
   ]
  },
  {
   "cell_type": "code",
   "execution_count": 82,
   "metadata": {},
   "outputs": [],
   "source": [
    "deletrear=Speller(lang=\"es\")"
   ]
  },
  {
   "cell_type": "code",
   "execution_count": 83,
   "metadata": {},
   "outputs": [
    {
     "data": {
      "text/plain": [
       "'Alhóndiga'"
      ]
     },
     "execution_count": 83,
     "metadata": {},
     "output_type": "execute_result"
    }
   ],
   "source": [
    "deletrear('Almondiga')"
   ]
  },
  {
   "cell_type": "code",
   "execution_count": 84,
   "metadata": {},
   "outputs": [
    {
     "data": {
      "text/plain": [
       "'Coqueta'"
      ]
     },
     "execution_count": 84,
     "metadata": {},
     "output_type": "execute_result"
    }
   ],
   "source": [
    "deletrear('Cloqueta')"
   ]
  },
  {
   "cell_type": "code",
   "execution_count": 85,
   "metadata": {},
   "outputs": [],
   "source": [
    "Frase=word_tokenize(\"Naturalmente ayer me comí una Coqleta con Almondigas\")"
   ]
  },
  {
   "cell_type": "code",
   "execution_count": 86,
   "metadata": {},
   "outputs": [
    {
     "data": {
      "text/plain": [
       "'Naturalmente ayer me como una Coqueta con Albóndigas'"
      ]
     },
     "execution_count": 86,
     "metadata": {},
     "output_type": "execute_result"
    }
   ],
   "source": [
    "' '.join([deletrear(palabra) for palabra in Frase])"
   ]
  },
  {
   "cell_type": "code",
   "execution_count": 87,
   "metadata": {},
   "outputs": [],
   "source": [
    "from nltk import stem"
   ]
  },
  {
   "cell_type": "code",
   "execution_count": 88,
   "metadata": {},
   "outputs": [
    {
     "data": {
      "text/plain": [
       "'product'"
      ]
     },
     "execution_count": 88,
     "metadata": {},
     "output_type": "execute_result"
    }
   ],
   "source": [
    "stem.PorterStemmer().stem(\"production\")"
   ]
  },
  {
   "cell_type": "code",
   "execution_count": 89,
   "metadata": {},
   "outputs": [
    {
     "data": {
      "text/plain": [
       "'fire'"
      ]
     },
     "execution_count": 89,
     "metadata": {},
     "output_type": "execute_result"
    }
   ],
   "source": [
    "stem.PorterStemmer().stem(\"firing\")"
   ]
  },
  {
   "cell_type": "code",
   "execution_count": 90,
   "metadata": {},
   "outputs": [
    {
     "data": {
      "text/plain": [
       "'hous'"
      ]
     },
     "execution_count": 90,
     "metadata": {},
     "output_type": "execute_result"
    }
   ],
   "source": [
    "stem.PorterStemmer().stem(\"housing\")"
   ]
  },
  {
   "cell_type": "code",
   "execution_count": 91,
   "metadata": {},
   "outputs": [
    {
     "data": {
      "text/plain": [
       "'fish'"
      ]
     },
     "execution_count": 91,
     "metadata": {},
     "output_type": "execute_result"
    }
   ],
   "source": [
    "stem.PorterStemmer().stem(\"fishing\")"
   ]
  },
  {
   "cell_type": "code",
   "execution_count": 92,
   "metadata": {},
   "outputs": [
    {
     "data": {
      "text/plain": [
       "'produccion'"
      ]
     },
     "execution_count": 92,
     "metadata": {},
     "output_type": "execute_result"
    }
   ],
   "source": [
    "stem.SnowballStemmer(\"spanish\").stem(\"producción\")"
   ]
  },
  {
   "cell_type": "code",
   "execution_count": 93,
   "metadata": {},
   "outputs": [
    {
     "name": "stderr",
     "output_type": "stream",
     "text": [
      "[nltk_data] Downloading package wordnet to C:\\Users\\Daniel\n",
      "[nltk_data]     Montes\\AppData\\Roaming\\nltk_data...\n",
      "[nltk_data]   Package wordnet is already up-to-date!\n"
     ]
    }
   ],
   "source": [
    "## Lematización\n",
    "download('wordnet')\n",
    "from nltk.stem.wordnet import WordNetLemmatizer\n"
   ]
  },
  {
   "cell_type": "code",
   "execution_count": 94,
   "metadata": {},
   "outputs": [],
   "source": [
    "lematizacion=WordNetLemmatizer()"
   ]
  },
  {
   "cell_type": "code",
   "execution_count": 95,
   "metadata": {},
   "outputs": [
    {
     "data": {
      "text/plain": [
       "'production'"
      ]
     },
     "execution_count": 95,
     "metadata": {},
     "output_type": "execute_result"
    }
   ],
   "source": [
    "lematizacion.lemmatize(\"production\")"
   ]
  },
  {
   "cell_type": "code",
   "execution_count": 96,
   "metadata": {},
   "outputs": [
    {
     "data": {
      "text/plain": [
       "'product'"
      ]
     },
     "execution_count": 96,
     "metadata": {},
     "output_type": "execute_result"
    }
   ],
   "source": [
    "lematizacion.lemmatize(\"products\")"
   ]
  },
  {
   "cell_type": "code",
   "execution_count": 97,
   "metadata": {},
   "outputs": [
    {
     "data": {
      "text/plain": [
       "'housing'"
      ]
     },
     "execution_count": 97,
     "metadata": {},
     "output_type": "execute_result"
    }
   ],
   "source": [
    "lematizacion.lemmatize(\"housing\")"
   ]
  },
  {
   "cell_type": "code",
   "execution_count": 98,
   "metadata": {},
   "outputs": [
    {
     "data": {
      "text/plain": [
       "'fishing'"
      ]
     },
     "execution_count": 98,
     "metadata": {},
     "output_type": "execute_result"
    }
   ],
   "source": [
    "lematizacion.lemmatize(\"fishing\")"
   ]
  },
  {
   "cell_type": "code",
   "execution_count": 99,
   "metadata": {},
   "outputs": [
    {
     "name": "stderr",
     "output_type": "stream",
     "text": [
      "[nltk_data] Downloading package maxent_ne_chunker to C:\\Users\\Daniel\n",
      "[nltk_data]     Montes\\AppData\\Roaming\\nltk_data...\n",
      "[nltk_data]   Package maxent_ne_chunker is already up-to-date!\n",
      "[nltk_data] Downloading package words to C:\\Users\\Daniel\n",
      "[nltk_data]     Montes\\AppData\\Roaming\\nltk_data...\n",
      "[nltk_data]   Package words is already up-to-date!\n"
     ]
    },
    {
     "data": {
      "text/plain": [
       "True"
      ]
     },
     "execution_count": 99,
     "metadata": {},
     "output_type": "execute_result"
    }
   ],
   "source": [
    "from nltk import pos_tag\n",
    "from nltk import ne_chunk\n",
    "from nltk import word_tokenize\n",
    "download('maxent_ne_chunker')\n",
    "download('words')"
   ]
  },
  {
   "cell_type": "code",
   "execution_count": 100,
   "metadata": {},
   "outputs": [],
   "source": [
    "Frase= \"We are reading a book published by Roal Dhal which is based out of New York\""
   ]
  },
  {
   "cell_type": "code",
   "execution_count": 101,
   "metadata": {},
   "outputs": [
    {
     "data": {
      "image/svg+xml": "<svg baseProfile=\"full\" height=\"168px\" preserveAspectRatio=\"xMidYMid meet\" style=\"font-family: times, serif; font-weight:normal; font-style: normal; font-size: 16px;\" version=\"1.1\" viewBox=\"0,0,760.0,168.0\" width=\"760px\" xmlns=\"http://www.w3.org/2000/svg\" xmlns:ev=\"http://www.w3.org/2001/xml-events\" xmlns:xlink=\"http://www.w3.org/1999/xlink\"><defs /><svg width=\"100%\" x=\"0\" y=\"0em\"><defs /><text text-anchor=\"middle\" x=\"50%\" y=\"1em\">S</text></svg><svg width=\"5.26316%\" x=\"0%\" y=\"3em\"><defs /><svg width=\"100%\" x=\"0\" y=\"0em\"><defs /><text text-anchor=\"middle\" x=\"50%\" y=\"1em\">We</text></svg><svg width=\"100%\" x=\"0%\" y=\"3em\"><defs /><svg width=\"100%\" x=\"0\" y=\"0em\"><defs /><text text-anchor=\"middle\" x=\"50%\" y=\"1em\">PRP</text></svg></svg><line stroke=\"black\" x1=\"50%\" x2=\"50%\" y1=\"1.2em\" y2=\"3em\" /></svg><line stroke=\"black\" x1=\"50%\" x2=\"2.63158%\" y1=\"1.2em\" y2=\"3em\" /><svg width=\"5.26316%\" x=\"5.26316%\" y=\"3em\"><defs /><svg width=\"100%\" x=\"0\" y=\"0em\"><defs /><text text-anchor=\"middle\" x=\"50%\" y=\"1em\">are</text></svg><svg width=\"100%\" x=\"0%\" y=\"3em\"><defs /><svg width=\"100%\" x=\"0\" y=\"0em\"><defs /><text text-anchor=\"middle\" x=\"50%\" y=\"1em\">VBP</text></svg></svg><line stroke=\"black\" x1=\"50%\" x2=\"50%\" y1=\"1.2em\" y2=\"3em\" /></svg><line stroke=\"black\" x1=\"50%\" x2=\"7.89474%\" y1=\"1.2em\" y2=\"3em\" /><svg width=\"9.47368%\" x=\"10.5263%\" y=\"3em\"><defs /><svg width=\"100%\" x=\"0\" y=\"0em\"><defs /><text text-anchor=\"middle\" x=\"50%\" y=\"1em\">reading</text></svg><svg width=\"100%\" x=\"0%\" y=\"3em\"><defs /><svg width=\"100%\" x=\"0\" y=\"0em\"><defs /><text text-anchor=\"middle\" x=\"50%\" y=\"1em\">VBG</text></svg></svg><line stroke=\"black\" x1=\"50%\" x2=\"50%\" y1=\"1.2em\" y2=\"3em\" /></svg><line stroke=\"black\" x1=\"50%\" x2=\"15.2632%\" y1=\"1.2em\" y2=\"3em\" /><svg width=\"4.21053%\" x=\"20%\" y=\"3em\"><defs /><svg width=\"100%\" x=\"0\" y=\"0em\"><defs /><text text-anchor=\"middle\" x=\"50%\" y=\"1em\">a</text></svg><svg width=\"100%\" x=\"0%\" y=\"3em\"><defs /><svg width=\"100%\" x=\"0\" y=\"0em\"><defs /><text text-anchor=\"middle\" x=\"50%\" y=\"1em\">DT</text></svg></svg><line stroke=\"black\" x1=\"50%\" x2=\"50%\" y1=\"1.2em\" y2=\"3em\" /></svg><line stroke=\"black\" x1=\"50%\" x2=\"22.1053%\" y1=\"1.2em\" y2=\"3em\" /><svg width=\"6.31579%\" x=\"24.2105%\" y=\"3em\"><defs /><svg width=\"100%\" x=\"0\" y=\"0em\"><defs /><text text-anchor=\"middle\" x=\"50%\" y=\"1em\">book</text></svg><svg width=\"100%\" x=\"0%\" y=\"3em\"><defs /><svg width=\"100%\" x=\"0\" y=\"0em\"><defs /><text text-anchor=\"middle\" x=\"50%\" y=\"1em\">NN</text></svg></svg><line stroke=\"black\" x1=\"50%\" x2=\"50%\" y1=\"1.2em\" y2=\"3em\" /></svg><line stroke=\"black\" x1=\"50%\" x2=\"27.3684%\" y1=\"1.2em\" y2=\"3em\" /><svg width=\"11.5789%\" x=\"30.5263%\" y=\"3em\"><defs /><svg width=\"100%\" x=\"0\" y=\"0em\"><defs /><text text-anchor=\"middle\" x=\"50%\" y=\"1em\">published</text></svg><svg width=\"100%\" x=\"0%\" y=\"3em\"><defs /><svg width=\"100%\" x=\"0\" y=\"0em\"><defs /><text text-anchor=\"middle\" x=\"50%\" y=\"1em\">VBN</text></svg></svg><line stroke=\"black\" x1=\"50%\" x2=\"50%\" y1=\"1.2em\" y2=\"3em\" /></svg><line stroke=\"black\" x1=\"50%\" x2=\"36.3158%\" y1=\"1.2em\" y2=\"3em\" /><svg width=\"4.21053%\" x=\"42.1053%\" y=\"3em\"><defs /><svg width=\"100%\" x=\"0\" y=\"0em\"><defs /><text text-anchor=\"middle\" x=\"50%\" y=\"1em\">by</text></svg><svg width=\"100%\" x=\"0%\" y=\"3em\"><defs /><svg width=\"100%\" x=\"0\" y=\"0em\"><defs /><text text-anchor=\"middle\" x=\"50%\" y=\"1em\">IN</text></svg></svg><line stroke=\"black\" x1=\"50%\" x2=\"50%\" y1=\"1.2em\" y2=\"3em\" /></svg><line stroke=\"black\" x1=\"50%\" x2=\"44.2105%\" y1=\"1.2em\" y2=\"3em\" /><svg width=\"12.6316%\" x=\"46.3158%\" y=\"3em\"><defs /><svg width=\"100%\" x=\"0\" y=\"0em\"><defs /><text text-anchor=\"middle\" x=\"50%\" y=\"1em\">PERSON</text></svg><svg width=\"50%\" x=\"0%\" y=\"3em\"><defs /><svg width=\"100%\" x=\"0\" y=\"0em\"><defs /><text text-anchor=\"middle\" x=\"50%\" y=\"1em\">Roal</text></svg><svg width=\"100%\" x=\"0%\" y=\"3em\"><defs /><svg width=\"100%\" x=\"0\" y=\"0em\"><defs /><text text-anchor=\"middle\" x=\"50%\" y=\"1em\">NNP</text></svg></svg><line stroke=\"black\" x1=\"50%\" x2=\"50%\" y1=\"1.2em\" y2=\"3em\" /></svg><line stroke=\"black\" x1=\"50%\" x2=\"25%\" y1=\"1.2em\" y2=\"3em\" /><svg width=\"50%\" x=\"50%\" y=\"3em\"><defs /><svg width=\"100%\" x=\"0\" y=\"0em\"><defs /><text text-anchor=\"middle\" x=\"50%\" y=\"1em\">Dhal</text></svg><svg width=\"100%\" x=\"0%\" y=\"3em\"><defs /><svg width=\"100%\" x=\"0\" y=\"0em\"><defs /><text text-anchor=\"middle\" x=\"50%\" y=\"1em\">NNP</text></svg></svg><line stroke=\"black\" x1=\"50%\" x2=\"50%\" y1=\"1.2em\" y2=\"3em\" /></svg><line stroke=\"black\" x1=\"50%\" x2=\"75%\" y1=\"1.2em\" y2=\"3em\" /></svg><line stroke=\"black\" x1=\"50%\" x2=\"52.6316%\" y1=\"1.2em\" y2=\"3em\" /><svg width=\"7.36842%\" x=\"58.9474%\" y=\"3em\"><defs /><svg width=\"100%\" x=\"0\" y=\"0em\"><defs /><text text-anchor=\"middle\" x=\"50%\" y=\"1em\">which</text></svg><svg width=\"100%\" x=\"0%\" y=\"3em\"><defs /><svg width=\"100%\" x=\"0\" y=\"0em\"><defs /><text text-anchor=\"middle\" x=\"50%\" y=\"1em\">WDT</text></svg></svg><line stroke=\"black\" x1=\"50%\" x2=\"50%\" y1=\"1.2em\" y2=\"3em\" /></svg><line stroke=\"black\" x1=\"50%\" x2=\"62.6316%\" y1=\"1.2em\" y2=\"3em\" /><svg width=\"5.26316%\" x=\"66.3158%\" y=\"3em\"><defs /><svg width=\"100%\" x=\"0\" y=\"0em\"><defs /><text text-anchor=\"middle\" x=\"50%\" y=\"1em\">is</text></svg><svg width=\"100%\" x=\"0%\" y=\"3em\"><defs /><svg width=\"100%\" x=\"0\" y=\"0em\"><defs /><text text-anchor=\"middle\" x=\"50%\" y=\"1em\">VBZ</text></svg></svg><line stroke=\"black\" x1=\"50%\" x2=\"50%\" y1=\"1.2em\" y2=\"3em\" /></svg><line stroke=\"black\" x1=\"50%\" x2=\"68.9474%\" y1=\"1.2em\" y2=\"3em\" /><svg width=\"7.36842%\" x=\"71.5789%\" y=\"3em\"><defs /><svg width=\"100%\" x=\"0\" y=\"0em\"><defs /><text text-anchor=\"middle\" x=\"50%\" y=\"1em\">based</text></svg><svg width=\"100%\" x=\"0%\" y=\"3em\"><defs /><svg width=\"100%\" x=\"0\" y=\"0em\"><defs /><text text-anchor=\"middle\" x=\"50%\" y=\"1em\">VBN</text></svg></svg><line stroke=\"black\" x1=\"50%\" x2=\"50%\" y1=\"1.2em\" y2=\"3em\" /></svg><line stroke=\"black\" x1=\"50%\" x2=\"75.2632%\" y1=\"1.2em\" y2=\"3em\" /><svg width=\"5.26316%\" x=\"78.9474%\" y=\"3em\"><defs /><svg width=\"100%\" x=\"0\" y=\"0em\"><defs /><text text-anchor=\"middle\" x=\"50%\" y=\"1em\">out</text></svg><svg width=\"100%\" x=\"0%\" y=\"3em\"><defs /><svg width=\"100%\" x=\"0\" y=\"0em\"><defs /><text text-anchor=\"middle\" x=\"50%\" y=\"1em\">IN</text></svg></svg><line stroke=\"black\" x1=\"50%\" x2=\"50%\" y1=\"1.2em\" y2=\"3em\" /></svg><line stroke=\"black\" x1=\"50%\" x2=\"81.5789%\" y1=\"1.2em\" y2=\"3em\" /><svg width=\"4.21053%\" x=\"84.2105%\" y=\"3em\"><defs /><svg width=\"100%\" x=\"0\" y=\"0em\"><defs /><text text-anchor=\"middle\" x=\"50%\" y=\"1em\">of</text></svg><svg width=\"100%\" x=\"0%\" y=\"3em\"><defs /><svg width=\"100%\" x=\"0\" y=\"0em\"><defs /><text text-anchor=\"middle\" x=\"50%\" y=\"1em\">IN</text></svg></svg><line stroke=\"black\" x1=\"50%\" x2=\"50%\" y1=\"1.2em\" y2=\"3em\" /></svg><line stroke=\"black\" x1=\"50%\" x2=\"86.3158%\" y1=\"1.2em\" y2=\"3em\" /><svg width=\"11.5789%\" x=\"88.4211%\" y=\"3em\"><defs /><svg width=\"100%\" x=\"0\" y=\"0em\"><defs /><text text-anchor=\"middle\" x=\"50%\" y=\"1em\">GPE</text></svg><svg width=\"45.4545%\" x=\"0%\" y=\"3em\"><defs /><svg width=\"100%\" x=\"0\" y=\"0em\"><defs /><text text-anchor=\"middle\" x=\"50%\" y=\"1em\">New</text></svg><svg width=\"100%\" x=\"0%\" y=\"3em\"><defs /><svg width=\"100%\" x=\"0\" y=\"0em\"><defs /><text text-anchor=\"middle\" x=\"50%\" y=\"1em\">NNP</text></svg></svg><line stroke=\"black\" x1=\"50%\" x2=\"50%\" y1=\"1.2em\" y2=\"3em\" /></svg><line stroke=\"black\" x1=\"50%\" x2=\"22.7273%\" y1=\"1.2em\" y2=\"3em\" /><svg width=\"54.5455%\" x=\"45.4545%\" y=\"3em\"><defs /><svg width=\"100%\" x=\"0\" y=\"0em\"><defs /><text text-anchor=\"middle\" x=\"50%\" y=\"1em\">York</text></svg><svg width=\"100%\" x=\"0%\" y=\"3em\"><defs /><svg width=\"100%\" x=\"0\" y=\"0em\"><defs /><text text-anchor=\"middle\" x=\"50%\" y=\"1em\">NNP</text></svg></svg><line stroke=\"black\" x1=\"50%\" x2=\"50%\" y1=\"1.2em\" y2=\"3em\" /></svg><line stroke=\"black\" x1=\"50%\" x2=\"72.7273%\" y1=\"1.2em\" y2=\"3em\" /></svg><line stroke=\"black\" x1=\"50%\" x2=\"94.2105%\" y1=\"1.2em\" y2=\"3em\" /></svg>",
      "text/plain": [
       "Tree('S', [('We', 'PRP'), ('are', 'VBP'), ('reading', 'VBG'), ('a', 'DT'), ('book', 'NN'), ('published', 'VBN'), ('by', 'IN'), Tree('PERSON', [('Roal', 'NNP'), ('Dhal', 'NNP')]), ('which', 'WDT'), ('is', 'VBZ'), ('based', 'VBN'), ('out', 'IN'), ('of', 'IN'), Tree('GPE', [('New', 'NNP'), ('York', 'NNP')])])"
      ]
     },
     "execution_count": 101,
     "metadata": {},
     "output_type": "execute_result"
    }
   ],
   "source": [
    "ne_chunk(pos_tag(word_tokenize(Frase)))"
   ]
  },
  {
   "cell_type": "code",
   "execution_count": 102,
   "metadata": {},
   "outputs": [
    {
     "data": {
      "text/plain": [
       "[('We', 'PRP'),\n",
       " ('are', 'VBP'),\n",
       " ('reading', 'VBG'),\n",
       " ('a', 'DT'),\n",
       " ('book', 'NN'),\n",
       " ('published', 'VBN'),\n",
       " ('by', 'IN'),\n",
       " Tree('PERSON', [('Roal', 'NNP'), ('Dhal', 'NNP')]),\n",
       " ('which', 'WDT'),\n",
       " ('is', 'VBZ'),\n",
       " ('based', 'VBN'),\n",
       " ('out', 'IN'),\n",
       " ('of', 'IN'),\n",
       " Tree('GPE', [('New', 'NNP'), ('York', 'NNP')])]"
      ]
     },
     "execution_count": 102,
     "metadata": {},
     "output_type": "execute_result"
    }
   ],
   "source": [
    "[a for a in ne_chunk(pos_tag(word_tokenize(Frase))) ]"
   ]
  },
  {
   "cell_type": "code",
   "execution_count": 103,
   "metadata": {},
   "outputs": [],
   "source": [
    "from datasets import load_dataset"
   ]
  },
  {
   "cell_type": "code",
   "execution_count": 104,
   "metadata": {},
   "outputs": [
    {
     "name": "stderr",
     "output_type": "stream",
     "text": [
      "Using custom data configuration default\n",
      "Reusing dataset emotion (C:\\Users\\Daniel Montes\\.cache\\huggingface\\datasets\\emotion\\default\\0.0.0\\348f63ca8e27b3713b6c04d723efe6d824a56fb3d1449794716c0f0296072705)\n"
     ]
    },
    {
     "data": {
      "application/vnd.jupyter.widget-view+json": {
       "model_id": "39ad719ad9124649bc38135c7d9b33ba",
       "version_major": 2,
       "version_minor": 0
      },
      "text/plain": [
       "  0%|          | 0/3 [00:00<?, ?it/s]"
      ]
     },
     "metadata": {},
     "output_type": "display_data"
    }
   ],
   "source": [
    "emociones=load_dataset(\"emotion\")"
   ]
  },
  {
   "cell_type": "code",
   "execution_count": 105,
   "metadata": {},
   "outputs": [
    {
     "name": "stderr",
     "output_type": "stream",
     "text": [
      "Using custom data configuration default\n",
      "Reusing dataset emotion (C:\\Users\\Daniel Montes\\.cache\\huggingface\\datasets\\emotion\\default\\0.0.0\\348f63ca8e27b3713b6c04d723efe6d824a56fb3d1449794716c0f0296072705)\n"
     ]
    },
    {
     "data": {
      "application/vnd.jupyter.widget-view+json": {
       "model_id": "1d78c72481d54df28df3e6385d23ebb5",
       "version_major": 2,
       "version_minor": 0
      },
      "text/plain": [
       "  0%|          | 0/3 [00:00<?, ?it/s]"
      ]
     },
     "metadata": {},
     "output_type": "display_data"
    }
   ],
   "source": [
    "train=load_dataset(\"emotion\")[\"train\"]"
   ]
  },
  {
   "cell_type": "code",
   "execution_count": 106,
   "metadata": {},
   "outputs": [
    {
     "data": {
      "text/plain": [
       "{'text': 'i didnt feel humiliated', 'label': 0}"
      ]
     },
     "execution_count": 106,
     "metadata": {},
     "output_type": "execute_result"
    }
   ],
   "source": [
    "train[0]"
   ]
  },
  {
   "cell_type": "code",
   "execution_count": 107,
   "metadata": {},
   "outputs": [
    {
     "data": {
      "text/plain": [
       "{'text': Value(dtype='string', id=None),\n",
       " 'label': ClassLabel(num_classes=6, names=['sadness', 'joy', 'love', 'anger', 'fear', 'surprise'], id=None)}"
      ]
     },
     "execution_count": 107,
     "metadata": {},
     "output_type": "execute_result"
    }
   ],
   "source": [
    "train.features"
   ]
  },
  {
   "cell_type": "code",
   "execution_count": 108,
   "metadata": {},
   "outputs": [],
   "source": [
    "df=pd.DataFrame(train[\"text\"])\n",
    "df[\"etiquetas\"]=train[\"label\"]"
   ]
  },
  {
   "cell_type": "code",
   "execution_count": 109,
   "metadata": {},
   "outputs": [
    {
     "data": {
      "text/html": [
       "<div>\n",
       "<style scoped>\n",
       "    .dataframe tbody tr th:only-of-type {\n",
       "        vertical-align: middle;\n",
       "    }\n",
       "\n",
       "    .dataframe tbody tr th {\n",
       "        vertical-align: top;\n",
       "    }\n",
       "\n",
       "    .dataframe thead th {\n",
       "        text-align: right;\n",
       "    }\n",
       "</style>\n",
       "<table border=\"1\" class=\"dataframe\">\n",
       "  <thead>\n",
       "    <tr style=\"text-align: right;\">\n",
       "      <th></th>\n",
       "      <th>0</th>\n",
       "      <th>etiquetas</th>\n",
       "    </tr>\n",
       "  </thead>\n",
       "  <tbody>\n",
       "    <tr>\n",
       "      <th>0</th>\n",
       "      <td>i didnt feel humiliated</td>\n",
       "      <td>0</td>\n",
       "    </tr>\n",
       "    <tr>\n",
       "      <th>1</th>\n",
       "      <td>i can go from feeling so hopeless to so damned...</td>\n",
       "      <td>0</td>\n",
       "    </tr>\n",
       "    <tr>\n",
       "      <th>2</th>\n",
       "      <td>im grabbing a minute to post i feel greedy wrong</td>\n",
       "      <td>3</td>\n",
       "    </tr>\n",
       "    <tr>\n",
       "      <th>3</th>\n",
       "      <td>i am ever feeling nostalgic about the fireplac...</td>\n",
       "      <td>2</td>\n",
       "    </tr>\n",
       "    <tr>\n",
       "      <th>4</th>\n",
       "      <td>i am feeling grouchy</td>\n",
       "      <td>3</td>\n",
       "    </tr>\n",
       "  </tbody>\n",
       "</table>\n",
       "</div>"
      ],
      "text/plain": [
       "                                                   0  etiquetas\n",
       "0                            i didnt feel humiliated          0\n",
       "1  i can go from feeling so hopeless to so damned...          0\n",
       "2   im grabbing a minute to post i feel greedy wrong          3\n",
       "3  i am ever feeling nostalgic about the fireplac...          2\n",
       "4                               i am feeling grouchy          3"
      ]
     },
     "execution_count": 109,
     "metadata": {},
     "output_type": "execute_result"
    }
   ],
   "source": [
    "df.head()"
   ]
  },
  {
   "cell_type": "code",
   "execution_count": 110,
   "metadata": {},
   "outputs": [
    {
     "data": {
      "text/plain": [
       "<AxesSubplot:>"
      ]
     },
     "execution_count": 110,
     "metadata": {},
     "output_type": "execute_result"
    },
    {
     "data": {
      "image/png": "[encoded data removed]",
      "text/plain": [
       "<Figure size 432x288 with 1 Axes>"
      ]
     },
     "metadata": {
      "needs_background": "light"
     },
     "output_type": "display_data"
    }
   ],
   "source": [
    "df[\"etiquetas\"].value_counts(ascending=True).plot.barh()"
   ]
  },
  {
   "cell_type": "code",
   "execution_count": 111,
   "metadata": {},
   "outputs": [],
   "source": [
    "df[\"Longitud\"]=df[0].str.split().apply(len)"
   ]
  },
  {
   "cell_type": "code",
   "execution_count": 112,
   "metadata": {},
   "outputs": [
    {
     "data": {
      "text/html": [
       "<div>\n",
       "<style scoped>\n",
       "    .dataframe tbody tr th:only-of-type {\n",
       "        vertical-align: middle;\n",
       "    }\n",
       "\n",
       "    .dataframe tbody tr th {\n",
       "        vertical-align: top;\n",
       "    }\n",
       "\n",
       "    .dataframe thead th {\n",
       "        text-align: right;\n",
       "    }\n",
       "</style>\n",
       "<table border=\"1\" class=\"dataframe\">\n",
       "  <thead>\n",
       "    <tr style=\"text-align: right;\">\n",
       "      <th>etiquetas</th>\n",
       "      <th>0</th>\n",
       "      <th>1</th>\n",
       "      <th>2</th>\n",
       "      <th>3</th>\n",
       "      <th>4</th>\n",
       "      <th>5</th>\n",
       "      <th>Total</th>\n",
       "    </tr>\n",
       "    <tr>\n",
       "      <th>Longitud</th>\n",
       "      <th></th>\n",
       "      <th></th>\n",
       "      <th></th>\n",
       "      <th></th>\n",
       "      <th></th>\n",
       "      <th></th>\n",
       "      <th></th>\n",
       "    </tr>\n",
       "  </thead>\n",
       "  <tbody>\n",
       "    <tr>\n",
       "      <th>2</th>\n",
       "      <td>1</td>\n",
       "      <td>2</td>\n",
       "      <td>0</td>\n",
       "      <td>3</td>\n",
       "      <td>2</td>\n",
       "      <td>0</td>\n",
       "      <td>8</td>\n",
       "    </tr>\n",
       "    <tr>\n",
       "      <th>3</th>\n",
       "      <td>13</td>\n",
       "      <td>11</td>\n",
       "      <td>2</td>\n",
       "      <td>8</td>\n",
       "      <td>9</td>\n",
       "      <td>2</td>\n",
       "      <td>45</td>\n",
       "    </tr>\n",
       "    <tr>\n",
       "      <th>4</th>\n",
       "      <td>114</td>\n",
       "      <td>92</td>\n",
       "      <td>12</td>\n",
       "      <td>50</td>\n",
       "      <td>30</td>\n",
       "      <td>12</td>\n",
       "      <td>310</td>\n",
       "    </tr>\n",
       "    <tr>\n",
       "      <th>5</th>\n",
       "      <td>173</td>\n",
       "      <td>143</td>\n",
       "      <td>28</td>\n",
       "      <td>71</td>\n",
       "      <td>64</td>\n",
       "      <td>9</td>\n",
       "      <td>488</td>\n",
       "    </tr>\n",
       "    <tr>\n",
       "      <th>6</th>\n",
       "      <td>194</td>\n",
       "      <td>155</td>\n",
       "      <td>21</td>\n",
       "      <td>92</td>\n",
       "      <td>63</td>\n",
       "      <td>14</td>\n",
       "      <td>539</td>\n",
       "    </tr>\n",
       "    <tr>\n",
       "      <th>...</th>\n",
       "      <td>...</td>\n",
       "      <td>...</td>\n",
       "      <td>...</td>\n",
       "      <td>...</td>\n",
       "      <td>...</td>\n",
       "      <td>...</td>\n",
       "      <td>...</td>\n",
       "    </tr>\n",
       "    <tr>\n",
       "      <th>62</th>\n",
       "      <td>0</td>\n",
       "      <td>2</td>\n",
       "      <td>1</td>\n",
       "      <td>1</td>\n",
       "      <td>0</td>\n",
       "      <td>0</td>\n",
       "      <td>4</td>\n",
       "    </tr>\n",
       "    <tr>\n",
       "      <th>63</th>\n",
       "      <td>0</td>\n",
       "      <td>0</td>\n",
       "      <td>1</td>\n",
       "      <td>0</td>\n",
       "      <td>0</td>\n",
       "      <td>0</td>\n",
       "      <td>1</td>\n",
       "    </tr>\n",
       "    <tr>\n",
       "      <th>64</th>\n",
       "      <td>1</td>\n",
       "      <td>3</td>\n",
       "      <td>0</td>\n",
       "      <td>0</td>\n",
       "      <td>0</td>\n",
       "      <td>0</td>\n",
       "      <td>4</td>\n",
       "    </tr>\n",
       "    <tr>\n",
       "      <th>66</th>\n",
       "      <td>1</td>\n",
       "      <td>0</td>\n",
       "      <td>0</td>\n",
       "      <td>0</td>\n",
       "      <td>0</td>\n",
       "      <td>0</td>\n",
       "      <td>1</td>\n",
       "    </tr>\n",
       "    <tr>\n",
       "      <th>Total</th>\n",
       "      <td>4666</td>\n",
       "      <td>5362</td>\n",
       "      <td>1304</td>\n",
       "      <td>2159</td>\n",
       "      <td>1937</td>\n",
       "      <td>572</td>\n",
       "      <td>16000</td>\n",
       "    </tr>\n",
       "  </tbody>\n",
       "</table>\n",
       "<p>65 rows × 7 columns</p>\n",
       "</div>"
      ],
      "text/plain": [
       "etiquetas     0     1     2     3     4    5  Total\n",
       "Longitud                                           \n",
       "2             1     2     0     3     2    0      8\n",
       "3            13    11     2     8     9    2     45\n",
       "4           114    92    12    50    30   12    310\n",
       "5           173   143    28    71    64    9    488\n",
       "6           194   155    21    92    63   14    539\n",
       "...         ...   ...   ...   ...   ...  ...    ...\n",
       "62            0     2     1     1     0    0      4\n",
       "63            0     0     1     0     0    0      1\n",
       "64            1     3     0     0     0    0      4\n",
       "66            1     0     0     0     0    0      1\n",
       "Total      4666  5362  1304  2159  1937  572  16000\n",
       "\n",
       "[65 rows x 7 columns]"
      ]
     },
     "execution_count": 112,
     "metadata": {},
     "output_type": "execute_result"
    }
   ],
   "source": [
    "pd.crosstab(df[\"Longitud\"],df[\"etiquetas\"],margins=True,margins_name=\"Total\")"
   ]
  },
  {
   "cell_type": "code",
   "execution_count": 113,
   "metadata": {},
   "outputs": [
    {
     "data": {
      "text/plain": [
       "<AxesSubplot:title={'center':'Longitud'}, xlabel='etiquetas'>"
      ]
     },
     "execution_count": 113,
     "metadata": {},
     "output_type": "execute_result"
    },
    {
     "data": {
      "image/png": "[encoded data removed]",
      "text/plain": [
       "<Figure size 432x288 with 1 Axes>"
      ]
     },
     "metadata": {
      "needs_background": "light"
     },
     "output_type": "display_data"
    }
   ],
   "source": [
    "df.boxplot(\"Longitud\",by=\"etiquetas\")"
   ]
  },
  {
   "attachments": {},
   "cell_type": "markdown",
   "metadata": {},
   "source": [
    "i didn't $\\to$  i didnt"
   ]
  },
  {
   "attachments": {},
   "cell_type": "markdown",
   "metadata": {},
   "source": [
    "### Normalizar el texto\n",
    "* Eliminar los signos de puntuacion\n",
    "* Eliminar los stop-words\n",
    "* Pasaremos el texto de minuscula a mayuscula"
   ]
  },
  {
   "cell_type": "code",
   "execution_count": 114,
   "metadata": {},
   "outputs": [],
   "source": [
    "import re"
   ]
  },
  {
   "cell_type": "code",
   "execution_count": 115,
   "metadata": {},
   "outputs": [
    {
     "data": {
      "text/plain": [
       "'i didnt feel humiliated'"
      ]
     },
     "execution_count": 115,
     "metadata": {},
     "output_type": "execute_result"
    }
   ],
   "source": [
    "df[0][0]"
   ]
  },
  {
   "cell_type": "code",
   "execution_count": 116,
   "metadata": {},
   "outputs": [
    {
     "data": {
      "text/plain": [
       "'D'"
      ]
     },
     "execution_count": 116,
     "metadata": {},
     "output_type": "execute_result"
    }
   ],
   "source": [
    "re.sub(r'[^\\w\\s]','',df[0][0][2]).upper()"
   ]
  },
  {
   "cell_type": "code",
   "execution_count": 117,
   "metadata": {},
   "outputs": [],
   "source": [
    "Lista=[]\n",
    "for i in df[0][0].split():\n",
    "    Lista.append(re.sub(r'[^\\w\\s]','',i).upper())"
   ]
  },
  {
   "cell_type": "code",
   "execution_count": 118,
   "metadata": {},
   "outputs": [
    {
     "data": {
      "text/plain": [
       "['I', 'DIDNT', 'FEEL', 'HUMILIATED']"
      ]
     },
     "execution_count": 118,
     "metadata": {},
     "output_type": "execute_result"
    }
   ],
   "source": [
    "Lista"
   ]
  },
  {
   "cell_type": "code",
   "execution_count": 119,
   "metadata": {},
   "outputs": [],
   "source": [
    "Listaa=[]\n",
    "for i in range(40):\n",
    "    Listaa.append((df[0][i],df[\"etiquetas\"][i]))"
   ]
  },
  {
   "cell_type": "code",
   "execution_count": 120,
   "metadata": {},
   "outputs": [
    {
     "data": {
      "text/plain": [
       "[('i didnt feel humiliated', 0),\n",
       " ('i can go from feeling so hopeless to so damned hopeful just from being around someone who cares and is awake',\n",
       "  0),\n",
       " ('im grabbing a minute to post i feel greedy wrong', 3),\n",
       " ('i am ever feeling nostalgic about the fireplace i will know that it is still on the property',\n",
       "  2),\n",
       " ('i am feeling grouchy', 3),\n",
       " ('ive been feeling a little burdened lately wasnt sure why that was', 0),\n",
       " ('ive been taking or milligrams or times recommended amount and ive fallen asleep a lot faster but i also feel like so funny',\n",
       "  5),\n",
       " ('i feel as confused about life as a teenager or as jaded as a year old man',\n",
       "  4),\n",
       " ('i have been with petronas for years i feel that petronas has performed well and made a huge profit',\n",
       "  1),\n",
       " ('i feel romantic too', 2),\n",
       " ('i feel like i have to make the suffering i m seeing mean something', 0),\n",
       " ('i do feel that running is a divine experience and that i can expect to have some type of spiritual encounter',\n",
       "  1),\n",
       " ('i think it s the easiest time of year to feel dissatisfied', 3),\n",
       " ('i feel low energy i m just thirsty', 0),\n",
       " ('i have immense sympathy with the general point but as a possible proto writer trying to find time to write in the corners of life and with no sign of an agent let alone a publishing contract this feels a little precious',\n",
       "  1),\n",
       " ('i do not feel reassured anxiety is on each side', 1),\n",
       " ('i didnt really feel that embarrassed', 0),\n",
       " ('i feel pretty pathetic most of the time', 0),\n",
       " ('i started feeling sentimental about dolls i had as a child and so began a collection of vintage barbie dolls from the sixties',\n",
       "  0),\n",
       " ('i now feel compromised and skeptical of the value of every unit of work i put in',\n",
       "  4),\n",
       " ('i feel irritated and rejected without anyone doing anything or saying anything',\n",
       "  3),\n",
       " ('i am feeling completely overwhelmed i have two strategies that help me to feel grounded pour my heart out in my journal in the form of a letter to god and then end with a list of five things i am most grateful for',\n",
       "  4),\n",
       " ('i have the feeling she was amused and delighted', 1),\n",
       " ('i was able to help chai lifeline with your support and encouragement is a great feeling and i am so glad you were able to help me',\n",
       "  1),\n",
       " ('i already feel like i fucked up though because i dont usually eat at all in the morning',\n",
       "  3),\n",
       " ('i still love my so and wish the best for him i can no longer tolerate the effect that bm has on our lives and the fact that is has turned my so into a bitter angry person who is not always particularly kind to the people around him when he is feeling stressed',\n",
       "  0),\n",
       " ('i feel so inhibited in someone elses kitchen like im painting on someone elses picture',\n",
       "  0),\n",
       " ('i become overwhelmed and feel defeated', 0),\n",
       " ('i feel kinda appalled that she feels like she needs to explain in wide and lenghth her body measures etc pp',\n",
       "  3),\n",
       " ('i feel more superior dead chicken or grieving child', 1),\n",
       " ('i get giddy over feeling elegant in a perfectly fitted pencil skirt', 1),\n",
       " ('i remember feeling acutely distressed for a few days', 4),\n",
       " ('i have seen heard and read over the past couple of days i am left feeling impressed by more than a few companies',\n",
       "  5),\n",
       " ('i climbed the hill feeling frustrated that id pretty much paced entirely wrong for this course and that a factor that has never ever hampered me had made such a dent in the day',\n",
       "  3),\n",
       " ('i can t imagine a real life scenario where i would be emotionally connected enough with someone to feel totally accepted and safe where it it morally acceptable for me to have close and prolonged physical contact and where sex won t be expected subsequently',\n",
       "  1),\n",
       " ('i am not sure what would make me feel content if anything', 1),\n",
       " ('i have been feeling the need to be creative', 1),\n",
       " ('i do however want you to know that if something someone is causing you to feel less then your splendid self step away from them',\n",
       "  1),\n",
       " ('i feel a bit rude writing to an elderly gentleman to ask for gifts because i feel a bit greedy but what is christmas about if not mild greed',\n",
       "  3),\n",
       " ('i need you i need someone i need to be protected and feel safe i am small now i find myself in a season of no words',\n",
       "  1)]"
      ]
     },
     "execution_count": 120,
     "metadata": {},
     "output_type": "execute_result"
    }
   ],
   "source": [
    "Listaa"
   ]
  },
  {
   "cell_type": "code",
   "execution_count": 121,
   "metadata": {},
   "outputs": [],
   "source": [
    "def normalizar(Texto):\n",
    "    texto=[]\n",
    "    for (Palabras,Etiqutas) in Texto:\n",
    "        palabra_filtro=[]\n",
    "        for Palabra in Palabras.split():\n",
    "            Palabra = re.sub(r'[^\\w\\s]','',Palabra).lower()\n",
    "            if len(Palabra)>2 and Palabra not in stopwords.words(\"english\"):\n",
    "                palabra_filtro.append(Palabra)\n",
    "        texto.append((palabra_filtro,Etiqutas))\n",
    "    return texto\n"
   ]
  },
  {
   "cell_type": "code",
   "execution_count": 122,
   "metadata": {},
   "outputs": [
    {
     "data": {
      "text/plain": [
       "[(['didnt', 'feel', 'humiliated'], 0),\n",
       " (['feeling',\n",
       "   'hopeless',\n",
       "   'damned',\n",
       "   'hopeful',\n",
       "   'around',\n",
       "   'someone',\n",
       "   'cares',\n",
       "   'awake'],\n",
       "  0),\n",
       " (['grabbing', 'minute', 'post', 'feel', 'greedy', 'wrong'], 3),\n",
       " (['ever', 'feeling', 'nostalgic', 'fireplace', 'know', 'still', 'property'],\n",
       "  2),\n",
       " (['feeling', 'grouchy'], 3),\n",
       " (['ive', 'feeling', 'little', 'burdened', 'lately', 'wasnt', 'sure'], 0),\n",
       " (['ive',\n",
       "   'taking',\n",
       "   'milligrams',\n",
       "   'times',\n",
       "   'recommended',\n",
       "   'amount',\n",
       "   'ive',\n",
       "   'fallen',\n",
       "   'asleep',\n",
       "   'lot',\n",
       "   'faster',\n",
       "   'also',\n",
       "   'feel',\n",
       "   'like',\n",
       "   'funny'],\n",
       "  5),\n",
       " (['feel', 'confused', 'life', 'teenager', 'jaded', 'year', 'old', 'man'], 4),\n",
       " (['petronas',\n",
       "   'years',\n",
       "   'feel',\n",
       "   'petronas',\n",
       "   'performed',\n",
       "   'well',\n",
       "   'made',\n",
       "   'huge',\n",
       "   'profit'],\n",
       "  1),\n",
       " (['feel', 'romantic'], 2),\n",
       " (['feel', 'like', 'make', 'suffering', 'seeing', 'mean', 'something'], 0),\n",
       " (['feel',\n",
       "   'running',\n",
       "   'divine',\n",
       "   'experience',\n",
       "   'expect',\n",
       "   'type',\n",
       "   'spiritual',\n",
       "   'encounter'],\n",
       "  1),\n",
       " (['think', 'easiest', 'time', 'year', 'feel', 'dissatisfied'], 3),\n",
       " (['feel', 'low', 'energy', 'thirsty'], 0),\n",
       " (['immense',\n",
       "   'sympathy',\n",
       "   'general',\n",
       "   'point',\n",
       "   'possible',\n",
       "   'proto',\n",
       "   'writer',\n",
       "   'trying',\n",
       "   'find',\n",
       "   'time',\n",
       "   'write',\n",
       "   'corners',\n",
       "   'life',\n",
       "   'sign',\n",
       "   'agent',\n",
       "   'let',\n",
       "   'alone',\n",
       "   'publishing',\n",
       "   'contract',\n",
       "   'feels',\n",
       "   'little',\n",
       "   'precious'],\n",
       "  1),\n",
       " (['feel', 'reassured', 'anxiety', 'side'], 1),\n",
       " (['didnt', 'really', 'feel', 'embarrassed'], 0),\n",
       " (['feel', 'pretty', 'pathetic', 'time'], 0),\n",
       " (['started',\n",
       "   'feeling',\n",
       "   'sentimental',\n",
       "   'dolls',\n",
       "   'child',\n",
       "   'began',\n",
       "   'collection',\n",
       "   'vintage',\n",
       "   'barbie',\n",
       "   'dolls',\n",
       "   'sixties'],\n",
       "  0),\n",
       " (['feel',\n",
       "   'compromised',\n",
       "   'skeptical',\n",
       "   'value',\n",
       "   'every',\n",
       "   'unit',\n",
       "   'work',\n",
       "   'put'],\n",
       "  4),\n",
       " (['feel',\n",
       "   'irritated',\n",
       "   'rejected',\n",
       "   'without',\n",
       "   'anyone',\n",
       "   'anything',\n",
       "   'saying',\n",
       "   'anything'],\n",
       "  3),\n",
       " (['feeling',\n",
       "   'completely',\n",
       "   'overwhelmed',\n",
       "   'two',\n",
       "   'strategies',\n",
       "   'help',\n",
       "   'feel',\n",
       "   'grounded',\n",
       "   'pour',\n",
       "   'heart',\n",
       "   'journal',\n",
       "   'form',\n",
       "   'letter',\n",
       "   'god',\n",
       "   'end',\n",
       "   'list',\n",
       "   'five',\n",
       "   'things',\n",
       "   'grateful'],\n",
       "  4),\n",
       " (['feeling', 'amused', 'delighted'], 1),\n",
       " (['able',\n",
       "   'help',\n",
       "   'chai',\n",
       "   'lifeline',\n",
       "   'support',\n",
       "   'encouragement',\n",
       "   'great',\n",
       "   'feeling',\n",
       "   'glad',\n",
       "   'able',\n",
       "   'help'],\n",
       "  1),\n",
       " (['already',\n",
       "   'feel',\n",
       "   'like',\n",
       "   'fucked',\n",
       "   'though',\n",
       "   'dont',\n",
       "   'usually',\n",
       "   'eat',\n",
       "   'morning'],\n",
       "  3),\n",
       " (['still',\n",
       "   'love',\n",
       "   'wish',\n",
       "   'best',\n",
       "   'longer',\n",
       "   'tolerate',\n",
       "   'effect',\n",
       "   'lives',\n",
       "   'fact',\n",
       "   'turned',\n",
       "   'bitter',\n",
       "   'angry',\n",
       "   'person',\n",
       "   'always',\n",
       "   'particularly',\n",
       "   'kind',\n",
       "   'people',\n",
       "   'around',\n",
       "   'feeling',\n",
       "   'stressed'],\n",
       "  0),\n",
       " (['feel',\n",
       "   'inhibited',\n",
       "   'someone',\n",
       "   'elses',\n",
       "   'kitchen',\n",
       "   'like',\n",
       "   'painting',\n",
       "   'someone',\n",
       "   'elses',\n",
       "   'picture'],\n",
       "  0),\n",
       " (['become', 'overwhelmed', 'feel', 'defeated'], 0),\n",
       " (['feel',\n",
       "   'kinda',\n",
       "   'appalled',\n",
       "   'feels',\n",
       "   'like',\n",
       "   'needs',\n",
       "   'explain',\n",
       "   'wide',\n",
       "   'lenghth',\n",
       "   'body',\n",
       "   'measures',\n",
       "   'etc'],\n",
       "  3),\n",
       " (['feel', 'superior', 'dead', 'chicken', 'grieving', 'child'], 1),\n",
       " (['get',\n",
       "   'giddy',\n",
       "   'feeling',\n",
       "   'elegant',\n",
       "   'perfectly',\n",
       "   'fitted',\n",
       "   'pencil',\n",
       "   'skirt'],\n",
       "  1),\n",
       " (['remember', 'feeling', 'acutely', 'distressed', 'days'], 4),\n",
       " (['seen',\n",
       "   'heard',\n",
       "   'read',\n",
       "   'past',\n",
       "   'couple',\n",
       "   'days',\n",
       "   'left',\n",
       "   'feeling',\n",
       "   'impressed',\n",
       "   'companies'],\n",
       "  5),\n",
       " (['climbed',\n",
       "   'hill',\n",
       "   'feeling',\n",
       "   'frustrated',\n",
       "   'pretty',\n",
       "   'much',\n",
       "   'paced',\n",
       "   'entirely',\n",
       "   'wrong',\n",
       "   'course',\n",
       "   'factor',\n",
       "   'never',\n",
       "   'ever',\n",
       "   'hampered',\n",
       "   'made',\n",
       "   'dent',\n",
       "   'day'],\n",
       "  3),\n",
       " (['imagine',\n",
       "   'real',\n",
       "   'life',\n",
       "   'scenario',\n",
       "   'would',\n",
       "   'emotionally',\n",
       "   'connected',\n",
       "   'enough',\n",
       "   'someone',\n",
       "   'feel',\n",
       "   'totally',\n",
       "   'accepted',\n",
       "   'safe',\n",
       "   'morally',\n",
       "   'acceptable',\n",
       "   'close',\n",
       "   'prolonged',\n",
       "   'physical',\n",
       "   'contact',\n",
       "   'sex',\n",
       "   'expected',\n",
       "   'subsequently'],\n",
       "  1),\n",
       " (['sure', 'would', 'make', 'feel', 'content', 'anything'], 1),\n",
       " (['feeling', 'need', 'creative'], 1),\n",
       " (['however',\n",
       "   'want',\n",
       "   'know',\n",
       "   'something',\n",
       "   'someone',\n",
       "   'causing',\n",
       "   'feel',\n",
       "   'less',\n",
       "   'splendid',\n",
       "   'self',\n",
       "   'step',\n",
       "   'away'],\n",
       "  1),\n",
       " (['feel',\n",
       "   'bit',\n",
       "   'rude',\n",
       "   'writing',\n",
       "   'elderly',\n",
       "   'gentleman',\n",
       "   'ask',\n",
       "   'gifts',\n",
       "   'feel',\n",
       "   'bit',\n",
       "   'greedy',\n",
       "   'christmas',\n",
       "   'mild',\n",
       "   'greed'],\n",
       "  3),\n",
       " (['need',\n",
       "   'need',\n",
       "   'someone',\n",
       "   'need',\n",
       "   'protected',\n",
       "   'feel',\n",
       "   'safe',\n",
       "   'small',\n",
       "   'find',\n",
       "   'season',\n",
       "   'words'],\n",
       "  1)]"
      ]
     },
     "execution_count": 122,
     "metadata": {},
     "output_type": "execute_result"
    }
   ],
   "source": [
    "normalizar(Listaa)"
   ]
  },
  {
   "cell_type": "code",
   "execution_count": 135,
   "metadata": {},
   "outputs": [],
   "source": [
    "def extraccion_variables(Texto):\n",
    "    Palabras_Texto= set(Texto)\n",
    "    Variable = {}\n",
    "    for Palabra in Palabras_Texto:\n",
    "        Variable['contains(%s)' % Palabra] = (Palabra in Palabras_Texto)\n",
    "    return Variable"
   ]
  },
  {
   "cell_type": "code",
   "execution_count": 136,
   "metadata": {},
   "outputs": [],
   "source": [
    "import nltk"
   ]
  },
  {
   "cell_type": "code",
   "execution_count": 137,
   "metadata": {},
   "outputs": [
    {
     "name": "stdout",
     "output_type": "stream",
     "text": [
      "({'contains(feel)': True, 'contains(humiliated)': True, 'contains(didnt)': True}, 0)\n"
     ]
    }
   ],
   "source": [
    "Frases=normalizar(Listaa)\n",
    "training_set = nltk.classify.apply_features(extraccion_variables, Frases)\n",
    "\n",
    "print(training_set[0])\n",
    "Frases[0]\n",
    "classifier=nltk.NaiveBayesClassifier.train(training_set)"
   ]
  },
  {
   "cell_type": "code",
   "execution_count": 134,
   "metadata": {},
   "outputs": [
    {
     "data": {
      "text/plain": [
       "[({'contains(feel)': True, 'contains(humiliated)': True, 'contains(didnt)': True}, 0), ({'contains(someone)': True, 'contains(damned)': True, 'contains(around)': True, 'contains(awake)': True, 'contains(hopeless)': True, 'contains(feeling)': True, 'contains(hopeful)': True, 'contains(cares)': True}, 0), ...]"
      ]
     },
     "execution_count": 134,
     "metadata": {},
     "output_type": "execute_result"
    }
   ],
   "source": [
    "training_set"
   ]
  },
  {
   "cell_type": "code",
   "execution_count": 128,
   "metadata": {},
   "outputs": [
    {
     "data": {
      "text/plain": [
       "Dataset({\n",
       "    features: ['text', 'label'],\n",
       "    num_rows: 2000\n",
       "})"
      ]
     },
     "execution_count": 128,
     "metadata": {},
     "output_type": "execute_result"
    }
   ],
   "source": [
    "emociones[\"validation\"]"
   ]
  },
  {
   "cell_type": "code",
   "execution_count": 129,
   "metadata": {},
   "outputs": [],
   "source": [
    "df_val=pd.DataFrame(emociones[\"validation\"][\"text\"])\n",
    "df_val[\"label\"]=emociones[\"validation\"][\"label\"]"
   ]
  },
  {
   "cell_type": "code",
   "execution_count": 130,
   "metadata": {},
   "outputs": [],
   "source": [
    "df_test=pd.DataFrame(emociones[\"test\"][\"text\"])\n",
    "df_test[\"label\"]=emociones[\"test\"][\"label\"]"
   ]
  },
  {
   "cell_type": "code",
   "execution_count": 131,
   "metadata": {},
   "outputs": [
    {
     "data": {
      "text/html": [
       "<div>\n",
       "<style scoped>\n",
       "    .dataframe tbody tr th:only-of-type {\n",
       "        vertical-align: middle;\n",
       "    }\n",
       "\n",
       "    .dataframe tbody tr th {\n",
       "        vertical-align: top;\n",
       "    }\n",
       "\n",
       "    .dataframe thead th {\n",
       "        text-align: right;\n",
       "    }\n",
       "</style>\n",
       "<table border=\"1\" class=\"dataframe\">\n",
       "  <thead>\n",
       "    <tr style=\"text-align: right;\">\n",
       "      <th></th>\n",
       "      <th>0</th>\n",
       "      <th>label</th>\n",
       "    </tr>\n",
       "  </thead>\n",
       "  <tbody>\n",
       "    <tr>\n",
       "      <th>0</th>\n",
       "      <td>im feeling quite sad and sorry for myself but ...</td>\n",
       "      <td>0</td>\n",
       "    </tr>\n",
       "    <tr>\n",
       "      <th>1</th>\n",
       "      <td>i feel like i am still looking at a blank canv...</td>\n",
       "      <td>0</td>\n",
       "    </tr>\n",
       "    <tr>\n",
       "      <th>2</th>\n",
       "      <td>i feel like a faithful servant</td>\n",
       "      <td>2</td>\n",
       "    </tr>\n",
       "    <tr>\n",
       "      <th>3</th>\n",
       "      <td>i am just feeling cranky and blue</td>\n",
       "      <td>3</td>\n",
       "    </tr>\n",
       "    <tr>\n",
       "      <th>4</th>\n",
       "      <td>i can have for a treat or if i am feeling festive</td>\n",
       "      <td>1</td>\n",
       "    </tr>\n",
       "  </tbody>\n",
       "</table>\n",
       "</div>"
      ],
      "text/plain": [
       "                                                   0  label\n",
       "0  im feeling quite sad and sorry for myself but ...      0\n",
       "1  i feel like i am still looking at a blank canv...      0\n",
       "2                     i feel like a faithful servant      2\n",
       "3                  i am just feeling cranky and blue      3\n",
       "4  i can have for a treat or if i am feeling festive      1"
      ]
     },
     "execution_count": 131,
     "metadata": {},
     "output_type": "execute_result"
    }
   ],
   "source": [
    "df_val.head()"
   ]
  },
  {
   "cell_type": "code",
   "execution_count": 138,
   "metadata": {},
   "outputs": [],
   "source": [
    "Lista_val=[]\n",
    "for i in range(40):\n",
    "    Lista_val.append((df_val[0][i],df_val[\"label\"][i]))"
   ]
  },
  {
   "cell_type": "code",
   "execution_count": 139,
   "metadata": {},
   "outputs": [],
   "source": [
    "Frases_val=normalizar(Lista_val)"
   ]
  },
  {
   "cell_type": "code",
   "execution_count": 140,
   "metadata": {},
   "outputs": [
    {
     "data": {
      "text/plain": [
       "[(['feeling', 'quite', 'sad', 'sorry', 'ill', 'snap', 'soon'], 0),\n",
       " (['feel',\n",
       "   'like',\n",
       "   'still',\n",
       "   'looking',\n",
       "   'blank',\n",
       "   'canvas',\n",
       "   'blank',\n",
       "   'pieces',\n",
       "   'paper'],\n",
       "  0),\n",
       " (['feel', 'like', 'faithful', 'servant'], 2),\n",
       " (['feeling', 'cranky', 'blue'], 3),\n",
       " (['treat', 'feeling', 'festive'], 1),\n",
       " (['start', 'feel', 'appreciative', 'god', 'done'], 1),\n",
       " (['feeling', 'confident', 'able', 'take', 'care', 'baby'], 1),\n",
       " (['feel', 'incredibly', 'lucky', 'able', 'talk'], 1),\n",
       " (['feel', 'less', 'keen', 'army', 'every', 'day'], 1),\n",
       " (['feel', 'dirty', 'ashamed', 'saying'], 0),\n",
       " (['feel', 'bitchy', 'defeated', 'yet'], 3),\n",
       " (['dribbling',\n",
       "   'mums',\n",
       "   'coffee',\n",
       "   'table',\n",
       "   'looking',\n",
       "   'window',\n",
       "   'feeling',\n",
       "   'happy'],\n",
       "  1),\n",
       " (['woke',\n",
       "   'often',\n",
       "   'got',\n",
       "   'around',\n",
       "   'feeling',\n",
       "   'pukey',\n",
       "   'radiation',\n",
       "   'groggy'],\n",
       "  0),\n",
       " (['feeling', 'sentimental'], 0),\n",
       " (['walked',\n",
       "   'hour',\n",
       "   'fifteen',\n",
       "   'minutes',\n",
       "   'later',\n",
       "   'feeling',\n",
       "   'like',\n",
       "   'beaten',\n",
       "   'stick',\n",
       "   'placed',\n",
       "   'rack',\n",
       "   'stretched'],\n",
       "  0),\n",
       " (['never',\n",
       "   'stop',\n",
       "   'feeling',\n",
       "   'thankful',\n",
       "   'compare',\n",
       "   'others',\n",
       "   'considered',\n",
       "   'lucky',\n",
       "   'encounter',\n",
       "   'ruthless',\n",
       "   'pirates',\n",
       "   'witness',\n",
       "   'slaughter',\n",
       "   'others'],\n",
       "  1),\n",
       " (['feel', 'abused', 'quite', 'honestly', 'made', 'day', 'little', 'better'],\n",
       "  0),\n",
       " (['know',\n",
       "   'feels',\n",
       "   'like',\n",
       "   'stressed',\n",
       "   'glaring',\n",
       "   'squeezed',\n",
       "   'soap',\n",
       "   'onto',\n",
       "   'sponge'],\n",
       "  3),\n",
       " (['also',\n",
       "   'loved',\n",
       "   'could',\n",
       "   'really',\n",
       "   'feel',\n",
       "   'desperation',\n",
       "   'sequences',\n",
       "   'especially',\n",
       "   'liked',\n",
       "   'emotion',\n",
       "   'knight',\n",
       "   'squire',\n",
       "   'theyve',\n",
       "   'together',\n",
       "   'similar',\n",
       "   'fashion',\n",
       "   'batman',\n",
       "   'robin',\n",
       "   'long',\n",
       "   'time'],\n",
       "  2),\n",
       " (['lunch', 'old', 'friend', 'nice', 'general', 'feeling', 'energetic'], 1),\n",
       " (['know', 'begin', 'going', 'feel', 'shy'], 4),\n",
       " (['feel',\n",
       "   'try',\n",
       "   'tell',\n",
       "   'ungrateful',\n",
       "   'tell',\n",
       "   'basically',\n",
       "   'worst',\n",
       "   'daughter',\n",
       "   'sister',\n",
       "   'world'],\n",
       "  0),\n",
       " (['feel', 'something', 'never', 'really', 'resolved'], 1),\n",
       " (['feel', 'like', 'efforts', 'vain', 'waste', 'time'], 0),\n",
       " (['feel',\n",
       "   'absolutely',\n",
       "   'foolish',\n",
       "   'allowing',\n",
       "   'actually',\n",
       "   'believe',\n",
       "   'might',\n",
       "   'month',\n",
       "   'weve',\n",
       "   'praying',\n",
       "   'hard'],\n",
       "  0),\n",
       " (['waited',\n",
       "   'eternity',\n",
       "   'download',\n",
       "   'remembering',\n",
       "   'day',\n",
       "   'wait',\n",
       "   'walmart',\n",
       "   'buy',\n",
       "   'whole',\n",
       "   'hear',\n",
       "   'one',\n",
       "   'song',\n",
       "   'feeling',\n",
       "   'kinda',\n",
       "   'dumb',\n",
       "   'impatience'],\n",
       "  0),\n",
       " (['know',\n",
       "   'anybody',\n",
       "   'ever',\n",
       "   'able',\n",
       "   'feel',\n",
       "   'feel',\n",
       "   'least',\n",
       "   'relate',\n",
       "   'everything',\n",
       "   'lost',\n",
       "   'find',\n",
       "   'missing',\n",
       "   'longing'],\n",
       "  0),\n",
       " (['feel', 'beloved', 'preparing', 'wedding'], 1),\n",
       " (['would', 'feel', 'missed', 'wealth', 'treasures', 'read'], 0),\n",
       " (['finished',\n",
       "   'film',\n",
       "   'feel',\n",
       "   'kind',\n",
       "   'regretful',\n",
       "   'wasnt',\n",
       "   'able',\n",
       "   'catch',\n",
       "   'big',\n",
       "   'screen'],\n",
       "  0),\n",
       " (['feel',\n",
       "   'like',\n",
       "   'caring',\n",
       "   'body',\n",
       "   'attempt',\n",
       "   'right',\n",
       "   'size',\n",
       "   'feel',\n",
       "   'good',\n",
       "   'full',\n",
       "   'life'],\n",
       "  2),\n",
       " (['feel', 'damaged', 'want', 'care', 'continuer'], 0),\n",
       " (['found',\n",
       "   'past',\n",
       "   'blog',\n",
       "   'daily',\n",
       "   'say',\n",
       "   'get',\n",
       "   'feelings',\n",
       "   'emotions',\n",
       "   'creative',\n",
       "   'ways'],\n",
       "  1),\n",
       " (['candy',\n",
       "   'factory',\n",
       "   'clearly',\n",
       "   'tourist',\n",
       "   'production',\n",
       "   'line',\n",
       "   'feel',\n",
       "   'unpleasant',\n",
       "   'hurried',\n",
       "   'well',\n",
       "   'planned',\n",
       "   'professional',\n",
       "   'interesting',\n",
       "   'picturesque',\n",
       "   'visit'],\n",
       "  0),\n",
       " (['feel',\n",
       "   'pathetic',\n",
       "   'downright',\n",
       "   'dumb',\n",
       "   'let',\n",
       "   'people',\n",
       "   'let',\n",
       "   'toy',\n",
       "   'feelings',\n",
       "   'leaving',\n",
       "   'clean',\n",
       "   'pile',\n",
       "   'sadness',\n",
       "   'inside'],\n",
       "  0),\n",
       " (['feeling', 'blessed', 'today', 'share', 'close', 'bond'], 1),\n",
       " (['constantly', 'feel', 'fits', 'discontent'], 0),\n",
       " (['ive', 'consumed', 'guilt', 'feelings', 'discontent'], 0),\n",
       " (['feel',\n",
       "   'like',\n",
       "   'taking',\n",
       "   'whack',\n",
       "   'someone',\n",
       "   'eye',\n",
       "   'spitting',\n",
       "   'cranky',\n",
       "   'old',\n",
       "   'lady',\n",
       "   'try',\n",
       "   'cheer'],\n",
       "  3),\n",
       " (['feel', 'really', 'special', 'important'], 1)]"
      ]
     },
     "execution_count": 140,
     "metadata": {},
     "output_type": "execute_result"
    }
   ],
   "source": [
    "Frases_val"
   ]
  },
  {
   "cell_type": "code",
   "execution_count": 143,
   "metadata": {},
   "outputs": [
    {
     "data": {
      "text/plain": [
       "['feeling', 'quite', 'sad', 'sorry', 'ill', 'snap', 'soon']"
      ]
     },
     "execution_count": 143,
     "metadata": {},
     "output_type": "execute_result"
    }
   ],
   "source": [
    "Frases_val[0][0]"
   ]
  },
  {
   "cell_type": "code",
   "execution_count": 147,
   "metadata": {},
   "outputs": [
    {
     "name": "stdout",
     "output_type": "stream",
     "text": [
      " La frase ['feeling', 'quite', 'sad', 'sorry', 'ill', 'snap', 'soon'] \n",
      " Es predicha 1 \n",
      " lo correcto es 0\n",
      " La frase ['feel', 'like', 'still', 'looking', 'blank', 'canvas', 'blank', 'pieces', 'paper'] \n",
      " Es predicha 0 \n",
      " lo correcto es 0\n",
      " La frase ['feel', 'like', 'faithful', 'servant'] \n",
      " Es predicha 3 \n",
      " lo correcto es 2\n",
      " La frase ['feeling', 'cranky', 'blue'] \n",
      " Es predicha 1 \n",
      " lo correcto es 3\n",
      " La frase ['treat', 'feeling', 'festive'] \n",
      " Es predicha 1 \n",
      " lo correcto es 1\n",
      " La frase ['start', 'feel', 'appreciative', 'god', 'done'] \n",
      " Es predicha 4 \n",
      " lo correcto es 1\n",
      " La frase ['feeling', 'confident', 'able', 'take', 'care', 'baby'] \n",
      " Es predicha 1 \n",
      " lo correcto es 1\n",
      " La frase ['feel', 'incredibly', 'lucky', 'able', 'talk'] \n",
      " Es predicha 1 \n",
      " lo correcto es 1\n",
      " La frase ['feel', 'less', 'keen', 'army', 'every', 'day'] \n",
      " Es predicha 4 \n",
      " lo correcto es 1\n",
      " La frase ['feel', 'dirty', 'ashamed', 'saying'] \n",
      " Es predicha 3 \n",
      " lo correcto es 0\n",
      " La frase ['feel', 'bitchy', 'defeated', 'yet'] \n",
      " Es predicha 0 \n",
      " lo correcto es 3\n",
      " La frase ['dribbling', 'mums', 'coffee', 'table', 'looking', 'window', 'feeling', 'happy'] \n",
      " Es predicha 1 \n",
      " lo correcto es 1\n",
      " La frase ['woke', 'often', 'got', 'around', 'feeling', 'pukey', 'radiation', 'groggy'] \n",
      " Es predicha 0 \n",
      " lo correcto es 0\n",
      " La frase ['feeling', 'sentimental'] \n",
      " Es predicha 0 \n",
      " lo correcto es 0\n",
      " La frase ['walked', 'hour', 'fifteen', 'minutes', 'later', 'feeling', 'like', 'beaten', 'stick', 'placed', 'rack', 'stretched'] \n",
      " Es predicha 0 \n",
      " lo correcto es 0\n",
      " La frase ['never', 'stop', 'feeling', 'thankful', 'compare', 'others', 'considered', 'lucky', 'encounter', 'ruthless', 'pirates', 'witness', 'slaughter', 'others'] \n",
      " Es predicha 5 \n",
      " lo correcto es 1\n",
      " La frase ['feel', 'abused', 'quite', 'honestly', 'made', 'day', 'little', 'better'] \n",
      " Es predicha 3 \n",
      " lo correcto es 0\n",
      " La frase ['know', 'feels', 'like', 'stressed', 'glaring', 'squeezed', 'soap', 'onto', 'sponge'] \n",
      " Es predicha 5 \n",
      " lo correcto es 3\n",
      " La frase ['also', 'loved', 'could', 'really', 'feel', 'desperation', 'sequences', 'especially', 'liked', 'emotion', 'knight', 'squire', 'theyve', 'together', 'similar', 'fashion', 'batman', 'robin', 'long', 'time'] \n",
      " Es predicha 5 \n",
      " lo correcto es 2\n",
      " La frase ['lunch', 'old', 'friend', 'nice', 'general', 'feeling', 'energetic'] \n",
      " Es predicha 4 \n",
      " lo correcto es 1\n",
      " La frase ['know', 'begin', 'going', 'feel', 'shy'] \n",
      " Es predicha 1 \n",
      " lo correcto es 4\n",
      " La frase ['feel', 'try', 'tell', 'ungrateful', 'tell', 'basically', 'worst', 'daughter', 'sister', 'world'] \n",
      " Es predicha 1 \n",
      " lo correcto es 0\n",
      " La frase ['feel', 'something', 'never', 'really', 'resolved'] \n",
      " Es predicha 5 \n",
      " lo correcto es 1\n",
      " La frase ['feel', 'like', 'efforts', 'vain', 'waste', 'time'] \n",
      " Es predicha 3 \n",
      " lo correcto es 0\n",
      " La frase ['feel', 'absolutely', 'foolish', 'allowing', 'actually', 'believe', 'might', 'month', 'weve', 'praying', 'hard'] \n",
      " Es predicha 1 \n",
      " lo correcto es 0\n",
      " La frase ['waited', 'eternity', 'download', 'remembering', 'day', 'wait', 'walmart', 'buy', 'whole', 'hear', 'one', 'song', 'feeling', 'kinda', 'dumb', 'impatience'] \n",
      " Es predicha 3 \n",
      " lo correcto es 0\n",
      " La frase ['know', 'anybody', 'ever', 'able', 'feel', 'feel', 'least', 'relate', 'everything', 'lost', 'find', 'missing', 'longing'] \n",
      " Es predicha 2 \n",
      " lo correcto es 0\n",
      " La frase ['feel', 'beloved', 'preparing', 'wedding'] \n",
      " Es predicha 1 \n",
      " lo correcto es 1\n",
      " La frase ['would', 'feel', 'missed', 'wealth', 'treasures', 'read'] \n",
      " Es predicha 5 \n",
      " lo correcto es 0\n",
      " La frase ['finished', 'film', 'feel', 'kind', 'regretful', 'wasnt', 'able', 'catch', 'big', 'screen'] \n",
      " Es predicha 5 \n",
      " lo correcto es 0\n",
      " La frase ['feel', 'like', 'caring', 'body', 'attempt', 'right', 'size', 'feel', 'good', 'full', 'life'] \n",
      " Es predicha 5 \n",
      " lo correcto es 2\n",
      " La frase ['feel', 'damaged', 'want', 'care', 'continuer'] \n",
      " Es predicha 1 \n",
      " lo correcto es 0\n",
      " La frase ['found', 'past', 'blog', 'daily', 'say', 'get', 'feelings', 'emotions', 'creative', 'ways'] \n",
      " Es predicha 5 \n",
      " lo correcto es 1\n",
      " La frase ['candy', 'factory', 'clearly', 'tourist', 'production', 'line', 'feel', 'unpleasant', 'hurried', 'well', 'planned', 'professional', 'interesting', 'picturesque', 'visit'] \n",
      " Es predicha 1 \n",
      " lo correcto es 0\n",
      " La frase ['feel', 'pathetic', 'downright', 'dumb', 'let', 'people', 'let', 'toy', 'feelings', 'leaving', 'clean', 'pile', 'sadness', 'inside'] \n",
      " Es predicha 5 \n",
      " lo correcto es 0\n",
      " La frase ['feeling', 'blessed', 'today', 'share', 'close', 'bond'] \n",
      " Es predicha 1 \n",
      " lo correcto es 1\n",
      " La frase ['constantly', 'feel', 'fits', 'discontent'] \n",
      " Es predicha 1 \n",
      " lo correcto es 0\n",
      " La frase ['ive', 'consumed', 'guilt', 'feelings', 'discontent'] \n",
      " Es predicha 0 \n",
      " lo correcto es 0\n",
      " La frase ['feel', 'like', 'taking', 'whack', 'someone', 'eye', 'spitting', 'cranky', 'old', 'lady', 'try', 'cheer'] \n",
      " Es predicha 5 \n",
      " lo correcto es 3\n",
      " La frase ['feel', 'really', 'special', 'important'] \n",
      " Es predicha 0 \n",
      " lo correcto es 1\n"
     ]
    }
   ],
   "source": [
    "for frase in Frases_val:\n",
    "    frase_aux=extraccion_variables(frase[0])\n",
    "    prediccion=classifier.classify(frase_aux)\n",
    "    print(\" La frase {0} \\n Es predicha {1} \\n lo correcto es {2}\".format(frase[0],prediccion,frase[1]))"
   ]
  },
  {
   "cell_type": "code",
   "execution_count": 148,
   "metadata": {},
   "outputs": [
    {
     "data": {
      "text/plain": [
       "{0: -1.869936328461313,\n",
       " 3: -2.738994850544093,\n",
       " 2: -3.65653269035212,\n",
       " 5: -3.65653269035212,\n",
       " 4: -2.8085357837971703,\n",
       " 1: -1.8610032036913056}"
      ]
     },
     "metadata": {},
     "output_type": "display_data"
    },
    {
     "data": {
      "text/plain": [
       "{0: -1.5075803799846446,\n",
       " 3: -2.4899803751433707,\n",
       " 2: -2.3530704309290202,\n",
       " 5: -2.3530704309290202,\n",
       " 4: -4.078540386257395,\n",
       " 1: -5.66975044785423}"
      ]
     },
     "metadata": {},
     "output_type": "display_data"
    },
    {
     "data": {
      "text/plain": [
       "{0: -1.6328208889185105,\n",
       " 3: -1.4452958826349227,\n",
       " 2: -4.478310939862885,\n",
       " 5: -2.8933484391417292,\n",
       " 4: -3.8818528003038995,\n",
       " 1: -3.987636034730492}"
      ]
     },
     "metadata": {},
     "output_type": "display_data"
    },
    {
     "data": {
      "text/plain": [
       "{0: -1.869936328461313,\n",
       " 3: -2.738994850544093,\n",
       " 2: -3.65653269035212,\n",
       " 5: -3.65653269035212,\n",
       " 4: -2.8085357837971703,\n",
       " 1: -1.8610032036913056}"
      ]
     },
     "metadata": {},
     "output_type": "display_data"
    },
    {
     "data": {
      "text/plain": [
       "{0: -1.869936328461313,\n",
       " 3: -2.738994850544093,\n",
       " 2: -3.65653269035212,\n",
       " 5: -3.65653269035212,\n",
       " 4: -2.8085357837971703,\n",
       " 1: -1.8610032036913056}"
      ]
     },
     "metadata": {},
     "output_type": "display_data"
    },
    {
     "data": {
      "text/plain": [
       "{0: -2.937919334977117,\n",
       " 3: -2.7503943286935293,\n",
       " 2: -3.4614812910341284,\n",
       " 5: -3.4614812910341284,\n",
       " 4: -1.2800606507539873,\n",
       " 1: -2.970806385901735}"
      ]
     },
     "metadata": {},
     "output_type": "display_data"
    },
    {
     "data": {
      "text/plain": [
       "{0: -2.9797363735293327,\n",
       " 3: -3.4337573963332684,\n",
       " 2: -2.7663327354201384,\n",
       " 5: -2.7663327354201384,\n",
       " 4: -2.6553014230313945,\n",
       " 1: -1.608233169374616}"
      ]
     },
     "metadata": {},
     "output_type": "display_data"
    },
    {
     "data": {
      "text/plain": [
       "{0: -2.9096436447533094,\n",
       " 3: -2.7221186384697216,\n",
       " 2: -3.4332056008103207,\n",
       " 5: -3.4332056008103207,\n",
       " 4: -2.836747461251335,\n",
       " 1: -1.3575681949567713}"
      ]
     },
     "metadata": {},
     "output_type": "display_data"
    },
    {
     "data": {
      "text/plain": [
       "{0: -5.634142375695465,\n",
       " 3: -3.031579870133033,\n",
       " 2: -2.157704331752475,\n",
       " 5: -2.157704331752475,\n",
       " 4: -1.4502148798047454,\n",
       " 1: -4.526851768571822}"
      ]
     },
     "metadata": {},
     "output_type": "display_data"
    },
    {
     "data": {
      "text/plain": [
       "{0: -2.9703047820249537,\n",
       " 3: -1.197817275020208,\n",
       " 2: -3.493866738081965,\n",
       " 5: -3.493866738081965,\n",
       " 4: -2.897408598522979,\n",
       " 1: -3.0031918329495717}"
      ]
     },
     "metadata": {},
     "output_type": "display_data"
    },
    {
     "data": {
      "text/plain": [
       "{0: -1.3333094390565376,\n",
       " 3: -2.730746933494107,\n",
       " 2: -3.441833895834706,\n",
       " 5: -3.441833895834706,\n",
       " 4: -2.84537575627572,\n",
       " 1: -2.9511589907023126}"
      ]
     },
     "metadata": {},
     "output_type": "display_data"
    },
    {
     "data": {
      "text/plain": [
       "{0: -1.869936328461313,\n",
       " 3: -2.738994850544093,\n",
       " 2: -3.65653269035212,\n",
       " 5: -3.65653269035212,\n",
       " 4: -2.8085357837971703,\n",
       " 1: -1.8610032036913056}"
      ]
     },
     "metadata": {},
     "output_type": "display_data"
    },
    {
     "data": {
      "text/plain": [
       "{0: -1.0233954038644528,\n",
       " 3: -3.799344521555751,\n",
       " 2: -3.131919860642621,\n",
       " 5: -3.131919860642621,\n",
       " 4: -3.020888548253877,\n",
       " 1: -3.5587827953182547}"
      ]
     },
     "metadata": {},
     "output_type": "display_data"
    },
    {
     "data": {
      "text/plain": [
       "{0: -1.4442229512787437,\n",
       " 3: -3.4832064748038363,\n",
       " 2: -2.8157818138907063,\n",
       " 5: -2.8157818138907063,\n",
       " 4: -2.7047505015019624,\n",
       " 1: -3.24264474856634}"
      ]
     },
     "metadata": {},
     "output_type": "display_data"
    },
    {
     "data": {
      "text/plain": [
       "{0: -1.623150357945696,\n",
       " 3: -2.0771713807496317,\n",
       " 2: -3.731674814723865,\n",
       " 5: -2.146712314002709,\n",
       " 4: -3.6206435023351213,\n",
       " 1: -4.158537749399499}"
      ]
     },
     "metadata": {},
     "output_type": "display_data"
    },
    {
     "data": {
      "text/plain": [
       "{0: -4.203073701782955,\n",
       " 3: -2.6570947245868908,\n",
       " 2: -1.9896700636737599,\n",
       " 5: -1.9896700636737599,\n",
       " 4: -2.6156043454512226,\n",
       " 1: -3.053962918964686}"
      ]
     },
     "metadata": {},
     "output_type": "display_data"
    },
    {
     "data": {
      "text/plain": [
       "{0: -4.222483664756204,\n",
       " 3: -1.619921159193769,\n",
       " 2: -2.331008121534369,\n",
       " 5: -2.331008121534369,\n",
       " 4: -3.2084811703077953,\n",
       " 1: -3.1151930576325597}"
      ]
     },
     "metadata": {},
     "output_type": "display_data"
    },
    {
     "data": {
      "text/plain": [
       "{0: -4.746451372677809,\n",
       " 3: -3.5224004903691064,\n",
       " 2: -1.2700133287348194,\n",
       " 5: -1.2700133287348194,\n",
       " 4: -4.954841299565851,\n",
       " 1: -6.141661106083349}"
      ]
     },
     "metadata": {},
     "output_type": "display_data"
    },
    {
     "data": {
      "text/plain": [
       "{0: -2.913465154822255,\n",
       " 3: -3.4808276507021354,\n",
       " 2: -2.6069521123215775,\n",
       " 5: -1.0219896116004232,\n",
       " 4: -3.484425161095004,\n",
       " 1: -4.976099549140924}"
      ]
     },
     "metadata": {},
     "output_type": "display_data"
    },
    {
     "data": {
      "text/plain": [
       "{0: -4.4907066000982505,\n",
       " 3: -4.529690123623344,\n",
       " 2: -2.2773029619890552,\n",
       " 5: -2.2773029619890552,\n",
       " 4: -1.3182747430453619,\n",
       " 1: -3.3415958172799813}"
      ]
     },
     "metadata": {},
     "output_type": "display_data"
    },
    {
     "data": {
      "text/plain": [
       "{0: -3.1547176776193915,\n",
       " 3: -2.9671926713358037,\n",
       " 2: -2.0933171329552476,\n",
       " 5: -3.6782796336764036,\n",
       " 4: -3.081821494117418,\n",
       " 1: -1.6026422278228543}"
      ]
     },
     "metadata": {},
     "output_type": "display_data"
    },
    {
     "data": {
      "text/plain": [
       "{0: -1.9186022055754202,\n",
       " 3: -2.146114698570676,\n",
       " 2: -4.442164161632432,\n",
       " 5: -4.442164161632432,\n",
       " 4: -3.108740427907241,\n",
       " 1: -1.7290968351635914}"
      ]
     },
     "metadata": {},
     "output_type": "display_data"
    },
    {
     "data": {
      "text/plain": [
       "{0: -2.339373036389846,\n",
       " 3: -2.9067355322697264,\n",
       " 2: -2.0328599938891685,\n",
       " 5: -2.0328599938891685,\n",
       " 4: -2.910333042662595,\n",
       " 1: -4.402007430708515}"
      ]
     },
     "metadata": {},
     "output_type": "display_data"
    },
    {
     "data": {
      "text/plain": [
       "{0: -1.8465122862343941,\n",
       " 3: -1.2439497806719624,\n",
       " 2: -4.276964837899924,\n",
       " 5: -2.69200233717877,\n",
       " 4: -4.417472292507145,\n",
       " 1: -4.423719853382823}"
      ]
     },
     "metadata": {},
     "output_type": "display_data"
    },
    {
     "data": {
      "text/plain": [
       "{0: -1.9186022055754202,\n",
       " 3: -2.146114698570676,\n",
       " 2: -4.442164161632432,\n",
       " 5: -4.442164161632432,\n",
       " 4: -3.108740427907241,\n",
       " 1: -1.7290968351635914}"
      ]
     },
     "metadata": {},
     "output_type": "display_data"
    },
    {
     "data": {
      "text/plain": [
       "{0: -4.5096895920955165,\n",
       " 3: -1.378748114178296,\n",
       " 2: -2.296285953986321,\n",
       " 5: -2.296285953986321,\n",
       " 4: -2.922220235763784,\n",
       " 1: -4.945541309998403}"
      ]
     },
     "metadata": {},
     "output_type": "display_data"
    },
    {
     "data": {
      "text/plain": [
       "{0: -8.9558112898629,\n",
       " 3: -5.938211285021623,\n",
       " 2: -0.3094482444775988,\n",
       " 5: -3.479373245919909,\n",
       " 4: -5.093811888859541,\n",
       " 1: -4.164022508467184}"
      ]
     },
     "metadata": {},
     "output_type": "display_data"
    },
    {
     "data": {
      "text/plain": [
       "{0: -1.9186022055754202,\n",
       " 3: -2.146114698570676,\n",
       " 2: -4.442164161632432,\n",
       " 5: -4.442164161632432,\n",
       " 4: -3.108740427907241,\n",
       " 1: -1.7290968351635914}"
      ]
     },
     "metadata": {},
     "output_type": "display_data"
    },
    {
     "data": {
      "text/plain": [
       "{0: -4.3478323539746775,\n",
       " 3: -3.7452698484122458,\n",
       " 2: -2.871394310031688,\n",
       " 5: -1.2864318093105336,\n",
       " 4: -3.0119017646389086,\n",
       " 1: -2.2811837313483814}"
      ]
     },
     "metadata": {},
     "output_type": "display_data"
    },
    {
     "data": {
      "text/plain": [
       "{0: -2.2050568156552863,\n",
       " 3: -4.357381812256325,\n",
       " 2: -1.8985437731546089,\n",
       " 5: -1.8985437731546089,\n",
       " 4: -2.7760168219280352,\n",
       " 1: -4.267691209973956}"
      ]
     },
     "metadata": {},
     "output_type": "display_data"
    },
    {
     "data": {
      "text/plain": [
       "{0: -4.345626231685756,\n",
       " 3: -1.7430637261233244,\n",
       " 2: -3.1911162826301283,\n",
       " 5: -1.6061537819089722,\n",
       " 4: -2.4836268306823985,\n",
       " 1: -4.823298125283269}"
      ]
     },
     "metadata": {},
     "output_type": "display_data"
    },
    {
     "data": {
      "text/plain": [
       "{0: -2.9096436447533094,\n",
       " 3: -2.7221186384697216,\n",
       " 2: -3.4332056008103207,\n",
       " 5: -3.4332056008103207,\n",
       " 4: -2.836747461251335,\n",
       " 1: -1.3575681949567713}"
      ]
     },
     "metadata": {},
     "output_type": "display_data"
    },
    {
     "data": {
      "text/plain": [
       "{0: -6.138873696351398,\n",
       " 3: -5.329860313321538,\n",
       " 2: -2.3405075575210432,\n",
       " 5: -0.7555450567998871,\n",
       " 4: -3.7034074334647116,\n",
       " 1: -3.4048004128119693}"
      ]
     },
     "metadata": {},
     "output_type": "display_data"
    },
    {
     "data": {
      "text/plain": [
       "{0: -2.9096436447533094,\n",
       " 3: -2.7221186384697216,\n",
       " 2: -3.4332056008103207,\n",
       " 5: -3.4332056008103207,\n",
       " 4: -2.836747461251335,\n",
       " 1: -1.3575681949567713}"
      ]
     },
     "metadata": {},
     "output_type": "display_data"
    },
    {
     "data": {
      "text/plain": [
       "{0: -2.2050568156552863,\n",
       " 3: -4.357381812256325,\n",
       " 2: -1.8985437731546089,\n",
       " 5: -1.8985437731546089,\n",
       " 4: -2.7760168219280352,\n",
       " 1: -4.267691209973956}"
      ]
     },
     "metadata": {},
     "output_type": "display_data"
    },
    {
     "data": {
      "text/plain": [
       "{0: -2.9797363735293327,\n",
       " 3: -3.4337573963332684,\n",
       " 2: -2.7663327354201384,\n",
       " 5: -2.7663327354201384,\n",
       " 4: -2.6553014230313945,\n",
       " 1: -1.608233169374616}"
      ]
     },
     "metadata": {},
     "output_type": "display_data"
    },
    {
     "data": {
      "text/plain": [
       "{0: -1.9186022055754202,\n",
       " 3: -2.146114698570676,\n",
       " 2: -4.442164161632432,\n",
       " 5: -4.442164161632432,\n",
       " 4: -3.108740427907241,\n",
       " 1: -1.7290968351635914}"
      ]
     },
     "metadata": {},
     "output_type": "display_data"
    },
    {
     "data": {
      "text/plain": [
       "{0: -1.6490957240763966,\n",
       " 3: -3.255119840325382,\n",
       " 2: -3.435692085967202,\n",
       " 5: -1.8507295852460461,\n",
       " 4: -3.3246607735784584,\n",
       " 1: -3.2251251000275443}"
      ]
     },
     "metadata": {},
     "output_type": "display_data"
    },
    {
     "data": {
      "text/plain": [
       "{0: -4.41046193278347,\n",
       " 3: -5.2997525235507155,\n",
       " 2: -3.5778800786152054,\n",
       " 5: -0.40795507717289503,\n",
       " 4: -3.6073562208336813,\n",
       " 1: -6.947027515434552}"
      ]
     },
     "metadata": {},
     "output_type": "display_data"
    },
    {
     "data": {
      "text/plain": [
       "{0: -1.3333094390565376,\n",
       " 3: -2.730746933494107,\n",
       " 2: -3.441833895834706,\n",
       " 5: -3.441833895834706,\n",
       " 4: -2.84537575627572,\n",
       " 1: -2.9511589907023126}"
      ]
     },
     "metadata": {},
     "output_type": "display_data"
    }
   ],
   "source": [
    "for frase in Frases_val:\n",
    "    frase_aux=extraccion_variables(frase[0])\n",
    "    display(classifier.prob_classify(frase_aux)._prob_dict)\n",
    "    "
   ]
  },
  {
   "cell_type": "code",
   "execution_count": 149,
   "metadata": {},
   "outputs": [],
   "source": [
    "from textblob import TextBlob"
   ]
  },
  {
   "cell_type": "code",
   "execution_count": 150,
   "metadata": {},
   "outputs": [],
   "source": [
    "Frase= \"\"\"It will investigate the department's training, \n",
    "data and processes related to use of force, de-escalation and \n",
    "special police units, like the one involved in stopping Mr Nichols before his death.\"\"\""
   ]
  },
  {
   "cell_type": "code",
   "execution_count": 151,
   "metadata": {},
   "outputs": [],
   "source": [
    "blob=TextBlob(Frase)"
   ]
  },
  {
   "cell_type": "code",
   "execution_count": 152,
   "metadata": {},
   "outputs": [
    {
     "data": {
      "text/plain": [
       "[WordList(['It', 'will', 'investigate']),\n",
       " WordList(['will', 'investigate', 'the']),\n",
       " WordList(['investigate', 'the', 'department']),\n",
       " WordList(['the', 'department', \"'s\"]),\n",
       " WordList(['department', \"'s\", 'training']),\n",
       " WordList([\"'s\", 'training', 'data']),\n",
       " WordList(['training', 'data', 'and']),\n",
       " WordList(['data', 'and', 'processes']),\n",
       " WordList(['and', 'processes', 'related']),\n",
       " WordList(['processes', 'related', 'to']),\n",
       " WordList(['related', 'to', 'use']),\n",
       " WordList(['to', 'use', 'of']),\n",
       " WordList(['use', 'of', 'force']),\n",
       " WordList(['of', 'force', 'de-escalation']),\n",
       " WordList(['force', 'de-escalation', 'and']),\n",
       " WordList(['de-escalation', 'and', 'special']),\n",
       " WordList(['and', 'special', 'police']),\n",
       " WordList(['special', 'police', 'units']),\n",
       " WordList(['police', 'units', 'like']),\n",
       " WordList(['units', 'like', 'the']),\n",
       " WordList(['like', 'the', 'one']),\n",
       " WordList(['the', 'one', 'involved']),\n",
       " WordList(['one', 'involved', 'in']),\n",
       " WordList(['involved', 'in', 'stopping']),\n",
       " WordList(['in', 'stopping', 'Mr']),\n",
       " WordList(['stopping', 'Mr', 'Nichols']),\n",
       " WordList(['Mr', 'Nichols', 'before']),\n",
       " WordList(['Nichols', 'before', 'his']),\n",
       " WordList(['before', 'his', 'death'])]"
      ]
     },
     "execution_count": 152,
     "metadata": {},
     "output_type": "execute_result"
    }
   ],
   "source": [
    "blob.ngrams(n=3)"
   ]
  },
  {
   "cell_type": "code",
   "execution_count": 156,
   "metadata": {},
   "outputs": [
    {
     "data": {
      "text/plain": [
       "WordList(['It', 'will', 'investigate', 'the', 'department', \"'s\", 'training', 'data', 'and', 'processes', 'related', 'to', 'use', 'of', 'force', 'de-escalation', 'and', 'special', 'police', 'units', 'like', 'the', 'one', 'involved', 'in', 'stopping', 'Mr', 'Nichols', 'before', 'his', 'death'])"
      ]
     },
     "execution_count": 156,
     "metadata": {},
     "output_type": "execute_result"
    }
   ],
   "source": [
    "blob.words"
   ]
  },
  {
   "cell_type": "code",
   "execution_count": 158,
   "metadata": {},
   "outputs": [
    {
     "data": {
      "text/plain": [
       "'investigates'"
      ]
     },
     "execution_count": 158,
     "metadata": {},
     "output_type": "execute_result"
    }
   ],
   "source": [
    "blob.words[2].pluralize()"
   ]
  },
  {
   "cell_type": "code",
   "execution_count": 159,
   "metadata": {},
   "outputs": [
    {
     "data": {
      "text/plain": [
       "'process'"
      ]
     },
     "execution_count": 159,
     "metadata": {},
     "output_type": "execute_result"
    }
   ],
   "source": [
    "blob.words[9].singularize()"
   ]
  },
  {
   "cell_type": "code",
   "execution_count": 162,
   "metadata": {},
   "outputs": [
    {
     "data": {
      "text/plain": [
       "'thes'"
      ]
     },
     "execution_count": 162,
     "metadata": {},
     "output_type": "execute_result"
    }
   ],
   "source": [
    "blob.words[3].pluralize()"
   ]
  },
  {
   "cell_type": "code",
   "execution_count": 154,
   "metadata": {},
   "outputs": [
    {
     "name": "stdout",
     "output_type": "stream",
     "text": [
      "Collecting keras\n",
      "  Downloading keras-2.11.0-py2.py3-none-any.whl (1.7 MB)\n",
      "Installing collected packages: keras\n",
      "Successfully installed keras-2.11.0\n",
      "Note: you may need to restart the kernel to use updated packages.\n"
     ]
    }
   ],
   "source": [
    "# pip install keras"
   ]
  },
  {
   "cell_type": "code",
   "execution_count": 164,
   "metadata": {},
   "outputs": [],
   "source": [
    "from nltk.tokenize import TweetTokenizer"
   ]
  },
  {
   "cell_type": "code",
   "execution_count": 165,
   "metadata": {},
   "outputs": [],
   "source": [
    "frase=\"\"\"\n",
    "@WallStreetSilv\n",
    "Makes sense that Batman would take bat insults rather personally. \n",
    "He loves bats next-level.  :) #datascience \"\"\""
   ]
  },
  {
   "cell_type": "code",
   "execution_count": 166,
   "metadata": {},
   "outputs": [
    {
     "data": {
      "text/plain": [
       "['@WallStreetSilv',\n",
       " 'Makes',\n",
       " 'sense',\n",
       " 'that',\n",
       " 'Batman',\n",
       " 'would',\n",
       " 'take',\n",
       " 'bat',\n",
       " 'insults',\n",
       " 'rather',\n",
       " 'personally',\n",
       " '.',\n",
       " 'He',\n",
       " 'loves',\n",
       " 'bats',\n",
       " 'next-level',\n",
       " '.',\n",
       " ':)',\n",
       " '#datascience']"
      ]
     },
     "execution_count": 166,
     "metadata": {},
     "output_type": "execute_result"
    }
   ],
   "source": [
    "tweet_toke=TweetTokenizer()\n",
    "tweet_toke.tokenize(frase)"
   ]
  },
  {
   "cell_type": "code",
   "execution_count": 167,
   "metadata": {},
   "outputs": [],
   "source": [
    "from nltk.tokenize import MWETokenizer"
   ]
  },
  {
   "cell_type": "code",
   "execution_count": 168,
   "metadata": {},
   "outputs": [],
   "source": [
    "mwe_toke=MWETokenizer([(\"that\",\"Batman\")])\n",
    "mwe_toke.add_mwe([\"loves\",\"bats\"])\n"
   ]
  },
  {
   "cell_type": "code",
   "execution_count": 171,
   "metadata": {},
   "outputs": [
    {
     "data": {
      "text/plain": [
       "['@WallStreetSilv',\n",
       " 'Makes',\n",
       " 'sense',\n",
       " 'that_Batman',\n",
       " 'would',\n",
       " 'take',\n",
       " 'bat',\n",
       " 'insults',\n",
       " 'rather',\n",
       " 'personally.',\n",
       " 'He',\n",
       " 'loves_bats',\n",
       " 'next-level.',\n",
       " ':)',\n",
       " '#datascience']"
      ]
     },
     "execution_count": 171,
     "metadata": {},
     "output_type": "execute_result"
    }
   ],
   "source": [
    "mwe_toke.tokenize(frase.split())"
   ]
  },
  {
   "cell_type": "code",
   "execution_count": 172,
   "metadata": {},
   "outputs": [],
   "source": [
    "## Ejemplo\n",
    "sentence = 'Sunil tweeted, \"Witnessing 70th Republic Day of India from Rajpath, \\\n",
    "New Delhi. Mesmerizing performance by Indian Army! Awesome airshow! @india_official \\\n",
    "@indian_army #India #70thRepublic_Day. For more photos ping me sunil@photoking.com :)\"'"
   ]
  },
  {
   "cell_type": "code",
   "execution_count": 173,
   "metadata": {},
   "outputs": [
    {
     "data": {
      "text/plain": [
       "['Sunil',\n",
       " 'tweeted',\n",
       " ',',\n",
       " '\"',\n",
       " 'Witnessing',\n",
       " '70th',\n",
       " 'Republic',\n",
       " 'Day',\n",
       " 'of',\n",
       " 'India',\n",
       " 'from',\n",
       " 'Rajpath',\n",
       " ',',\n",
       " 'New',\n",
       " 'Delhi',\n",
       " '.',\n",
       " 'Mesmerizing',\n",
       " 'performance',\n",
       " 'by',\n",
       " 'Indian',\n",
       " 'Army',\n",
       " '!',\n",
       " 'Awesome',\n",
       " 'airshow',\n",
       " '!',\n",
       " '@india_official',\n",
       " '@indian_army',\n",
       " '#India',\n",
       " '#70thRepublic_Day',\n",
       " '.',\n",
       " 'For',\n",
       " 'more',\n",
       " 'photos',\n",
       " 'ping',\n",
       " 'me',\n",
       " 'sunil@photoking.com',\n",
       " ':)',\n",
       " '\"']"
      ]
     },
     "execution_count": 173,
     "metadata": {},
     "output_type": "execute_result"
    }
   ],
   "source": [
    "tweet_toke=TweetTokenizer()\n",
    "tweet_toke.tokenize(sentence)"
   ]
  },
  {
   "cell_type": "code",
   "execution_count": 174,
   "metadata": {},
   "outputs": [],
   "source": [
    "from nltk.tokenize import RegexpTokenizer"
   ]
  },
  {
   "cell_type": "code",
   "execution_count": 177,
   "metadata": {},
   "outputs": [],
   "source": [
    "reg_tokenize=RegexpTokenizer('\\w+|\\$[\\d\\.]+|\\S+')\n",
    "reg_tokenize_1=RegexpTokenizer('[^\\w\\s]')"
   ]
  },
  {
   "cell_type": "code",
   "execution_count": 176,
   "metadata": {},
   "outputs": [
    {
     "data": {
      "text/plain": [
       "['Sunil',\n",
       " 'tweeted',\n",
       " ',',\n",
       " '\"Witnessing',\n",
       " '70th',\n",
       " 'Republic',\n",
       " 'Day',\n",
       " 'of',\n",
       " 'India',\n",
       " 'from',\n",
       " 'Rajpath',\n",
       " ',',\n",
       " 'New',\n",
       " 'Delhi',\n",
       " '.',\n",
       " 'Mesmerizing',\n",
       " 'performance',\n",
       " 'by',\n",
       " 'Indian',\n",
       " 'Army',\n",
       " '!',\n",
       " 'Awesome',\n",
       " 'airshow',\n",
       " '!',\n",
       " '@india_official',\n",
       " '@indian_army',\n",
       " '#India',\n",
       " '#70thRepublic_Day.',\n",
       " 'For',\n",
       " 'more',\n",
       " 'photos',\n",
       " 'ping',\n",
       " 'me',\n",
       " 'sunil',\n",
       " '@photoking.com',\n",
       " ':)\"']"
      ]
     },
     "execution_count": 176,
     "metadata": {},
     "output_type": "execute_result"
    }
   ],
   "source": [
    "reg_tokenize.tokenize(sentence)"
   ]
  },
  {
   "cell_type": "code",
   "execution_count": 178,
   "metadata": {},
   "outputs": [
    {
     "data": {
      "text/plain": [
       "[',',\n",
       " '\"',\n",
       " ',',\n",
       " '.',\n",
       " '!',\n",
       " '!',\n",
       " '@',\n",
       " '@',\n",
       " '#',\n",
       " '#',\n",
       " '.',\n",
       " '@',\n",
       " '.',\n",
       " ':',\n",
       " ')',\n",
       " '\"']"
      ]
     },
     "execution_count": 178,
     "metadata": {},
     "output_type": "execute_result"
    }
   ],
   "source": [
    "reg_tokenize_1.tokenize(sentence)"
   ]
  },
  {
   "cell_type": "code",
   "execution_count": 180,
   "metadata": {},
   "outputs": [],
   "source": [
    "from nltk.tokenize import WhitespaceTokenizer, WordPunctTokenizer"
   ]
  },
  {
   "cell_type": "code",
   "execution_count": 181,
   "metadata": {},
   "outputs": [
    {
     "data": {
      "text/plain": [
       "['Sunil',\n",
       " 'tweeted,',\n",
       " '\"Witnessing',\n",
       " '70th',\n",
       " 'Republic',\n",
       " 'Day',\n",
       " 'of',\n",
       " 'India',\n",
       " 'from',\n",
       " 'Rajpath,',\n",
       " 'New',\n",
       " 'Delhi.',\n",
       " 'Mesmerizing',\n",
       " 'performance',\n",
       " 'by',\n",
       " 'Indian',\n",
       " 'Army!',\n",
       " 'Awesome',\n",
       " 'airshow!',\n",
       " '@india_official',\n",
       " '@indian_army',\n",
       " '#India',\n",
       " '#70thRepublic_Day.',\n",
       " 'For',\n",
       " 'more',\n",
       " 'photos',\n",
       " 'ping',\n",
       " 'me',\n",
       " 'sunil@photoking.com',\n",
       " ':)\"']"
      ]
     },
     "execution_count": 181,
     "metadata": {},
     "output_type": "execute_result"
    }
   ],
   "source": [
    "bl_toke=WhitespaceTokenizer()\n",
    "bl_toke.tokenize(sentence)"
   ]
  },
  {
   "cell_type": "code",
   "execution_count": 182,
   "metadata": {},
   "outputs": [
    {
     "data": {
      "text/plain": [
       "['Sunil',\n",
       " 'tweeted',\n",
       " ',',\n",
       " '\"',\n",
       " 'Witnessing',\n",
       " '70th',\n",
       " 'Republic',\n",
       " 'Day',\n",
       " 'of',\n",
       " 'India',\n",
       " 'from',\n",
       " 'Rajpath',\n",
       " ',',\n",
       " 'New',\n",
       " 'Delhi',\n",
       " '.',\n",
       " 'Mesmerizing',\n",
       " 'performance',\n",
       " 'by',\n",
       " 'Indian',\n",
       " 'Army',\n",
       " '!',\n",
       " 'Awesome',\n",
       " 'airshow',\n",
       " '!',\n",
       " '@',\n",
       " 'india_official',\n",
       " '@',\n",
       " 'indian_army',\n",
       " '#',\n",
       " 'India',\n",
       " '#',\n",
       " '70thRepublic_Day',\n",
       " '.',\n",
       " 'For',\n",
       " 'more',\n",
       " 'photos',\n",
       " 'ping',\n",
       " 'me',\n",
       " 'sunil',\n",
       " '@',\n",
       " 'photoking',\n",
       " '.',\n",
       " 'com',\n",
       " ':)\"']"
      ]
     },
     "execution_count": 182,
     "metadata": {},
     "output_type": "execute_result"
    }
   ],
   "source": [
    "word_toke=WordPunctTokenizer()\n",
    "word_toke.tokenize(sentence)"
   ]
  },
  {
   "cell_type": "code",
   "execution_count": 183,
   "metadata": {},
   "outputs": [],
   "source": [
    "from nltk.stem import RegexpStemmer"
   ]
  },
  {
   "cell_type": "code",
   "execution_count": 188,
   "metadata": {},
   "outputs": [
    {
     "data": {
      "text/plain": [
       "'Sunil tweet \"Witness 70th Republic Day of India from Rajpath, New Delhi. Mesmeriz performance by Indian Army! Awesome airshow! @india_official @indian_army #India #70thRepublic_Day. For more photos p me sunil@photoking.com :)\"'"
      ]
     },
     "execution_count": 188,
     "metadata": {},
     "output_type": "execute_result"
    }
   ],
   "source": [
    "rege_stem=RegexpStemmer('ing$|ed$|ed,$',min=4)\n",
    "' '.join([rege_stem.stem(palabra) for palabra in sentence.split()])"
   ]
  },
  {
   "cell_type": "code",
   "execution_count": 190,
   "metadata": {},
   "outputs": [
    {
     "data": {
      "text/plain": [
       "TextBlob(\"I like bananas\")"
      ]
     },
     "execution_count": 190,
     "metadata": {},
     "output_type": "execute_result"
    }
   ],
   "source": [
    "## para traducción Textblob\n",
    "traduccion=\"me gustan las bananas\"\n",
    "trad=TextBlob(traduccion)\n",
    "trad.translate(from_lang=\"es\",to=\"en\")"
   ]
  },
  {
   "cell_type": "code",
   "execution_count": 191,
   "metadata": {},
   "outputs": [
    {
     "data": {
      "text/plain": [
       "TextBlob(\"Today is a good day\")"
      ]
     },
     "execution_count": 191,
     "metadata": {},
     "output_type": "execute_result"
    }
   ],
   "source": [
    "## para traducción Textblob\n",
    "traduccion=\"Hoy es un buen día\"\n",
    "trad=TextBlob(traduccion)\n",
    "trad.translate(from_lang=\"es\",to=\"en\")"
   ]
  },
  {
   "cell_type": "code",
   "execution_count": 193,
   "metadata": {},
   "outputs": [
    {
     "data": {
      "text/plain": [
       "5"
      ]
     },
     "execution_count": 193,
     "metadata": {},
     "output_type": "execute_result"
    }
   ],
   "source": [
    "len(TextBlob(traduccion).words)"
   ]
  },
  {
   "cell_type": "code",
   "execution_count": 196,
   "metadata": {},
   "outputs": [
    {
     "ename": "HTTPError",
     "evalue": "HTTP Error 400: Bad Request",
     "output_type": "error",
     "traceback": [
      "\u001b[1;31m---------------------------------------------------------------------------\u001b[0m",
      "\u001b[1;31mHTTPError\u001b[0m                                 Traceback (most recent call last)",
      "\u001b[1;32mf:\\The Bridge\\Bootcamp_Sep2022\\NLP\\nlp.ipynb Cell 106\u001b[0m in \u001b[0;36m<cell line: 1>\u001b[1;34m()\u001b[0m\n\u001b[1;32m----> <a href='vscode-notebook-cell:/f%3A/The%20Bridge/Bootcamp_Sep2022/NLP/nlp.ipynb#Y215sZmlsZQ%3D%3D?line=0'>1</a>\u001b[0m TextBlob(sentence)\u001b[39m.\u001b[39;49mdetect_language()\n",
      "File \u001b[1;32mc:\\Users\\Daniel Montes\\Anaconda3\\lib\\site-packages\\textblob\\blob.py:597\u001b[0m, in \u001b[0;36mBaseBlob.detect_language\u001b[1;34m(self)\u001b[0m\n\u001b[0;32m    572\u001b[0m \u001b[39m\"\"\"Detect the blob's language using the Google Translate API.\u001b[39;00m\n\u001b[0;32m    573\u001b[0m \n\u001b[0;32m    574\u001b[0m \u001b[39mRequires an internet connection.\u001b[39;00m\n\u001b[1;32m   (...)\u001b[0m\n\u001b[0;32m    590\u001b[0m \u001b[39m:rtype: str\u001b[39;00m\n\u001b[0;32m    591\u001b[0m \u001b[39m\"\"\"\u001b[39;00m\n\u001b[0;32m    592\u001b[0m warnings\u001b[39m.\u001b[39mwarn(\n\u001b[0;32m    593\u001b[0m     \u001b[39m'\u001b[39m\u001b[39mTextBlob.detext_translate is deprecated and will be removed in a future release. \u001b[39m\u001b[39m'\u001b[39m\n\u001b[0;32m    594\u001b[0m     \u001b[39m'\u001b[39m\u001b[39mUse the official Google Translate API instead.\u001b[39m\u001b[39m'\u001b[39m,\n\u001b[0;32m    595\u001b[0m     \u001b[39mDeprecationWarning\u001b[39;00m\n\u001b[0;32m    596\u001b[0m )\n\u001b[1;32m--> 597\u001b[0m \u001b[39mreturn\u001b[39;00m \u001b[39mself\u001b[39;49m\u001b[39m.\u001b[39;49mtranslator\u001b[39m.\u001b[39;49mdetect(\u001b[39mself\u001b[39;49m\u001b[39m.\u001b[39;49mraw)\n",
      "File \u001b[1;32mc:\\Users\\Daniel Montes\\Anaconda3\\lib\\site-packages\\textblob\\translate.py:76\u001b[0m, in \u001b[0;36mTranslator.detect\u001b[1;34m(self, source, host, type_)\u001b[0m\n\u001b[0;32m     70\u001b[0m data \u001b[39m=\u001b[39m {\u001b[39m\"\u001b[39m\u001b[39mq\u001b[39m\u001b[39m\"\u001b[39m: source}\n\u001b[0;32m     71\u001b[0m url \u001b[39m=\u001b[39m \u001b[39mu\u001b[39m\u001b[39m'\u001b[39m\u001b[39m{url}\u001b[39;00m\u001b[39m&sl=auto&tk=\u001b[39m\u001b[39m{tk}\u001b[39;00m\u001b[39m&client=\u001b[39m\u001b[39m{client}\u001b[39;00m\u001b[39m'\u001b[39m\u001b[39m.\u001b[39mformat(\n\u001b[0;32m     72\u001b[0m     url\u001b[39m=\u001b[39m\u001b[39mself\u001b[39m\u001b[39m.\u001b[39murl,\n\u001b[0;32m     73\u001b[0m     tk\u001b[39m=\u001b[39m_calculate_tk(source),\n\u001b[0;32m     74\u001b[0m     client\u001b[39m=\u001b[39m\u001b[39m\"\u001b[39m\u001b[39mte\u001b[39m\u001b[39m\"\u001b[39m,\n\u001b[0;32m     75\u001b[0m )\n\u001b[1;32m---> 76\u001b[0m response \u001b[39m=\u001b[39m \u001b[39mself\u001b[39;49m\u001b[39m.\u001b[39;49m_request(url, host\u001b[39m=\u001b[39;49mhost, type_\u001b[39m=\u001b[39;49mtype_, data\u001b[39m=\u001b[39;49mdata)\n\u001b[0;32m     77\u001b[0m result, language \u001b[39m=\u001b[39m json\u001b[39m.\u001b[39mloads(response)\n\u001b[0;32m     78\u001b[0m \u001b[39mreturn\u001b[39;00m language\n",
      "File \u001b[1;32mc:\\Users\\Daniel Montes\\Anaconda3\\lib\\site-packages\\textblob\\translate.py:96\u001b[0m, in \u001b[0;36mTranslator._request\u001b[1;34m(self, url, host, type_, data)\u001b[0m\n\u001b[0;32m     94\u001b[0m \u001b[39mif\u001b[39;00m host \u001b[39mor\u001b[39;00m type_:\n\u001b[0;32m     95\u001b[0m     req\u001b[39m.\u001b[39mset_proxy(host\u001b[39m=\u001b[39mhost, \u001b[39mtype\u001b[39m\u001b[39m=\u001b[39mtype_)\n\u001b[1;32m---> 96\u001b[0m resp \u001b[39m=\u001b[39m request\u001b[39m.\u001b[39;49murlopen(req)\n\u001b[0;32m     97\u001b[0m content \u001b[39m=\u001b[39m resp\u001b[39m.\u001b[39mread()\n\u001b[0;32m     98\u001b[0m \u001b[39mreturn\u001b[39;00m content\u001b[39m.\u001b[39mdecode(\u001b[39m'\u001b[39m\u001b[39mutf-8\u001b[39m\u001b[39m'\u001b[39m)\n",
      "File \u001b[1;32mc:\\Users\\Daniel Montes\\Anaconda3\\lib\\urllib\\request.py:214\u001b[0m, in \u001b[0;36murlopen\u001b[1;34m(url, data, timeout, cafile, capath, cadefault, context)\u001b[0m\n\u001b[0;32m    212\u001b[0m \u001b[39melse\u001b[39;00m:\n\u001b[0;32m    213\u001b[0m     opener \u001b[39m=\u001b[39m _opener\n\u001b[1;32m--> 214\u001b[0m \u001b[39mreturn\u001b[39;00m opener\u001b[39m.\u001b[39;49mopen(url, data, timeout)\n",
      "File \u001b[1;32mc:\\Users\\Daniel Montes\\Anaconda3\\lib\\urllib\\request.py:523\u001b[0m, in \u001b[0;36mOpenerDirector.open\u001b[1;34m(self, fullurl, data, timeout)\u001b[0m\n\u001b[0;32m    521\u001b[0m \u001b[39mfor\u001b[39;00m processor \u001b[39min\u001b[39;00m \u001b[39mself\u001b[39m\u001b[39m.\u001b[39mprocess_response\u001b[39m.\u001b[39mget(protocol, []):\n\u001b[0;32m    522\u001b[0m     meth \u001b[39m=\u001b[39m \u001b[39mgetattr\u001b[39m(processor, meth_name)\n\u001b[1;32m--> 523\u001b[0m     response \u001b[39m=\u001b[39m meth(req, response)\n\u001b[0;32m    525\u001b[0m \u001b[39mreturn\u001b[39;00m response\n",
      "File \u001b[1;32mc:\\Users\\Daniel Montes\\Anaconda3\\lib\\urllib\\request.py:632\u001b[0m, in \u001b[0;36mHTTPErrorProcessor.http_response\u001b[1;34m(self, request, response)\u001b[0m\n\u001b[0;32m    629\u001b[0m \u001b[39m# According to RFC 2616, \"2xx\" code indicates that the client's\u001b[39;00m\n\u001b[0;32m    630\u001b[0m \u001b[39m# request was successfully received, understood, and accepted.\u001b[39;00m\n\u001b[0;32m    631\u001b[0m \u001b[39mif\u001b[39;00m \u001b[39mnot\u001b[39;00m (\u001b[39m200\u001b[39m \u001b[39m<\u001b[39m\u001b[39m=\u001b[39m code \u001b[39m<\u001b[39m \u001b[39m300\u001b[39m):\n\u001b[1;32m--> 632\u001b[0m     response \u001b[39m=\u001b[39m \u001b[39mself\u001b[39;49m\u001b[39m.\u001b[39;49mparent\u001b[39m.\u001b[39;49merror(\n\u001b[0;32m    633\u001b[0m         \u001b[39m'\u001b[39;49m\u001b[39mhttp\u001b[39;49m\u001b[39m'\u001b[39;49m, request, response, code, msg, hdrs)\n\u001b[0;32m    635\u001b[0m \u001b[39mreturn\u001b[39;00m response\n",
      "File \u001b[1;32mc:\\Users\\Daniel Montes\\Anaconda3\\lib\\urllib\\request.py:561\u001b[0m, in \u001b[0;36mOpenerDirector.error\u001b[1;34m(self, proto, *args)\u001b[0m\n\u001b[0;32m    559\u001b[0m \u001b[39mif\u001b[39;00m http_err:\n\u001b[0;32m    560\u001b[0m     args \u001b[39m=\u001b[39m (\u001b[39mdict\u001b[39m, \u001b[39m'\u001b[39m\u001b[39mdefault\u001b[39m\u001b[39m'\u001b[39m, \u001b[39m'\u001b[39m\u001b[39mhttp_error_default\u001b[39m\u001b[39m'\u001b[39m) \u001b[39m+\u001b[39m orig_args\n\u001b[1;32m--> 561\u001b[0m     \u001b[39mreturn\u001b[39;00m \u001b[39mself\u001b[39;49m\u001b[39m.\u001b[39;49m_call_chain(\u001b[39m*\u001b[39;49margs)\n",
      "File \u001b[1;32mc:\\Users\\Daniel Montes\\Anaconda3\\lib\\urllib\\request.py:494\u001b[0m, in \u001b[0;36mOpenerDirector._call_chain\u001b[1;34m(self, chain, kind, meth_name, *args)\u001b[0m\n\u001b[0;32m    492\u001b[0m \u001b[39mfor\u001b[39;00m handler \u001b[39min\u001b[39;00m handlers:\n\u001b[0;32m    493\u001b[0m     func \u001b[39m=\u001b[39m \u001b[39mgetattr\u001b[39m(handler, meth_name)\n\u001b[1;32m--> 494\u001b[0m     result \u001b[39m=\u001b[39m func(\u001b[39m*\u001b[39;49margs)\n\u001b[0;32m    495\u001b[0m     \u001b[39mif\u001b[39;00m result \u001b[39mis\u001b[39;00m \u001b[39mnot\u001b[39;00m \u001b[39mNone\u001b[39;00m:\n\u001b[0;32m    496\u001b[0m         \u001b[39mreturn\u001b[39;00m result\n",
      "File \u001b[1;32mc:\\Users\\Daniel Montes\\Anaconda3\\lib\\urllib\\request.py:641\u001b[0m, in \u001b[0;36mHTTPDefaultErrorHandler.http_error_default\u001b[1;34m(self, req, fp, code, msg, hdrs)\u001b[0m\n\u001b[0;32m    640\u001b[0m \u001b[39mdef\u001b[39;00m \u001b[39mhttp_error_default\u001b[39m(\u001b[39mself\u001b[39m, req, fp, code, msg, hdrs):\n\u001b[1;32m--> 641\u001b[0m     \u001b[39mraise\u001b[39;00m HTTPError(req\u001b[39m.\u001b[39mfull_url, code, msg, hdrs, fp)\n",
      "\u001b[1;31mHTTPError\u001b[0m: HTTP Error 400: Bad Request"
     ]
    }
   ],
   "source": [
    "TextBlob(sentence).detect_language()"
   ]
  },
  {
   "cell_type": "code",
   "execution_count": 197,
   "metadata": {},
   "outputs": [],
   "source": [
    "from sklearn.feature_extraction.text import TfidfVectorizer"
   ]
  },
  {
   "cell_type": "code",
   "execution_count": 200,
   "metadata": {},
   "outputs": [],
   "source": [
    "pair1 = [\"What you do defines you\", \"Your deeds define you\"]\n",
    "pair2 = [\"Once upon a time there lived a king.\", \"Who is your queen?\"]\n",
    "pair3 = [\"He is desperate\", \"Is he not desperate?\"]"
   ]
  },
  {
   "cell_type": "code",
   "execution_count": 201,
   "metadata": {},
   "outputs": [],
   "source": [
    "cuerpo=[pair1[0],pair1[1],pair2[0],pair2[1],pair3[0],pair3[1]]"
   ]
  },
  {
   "cell_type": "code",
   "execution_count": 202,
   "metadata": {},
   "outputs": [
    {
     "data": {
      "text/plain": [
       "['What you do defines you',\n",
       " 'Your deeds define you',\n",
       " 'Once upon a time there lived a king.',\n",
       " 'Who is your queen?',\n",
       " 'He is desperate',\n",
       " 'Is he not desperate?']"
      ]
     },
     "execution_count": 202,
     "metadata": {},
     "output_type": "execute_result"
    }
   ],
   "source": [
    "cuerpo"
   ]
  },
  {
   "cell_type": "code",
   "execution_count": 203,
   "metadata": {},
   "outputs": [],
   "source": [
    "tfi=TfidfVectorizer()\n",
    "rr=tfi.fit_transform(cuerpo).todense()"
   ]
  },
  {
   "cell_type": "code",
   "execution_count": 204,
   "metadata": {},
   "outputs": [
    {
     "data": {
      "text/plain": [
       "matrix([[0.        , 0.        , 0.41923309, 0.        , 0.41923309,\n",
       "         0.        , 0.        , 0.        , 0.        , 0.        ,\n",
       "         0.        , 0.        , 0.        , 0.        , 0.        ,\n",
       "         0.41923309, 0.        , 0.68755426, 0.        ],\n",
       "        [0.54677906, 0.54677906, 0.        , 0.        , 0.        ,\n",
       "         0.        , 0.        , 0.        , 0.        , 0.        ,\n",
       "         0.        , 0.        , 0.        , 0.        , 0.        ,\n",
       "         0.        , 0.        , 0.44836665, 0.44836665],\n",
       "        [0.        , 0.        , 0.        , 0.        , 0.        ,\n",
       "         0.        , 0.        , 0.40824829, 0.40824829, 0.        ,\n",
       "         0.40824829, 0.        , 0.40824829, 0.40824829, 0.40824829,\n",
       "         0.        , 0.        , 0.        , 0.        ],\n",
       "        [0.        , 0.        , 0.        , 0.        , 0.        ,\n",
       "         0.        , 0.38996741, 0.        , 0.        , 0.        ,\n",
       "         0.        , 0.56328241, 0.        , 0.        , 0.        ,\n",
       "         0.        , 0.56328241, 0.        , 0.46189963],\n",
       "        [0.        , 0.        , 0.        , 0.60714432, 0.        ,\n",
       "         0.60714432, 0.51259296, 0.        , 0.        , 0.        ,\n",
       "         0.        , 0.        , 0.        , 0.        , 0.        ,\n",
       "         0.        , 0.        , 0.        , 0.        ],\n",
       "        [0.        , 0.        , 0.        , 0.48795307, 0.        ,\n",
       "         0.48795307, 0.41196351, 0.        , 0.        , 0.59505434,\n",
       "         0.        , 0.        , 0.        , 0.        , 0.        ,\n",
       "         0.        , 0.        , 0.        , 0.        ]])"
      ]
     },
     "execution_count": 204,
     "metadata": {},
     "output_type": "execute_result"
    }
   ],
   "source": [
    "rr"
   ]
  },
  {
   "cell_type": "code",
   "execution_count": 205,
   "metadata": {},
   "outputs": [],
   "source": [
    "from sklearn.metrics.pairwise import cosine_similarity"
   ]
  },
  {
   "cell_type": "code",
   "execution_count": 206,
   "metadata": {},
   "outputs": [
    {
     "name": "stderr",
     "output_type": "stream",
     "text": [
      "c:\\Users\\Daniel Montes\\Anaconda3\\lib\\site-packages\\sklearn\\utils\\validation.py:593: FutureWarning: np.matrix usage is deprecated in 1.0 and will raise a TypeError in 1.2. Please convert to a numpy array with np.asarray. For more information see: https://numpy.org/doc/stable/reference/generated/numpy.matrix.html\n",
      "  warnings.warn(\n",
      "c:\\Users\\Daniel Montes\\Anaconda3\\lib\\site-packages\\sklearn\\utils\\validation.py:593: FutureWarning: np.matrix usage is deprecated in 1.0 and will raise a TypeError in 1.2. Please convert to a numpy array with np.asarray. For more information see: https://numpy.org/doc/stable/reference/generated/numpy.matrix.html\n",
      "  warnings.warn(\n"
     ]
    },
    {
     "data": {
      "text/plain": [
       "array([[0.3082764]])"
      ]
     },
     "execution_count": 206,
     "metadata": {},
     "output_type": "execute_result"
    }
   ],
   "source": [
    "cosine_similarity(rr[0],rr[1])"
   ]
  },
  {
   "cell_type": "code",
   "execution_count": 207,
   "metadata": {},
   "outputs": [
    {
     "name": "stderr",
     "output_type": "stream",
     "text": [
      "c:\\Users\\Daniel Montes\\Anaconda3\\lib\\site-packages\\sklearn\\utils\\validation.py:593: FutureWarning: np.matrix usage is deprecated in 1.0 and will raise a TypeError in 1.2. Please convert to a numpy array with np.asarray. For more information see: https://numpy.org/doc/stable/reference/generated/numpy.matrix.html\n",
      "  warnings.warn(\n",
      "c:\\Users\\Daniel Montes\\Anaconda3\\lib\\site-packages\\sklearn\\utils\\validation.py:593: FutureWarning: np.matrix usage is deprecated in 1.0 and will raise a TypeError in 1.2. Please convert to a numpy array with np.asarray. For more information see: https://numpy.org/doc/stable/reference/generated/numpy.matrix.html\n",
      "  warnings.warn(\n"
     ]
    },
    {
     "data": {
      "text/plain": [
       "array([[0.]])"
      ]
     },
     "execution_count": 207,
     "metadata": {},
     "output_type": "execute_result"
    }
   ],
   "source": [
    "cosine_similarity(rr[0],rr[2])"
   ]
  },
  {
   "cell_type": "code",
   "execution_count": 208,
   "metadata": {},
   "outputs": [
    {
     "name": "stderr",
     "output_type": "stream",
     "text": [
      "c:\\Users\\Daniel Montes\\Anaconda3\\lib\\site-packages\\sklearn\\utils\\validation.py:593: FutureWarning: np.matrix usage is deprecated in 1.0 and will raise a TypeError in 1.2. Please convert to a numpy array with np.asarray. For more information see: https://numpy.org/doc/stable/reference/generated/numpy.matrix.html\n",
      "  warnings.warn(\n",
      "c:\\Users\\Daniel Montes\\Anaconda3\\lib\\site-packages\\sklearn\\utils\\validation.py:593: FutureWarning: np.matrix usage is deprecated in 1.0 and will raise a TypeError in 1.2. Please convert to a numpy array with np.asarray. For more information see: https://numpy.org/doc/stable/reference/generated/numpy.matrix.html\n",
      "  warnings.warn(\n"
     ]
    },
    {
     "data": {
      "text/plain": [
       "array([[0.]])"
      ]
     },
     "execution_count": 208,
     "metadata": {},
     "output_type": "execute_result"
    }
   ],
   "source": [
    "cosine_similarity(rr[0],rr[3])"
   ]
  },
  {
   "cell_type": "code",
   "execution_count": 211,
   "metadata": {},
   "outputs": [
    {
     "data": {
      "text/plain": [
       "matrix([[0., 0., 0., 0., 0., 0., 0., 0., 0., 0., 0., 0., 0., 0., 0., 0.,\n",
       "         0., 1., 0.]])"
      ]
     },
     "execution_count": 211,
     "metadata": {},
     "output_type": "execute_result"
    }
   ],
   "source": [
    "tfi.transform([\"you are my love\"]).todense()"
   ]
  },
  {
   "cell_type": "code",
   "execution_count": 212,
   "metadata": {},
   "outputs": [],
   "source": [
    "from sklearn.datasets import fetch_20newsgroups"
   ]
  },
  {
   "cell_type": "code",
   "execution_count": 214,
   "metadata": {},
   "outputs": [
    {
     "data": {
      "text/plain": [
       "\"Load the filenames and data from the 20 newsgroups dataset (classification).\\n\\n    Download it if necessary.\\n\\n    =================   ==========\\n    Classes                     20\\n    Samples total            18846\\n    Dimensionality               1\\n    Features                  text\\n    =================   ==========\\n\\n    Read more in the :ref:`User Guide <20newsgroups_dataset>`.\\n\\n    Parameters\\n    ----------\\n    data_home : str, default=None\\n        Specify a download and cache folder for the datasets. If None,\\n        all scikit-learn data is stored in '~/scikit_learn_data' subfolders.\\n\\n    subset : {'train', 'test', 'all'}, default='train'\\n        Select the dataset to load: 'train' for the training set, 'test'\\n        for the test set, 'all' for both, with shuffled ordering.\\n\\n    categories : array-like, dtype=str, default=None\\n        If None (default), load all the categories.\\n        If not None, list of category names to load (other categories\\n        ignored).\\n\\n    shuffle : bool, default=True\\n        Whether or not to shuffle the data: might be important for models that\\n        make the assumption that the samples are independent and identically\\n        distributed (i.i.d.), such as stochastic gradient descent.\\n\\n    random_state : int, RandomState instance or None, default=None\\n        Determines random number generation for dataset shuffling. Pass an int\\n        for reproducible output across multiple function calls.\\n        See :term:`Glossary <random_state>`.\\n\\n    remove : tuple, default=()\\n        May contain any subset of ('headers', 'footers', 'quotes'). Each of\\n        these are kinds of text that will be detected and removed from the\\n        newsgroup posts, preventing classifiers from overfitting on\\n        metadata.\\n\\n        'headers' removes newsgroup headers, 'footers' removes blocks at the\\n        ends of posts that look like signatures, and 'quotes' removes lines\\n        that appear to be quoting another post.\\n\\n        'headers' follows an exact standard; the other filters are not always\\n        correct.\\n\\n    download_if_missing : bool, default=True\\n        If False, raise an IOError if the data is not locally available\\n        instead of trying to download the data from the source site.\\n\\n    return_X_y : bool, default=False\\n        If True, returns `(data.data, data.target)` instead of a Bunch\\n        object.\\n\\n        .. versionadded:: 0.22\\n\\n    Returns\\n    -------\\n    bunch : :class:`~sklearn.utils.Bunch`\\n        Dictionary-like object, with the following attributes.\\n\\n        data : list of shape (n_samples,)\\n            The data list to learn.\\n        target: ndarray of shape (n_samples,)\\n            The target labels.\\n        filenames: list of shape (n_samples,)\\n            The path to the location of the data.\\n        DESCR: str\\n            The full description of the dataset.\\n        target_names: list of shape (n_classes,)\\n            The names of target classes.\\n\\n    (data, target) : tuple if `return_X_y=True`\\n        .. versionadded:: 0.22\\n    \""
      ]
     },
     "execution_count": 214,
     "metadata": {},
     "output_type": "execute_result"
    }
   ],
   "source": [
    "fetch_20newsgroups.__doc__"
   ]
  },
  {
   "cell_type": "code",
   "execution_count": 251,
   "metadata": {},
   "outputs": [],
   "source": [
    "categorias= ['misc.forsale', 'sci.electronics', 'talk.religion.misc']\n",
    "grupo=fetch_20newsgroups(subset=\"train\",categories=categorias)"
   ]
  },
  {
   "cell_type": "code",
   "execution_count": 252,
   "metadata": {},
   "outputs": [
    {
     "data": {
      "text/html": [
       "<div>\n",
       "<style scoped>\n",
       "    .dataframe tbody tr th:only-of-type {\n",
       "        vertical-align: middle;\n",
       "    }\n",
       "\n",
       "    .dataframe tbody tr th {\n",
       "        vertical-align: top;\n",
       "    }\n",
       "\n",
       "    .dataframe thead th {\n",
       "        text-align: right;\n",
       "    }\n",
       "</style>\n",
       "<table border=\"1\" class=\"dataframe\">\n",
       "  <thead>\n",
       "    <tr style=\"text-align: right;\">\n",
       "      <th></th>\n",
       "      <th>text</th>\n",
       "      <th>category</th>\n",
       "    </tr>\n",
       "  </thead>\n",
       "  <tbody>\n",
       "    <tr>\n",
       "      <th>0</th>\n",
       "      <td>From: Steve@Busop.cit.wayne.edu (Steve Teolis)...</td>\n",
       "      <td>0</td>\n",
       "    </tr>\n",
       "    <tr>\n",
       "      <th>1</th>\n",
       "      <td>From: jks2x@holmes.acc.Virginia.EDU (Jason K. ...</td>\n",
       "      <td>0</td>\n",
       "    </tr>\n",
       "    <tr>\n",
       "      <th>2</th>\n",
       "      <td>From: wayne@uva386.schools.virginia.edu (Tony ...</td>\n",
       "      <td>1</td>\n",
       "    </tr>\n",
       "    <tr>\n",
       "      <th>3</th>\n",
       "      <td>From: lihan@ccwf.cc.utexas.edu (Bruce G. Bostw...</td>\n",
       "      <td>1</td>\n",
       "    </tr>\n",
       "    <tr>\n",
       "      <th>4</th>\n",
       "      <td>From: myoakam@cis.ohio-state.edu (micah r yoak...</td>\n",
       "      <td>0</td>\n",
       "    </tr>\n",
       "  </tbody>\n",
       "</table>\n",
       "</div>"
      ],
      "text/plain": [
       "                                                text  category\n",
       "0  From: Steve@Busop.cit.wayne.edu (Steve Teolis)...         0\n",
       "1  From: jks2x@holmes.acc.Virginia.EDU (Jason K. ...         0\n",
       "2  From: wayne@uva386.schools.virginia.edu (Tony ...         1\n",
       "3  From: lihan@ccwf.cc.utexas.edu (Bruce G. Bostw...         1\n",
       "4  From: myoakam@cis.ohio-state.edu (micah r yoak...         0"
      ]
     },
     "execution_count": 252,
     "metadata": {},
     "output_type": "execute_result"
    }
   ],
   "source": [
    "grupo_noticias = pd.DataFrame({'text' : grupo['data'], 'category': grupo.target})\n",
    "grupo_noticias.head()"
   ]
  },
  {
   "cell_type": "code",
   "execution_count": 257,
   "metadata": {},
   "outputs": [
    {
     "name": "stderr",
     "output_type": "stream",
     "text": [
      "[nltk_data] Downloading package stopwords to C:\\Users\\Daniel\n",
      "[nltk_data]     Montes\\AppData\\Roaming\\nltk_data...\n",
      "[nltk_data]   Package stopwords is already up-to-date!\n"
     ]
    }
   ],
   "source": [
    "from nltk.stem import WordNetLemmatizer\n",
    "lemmatizador=WordNetLemmatizer()\n",
    "nltk.download('stopwords')\n",
    "stop_words=stopwords.words('english')\n",
    "grupo_noticias['texto_limpio'] = grupo_noticias['text'].apply(\\\n",
    "lambda x : ' '.join([lemmatizador.lemmatize(word.lower()) \\\n",
    "    for word in word_tokenize(re.sub(r'([^\\s\\w]|_)+', ' ', str(x))) \n",
    "    if word.lower() not in stop_words]))"
   ]
  },
  {
   "cell_type": "code",
   "execution_count": 258,
   "metadata": {},
   "outputs": [
    {
     "data": {
      "text/html": [
       "<div>\n",
       "<style scoped>\n",
       "    .dataframe tbody tr th:only-of-type {\n",
       "        vertical-align: middle;\n",
       "    }\n",
       "\n",
       "    .dataframe tbody tr th {\n",
       "        vertical-align: top;\n",
       "    }\n",
       "\n",
       "    .dataframe thead th {\n",
       "        text-align: right;\n",
       "    }\n",
       "</style>\n",
       "<table border=\"1\" class=\"dataframe\">\n",
       "  <thead>\n",
       "    <tr style=\"text-align: right;\">\n",
       "      <th></th>\n",
       "      <th>text</th>\n",
       "      <th>category</th>\n",
       "      <th>texto_limpio</th>\n",
       "    </tr>\n",
       "  </thead>\n",
       "  <tbody>\n",
       "    <tr>\n",
       "      <th>0</th>\n",
       "      <td>From: Steve@Busop.cit.wayne.edu (Steve Teolis)...</td>\n",
       "      <td>0</td>\n",
       "      <td>steve busop cit wayne edu steve teolis subject...</td>\n",
       "    </tr>\n",
       "    <tr>\n",
       "      <th>1</th>\n",
       "      <td>From: jks2x@holmes.acc.Virginia.EDU (Jason K. ...</td>\n",
       "      <td>0</td>\n",
       "      <td>jks2x holmes acc virginia edu jason k schechne...</td>\n",
       "    </tr>\n",
       "    <tr>\n",
       "      <th>2</th>\n",
       "      <td>From: wayne@uva386.schools.virginia.edu (Tony ...</td>\n",
       "      <td>1</td>\n",
       "      <td>wayne uva386 school virginia edu tony wayne su...</td>\n",
       "    </tr>\n",
       "    <tr>\n",
       "      <th>3</th>\n",
       "      <td>From: lihan@ccwf.cc.utexas.edu (Bruce G. Bostw...</td>\n",
       "      <td>1</td>\n",
       "      <td>lihan ccwf cc utexas edu bruce g bostwick subj...</td>\n",
       "    </tr>\n",
       "    <tr>\n",
       "      <th>4</th>\n",
       "      <td>From: myoakam@cis.ohio-state.edu (micah r yoak...</td>\n",
       "      <td>0</td>\n",
       "      <td>myoakam ci ohio state edu micah r yoakam subje...</td>\n",
       "    </tr>\n",
       "    <tr>\n",
       "      <th>...</th>\n",
       "      <td>...</td>\n",
       "      <td>...</td>\n",
       "      <td>...</td>\n",
       "    </tr>\n",
       "    <tr>\n",
       "      <th>1548</th>\n",
       "      <td>From: psyrobtw@ubvmsb.cc.buffalo.edu (Robert W...</td>\n",
       "      <td>2</td>\n",
       "      <td>psyrobtw ubvmsb cc buffalo edu robert wei subj...</td>\n",
       "    </tr>\n",
       "    <tr>\n",
       "      <th>1549</th>\n",
       "      <td>From: brian@lpl.arizona.edu (Brian Ceccarelli ...</td>\n",
       "      <td>2</td>\n",
       "      <td>brian lpl arizona edu brian ceccarelli 602 621...</td>\n",
       "    </tr>\n",
       "    <tr>\n",
       "      <th>1550</th>\n",
       "      <td>From: bmaraldo@watserv1.uwaterloo.ca (Commande...</td>\n",
       "      <td>0</td>\n",
       "      <td>bmaraldo watserv1 uwaterloo ca commander brett...</td>\n",
       "    </tr>\n",
       "    <tr>\n",
       "      <th>1551</th>\n",
       "      <td>From: wtm@uhura.neoucom.edu (Bill Mayhew)\\nSub...</td>\n",
       "      <td>1</td>\n",
       "      <td>wtm uhura neoucom edu bill mayhew subject adco...</td>\n",
       "    </tr>\n",
       "    <tr>\n",
       "      <th>1552</th>\n",
       "      <td>From: news@magnus.acs.ohio-state.edu\\nSubject:...</td>\n",
       "      <td>0</td>\n",
       "      <td>news magnus ac ohio state edu subject 87 buick...</td>\n",
       "    </tr>\n",
       "  </tbody>\n",
       "</table>\n",
       "<p>1553 rows × 3 columns</p>\n",
       "</div>"
      ],
      "text/plain": [
       "                                                   text  category  \\\n",
       "0     From: Steve@Busop.cit.wayne.edu (Steve Teolis)...         0   \n",
       "1     From: jks2x@holmes.acc.Virginia.EDU (Jason K. ...         0   \n",
       "2     From: wayne@uva386.schools.virginia.edu (Tony ...         1   \n",
       "3     From: lihan@ccwf.cc.utexas.edu (Bruce G. Bostw...         1   \n",
       "4     From: myoakam@cis.ohio-state.edu (micah r yoak...         0   \n",
       "...                                                 ...       ...   \n",
       "1548  From: psyrobtw@ubvmsb.cc.buffalo.edu (Robert W...         2   \n",
       "1549  From: brian@lpl.arizona.edu (Brian Ceccarelli ...         2   \n",
       "1550  From: bmaraldo@watserv1.uwaterloo.ca (Commande...         0   \n",
       "1551  From: wtm@uhura.neoucom.edu (Bill Mayhew)\\nSub...         1   \n",
       "1552  From: news@magnus.acs.ohio-state.edu\\nSubject:...         0   \n",
       "\n",
       "                                           texto_limpio  \n",
       "0     steve busop cit wayne edu steve teolis subject...  \n",
       "1     jks2x holmes acc virginia edu jason k schechne...  \n",
       "2     wayne uva386 school virginia edu tony wayne su...  \n",
       "3     lihan ccwf cc utexas edu bruce g bostwick subj...  \n",
       "4     myoakam ci ohio state edu micah r yoakam subje...  \n",
       "...                                                 ...  \n",
       "1548  psyrobtw ubvmsb cc buffalo edu robert wei subj...  \n",
       "1549  brian lpl arizona edu brian ceccarelli 602 621...  \n",
       "1550  bmaraldo watserv1 uwaterloo ca commander brett...  \n",
       "1551  wtm uhura neoucom edu bill mayhew subject adco...  \n",
       "1552  news magnus ac ohio state edu subject 87 buick...  \n",
       "\n",
       "[1553 rows x 3 columns]"
      ]
     },
     "execution_count": 258,
     "metadata": {},
     "output_type": "execute_result"
    }
   ],
   "source": [
    "grupo_noticias"
   ]
  },
  {
   "cell_type": "code",
   "execution_count": 217,
   "metadata": {},
   "outputs": [],
   "source": [
    "## utilizaremos los stop words\n",
    "from nltk.corpus import stopwords"
   ]
  },
  {
   "cell_type": "code",
   "execution_count": 221,
   "metadata": {},
   "outputs": [],
   "source": [
    "stop=stopwords.words(\"english\")"
   ]
  },
  {
   "cell_type": "code",
   "execution_count": 241,
   "metadata": {},
   "outputs": [],
   "source": [
    "stop.extend(['\\\\n','n','\\\\','>','nLines','nI',\"n'\"])"
   ]
  },
  {
   "cell_type": "code",
   "execution_count": 230,
   "metadata": {},
   "outputs": [
    {
     "data": {
      "text/plain": [
       "\"From: lerxst@wam.umd.edu (where's my thing)\\nSubject: WHAT car is this!?\\nNntp-Posting-Host: rac3.wam.umd.edu\\nOrganization: University of Maryland, College Park\\nLines: 15\\n\\n I was wondering if anyone out there could enlighten me on this car I saw\\nthe other day. It was a 2-door sports car, looked to be from the late 60s/\\nearly 70s. It was called a Bricklin. The doors were really small. In addition,\\nthe front bumper was separate from the rest of the body. This is \\nall I know. If anyone can tellme a model name, engine specs, years\\nof production, where this car is made, history, or whatever info you\\nhave on this funky looking car, please e-mail.\\n\\nThanks,\\n- IL\\n   ---- brought to you by your neighborhood Lerxst ----\\n\\n\\n\\n\\n\""
      ]
     },
     "execution_count": 230,
     "metadata": {},
     "output_type": "execute_result"
    }
   ],
   "source": [
    "grupo[0]"
   ]
  },
  {
   "cell_type": "code",
   "execution_count": 232,
   "metadata": {},
   "outputs": [],
   "source": [
    "for frase in grupo:\n",
    "    frase_val=[]\n",
    "    for palabra in frase.lower():\n",
    "        if palabra not in stop:\n",
    "            frase_val.append(palabra)\n"
   ]
  },
  {
   "cell_type": "code",
   "execution_count": 233,
   "metadata": {},
   "outputs": [
    {
     "data": {
      "text/plain": [
       "['f',\n",
       " 'r',\n",
       " ':',\n",
       " ' ',\n",
       " 'b',\n",
       " 'r',\n",
       " 'e',\n",
       " 'n',\n",
       " '@',\n",
       " 'b',\n",
       " 'e',\n",
       " '1',\n",
       " '.',\n",
       " 'u',\n",
       " 'u',\n",
       " 'c',\n",
       " 'p',\n",
       " ' ',\n",
       " '(',\n",
       " 'n',\n",
       " 'n',\n",
       " ' ',\n",
       " 'r',\n",
       " 'e',\n",
       " ' ',\n",
       " 'b',\n",
       " 'r',\n",
       " 'e',\n",
       " 'n',\n",
       " ')',\n",
       " 'u',\n",
       " 'b',\n",
       " 'j',\n",
       " 'e',\n",
       " 'c',\n",
       " ':',\n",
       " ' ',\n",
       " 'x',\n",
       " '-',\n",
       " 'e',\n",
       " 'r',\n",
       " 'n',\n",
       " 'l',\n",
       " ' ',\n",
       " 'c',\n",
       " 'n',\n",
       " 'f',\n",
       " 'g',\n",
       " '.',\n",
       " ' ',\n",
       " 'f',\n",
       " 'l',\n",
       " 'e',\n",
       " ' ',\n",
       " 'q',\n",
       " 'u',\n",
       " 'e',\n",
       " 'n',\n",
       " 'r',\n",
       " 'g',\n",
       " 'n',\n",
       " 'z',\n",
       " 'n',\n",
       " ':',\n",
       " ' ',\n",
       " 'b',\n",
       " 'r',\n",
       " 'n',\n",
       " ' ',\n",
       " 'c',\n",
       " 'r',\n",
       " 'p',\n",
       " 'r',\n",
       " 'n',\n",
       " ',',\n",
       " ' ',\n",
       " 'h',\n",
       " 'l',\n",
       " 'r',\n",
       " ',',\n",
       " ' ',\n",
       " 'f',\n",
       " 'l',\n",
       " 'r',\n",
       " 'b',\n",
       " 'u',\n",
       " 'n',\n",
       " ':',\n",
       " ' ',\n",
       " 'u',\n",
       " 'l',\n",
       " 'n',\n",
       " 'e',\n",
       " ':',\n",
       " ' ',\n",
       " '1',\n",
       " '9',\n",
       " ' ',\n",
       " ' ',\n",
       " 'q',\n",
       " 'u',\n",
       " 'e',\n",
       " 'n',\n",
       " ':',\n",
       " ' ',\n",
       " ' ',\n",
       " 'w',\n",
       " 'h',\n",
       " ' ',\n",
       " ' ',\n",
       " 'h',\n",
       " 'e',\n",
       " ' ',\n",
       " 'e',\n",
       " 'x',\n",
       " 'c',\n",
       " ' ',\n",
       " 'e',\n",
       " 'n',\n",
       " 'r',\n",
       " ' ',\n",
       " '(',\n",
       " 'p',\n",
       " 'r',\n",
       " 'e',\n",
       " 'e',\n",
       " 'r',\n",
       " ' ',\n",
       " 'n',\n",
       " ' ',\n",
       " 'n',\n",
       " 'x',\n",
       " ' ',\n",
       " 'p',\n",
       " 'l',\n",
       " 'e',\n",
       " 'e',\n",
       " ')',\n",
       " ',',\n",
       " ' ',\n",
       " 'n',\n",
       " ' ',\n",
       " 'h',\n",
       " 'e',\n",
       " ' ',\n",
       " 'x',\n",
       " '-',\n",
       " 'e',\n",
       " 'r',\n",
       " 'n',\n",
       " 'l',\n",
       " 'c',\n",
       " 'n',\n",
       " 'f',\n",
       " 'g',\n",
       " 'u',\n",
       " 'r',\n",
       " 'n',\n",
       " ' ',\n",
       " 'f',\n",
       " 'l',\n",
       " 'e',\n",
       " ' ',\n",
       " '(',\n",
       " 'l',\n",
       " 'e',\n",
       " ' ',\n",
       " 'w',\n",
       " 'h',\n",
       " 'e',\n",
       " 'n',\n",
       " ' ',\n",
       " 'h',\n",
       " 'e',\n",
       " ' ',\n",
       " 'x',\n",
       " '-',\n",
       " 'e',\n",
       " 'r',\n",
       " 'n',\n",
       " 'l',\n",
       " ' ',\n",
       " 'b',\n",
       " ')',\n",
       " ',',\n",
       " ' ',\n",
       " ' ',\n",
       " ' ',\n",
       " 'n',\n",
       " 'h',\n",
       " 'e',\n",
       " 'r',\n",
       " ' ',\n",
       " 'e',\n",
       " ' ',\n",
       " ' ',\n",
       " 'h',\n",
       " 'e',\n",
       " ' ',\n",
       " 'c',\n",
       " 'p',\n",
       " '/',\n",
       " 'p',\n",
       " ' ',\n",
       " 'c',\n",
       " 'c',\n",
       " 'e',\n",
       " ' ',\n",
       " 'c',\n",
       " 'n',\n",
       " 'r',\n",
       " 'l',\n",
       " ' ',\n",
       " 'l',\n",
       " '?',\n",
       " ' ',\n",
       " ' ',\n",
       " ' ',\n",
       " ' ',\n",
       " ' ',\n",
       " 'b',\n",
       " 'c',\n",
       " 'k',\n",
       " 'g',\n",
       " 'r',\n",
       " 'u',\n",
       " 'n',\n",
       " ':',\n",
       " ' ',\n",
       " ' ',\n",
       " ' ',\n",
       " 'h',\n",
       " 'v',\n",
       " 'e',\n",
       " ' ',\n",
       " 'w',\n",
       " ' ',\n",
       " 'u',\n",
       " 'n',\n",
       " 'x',\n",
       " ' ',\n",
       " 'e',\n",
       " ',',\n",
       " ' ',\n",
       " '1',\n",
       " '.',\n",
       " ' ',\n",
       " 'n',\n",
       " ' ',\n",
       " '&',\n",
       " ' ',\n",
       " '3',\n",
       " 'b',\n",
       " '2',\n",
       " ' ',\n",
       " 'r',\n",
       " 'u',\n",
       " 'n',\n",
       " 'n',\n",
       " 'n',\n",
       " 'g',\n",
       " ' ',\n",
       " 'x',\n",
       " '1',\n",
       " '1',\n",
       " 'r',\n",
       " '3',\n",
       " ' ',\n",
       " 'n',\n",
       " ' ',\n",
       " \"'\",\n",
       " ' ',\n",
       " 'x',\n",
       " '1',\n",
       " '1',\n",
       " 'r',\n",
       " '4',\n",
       " ' ',\n",
       " 'n',\n",
       " ' ',\n",
       " '2',\n",
       " '.',\n",
       " ' ',\n",
       " ' ',\n",
       " 'u',\n",
       " 'n',\n",
       " ' ',\n",
       " '1',\n",
       " '0',\n",
       " ' ',\n",
       " 'w',\n",
       " 'h',\n",
       " 'u',\n",
       " ' ',\n",
       " 'n',\n",
       " ' ',\n",
       " 'x',\n",
       " '.',\n",
       " ' ',\n",
       " ' ',\n",
       " ' ',\n",
       " ' ',\n",
       " ' ',\n",
       " 'w',\n",
       " 'n',\n",
       " ' ',\n",
       " ' ',\n",
       " 'h',\n",
       " 'v',\n",
       " 'e',\n",
       " ' ',\n",
       " ' ',\n",
       " 'w',\n",
       " 'n',\n",
       " 'w',\n",
       " ' ',\n",
       " ' ',\n",
       " 'h',\n",
       " 'e',\n",
       " ' ',\n",
       " 'u',\n",
       " 'n',\n",
       " ' ',\n",
       " 'n',\n",
       " ' ',\n",
       " 'h',\n",
       " 'e',\n",
       " ' ',\n",
       " '3',\n",
       " 'b',\n",
       " '2',\n",
       " ' ',\n",
       " 'n',\n",
       " ' ',\n",
       " 'h',\n",
       " 'e',\n",
       " ' ',\n",
       " 'n',\n",
       " 'c',\n",
       " ' ',\n",
       " 'x',\n",
       " '-',\n",
       " 'e',\n",
       " 'r',\n",
       " 'n',\n",
       " 'l',\n",
       " ' ',\n",
       " ' ',\n",
       " 'h',\n",
       " 'e',\n",
       " 'e',\n",
       " ' ',\n",
       " 'e',\n",
       " '.',\n",
       " ' ',\n",
       " ' ',\n",
       " ' ',\n",
       " 'c',\n",
       " 'n',\n",
       " ' ',\n",
       " ' ',\n",
       " 'h',\n",
       " ' ',\n",
       " 'f',\n",
       " ' ',\n",
       " ' ',\n",
       " 'n',\n",
       " 'u',\n",
       " 'l',\n",
       " 'l',\n",
       " ' ',\n",
       " 'e',\n",
       " ' ',\n",
       " 'h',\n",
       " 'e',\n",
       " ' ',\n",
       " 'n',\n",
       " 'e',\n",
       " 'w',\n",
       " 'r',\n",
       " 'k',\n",
       " ' ',\n",
       " 'p',\n",
       " 'r',\n",
       " 'e',\n",
       " 'e',\n",
       " 'r',\n",
       " ' ',\n",
       " 'c',\n",
       " 'p',\n",
       " '/',\n",
       " 'p',\n",
       " 'c',\n",
       " 'c',\n",
       " 'e',\n",
       " ' ',\n",
       " 'c',\n",
       " 'n',\n",
       " 'r',\n",
       " 'l',\n",
       " ' ',\n",
       " 'l',\n",
       " ' ',\n",
       " ' ',\n",
       " 'f',\n",
       " 'f',\n",
       " ',',\n",
       " ' ',\n",
       " 'h',\n",
       " 'e',\n",
       " 'n',\n",
       " ' ',\n",
       " 'l',\n",
       " 'g',\n",
       " 'n',\n",
       " ' ',\n",
       " ' ',\n",
       " ' ',\n",
       " 'e',\n",
       " 'l',\n",
       " 'n',\n",
       " 'e',\n",
       " ' ',\n",
       " 'e',\n",
       " 'n',\n",
       " '.',\n",
       " ' ',\n",
       " 'n',\n",
       " ' ',\n",
       " 'g',\n",
       " 'r',\n",
       " 'e',\n",
       " '!',\n",
       " ' ',\n",
       " ' ',\n",
       " ' ',\n",
       " ' ',\n",
       " \"'\",\n",
       " 'v',\n",
       " 'e',\n",
       " ' ',\n",
       " 'r',\n",
       " 'e',\n",
       " ' ',\n",
       " ' ',\n",
       " 'g',\n",
       " 'e',\n",
       " ' ',\n",
       " '\"',\n",
       " 'x',\n",
       " 'h',\n",
       " '\"',\n",
       " ' ',\n",
       " ' ',\n",
       " 'w',\n",
       " 'r',\n",
       " 'k',\n",
       " ' ',\n",
       " 'n',\n",
       " ' ',\n",
       " 'f',\n",
       " 'l',\n",
       " 'e',\n",
       " '.',\n",
       " ' ',\n",
       " ' ',\n",
       " 'e',\n",
       " 'h',\n",
       " 'e',\n",
       " 'r',\n",
       " ' ',\n",
       " ' ',\n",
       " 'n',\n",
       " 'x',\n",
       " ' ',\n",
       " ' ',\n",
       " 'w',\n",
       " 'r',\n",
       " 'n',\n",
       " 'g',\n",
       " 'r',\n",
       " ' ',\n",
       " 'h',\n",
       " 'e',\n",
       " ' ',\n",
       " 'x',\n",
       " '1',\n",
       " '1',\n",
       " 'r',\n",
       " '3',\n",
       " ' ',\n",
       " 'p',\n",
       " 'l',\n",
       " 'e',\n",
       " 'e',\n",
       " 'n',\n",
       " 'n',\n",
       " ' ',\n",
       " ' ',\n",
       " 'b',\n",
       " 'g',\n",
       " 'u',\n",
       " '.',\n",
       " ' ',\n",
       " ' ',\n",
       " ' ',\n",
       " ' ',\n",
       " ' ',\n",
       " ' ',\n",
       " 'r',\n",
       " 'n',\n",
       " 'g',\n",
       " ' ',\n",
       " ' ',\n",
       " 'e',\n",
       " ' ',\n",
       " 'h',\n",
       " 'e',\n",
       " ' ',\n",
       " 'n',\n",
       " 'c',\n",
       " ' ',\n",
       " 'c',\n",
       " 'n',\n",
       " 'f',\n",
       " 'g',\n",
       " 'u',\n",
       " 'r',\n",
       " 'n',\n",
       " ' ',\n",
       " 'f',\n",
       " 'l',\n",
       " 'e',\n",
       " ' ',\n",
       " 'h',\n",
       " ' ',\n",
       " ' ',\n",
       " 'l',\n",
       " 'e',\n",
       " ' ',\n",
       " 'w',\n",
       " 'h',\n",
       " 'e',\n",
       " 'n',\n",
       " ' ',\n",
       " 'h',\n",
       " 'e',\n",
       " ' ',\n",
       " 'n',\n",
       " 'c',\n",
       " ' ',\n",
       " 'b',\n",
       " '.',\n",
       " ' ',\n",
       " ' ',\n",
       " 'n',\n",
       " ' ',\n",
       " 'e',\n",
       " 'r',\n",
       " ' ',\n",
       " 'w',\n",
       " 'h',\n",
       " ' ',\n",
       " 'e',\n",
       " 'n',\n",
       " 'r',\n",
       " ' ',\n",
       " ' ',\n",
       " ' ',\n",
       " 'r',\n",
       " ' ',\n",
       " 'e',\n",
       " ',',\n",
       " ' ',\n",
       " 'h',\n",
       " 'e',\n",
       " ' ',\n",
       " 'n',\n",
       " 'c',\n",
       " ' ',\n",
       " 'l',\n",
       " 'l',\n",
       " ' ',\n",
       " 'b',\n",
       " ' ',\n",
       " 'w',\n",
       " 'h',\n",
       " 'h',\n",
       " 'e',\n",
       " ' ',\n",
       " 'c',\n",
       " 'p',\n",
       " '/',\n",
       " 'p',\n",
       " ' ',\n",
       " 'c',\n",
       " 'c',\n",
       " 'e',\n",
       " ' ',\n",
       " 'c',\n",
       " 'n',\n",
       " 'r',\n",
       " 'l',\n",
       " ' ',\n",
       " 'l',\n",
       " ' ',\n",
       " 'c',\n",
       " 'n',\n",
       " 'n',\n",
       " 'n',\n",
       " 'g',\n",
       " ' ',\n",
       " 'n',\n",
       " 'l',\n",
       " ' ',\n",
       " 'h',\n",
       " 'e',\n",
       " ' ',\n",
       " '3',\n",
       " 'b',\n",
       " '2',\n",
       " '.',\n",
       " ' ',\n",
       " ' ',\n",
       " ' ',\n",
       " 'n',\n",
       " 'u',\n",
       " 'l',\n",
       " ' ',\n",
       " 'r',\n",
       " 'e',\n",
       " ' ',\n",
       " 'w',\n",
       " 'r',\n",
       " 'h',\n",
       " 'l',\n",
       " 'e',\n",
       " ' ',\n",
       " ' ',\n",
       " 'n',\n",
       " ' ',\n",
       " 'h',\n",
       " 'e',\n",
       " 'l',\n",
       " 'p',\n",
       " ' ',\n",
       " 'w',\n",
       " 'u',\n",
       " 'l',\n",
       " ' ',\n",
       " 'b',\n",
       " 'e',\n",
       " ' ',\n",
       " ' ',\n",
       " 'p',\n",
       " 'p',\n",
       " 'r',\n",
       " 'e',\n",
       " 'c',\n",
       " 'e',\n",
       " '!',\n",
       " '!',\n",
       " ' ',\n",
       " ' ',\n",
       " 'h',\n",
       " 'n',\n",
       " 'k',\n",
       " '!',\n",
       " 'n',\n",
       " 'n',\n",
       " ' ',\n",
       " 'r',\n",
       " 'e',\n",
       " ' ',\n",
       " 'b',\n",
       " 'r',\n",
       " 'e',\n",
       " 'n',\n",
       " ' ',\n",
       " ' ',\n",
       " '\\t',\n",
       " 'b',\n",
       " 'r',\n",
       " 'e',\n",
       " 'n',\n",
       " '@',\n",
       " 'f',\n",
       " 'e',\n",
       " '.',\n",
       " 'e',\n",
       " 'g',\n",
       " 'l',\n",
       " 'n',\n",
       " '.',\n",
       " 'f',\n",
       " '.',\n",
       " 'l']"
      ]
     },
     "execution_count": 233,
     "metadata": {},
     "output_type": "execute_result"
    }
   ],
   "source": [
    "frase_val"
   ]
  },
  {
   "cell_type": "code",
   "execution_count": 234,
   "metadata": {},
   "outputs": [
    {
     "name": "stdout",
     "output_type": "stream",
     "text": [
      "Collecting wordcloud\n",
      "  Downloading wordcloud-1.8.2.2-cp39-cp39-win_amd64.whl (153 kB)\n",
      "Requirement already satisfied: numpy>=1.6.1 in c:\\users\\daniel montes\\anaconda3\\lib\\site-packages (from wordcloud) (1.21.5)\n",
      "Requirement already satisfied: matplotlib in c:\\users\\daniel montes\\anaconda3\\lib\\site-packages (from wordcloud) (3.5.1)\n",
      "Requirement already satisfied: pillow in c:\\users\\daniel montes\\anaconda3\\lib\\site-packages (from wordcloud) (9.0.1)\n",
      "Requirement already satisfied: fonttools>=4.22.0 in c:\\users\\daniel montes\\anaconda3\\lib\\site-packages (from matplotlib->wordcloud) (4.25.0)\n",
      "Requirement already satisfied: python-dateutil>=2.7 in c:\\users\\daniel montes\\anaconda3\\lib\\site-packages (from matplotlib->wordcloud) (2.8.2)\n",
      "Requirement already satisfied: cycler>=0.10 in c:\\users\\daniel montes\\anaconda3\\lib\\site-packages (from matplotlib->wordcloud) (0.11.0)\n",
      "Requirement already satisfied: kiwisolver>=1.0.1 in c:\\users\\daniel montes\\anaconda3\\lib\\site-packages (from matplotlib->wordcloud) (1.3.2)\n",
      "Requirement already satisfied: pyparsing>=2.2.1 in c:\\users\\daniel montes\\anaconda3\\lib\\site-packages (from matplotlib->wordcloud) (3.0.4)\n",
      "Requirement already satisfied: packaging>=20.0 in c:\\users\\daniel montes\\anaconda3\\lib\\site-packages (from matplotlib->wordcloud) (21.3)\n",
      "Requirement already satisfied: six>=1.5 in c:\\users\\daniel montes\\anaconda3\\lib\\site-packages (from python-dateutil>=2.7->matplotlib->wordcloud) (1.16.0)\n",
      "Installing collected packages: wordcloud\n",
      "Successfully installed wordcloud-1.8.2.2\n",
      "Note: you may need to restart the kernel to use updated packages.\n"
     ]
    }
   ],
   "source": [
    "# pip install wordcloud"
   ]
  },
  {
   "cell_type": "code",
   "execution_count": 235,
   "metadata": {},
   "outputs": [],
   "source": [
    "from wordcloud import WordCloud"
   ]
  },
  {
   "cell_type": "code",
   "execution_count": 245,
   "metadata": {},
   "outputs": [],
   "source": [
    "nube=WordCloud(width=800,height=1200,background_color=\"white\",\n",
    "          max_words=100,stopwords=stop).generate(str(grupo))"
   ]
  },
  {
   "cell_type": "code",
   "execution_count": 246,
   "metadata": {},
   "outputs": [
    {
     "data": {
      "image/png": "[encoded data removed]",
      "text/plain": [
       "<Figure size 432x288 with 1 Axes>"
      ]
     },
     "metadata": {
      "needs_background": "light"
     },
     "output_type": "display_data"
    }
   ],
   "source": [
    "import matplotlib.pyplot as plt\n",
    "plt.imshow(nube)\n",
    "plt.axis(\"off\")\n",
    "plt.show()"
   ]
  },
  {
   "attachments": {},
   "cell_type": "markdown",
   "metadata": {},
   "source": [
    "## Ejercicio\n",
    "A partir del txt text_corpus de la carpeta data.\n",
    "\n",
    "Se debe crear una nube de palabras donde se recoja las 50 palabras que más se utilizan.\n",
    "\n",
    "Recuerda antes limpiar el texto\n",
    "(recuerda usar ```re.sub(r'([^\\s\\w]|_)+', ' ',texto)```) "
   ]
  }
 ],
 "metadata": {
  "kernelspec": {
   "display_name": "base",
   "language": "python",
   "name": "python3"
  },
  "language_info": {
   "codemirror_mode": {
    "name": "ipython",
    "version": 3
   },
   "file_extension": ".py",
   "mimetype": "text/x-python",
   "name": "python",
   "nbconvert_exporter": "python",
   "pygments_lexer": "ipython3",
   "version": "3.9.12"
  },
  "orig_nbformat": 4,
  "vscode": {
   "interpreter": {
    "hash": "93b270aff94e38196a98effae74ed121e7c4be36a010106ff9b6f6d47d6f1709"
   }
  }
 },
 "nbformat": 4,
 "nbformat_minor": 2
}
