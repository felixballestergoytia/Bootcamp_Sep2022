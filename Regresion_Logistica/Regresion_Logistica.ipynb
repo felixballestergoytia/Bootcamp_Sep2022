{
 "cells": [
  {
   "cell_type": "code",
   "execution_count": 1,
   "metadata": {},
   "outputs": [],
   "source": [
    "## Regresión Logística"
   ]
  },
  {
   "cell_type": "code",
   "execution_count": 2,
   "metadata": {},
   "outputs": [],
   "source": [
    "## Librerias \n",
    "import pandas as pd\n",
    "import numpy as np\n",
    "import os\n",
    "from sklearn.linear_model import LogisticRegression"
   ]
  },
  {
   "cell_type": "code",
   "execution_count": 3,
   "metadata": {},
   "outputs": [],
   "source": [
    "from sklearn.datasets import make_classification"
   ]
  },
  {
   "cell_type": "code",
   "execution_count": 4,
   "metadata": {},
   "outputs": [],
   "source": [
    "X,y=make_classification(n_samples=1000)"
   ]
  },
  {
   "cell_type": "code",
   "execution_count": 5,
   "metadata": {},
   "outputs": [],
   "source": [
    "from sklearn.model_selection import train_test_split"
   ]
  },
  {
   "cell_type": "code",
   "execution_count": 6,
   "metadata": {},
   "outputs": [],
   "source": [
    "X_train,X_test,y_train,y_test=train_test_split(X,y,train_size=0.7,random_state=1234)"
   ]
  },
  {
   "cell_type": "code",
   "execution_count": 7,
   "metadata": {},
   "outputs": [],
   "source": [
    "lg=LogisticRegression()"
   ]
  },
  {
   "cell_type": "code",
   "execution_count": 8,
   "metadata": {},
   "outputs": [
    {
     "data": {
      "text/plain": [
       "LogisticRegression()"
      ]
     },
     "execution_count": 8,
     "metadata": {},
     "output_type": "execute_result"
    }
   ],
   "source": [
    "lg.fit(X_train,y_train)"
   ]
  },
  {
   "cell_type": "code",
   "execution_count": 9,
   "metadata": {},
   "outputs": [
    {
     "data": {
      "text/plain": [
       "array([0, 0, 1, 1, 0, 1, 0, 1, 0, 1, 0, 0, 0, 0, 0, 1, 0, 1, 1, 0, 0, 1,\n",
       "       0, 1, 0, 0, 0, 1, 1, 0, 1, 0, 0, 0, 0, 0, 1, 0, 0, 0, 0, 1, 1, 0,\n",
       "       0, 0, 1, 1, 0, 1, 0, 1, 1, 1, 0, 1, 1, 1, 1, 0, 0, 0, 0, 0, 1, 1,\n",
       "       0, 1, 1, 0, 0, 0, 0, 1, 0, 0, 0, 0, 0, 0, 1, 0, 1, 1, 0, 1, 1, 1,\n",
       "       1, 1, 1, 0, 1, 0, 0, 0, 0, 0, 0, 0, 0, 0, 0, 1, 0, 1, 1, 1, 0, 1,\n",
       "       0, 1, 0, 0, 0, 1, 0, 1, 1, 1, 1, 0, 0, 0, 0, 0, 0, 0, 0, 1, 0, 1,\n",
       "       0, 0, 1, 1, 0, 0, 1, 1, 0, 1, 1, 0, 1, 0, 1, 0, 0, 0, 0, 0, 0, 0,\n",
       "       0, 1, 1, 1, 1, 1, 0, 0, 0, 0, 1, 1, 0, 1, 1, 1, 0, 1, 0, 0, 1, 1,\n",
       "       0, 1, 1, 1, 0, 1, 0, 0, 0, 0, 1, 0, 0, 1, 0, 0, 0, 1, 1, 1, 1, 1,\n",
       "       0, 0, 1, 0, 0, 1, 1, 0, 0, 1, 0, 0, 0, 0, 0, 1, 1, 1, 1, 1, 1, 1,\n",
       "       1, 0, 0, 1, 1, 1, 0, 0, 1, 0, 0, 0, 1, 1, 0, 1, 1, 1, 1, 1, 1, 1,\n",
       "       0, 1, 0, 0, 1, 1, 0, 1, 0, 0, 0, 1, 1, 0, 0, 0, 0, 1, 0, 0, 0, 0,\n",
       "       1, 1, 0, 1, 0, 0, 1, 0, 1, 0, 1, 0, 0, 0, 0, 0, 0, 0, 1, 0, 1, 0,\n",
       "       0, 0, 1, 1, 0, 1, 1, 0, 0, 0, 0, 1, 0, 1])"
      ]
     },
     "execution_count": 9,
     "metadata": {},
     "output_type": "execute_result"
    }
   ],
   "source": [
    "lg.predict(X_test)"
   ]
  },
  {
   "cell_type": "code",
   "execution_count": 10,
   "metadata": {},
   "outputs": [],
   "source": [
    "from sklearn.metrics import accuracy_score,recall_score,precision_score,f1_score, confusion_matrix"
   ]
  },
  {
   "cell_type": "code",
   "execution_count": 11,
   "metadata": {},
   "outputs": [
    {
     "data": {
      "text/plain": [
       "<AxesSubplot:>"
      ]
     },
     "execution_count": 11,
     "metadata": {},
     "output_type": "execute_result"
    },
    {
     "data": {
      "image/png": "[encoded data removed]",
      "text/plain": [
       "<Figure size 432x288 with 2 Axes>"
      ]
     },
     "metadata": {
      "needs_background": "light"
     },
     "output_type": "display_data"
    }
   ],
   "source": [
    "import seaborn as sns\n",
    "sns.heatmap(confusion_matrix(y_test,lg.predict(X_test)),annot=True)"
   ]
  },
  {
   "cell_type": "code",
   "execution_count": 12,
   "metadata": {},
   "outputs": [
    {
     "data": {
      "text/plain": [
       "0.88"
      ]
     },
     "execution_count": 12,
     "metadata": {},
     "output_type": "execute_result"
    }
   ],
   "source": [
    "accuracy_score(y_test,lg.predict(X_test))"
   ]
  },
  {
   "cell_type": "code",
   "execution_count": 13,
   "metadata": {},
   "outputs": [
    {
     "data": {
      "text/plain": [
       "0.8529411764705882"
      ]
     },
     "execution_count": 13,
     "metadata": {},
     "output_type": "execute_result"
    }
   ],
   "source": [
    "recall_score(y_test,lg.predict(X_test))"
   ]
  },
  {
   "cell_type": "code",
   "execution_count": 14,
   "metadata": {},
   "outputs": [
    {
     "data": {
      "text/plain": [
       "0.8787878787878788"
      ]
     },
     "execution_count": 14,
     "metadata": {},
     "output_type": "execute_result"
    }
   ],
   "source": [
    "precision_score(y_test,lg.predict(X_test))"
   ]
  },
  {
   "cell_type": "code",
   "execution_count": 15,
   "metadata": {},
   "outputs": [
    {
     "data": {
      "text/plain": [
       "0.8656716417910447"
      ]
     },
     "execution_count": 15,
     "metadata": {},
     "output_type": "execute_result"
    }
   ],
   "source": [
    "f1_score(y_test,lg.predict(X_test))"
   ]
  },
  {
   "cell_type": "code",
   "execution_count": 16,
   "metadata": {},
   "outputs": [],
   "source": [
    "from sklearn.metrics import roc_auc_score, roc_curve"
   ]
  },
  {
   "cell_type": "code",
   "execution_count": 17,
   "metadata": {},
   "outputs": [
    {
     "data": {
      "text/plain": [
       "0.8776901004304162"
      ]
     },
     "execution_count": 17,
     "metadata": {},
     "output_type": "execute_result"
    }
   ],
   "source": [
    "roc_auc_score(y_test,lg.predict(X_test))"
   ]
  },
  {
   "cell_type": "code",
   "execution_count": 18,
   "metadata": {},
   "outputs": [],
   "source": [
    "a,b,c=roc_curve(y_test,lg.predict(X_test))"
   ]
  },
  {
   "cell_type": "code",
   "execution_count": 19,
   "metadata": {},
   "outputs": [],
   "source": [
    "probailidades=[0 for _ in range(len(y_test))]"
   ]
  },
  {
   "cell_type": "code",
   "execution_count": 20,
   "metadata": {},
   "outputs": [],
   "source": [
    "a1,b1,c1=roc_curve(y_test,probailidades)"
   ]
  },
  {
   "cell_type": "code",
   "execution_count": 21,
   "metadata": {},
   "outputs": [],
   "source": [
    "import matplotlib.pyplot as plt"
   ]
  },
  {
   "cell_type": "code",
   "execution_count": 22,
   "metadata": {},
   "outputs": [
    {
     "data": {
      "image/png": "[encoded data removed]",
      "text/plain": [
       "<Figure size 432x288 with 1 Axes>"
      ]
     },
     "metadata": {
      "needs_background": "light"
     },
     "output_type": "display_data"
    }
   ],
   "source": [
    "plt.plot(a1,b1)\n",
    "plt.plot(a,b)\n",
    "plt.xlabel(\"Tasa de falsos positivos\")\n",
    "plt.ylabel(\"Tasa de verdaderos positivos\");"
   ]
  },
  {
   "cell_type": "code",
   "execution_count": 23,
   "metadata": {},
   "outputs": [],
   "source": [
    "lg01=LogisticRegression(C=0.1)"
   ]
  },
  {
   "cell_type": "code",
   "execution_count": 24,
   "metadata": {},
   "outputs": [
    {
     "data": {
      "text/plain": [
       "array([0, 0, 1, 1, 0, 1, 0, 1, 0, 1, 0, 0, 0, 0, 0, 1, 0, 1, 1, 0, 0, 1,\n",
       "       0, 1, 0, 0, 0, 1, 1, 0, 1, 0, 0, 0, 0, 0, 1, 0, 0, 0, 0, 1, 1, 0,\n",
       "       0, 0, 1, 1, 0, 1, 0, 1, 1, 1, 0, 1, 1, 1, 1, 0, 0, 0, 0, 0, 1, 1,\n",
       "       0, 1, 1, 0, 0, 0, 0, 1, 0, 0, 0, 0, 0, 0, 1, 0, 1, 1, 0, 1, 1, 1,\n",
       "       1, 1, 1, 0, 1, 0, 0, 0, 0, 0, 0, 0, 0, 0, 0, 1, 0, 1, 1, 1, 0, 1,\n",
       "       0, 1, 0, 0, 0, 1, 0, 1, 1, 1, 1, 0, 0, 0, 0, 0, 0, 0, 0, 1, 0, 1,\n",
       "       0, 0, 1, 1, 0, 0, 1, 1, 0, 1, 1, 0, 1, 0, 1, 0, 0, 0, 0, 0, 0, 0,\n",
       "       0, 1, 1, 1, 1, 1, 0, 0, 0, 0, 1, 1, 0, 1, 1, 1, 0, 1, 0, 0, 1, 1,\n",
       "       0, 1, 1, 1, 0, 1, 0, 1, 0, 0, 1, 0, 0, 1, 0, 0, 0, 1, 1, 1, 1, 1,\n",
       "       0, 0, 1, 0, 0, 1, 1, 0, 0, 1, 0, 0, 0, 0, 0, 1, 1, 1, 1, 1, 1, 1,\n",
       "       1, 0, 0, 1, 1, 1, 0, 0, 1, 0, 0, 0, 1, 1, 0, 1, 1, 1, 1, 1, 1, 1,\n",
       "       0, 1, 0, 0, 1, 1, 0, 1, 0, 0, 0, 1, 1, 0, 0, 0, 0, 1, 0, 0, 0, 0,\n",
       "       1, 1, 0, 1, 0, 0, 1, 0, 1, 0, 1, 0, 0, 0, 0, 0, 0, 0, 1, 0, 1, 0,\n",
       "       0, 0, 1, 1, 0, 1, 1, 0, 0, 0, 0, 1, 0, 1])"
      ]
     },
     "execution_count": 24,
     "metadata": {},
     "output_type": "execute_result"
    }
   ],
   "source": [
    "lg01.fit(X_train,y_train)\n",
    "lg01.predict(X_test)"
   ]
  },
  {
   "cell_type": "code",
   "execution_count": 25,
   "metadata": {},
   "outputs": [
    {
     "data": {
      "text/plain": [
       "array([[0.65197515, 0.34802485],\n",
       "       [0.96981932, 0.03018068],\n",
       "       [0.00161129, 0.99838871],\n",
       "       [0.00991724, 0.99008276],\n",
       "       [0.99675825, 0.00324175],\n",
       "       [0.2433249 , 0.7566751 ],\n",
       "       [0.98085182, 0.01914818],\n",
       "       [0.02358395, 0.97641605],\n",
       "       [0.97792179, 0.02207821],\n",
       "       [0.15730601, 0.84269399],\n",
       "       [0.76167655, 0.23832345],\n",
       "       [0.95807002, 0.04192998],\n",
       "       [0.7348983 , 0.2651017 ],\n",
       "       [0.92687153, 0.07312847],\n",
       "       [0.98227282, 0.01772718],\n",
       "       [0.08635114, 0.91364886],\n",
       "       [0.87813371, 0.12186629],\n",
       "       [0.06350083, 0.93649917],\n",
       "       [0.06913229, 0.93086771],\n",
       "       [0.932548  , 0.067452  ],\n",
       "       [0.96879654, 0.03120346],\n",
       "       [0.01889432, 0.98110568],\n",
       "       [0.69532762, 0.30467238],\n",
       "       [0.25584004, 0.74415996],\n",
       "       [0.64570618, 0.35429382],\n",
       "       [0.81428291, 0.18571709],\n",
       "       [0.81802888, 0.18197112],\n",
       "       [0.04414317, 0.95585683],\n",
       "       [0.06452126, 0.93547874],\n",
       "       [0.91125677, 0.08874323],\n",
       "       [0.05464378, 0.94535622],\n",
       "       [0.97660536, 0.02339464],\n",
       "       [0.95842915, 0.04157085],\n",
       "       [0.96709624, 0.03290376],\n",
       "       [0.54610092, 0.45389908],\n",
       "       [0.97439461, 0.02560539],\n",
       "       [0.00870227, 0.99129773],\n",
       "       [0.81551671, 0.18448329],\n",
       "       [0.98564015, 0.01435985],\n",
       "       [0.94172113, 0.05827887],\n",
       "       [0.99103202, 0.00896798],\n",
       "       [0.4459627 , 0.5540373 ],\n",
       "       [0.01569593, 0.98430407],\n",
       "       [0.90087025, 0.09912975],\n",
       "       [0.9831898 , 0.0168102 ],\n",
       "       [0.99244969, 0.00755031],\n",
       "       [0.07407912, 0.92592088],\n",
       "       [0.02296439, 0.97703561],\n",
       "       [0.86977698, 0.13022302],\n",
       "       [0.20295896, 0.79704104],\n",
       "       [0.97192289, 0.02807711],\n",
       "       [0.08129578, 0.91870422],\n",
       "       [0.41315809, 0.58684191],\n",
       "       [0.11862285, 0.88137715],\n",
       "       [0.99671417, 0.00328583],\n",
       "       [0.04076133, 0.95923867],\n",
       "       [0.45212672, 0.54787328],\n",
       "       [0.31333639, 0.68666361],\n",
       "       [0.19045292, 0.80954708],\n",
       "       [0.97485785, 0.02514215],\n",
       "       [0.88244574, 0.11755426],\n",
       "       [0.98668498, 0.01331502],\n",
       "       [0.85339568, 0.14660432],\n",
       "       [0.98552327, 0.01447673],\n",
       "       [0.02119754, 0.97880246],\n",
       "       [0.06286523, 0.93713477],\n",
       "       [0.76323467, 0.23676533],\n",
       "       [0.0265655 , 0.9734345 ],\n",
       "       [0.0053117 , 0.9946883 ],\n",
       "       [0.97189148, 0.02810852],\n",
       "       [0.77446061, 0.22553939],\n",
       "       [0.98071237, 0.01928763],\n",
       "       [0.97791921, 0.02208079],\n",
       "       [0.18436681, 0.81563319],\n",
       "       [0.53232092, 0.46767908],\n",
       "       [0.99205727, 0.00794273],\n",
       "       [0.95512783, 0.04487217],\n",
       "       [0.97841535, 0.02158465],\n",
       "       [0.96050357, 0.03949643],\n",
       "       [0.91048417, 0.08951583],\n",
       "       [0.37810027, 0.62189973],\n",
       "       [0.79033459, 0.20966541],\n",
       "       [0.12552142, 0.87447858],\n",
       "       [0.43444078, 0.56555922],\n",
       "       [0.92387658, 0.07612342],\n",
       "       [0.09570731, 0.90429269],\n",
       "       [0.48923818, 0.51076182],\n",
       "       [0.15060291, 0.84939709],\n",
       "       [0.07170952, 0.92829048],\n",
       "       [0.02544185, 0.97455815],\n",
       "       [0.02814436, 0.97185564],\n",
       "       [0.81559668, 0.18440332],\n",
       "       [0.21011395, 0.78988605],\n",
       "       [0.66058813, 0.33941187],\n",
       "       [0.98893599, 0.01106401],\n",
       "       [0.85303422, 0.14696578],\n",
       "       [0.9630282 , 0.0369718 ],\n",
       "       [0.57592503, 0.42407497],\n",
       "       [0.88326949, 0.11673051],\n",
       "       [0.99873091, 0.00126909],\n",
       "       [0.95406273, 0.04593727],\n",
       "       [0.9587231 , 0.0412769 ],\n",
       "       [0.95717038, 0.04282962],\n",
       "       [0.06704027, 0.93295973],\n",
       "       [0.99345892, 0.00654108],\n",
       "       [0.08572168, 0.91427832],\n",
       "       [0.03504619, 0.96495381],\n",
       "       [0.14143054, 0.85856946],\n",
       "       [0.98158119, 0.01841881],\n",
       "       [0.05938134, 0.94061866],\n",
       "       [0.92322583, 0.07677417],\n",
       "       [0.10711393, 0.89288607],\n",
       "       [0.52753816, 0.47246184],\n",
       "       [0.6065644 , 0.3934356 ],\n",
       "       [0.97532072, 0.02467928],\n",
       "       [0.01867155, 0.98132845],\n",
       "       [0.97918484, 0.02081516],\n",
       "       [0.11224413, 0.88775587],\n",
       "       [0.34717851, 0.65282149],\n",
       "       [0.08740608, 0.91259392],\n",
       "       [0.02480866, 0.97519134],\n",
       "       [0.8055052 , 0.1944948 ],\n",
       "       [0.87837302, 0.12162698],\n",
       "       [0.96562808, 0.03437192],\n",
       "       [0.84235912, 0.15764088],\n",
       "       [0.98269907, 0.01730093],\n",
       "       [0.96276851, 0.03723149],\n",
       "       [0.67578175, 0.32421825],\n",
       "       [0.90559803, 0.09440197],\n",
       "       [0.26662876, 0.73337124],\n",
       "       [0.55667689, 0.44332311],\n",
       "       [0.27912847, 0.72087153],\n",
       "       [0.92532255, 0.07467745],\n",
       "       [0.96649954, 0.03350046],\n",
       "       [0.24250018, 0.75749982],\n",
       "       [0.05574217, 0.94425783],\n",
       "       [0.95051983, 0.04948017],\n",
       "       [0.96773427, 0.03226573],\n",
       "       [0.26359566, 0.73640434],\n",
       "       [0.02841031, 0.97158969],\n",
       "       [0.83928343, 0.16071657],\n",
       "       [0.07831833, 0.92168167],\n",
       "       [0.23394995, 0.76605005],\n",
       "       [0.85211678, 0.14788322],\n",
       "       [0.00364631, 0.99635369],\n",
       "       [0.751482  , 0.248518  ],\n",
       "       [0.03003464, 0.96996536],\n",
       "       [0.5348321 , 0.4651679 ],\n",
       "       [0.5627267 , 0.4372733 ],\n",
       "       [0.95463556, 0.04536444],\n",
       "       [0.90698371, 0.09301629],\n",
       "       [0.95088435, 0.04911565],\n",
       "       [0.84270835, 0.15729165],\n",
       "       [0.83573567, 0.16426433],\n",
       "       [0.98922335, 0.01077665],\n",
       "       [0.09533513, 0.90466487],\n",
       "       [0.01308914, 0.98691086],\n",
       "       [0.01101012, 0.98898988],\n",
       "       [0.06553546, 0.93446454],\n",
       "       [0.15260445, 0.84739555],\n",
       "       [0.99416548, 0.00583452],\n",
       "       [0.79475681, 0.20524319],\n",
       "       [0.88543379, 0.11456621],\n",
       "       [0.8882788 , 0.1117212 ],\n",
       "       [0.37958705, 0.62041295],\n",
       "       [0.02537368, 0.97462632],\n",
       "       [0.98064931, 0.01935069],\n",
       "       [0.09417452, 0.90582548],\n",
       "       [0.08109655, 0.91890345],\n",
       "       [0.06395042, 0.93604958],\n",
       "       [0.8874949 , 0.1125051 ],\n",
       "       [0.36271317, 0.63728683],\n",
       "       [0.98466474, 0.01533526],\n",
       "       [0.9510881 , 0.0489119 ],\n",
       "       [0.06275006, 0.93724994],\n",
       "       [0.01110406, 0.98889594],\n",
       "       [0.69433589, 0.30566411],\n",
       "       [0.09634192, 0.90365808],\n",
       "       [0.0409724 , 0.9590276 ],\n",
       "       [0.20660408, 0.79339592],\n",
       "       [0.96290583, 0.03709417],\n",
       "       [0.00693293, 0.99306707],\n",
       "       [0.97210472, 0.02789528],\n",
       "       [0.49215298, 0.50784702],\n",
       "       [0.76779431, 0.23220569],\n",
       "       [0.710979  , 0.289021  ],\n",
       "       [0.2428642 , 0.7571358 ],\n",
       "       [0.99759976, 0.00240024],\n",
       "       [0.82939953, 0.17060047],\n",
       "       [0.26341094, 0.73658906],\n",
       "       [0.95141299, 0.04858701],\n",
       "       [0.92178566, 0.07821434],\n",
       "       [0.97036307, 0.02963693],\n",
       "       [0.18248886, 0.81751114],\n",
       "       [0.0959438 , 0.9040562 ],\n",
       "       [0.05844175, 0.94155825],\n",
       "       [0.05174472, 0.94825528],\n",
       "       [0.0097624 , 0.9902376 ],\n",
       "       [0.93200976, 0.06799024],\n",
       "       [0.97931984, 0.02068016],\n",
       "       [0.46010055, 0.53989945],\n",
       "       [0.97559504, 0.02440496],\n",
       "       [0.98161947, 0.01838053],\n",
       "       [0.02364803, 0.97635197],\n",
       "       [0.14990692, 0.85009308],\n",
       "       [0.89643682, 0.10356318],\n",
       "       [0.61254533, 0.38745467],\n",
       "       [0.00235655, 0.99764345],\n",
       "       [0.97093121, 0.02906879],\n",
       "       [0.71930145, 0.28069855],\n",
       "       [0.94064048, 0.05935952],\n",
       "       [0.91272096, 0.08727904],\n",
       "       [0.98954193, 0.01045807],\n",
       "       [0.1167539 , 0.8832461 ],\n",
       "       [0.10465893, 0.89534107],\n",
       "       [0.35988102, 0.64011898],\n",
       "       [0.00631287, 0.99368713],\n",
       "       [0.00255157, 0.99744843],\n",
       "       [0.01787525, 0.98212475],\n",
       "       [0.33364996, 0.66635004],\n",
       "       [0.09723637, 0.90276363],\n",
       "       [0.96733983, 0.03266017],\n",
       "       [0.57182632, 0.42817368],\n",
       "       [0.00584798, 0.99415202],\n",
       "       [0.01281828, 0.98718172],\n",
       "       [0.0104852 , 0.9895148 ],\n",
       "       [0.96330486, 0.03669514],\n",
       "       [0.95128121, 0.04871879],\n",
       "       [0.05243329, 0.94756671],\n",
       "       [0.99676188, 0.00323812],\n",
       "       [0.62487468, 0.37512532],\n",
       "       [0.78150355, 0.21849645],\n",
       "       [0.18578794, 0.81421206],\n",
       "       [0.01360899, 0.98639101],\n",
       "       [0.73131256, 0.26868744],\n",
       "       [0.34222353, 0.65777647],\n",
       "       [0.36982386, 0.63017614],\n",
       "       [0.24690273, 0.75309727],\n",
       "       [0.11460267, 0.88539733],\n",
       "       [0.00335361, 0.99664639],\n",
       "       [0.09900059, 0.90099941],\n",
       "       [0.40409476, 0.59590524],\n",
       "       [0.90672461, 0.09327539],\n",
       "       [0.16588123, 0.83411877],\n",
       "       [0.78227468, 0.21772532],\n",
       "       [0.87198013, 0.12801987],\n",
       "       [0.27238587, 0.72761413],\n",
       "       [0.43670457, 0.56329543],\n",
       "       [0.89414564, 0.10585436],\n",
       "       [0.04116793, 0.95883207],\n",
       "       [0.90295064, 0.09704936],\n",
       "       [0.85164682, 0.14835318],\n",
       "       [0.93623322, 0.06376678],\n",
       "       [0.33781661, 0.66218339],\n",
       "       [0.43600854, 0.56399146],\n",
       "       [0.99139907, 0.00860093],\n",
       "       [0.9380288 , 0.0619712 ],\n",
       "       [0.94436807, 0.05563193],\n",
       "       [0.94457375, 0.05542625],\n",
       "       [0.38236839, 0.61763161],\n",
       "       [0.59198942, 0.40801058],\n",
       "       [0.98829216, 0.01170784],\n",
       "       [0.95738457, 0.04261543],\n",
       "       [0.84785338, 0.15214662],\n",
       "       [0.4995889 , 0.5004111 ],\n",
       "       [0.02912596, 0.97087404],\n",
       "       [0.86636763, 0.13363237],\n",
       "       [0.08348579, 0.91651421],\n",
       "       [0.89515977, 0.10484023],\n",
       "       [0.9557924 , 0.0442076 ],\n",
       "       [0.11491115, 0.88508885],\n",
       "       [0.97163491, 0.02836509],\n",
       "       [0.12291578, 0.87708422],\n",
       "       [0.99599739, 0.00400261],\n",
       "       [0.0104728 , 0.9895272 ],\n",
       "       [0.90041619, 0.09958381],\n",
       "       [0.96105444, 0.03894556],\n",
       "       [0.90296822, 0.09703178],\n",
       "       [0.60311594, 0.39688406],\n",
       "       [0.79070413, 0.20929587],\n",
       "       [0.98154556, 0.01845444],\n",
       "       [0.99879582, 0.00120418],\n",
       "       [0.023238  , 0.976762  ],\n",
       "       [0.89481606, 0.10518394],\n",
       "       [0.02653493, 0.97346507],\n",
       "       [0.90222026, 0.09777974],\n",
       "       [0.98735063, 0.01264937],\n",
       "       [0.66179456, 0.33820544],\n",
       "       [0.16986783, 0.83013217],\n",
       "       [0.02378819, 0.97621181],\n",
       "       [0.70891   , 0.29109   ],\n",
       "       [0.31394319, 0.68605681],\n",
       "       [0.01521943, 0.98478057],\n",
       "       [0.85875731, 0.14124269],\n",
       "       [0.93685961, 0.06314039],\n",
       "       [0.99089507, 0.00910493],\n",
       "       [0.96796902, 0.03203098],\n",
       "       [0.09806837, 0.90193163],\n",
       "       [0.99664786, 0.00335214],\n",
       "       [0.04616241, 0.95383759]])"
      ]
     },
     "execution_count": 25,
     "metadata": {},
     "output_type": "execute_result"
    }
   ],
   "source": [
    "lg01.predict_proba(X_test)"
   ]
  },
  {
   "cell_type": "code",
   "execution_count": 28,
   "metadata": {},
   "outputs": [
    {
     "name": "stderr",
     "output_type": "stream",
     "text": [
      "No artists with labels found to put in legend.  Note that artists whose label start with an underscore are ignored when legend() is called with no argument.\n"
     ]
    },
    {
     "data": {
      "image/png": "[encoded data removed]",
      "text/plain": [
       "<Figure size 432x288 with 1 Axes>"
      ]
     },
     "metadata": {
      "needs_background": "light"
     },
     "output_type": "display_data"
    }
   ],
   "source": [
    "plt.hist(lg01.predict_proba(X_test))\n",
    "plt.legend();"
   ]
  },
  {
   "cell_type": "code",
   "execution_count": 29,
   "metadata": {},
   "outputs": [],
   "source": [
    "probalilidades=pd.DataFrame(lg01.predict_proba(X_test))"
   ]
  },
  {
   "cell_type": "code",
   "execution_count": 32,
   "metadata": {},
   "outputs": [],
   "source": [
    "probalilidades[\"Real\"]=y_test\n",
    "probalilidades[\"Prediccion\"]=lg01.predict(X_test)"
   ]
  },
  {
   "cell_type": "code",
   "execution_count": 34,
   "metadata": {},
   "outputs": [
    {
     "data": {
      "text/html": [
       "<div>\n",
       "<style scoped>\n",
       "    .dataframe tbody tr th:only-of-type {\n",
       "        vertical-align: middle;\n",
       "    }\n",
       "\n",
       "    .dataframe tbody tr th {\n",
       "        vertical-align: top;\n",
       "    }\n",
       "\n",
       "    .dataframe thead th {\n",
       "        text-align: right;\n",
       "    }\n",
       "</style>\n",
       "<table border=\"1\" class=\"dataframe\">\n",
       "  <thead>\n",
       "    <tr style=\"text-align: right;\">\n",
       "      <th></th>\n",
       "      <th>0</th>\n",
       "      <th>1</th>\n",
       "      <th>Real</th>\n",
       "      <th>Prediccion</th>\n",
       "    </tr>\n",
       "  </thead>\n",
       "  <tbody>\n",
       "    <tr>\n",
       "      <th>9</th>\n",
       "      <td>0.157306</td>\n",
       "      <td>0.842694</td>\n",
       "      <td>0</td>\n",
       "      <td>1</td>\n",
       "    </tr>\n",
       "    <tr>\n",
       "      <th>24</th>\n",
       "      <td>0.645706</td>\n",
       "      <td>0.354294</td>\n",
       "      <td>1</td>\n",
       "      <td>0</td>\n",
       "    </tr>\n",
       "    <tr>\n",
       "      <th>49</th>\n",
       "      <td>0.202959</td>\n",
       "      <td>0.797041</td>\n",
       "      <td>0</td>\n",
       "      <td>1</td>\n",
       "    </tr>\n",
       "    <tr>\n",
       "      <th>57</th>\n",
       "      <td>0.313336</td>\n",
       "      <td>0.686664</td>\n",
       "      <td>0</td>\n",
       "      <td>1</td>\n",
       "    </tr>\n",
       "    <tr>\n",
       "      <th>70</th>\n",
       "      <td>0.774461</td>\n",
       "      <td>0.225539</td>\n",
       "      <td>1</td>\n",
       "      <td>0</td>\n",
       "    </tr>\n",
       "    <tr>\n",
       "      <th>74</th>\n",
       "      <td>0.532321</td>\n",
       "      <td>0.467679</td>\n",
       "      <td>1</td>\n",
       "      <td>0</td>\n",
       "    </tr>\n",
       "    <tr>\n",
       "      <th>86</th>\n",
       "      <td>0.489238</td>\n",
       "      <td>0.510762</td>\n",
       "      <td>0</td>\n",
       "      <td>1</td>\n",
       "    </tr>\n",
       "    <tr>\n",
       "      <th>91</th>\n",
       "      <td>0.815597</td>\n",
       "      <td>0.184403</td>\n",
       "      <td>1</td>\n",
       "      <td>0</td>\n",
       "    </tr>\n",
       "    <tr>\n",
       "      <th>113</th>\n",
       "      <td>0.606564</td>\n",
       "      <td>0.393436</td>\n",
       "      <td>1</td>\n",
       "      <td>0</td>\n",
       "    </tr>\n",
       "    <tr>\n",
       "      <th>118</th>\n",
       "      <td>0.347179</td>\n",
       "      <td>0.652821</td>\n",
       "      <td>0</td>\n",
       "      <td>1</td>\n",
       "    </tr>\n",
       "    <tr>\n",
       "      <th>127</th>\n",
       "      <td>0.675782</td>\n",
       "      <td>0.324218</td>\n",
       "      <td>1</td>\n",
       "      <td>0</td>\n",
       "    </tr>\n",
       "    <tr>\n",
       "      <th>128</th>\n",
       "      <td>0.905598</td>\n",
       "      <td>0.094402</td>\n",
       "      <td>1</td>\n",
       "      <td>0</td>\n",
       "    </tr>\n",
       "    <tr>\n",
       "      <th>130</th>\n",
       "      <td>0.556677</td>\n",
       "      <td>0.443323</td>\n",
       "      <td>1</td>\n",
       "      <td>0</td>\n",
       "    </tr>\n",
       "    <tr>\n",
       "      <th>138</th>\n",
       "      <td>0.263596</td>\n",
       "      <td>0.736404</td>\n",
       "      <td>0</td>\n",
       "      <td>1</td>\n",
       "    </tr>\n",
       "    <tr>\n",
       "      <th>145</th>\n",
       "      <td>0.751482</td>\n",
       "      <td>0.248518</td>\n",
       "      <td>1</td>\n",
       "      <td>0</td>\n",
       "    </tr>\n",
       "    <tr>\n",
       "      <th>146</th>\n",
       "      <td>0.030035</td>\n",
       "      <td>0.969965</td>\n",
       "      <td>0</td>\n",
       "      <td>1</td>\n",
       "    </tr>\n",
       "    <tr>\n",
       "      <th>147</th>\n",
       "      <td>0.534832</td>\n",
       "      <td>0.465168</td>\n",
       "      <td>1</td>\n",
       "      <td>0</td>\n",
       "    </tr>\n",
       "    <tr>\n",
       "      <th>148</th>\n",
       "      <td>0.562727</td>\n",
       "      <td>0.437273</td>\n",
       "      <td>1</td>\n",
       "      <td>0</td>\n",
       "    </tr>\n",
       "    <tr>\n",
       "      <th>183</th>\n",
       "      <td>0.492153</td>\n",
       "      <td>0.507847</td>\n",
       "      <td>0</td>\n",
       "      <td>1</td>\n",
       "    </tr>\n",
       "    <tr>\n",
       "      <th>184</th>\n",
       "      <td>0.767794</td>\n",
       "      <td>0.232206</td>\n",
       "      <td>1</td>\n",
       "      <td>0</td>\n",
       "    </tr>\n",
       "    <tr>\n",
       "      <th>189</th>\n",
       "      <td>0.263411</td>\n",
       "      <td>0.736589</td>\n",
       "      <td>0</td>\n",
       "      <td>1</td>\n",
       "    </tr>\n",
       "    <tr>\n",
       "      <th>205</th>\n",
       "      <td>0.896437</td>\n",
       "      <td>0.103563</td>\n",
       "      <td>1</td>\n",
       "      <td>0</td>\n",
       "    </tr>\n",
       "    <tr>\n",
       "      <th>218</th>\n",
       "      <td>0.017875</td>\n",
       "      <td>0.982125</td>\n",
       "      <td>0</td>\n",
       "      <td>1</td>\n",
       "    </tr>\n",
       "    <tr>\n",
       "      <th>219</th>\n",
       "      <td>0.333650</td>\n",
       "      <td>0.666350</td>\n",
       "      <td>0</td>\n",
       "      <td>1</td>\n",
       "    </tr>\n",
       "    <tr>\n",
       "      <th>230</th>\n",
       "      <td>0.624875</td>\n",
       "      <td>0.375125</td>\n",
       "      <td>1</td>\n",
       "      <td>0</td>\n",
       "    </tr>\n",
       "    <tr>\n",
       "      <th>237</th>\n",
       "      <td>0.246903</td>\n",
       "      <td>0.753097</td>\n",
       "      <td>0</td>\n",
       "      <td>1</td>\n",
       "    </tr>\n",
       "    <tr>\n",
       "      <th>250</th>\n",
       "      <td>0.902951</td>\n",
       "      <td>0.097049</td>\n",
       "      <td>1</td>\n",
       "      <td>0</td>\n",
       "    </tr>\n",
       "    <tr>\n",
       "      <th>251</th>\n",
       "      <td>0.851647</td>\n",
       "      <td>0.148353</td>\n",
       "      <td>1</td>\n",
       "      <td>0</td>\n",
       "    </tr>\n",
       "    <tr>\n",
       "      <th>254</th>\n",
       "      <td>0.436009</td>\n",
       "      <td>0.563991</td>\n",
       "      <td>0</td>\n",
       "      <td>1</td>\n",
       "    </tr>\n",
       "    <tr>\n",
       "      <th>259</th>\n",
       "      <td>0.382368</td>\n",
       "      <td>0.617632</td>\n",
       "      <td>0</td>\n",
       "      <td>1</td>\n",
       "    </tr>\n",
       "    <tr>\n",
       "      <th>260</th>\n",
       "      <td>0.591989</td>\n",
       "      <td>0.408011</td>\n",
       "      <td>1</td>\n",
       "      <td>0</td>\n",
       "    </tr>\n",
       "    <tr>\n",
       "      <th>264</th>\n",
       "      <td>0.499589</td>\n",
       "      <td>0.500411</td>\n",
       "      <td>0</td>\n",
       "      <td>1</td>\n",
       "    </tr>\n",
       "    <tr>\n",
       "      <th>278</th>\n",
       "      <td>0.603116</td>\n",
       "      <td>0.396884</td>\n",
       "      <td>1</td>\n",
       "      <td>0</td>\n",
       "    </tr>\n",
       "    <tr>\n",
       "      <th>287</th>\n",
       "      <td>0.661795</td>\n",
       "      <td>0.338205</td>\n",
       "      <td>1</td>\n",
       "      <td>0</td>\n",
       "    </tr>\n",
       "    <tr>\n",
       "      <th>288</th>\n",
       "      <td>0.169868</td>\n",
       "      <td>0.830132</td>\n",
       "      <td>0</td>\n",
       "      <td>1</td>\n",
       "    </tr>\n",
       "    <tr>\n",
       "      <th>290</th>\n",
       "      <td>0.708910</td>\n",
       "      <td>0.291090</td>\n",
       "      <td>1</td>\n",
       "      <td>0</td>\n",
       "    </tr>\n",
       "    <tr>\n",
       "      <th>291</th>\n",
       "      <td>0.313943</td>\n",
       "      <td>0.686057</td>\n",
       "      <td>0</td>\n",
       "      <td>1</td>\n",
       "    </tr>\n",
       "  </tbody>\n",
       "</table>\n",
       "</div>"
      ],
      "text/plain": [
       "            0         1  Real  Prediccion\n",
       "9    0.157306  0.842694     0           1\n",
       "24   0.645706  0.354294     1           0\n",
       "49   0.202959  0.797041     0           1\n",
       "57   0.313336  0.686664     0           1\n",
       "70   0.774461  0.225539     1           0\n",
       "74   0.532321  0.467679     1           0\n",
       "86   0.489238  0.510762     0           1\n",
       "91   0.815597  0.184403     1           0\n",
       "113  0.606564  0.393436     1           0\n",
       "118  0.347179  0.652821     0           1\n",
       "127  0.675782  0.324218     1           0\n",
       "128  0.905598  0.094402     1           0\n",
       "130  0.556677  0.443323     1           0\n",
       "138  0.263596  0.736404     0           1\n",
       "145  0.751482  0.248518     1           0\n",
       "146  0.030035  0.969965     0           1\n",
       "147  0.534832  0.465168     1           0\n",
       "148  0.562727  0.437273     1           0\n",
       "183  0.492153  0.507847     0           1\n",
       "184  0.767794  0.232206     1           0\n",
       "189  0.263411  0.736589     0           1\n",
       "205  0.896437  0.103563     1           0\n",
       "218  0.017875  0.982125     0           1\n",
       "219  0.333650  0.666350     0           1\n",
       "230  0.624875  0.375125     1           0\n",
       "237  0.246903  0.753097     0           1\n",
       "250  0.902951  0.097049     1           0\n",
       "251  0.851647  0.148353     1           0\n",
       "254  0.436009  0.563991     0           1\n",
       "259  0.382368  0.617632     0           1\n",
       "260  0.591989  0.408011     1           0\n",
       "264  0.499589  0.500411     0           1\n",
       "278  0.603116  0.396884     1           0\n",
       "287  0.661795  0.338205     1           0\n",
       "288  0.169868  0.830132     0           1\n",
       "290  0.708910  0.291090     1           0\n",
       "291  0.313943  0.686057     0           1"
      ]
     },
     "execution_count": 34,
     "metadata": {},
     "output_type": "execute_result"
    }
   ],
   "source": [
    "probalilidades[probalilidades[\"Real\"]!=probalilidades[\"Prediccion\"]]"
   ]
  },
  {
   "cell_type": "code",
   "execution_count": null,
   "metadata": {},
   "outputs": [],
   "source": []
  }
 ],
 "metadata": {
  "kernelspec": {
   "display_name": "base",
   "language": "python",
   "name": "python3"
  },
  "language_info": {
   "codemirror_mode": {
    "name": "ipython",
    "version": 3
   },
   "file_extension": ".py",
   "mimetype": "text/x-python",
   "name": "python",
   "nbconvert_exporter": "python",
   "pygments_lexer": "ipython3",
   "version": "3.9.12"
  },
  "orig_nbformat": 4,
  "vscode": {
   "interpreter": {
    "hash": "93b270aff94e38196a98effae74ed121e7c4be36a010106ff9b6f6d47d6f1709"
   }
  }
 },
 "nbformat": 4,
 "nbformat_minor": 2
}
