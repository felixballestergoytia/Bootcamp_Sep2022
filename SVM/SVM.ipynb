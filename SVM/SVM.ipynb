{
 "cells": [
  {
   "cell_type": "code",
   "execution_count": 1,
   "metadata": {},
   "outputs": [],
   "source": [
    "import pandas as pd\n",
    "import numpy as np\n",
    "from sklearn.datasets import load_iris"
   ]
  },
  {
   "cell_type": "code",
   "execution_count": 2,
   "metadata": {},
   "outputs": [],
   "source": [
    "iris=load_iris()"
   ]
  },
  {
   "cell_type": "code",
   "execution_count": 3,
   "metadata": {},
   "outputs": [],
   "source": [
    "df=pd.DataFrame(iris.data,columns=iris.feature_names)"
   ]
  },
  {
   "cell_type": "code",
   "execution_count": 4,
   "metadata": {},
   "outputs": [],
   "source": [
    "df[\"target\"]=iris.target"
   ]
  },
  {
   "cell_type": "code",
   "execution_count": 5,
   "metadata": {},
   "outputs": [
    {
     "data": {
      "text/html": [
       "<div>\n",
       "<style scoped>\n",
       "    .dataframe tbody tr th:only-of-type {\n",
       "        vertical-align: middle;\n",
       "    }\n",
       "\n",
       "    .dataframe tbody tr th {\n",
       "        vertical-align: top;\n",
       "    }\n",
       "\n",
       "    .dataframe thead th {\n",
       "        text-align: right;\n",
       "    }\n",
       "</style>\n",
       "<table border=\"1\" class=\"dataframe\">\n",
       "  <thead>\n",
       "    <tr style=\"text-align: right;\">\n",
       "      <th></th>\n",
       "      <th>sepal length (cm)</th>\n",
       "      <th>sepal width (cm)</th>\n",
       "      <th>petal length (cm)</th>\n",
       "      <th>petal width (cm)</th>\n",
       "      <th>target</th>\n",
       "    </tr>\n",
       "  </thead>\n",
       "  <tbody>\n",
       "    <tr>\n",
       "      <th>0</th>\n",
       "      <td>5.1</td>\n",
       "      <td>3.5</td>\n",
       "      <td>1.4</td>\n",
       "      <td>0.2</td>\n",
       "      <td>0</td>\n",
       "    </tr>\n",
       "    <tr>\n",
       "      <th>1</th>\n",
       "      <td>4.9</td>\n",
       "      <td>3.0</td>\n",
       "      <td>1.4</td>\n",
       "      <td>0.2</td>\n",
       "      <td>0</td>\n",
       "    </tr>\n",
       "    <tr>\n",
       "      <th>2</th>\n",
       "      <td>4.7</td>\n",
       "      <td>3.2</td>\n",
       "      <td>1.3</td>\n",
       "      <td>0.2</td>\n",
       "      <td>0</td>\n",
       "    </tr>\n",
       "    <tr>\n",
       "      <th>3</th>\n",
       "      <td>4.6</td>\n",
       "      <td>3.1</td>\n",
       "      <td>1.5</td>\n",
       "      <td>0.2</td>\n",
       "      <td>0</td>\n",
       "    </tr>\n",
       "    <tr>\n",
       "      <th>4</th>\n",
       "      <td>5.0</td>\n",
       "      <td>3.6</td>\n",
       "      <td>1.4</td>\n",
       "      <td>0.2</td>\n",
       "      <td>0</td>\n",
       "    </tr>\n",
       "  </tbody>\n",
       "</table>\n",
       "</div>"
      ],
      "text/plain": [
       "   sepal length (cm)  sepal width (cm)  petal length (cm)  petal width (cm)  \\\n",
       "0                5.1               3.5                1.4               0.2   \n",
       "1                4.9               3.0                1.4               0.2   \n",
       "2                4.7               3.2                1.3               0.2   \n",
       "3                4.6               3.1                1.5               0.2   \n",
       "4                5.0               3.6                1.4               0.2   \n",
       "\n",
       "   target  \n",
       "0       0  \n",
       "1       0  \n",
       "2       0  \n",
       "3       0  \n",
       "4       0  "
      ]
     },
     "execution_count": 5,
     "metadata": {},
     "output_type": "execute_result"
    }
   ],
   "source": [
    "df.head()"
   ]
  },
  {
   "cell_type": "code",
   "execution_count": 6,
   "metadata": {},
   "outputs": [
    {
     "data": {
      "text/plain": [
       "array([0, 1, 2])"
      ]
     },
     "execution_count": 6,
     "metadata": {},
     "output_type": "execute_result"
    }
   ],
   "source": [
    "df[\"target\"].unique()"
   ]
  },
  {
   "cell_type": "code",
   "execution_count": 8,
   "metadata": {},
   "outputs": [],
   "source": [
    "from sklearn.svm import SVR, SVC"
   ]
  },
  {
   "cell_type": "code",
   "execution_count": 9,
   "metadata": {},
   "outputs": [],
   "source": [
    "## train y test split"
   ]
  },
  {
   "cell_type": "code",
   "execution_count": 10,
   "metadata": {},
   "outputs": [
    {
     "name": "stdout",
     "output_type": "stream",
     "text": [
      "\u001b[1;31mInit signature:\u001b[0m\n",
      "\u001b[0mSVC\u001b[0m\u001b[1;33m(\u001b[0m\u001b[1;33m\n",
      "\u001b[0m    \u001b[1;33m*\u001b[0m\u001b[1;33m,\u001b[0m\u001b[1;33m\n",
      "\u001b[0m    \u001b[0mC\u001b[0m\u001b[1;33m=\u001b[0m\u001b[1;36m1.0\u001b[0m\u001b[1;33m,\u001b[0m\u001b[1;33m\n",
      "\u001b[0m    \u001b[0mkernel\u001b[0m\u001b[1;33m=\u001b[0m\u001b[1;34m'rbf'\u001b[0m\u001b[1;33m,\u001b[0m\u001b[1;33m\n",
      "\u001b[0m    \u001b[0mdegree\u001b[0m\u001b[1;33m=\u001b[0m\u001b[1;36m3\u001b[0m\u001b[1;33m,\u001b[0m\u001b[1;33m\n",
      "\u001b[0m    \u001b[0mgamma\u001b[0m\u001b[1;33m=\u001b[0m\u001b[1;34m'scale'\u001b[0m\u001b[1;33m,\u001b[0m\u001b[1;33m\n",
      "\u001b[0m    \u001b[0mcoef0\u001b[0m\u001b[1;33m=\u001b[0m\u001b[1;36m0.0\u001b[0m\u001b[1;33m,\u001b[0m\u001b[1;33m\n",
      "\u001b[0m    \u001b[0mshrinking\u001b[0m\u001b[1;33m=\u001b[0m\u001b[1;32mTrue\u001b[0m\u001b[1;33m,\u001b[0m\u001b[1;33m\n",
      "\u001b[0m    \u001b[0mprobability\u001b[0m\u001b[1;33m=\u001b[0m\u001b[1;32mFalse\u001b[0m\u001b[1;33m,\u001b[0m\u001b[1;33m\n",
      "\u001b[0m    \u001b[0mtol\u001b[0m\u001b[1;33m=\u001b[0m\u001b[1;36m0.001\u001b[0m\u001b[1;33m,\u001b[0m\u001b[1;33m\n",
      "\u001b[0m    \u001b[0mcache_size\u001b[0m\u001b[1;33m=\u001b[0m\u001b[1;36m200\u001b[0m\u001b[1;33m,\u001b[0m\u001b[1;33m\n",
      "\u001b[0m    \u001b[0mclass_weight\u001b[0m\u001b[1;33m=\u001b[0m\u001b[1;32mNone\u001b[0m\u001b[1;33m,\u001b[0m\u001b[1;33m\n",
      "\u001b[0m    \u001b[0mverbose\u001b[0m\u001b[1;33m=\u001b[0m\u001b[1;32mFalse\u001b[0m\u001b[1;33m,\u001b[0m\u001b[1;33m\n",
      "\u001b[0m    \u001b[0mmax_iter\u001b[0m\u001b[1;33m=\u001b[0m\u001b[1;33m-\u001b[0m\u001b[1;36m1\u001b[0m\u001b[1;33m,\u001b[0m\u001b[1;33m\n",
      "\u001b[0m    \u001b[0mdecision_function_shape\u001b[0m\u001b[1;33m=\u001b[0m\u001b[1;34m'ovr'\u001b[0m\u001b[1;33m,\u001b[0m\u001b[1;33m\n",
      "\u001b[0m    \u001b[0mbreak_ties\u001b[0m\u001b[1;33m=\u001b[0m\u001b[1;32mFalse\u001b[0m\u001b[1;33m,\u001b[0m\u001b[1;33m\n",
      "\u001b[0m    \u001b[0mrandom_state\u001b[0m\u001b[1;33m=\u001b[0m\u001b[1;32mNone\u001b[0m\u001b[1;33m,\u001b[0m\u001b[1;33m\n",
      "\u001b[0m\u001b[1;33m)\u001b[0m\u001b[1;33m\u001b[0m\u001b[1;33m\u001b[0m\u001b[0m\n",
      "\u001b[1;31mDocstring:\u001b[0m     \n",
      "C-Support Vector Classification.\n",
      "\n",
      "The implementation is based on libsvm. The fit time scales at least\n",
      "quadratically with the number of samples and may be impractical\n",
      "beyond tens of thousands of samples. For large datasets\n",
      "consider using :class:`~sklearn.svm.LinearSVC` or\n",
      ":class:`~sklearn.linear_model.SGDClassifier` instead, possibly after a\n",
      ":class:`~sklearn.kernel_approximation.Nystroem` transformer.\n",
      "\n",
      "The multiclass support is handled according to a one-vs-one scheme.\n",
      "\n",
      "For details on the precise mathematical formulation of the provided\n",
      "kernel functions and how `gamma`, `coef0` and `degree` affect each\n",
      "other, see the corresponding section in the narrative documentation:\n",
      ":ref:`svm_kernels`.\n",
      "\n",
      "Read more in the :ref:`User Guide <svm_classification>`.\n",
      "\n",
      "Parameters\n",
      "----------\n",
      "C : float, default=1.0\n",
      "    Regularization parameter. The strength of the regularization is\n",
      "    inversely proportional to C. Must be strictly positive. The penalty\n",
      "    is a squared l2 penalty.\n",
      "\n",
      "kernel : {'linear', 'poly', 'rbf', 'sigmoid', 'precomputed'} or callable,          default='rbf'\n",
      "    Specifies the kernel type to be used in the algorithm.\n",
      "    If none is given, 'rbf' will be used. If a callable is given it is\n",
      "    used to pre-compute the kernel matrix from data matrices; that matrix\n",
      "    should be an array of shape ``(n_samples, n_samples)``.\n",
      "\n",
      "degree : int, default=3\n",
      "    Degree of the polynomial kernel function ('poly').\n",
      "    Ignored by all other kernels.\n",
      "\n",
      "gamma : {'scale', 'auto'} or float, default='scale'\n",
      "    Kernel coefficient for 'rbf', 'poly' and 'sigmoid'.\n",
      "\n",
      "    - if ``gamma='scale'`` (default) is passed then it uses\n",
      "      1 / (n_features * X.var()) as value of gamma,\n",
      "    - if 'auto', uses 1 / n_features.\n",
      "\n",
      "    .. versionchanged:: 0.22\n",
      "       The default value of ``gamma`` changed from 'auto' to 'scale'.\n",
      "\n",
      "coef0 : float, default=0.0\n",
      "    Independent term in kernel function.\n",
      "    It is only significant in 'poly' and 'sigmoid'.\n",
      "\n",
      "shrinking : bool, default=True\n",
      "    Whether to use the shrinking heuristic.\n",
      "    See the :ref:`User Guide <shrinking_svm>`.\n",
      "\n",
      "probability : bool, default=False\n",
      "    Whether to enable probability estimates. This must be enabled prior\n",
      "    to calling `fit`, will slow down that method as it internally uses\n",
      "    5-fold cross-validation, and `predict_proba` may be inconsistent with\n",
      "    `predict`. Read more in the :ref:`User Guide <scores_probabilities>`.\n",
      "\n",
      "tol : float, default=1e-3\n",
      "    Tolerance for stopping criterion.\n",
      "\n",
      "cache_size : float, default=200\n",
      "    Specify the size of the kernel cache (in MB).\n",
      "\n",
      "class_weight : dict or 'balanced', default=None\n",
      "    Set the parameter C of class i to class_weight[i]*C for\n",
      "    SVC. If not given, all classes are supposed to have\n",
      "    weight one.\n",
      "    The \"balanced\" mode uses the values of y to automatically adjust\n",
      "    weights inversely proportional to class frequencies in the input data\n",
      "    as ``n_samples / (n_classes * np.bincount(y))``.\n",
      "\n",
      "verbose : bool, default=False\n",
      "    Enable verbose output. Note that this setting takes advantage of a\n",
      "    per-process runtime setting in libsvm that, if enabled, may not work\n",
      "    properly in a multithreaded context.\n",
      "\n",
      "max_iter : int, default=-1\n",
      "    Hard limit on iterations within solver, or -1 for no limit.\n",
      "\n",
      "decision_function_shape : {'ovo', 'ovr'}, default='ovr'\n",
      "    Whether to return a one-vs-rest ('ovr') decision function of shape\n",
      "    (n_samples, n_classes) as all other classifiers, or the original\n",
      "    one-vs-one ('ovo') decision function of libsvm which has shape\n",
      "    (n_samples, n_classes * (n_classes - 1) / 2). However, one-vs-one\n",
      "    ('ovo') is always used as multi-class strategy. The parameter is\n",
      "    ignored for binary classification.\n",
      "\n",
      "    .. versionchanged:: 0.19\n",
      "        decision_function_shape is 'ovr' by default.\n",
      "\n",
      "    .. versionadded:: 0.17\n",
      "       *decision_function_shape='ovr'* is recommended.\n",
      "\n",
      "    .. versionchanged:: 0.17\n",
      "       Deprecated *decision_function_shape='ovo' and None*.\n",
      "\n",
      "break_ties : bool, default=False\n",
      "    If true, ``decision_function_shape='ovr'``, and number of classes > 2,\n",
      "    :term:`predict` will break ties according to the confidence values of\n",
      "    :term:`decision_function`; otherwise the first class among the tied\n",
      "    classes is returned. Please note that breaking ties comes at a\n",
      "    relatively high computational cost compared to a simple predict.\n",
      "\n",
      "    .. versionadded:: 0.22\n",
      "\n",
      "random_state : int, RandomState instance or None, default=None\n",
      "    Controls the pseudo random number generation for shuffling the data for\n",
      "    probability estimates. Ignored when `probability` is False.\n",
      "    Pass an int for reproducible output across multiple function calls.\n",
      "    See :term:`Glossary <random_state>`.\n",
      "\n",
      "Attributes\n",
      "----------\n",
      "class_weight_ : ndarray of shape (n_classes,)\n",
      "    Multipliers of parameter C for each class.\n",
      "    Computed based on the ``class_weight`` parameter.\n",
      "\n",
      "classes_ : ndarray of shape (n_classes,)\n",
      "    The classes labels.\n",
      "\n",
      "coef_ : ndarray of shape (n_classes * (n_classes - 1) / 2, n_features)\n",
      "    Weights assigned to the features (coefficients in the primal\n",
      "    problem). This is only available in the case of a linear kernel.\n",
      "\n",
      "    `coef_` is a readonly property derived from `dual_coef_` and\n",
      "    `support_vectors_`.\n",
      "\n",
      "dual_coef_ : ndarray of shape (n_classes -1, n_SV)\n",
      "    Dual coefficients of the support vector in the decision\n",
      "    function (see :ref:`sgd_mathematical_formulation`), multiplied by\n",
      "    their targets.\n",
      "    For multiclass, coefficient for all 1-vs-1 classifiers.\n",
      "    The layout of the coefficients in the multiclass case is somewhat\n",
      "    non-trivial. See the :ref:`multi-class section of the User Guide\n",
      "    <svm_multi_class>` for details.\n",
      "\n",
      "fit_status_ : int\n",
      "    0 if correctly fitted, 1 otherwise (will raise warning)\n",
      "\n",
      "intercept_ : ndarray of shape (n_classes * (n_classes - 1) / 2,)\n",
      "    Constants in decision function.\n",
      "\n",
      "n_features_in_ : int\n",
      "    Number of features seen during :term:`fit`.\n",
      "\n",
      "    .. versionadded:: 0.24\n",
      "\n",
      "feature_names_in_ : ndarray of shape (`n_features_in_`,)\n",
      "    Names of features seen during :term:`fit`. Defined only when `X`\n",
      "    has feature names that are all strings.\n",
      "\n",
      "    .. versionadded:: 1.0\n",
      "\n",
      "support_ : ndarray of shape (n_SV)\n",
      "    Indices of support vectors.\n",
      "\n",
      "support_vectors_ : ndarray of shape (n_SV, n_features)\n",
      "    Support vectors.\n",
      "\n",
      "n_support_ : ndarray of shape (n_classes,), dtype=int32\n",
      "    Number of support vectors for each class.\n",
      "\n",
      "probA_ : ndarray of shape (n_classes * (n_classes - 1) / 2)\n",
      "probB_ : ndarray of shape (n_classes * (n_classes - 1) / 2)\n",
      "    If `probability=True`, it corresponds to the parameters learned in\n",
      "    Platt scaling to produce probability estimates from decision values.\n",
      "    If `probability=False`, it's an empty array. Platt scaling uses the\n",
      "    logistic function\n",
      "    ``1 / (1 + exp(decision_value * probA_ + probB_))``\n",
      "    where ``probA_`` and ``probB_`` are learned from the dataset [2]_. For\n",
      "    more information on the multiclass case and training procedure see\n",
      "    section 8 of [1]_.\n",
      "\n",
      "shape_fit_ : tuple of int of shape (n_dimensions_of_X,)\n",
      "    Array dimensions of training vector ``X``.\n",
      "\n",
      "See Also\n",
      "--------\n",
      "SVR : Support Vector Machine for Regression implemented using libsvm.\n",
      "\n",
      "LinearSVC : Scalable Linear Support Vector Machine for classification\n",
      "    implemented using liblinear. Check the See Also section of\n",
      "    LinearSVC for more comparison element.\n",
      "\n",
      "References\n",
      "----------\n",
      ".. [1] `LIBSVM: A Library for Support Vector Machines\n",
      "    <http://www.csie.ntu.edu.tw/~cjlin/papers/libsvm.pdf>`_\n",
      "\n",
      ".. [2] `Platt, John (1999). \"Probabilistic outputs for support vector\n",
      "    machines and comparison to regularizedlikelihood methods.\"\n",
      "    <http://citeseer.ist.psu.edu/viewdoc/summary?doi=10.1.1.41.1639>`_\n",
      "\n",
      "Examples\n",
      "--------\n",
      ">>> import numpy as np\n",
      ">>> from sklearn.pipeline import make_pipeline\n",
      ">>> from sklearn.preprocessing import StandardScaler\n",
      ">>> X = np.array([[-1, -1], [-2, -1], [1, 1], [2, 1]])\n",
      ">>> y = np.array([1, 1, 2, 2])\n",
      ">>> from sklearn.svm import SVC\n",
      ">>> clf = make_pipeline(StandardScaler(), SVC(gamma='auto'))\n",
      ">>> clf.fit(X, y)\n",
      "Pipeline(steps=[('standardscaler', StandardScaler()),\n",
      "                ('svc', SVC(gamma='auto'))])\n",
      "\n",
      ">>> print(clf.predict([[-0.8, -1]]))\n",
      "[1]\n",
      "\u001b[1;31mFile:\u001b[0m           c:\\users\\daniel montes\\anaconda3\\lib\\site-packages\\sklearn\\svm\\_classes.py\n",
      "\u001b[1;31mType:\u001b[0m           ABCMeta\n",
      "\u001b[1;31mSubclasses:\u001b[0m     \n"
     ]
    }
   ],
   "source": [
    "SVC?"
   ]
  },
  {
   "cell_type": "code",
   "execution_count": 11,
   "metadata": {},
   "outputs": [
    {
     "name": "stdout",
     "output_type": "stream",
     "text": [
      "C-Support Vector Classification.\n",
      "\n",
      "    The implementation is based on libsvm. The fit time scales at least\n",
      "    quadratically with the number of samples and may be impractical\n",
      "    beyond tens of thousands of samples. For large datasets\n",
      "    consider using :class:`~sklearn.svm.LinearSVC` or\n",
      "    :class:`~sklearn.linear_model.SGDClassifier` instead, possibly after a\n",
      "    :class:`~sklearn.kernel_approximation.Nystroem` transformer.\n",
      "\n",
      "    The multiclass support is handled according to a one-vs-one scheme.\n",
      "\n",
      "    For details on the precise mathematical formulation of the provided\n",
      "    kernel functions and how `gamma`, `coef0` and `degree` affect each\n",
      "    other, see the corresponding section in the narrative documentation:\n",
      "    :ref:`svm_kernels`.\n",
      "\n",
      "    Read more in the :ref:`User Guide <svm_classification>`.\n",
      "\n",
      "    Parameters\n",
      "    ----------\n",
      "    C : float, default=1.0\n",
      "        Regularization parameter. The strength of the regularization is\n",
      "        inversely proportional to C. Must be strictly positive. The penalty\n",
      "        is a squared l2 penalty.\n",
      "\n",
      "    kernel : {'linear', 'poly', 'rbf', 'sigmoid', 'precomputed'} or callable,          default='rbf'\n",
      "        Specifies the kernel type to be used in the algorithm.\n",
      "        If none is given, 'rbf' will be used. If a callable is given it is\n",
      "        used to pre-compute the kernel matrix from data matrices; that matrix\n",
      "        should be an array of shape ``(n_samples, n_samples)``.\n",
      "\n",
      "    degree : int, default=3\n",
      "        Degree of the polynomial kernel function ('poly').\n",
      "        Ignored by all other kernels.\n",
      "\n",
      "    gamma : {'scale', 'auto'} or float, default='scale'\n",
      "        Kernel coefficient for 'rbf', 'poly' and 'sigmoid'.\n",
      "\n",
      "        - if ``gamma='scale'`` (default) is passed then it uses\n",
      "          1 / (n_features * X.var()) as value of gamma,\n",
      "        - if 'auto', uses 1 / n_features.\n",
      "\n",
      "        .. versionchanged:: 0.22\n",
      "           The default value of ``gamma`` changed from 'auto' to 'scale'.\n",
      "\n",
      "    coef0 : float, default=0.0\n",
      "        Independent term in kernel function.\n",
      "        It is only significant in 'poly' and 'sigmoid'.\n",
      "\n",
      "    shrinking : bool, default=True\n",
      "        Whether to use the shrinking heuristic.\n",
      "        See the :ref:`User Guide <shrinking_svm>`.\n",
      "\n",
      "    probability : bool, default=False\n",
      "        Whether to enable probability estimates. This must be enabled prior\n",
      "        to calling `fit`, will slow down that method as it internally uses\n",
      "        5-fold cross-validation, and `predict_proba` may be inconsistent with\n",
      "        `predict`. Read more in the :ref:`User Guide <scores_probabilities>`.\n",
      "\n",
      "    tol : float, default=1e-3\n",
      "        Tolerance for stopping criterion.\n",
      "\n",
      "    cache_size : float, default=200\n",
      "        Specify the size of the kernel cache (in MB).\n",
      "\n",
      "    class_weight : dict or 'balanced', default=None\n",
      "        Set the parameter C of class i to class_weight[i]*C for\n",
      "        SVC. If not given, all classes are supposed to have\n",
      "        weight one.\n",
      "        The \"balanced\" mode uses the values of y to automatically adjust\n",
      "        weights inversely proportional to class frequencies in the input data\n",
      "        as ``n_samples / (n_classes * np.bincount(y))``.\n",
      "\n",
      "    verbose : bool, default=False\n",
      "        Enable verbose output. Note that this setting takes advantage of a\n",
      "        per-process runtime setting in libsvm that, if enabled, may not work\n",
      "        properly in a multithreaded context.\n",
      "\n",
      "    max_iter : int, default=-1\n",
      "        Hard limit on iterations within solver, or -1 for no limit.\n",
      "\n",
      "    decision_function_shape : {'ovo', 'ovr'}, default='ovr'\n",
      "        Whether to return a one-vs-rest ('ovr') decision function of shape\n",
      "        (n_samples, n_classes) as all other classifiers, or the original\n",
      "        one-vs-one ('ovo') decision function of libsvm which has shape\n",
      "        (n_samples, n_classes * (n_classes - 1) / 2). However, one-vs-one\n",
      "        ('ovo') is always used as multi-class strategy. The parameter is\n",
      "        ignored for binary classification.\n",
      "\n",
      "        .. versionchanged:: 0.19\n",
      "            decision_function_shape is 'ovr' by default.\n",
      "\n",
      "        .. versionadded:: 0.17\n",
      "           *decision_function_shape='ovr'* is recommended.\n",
      "\n",
      "        .. versionchanged:: 0.17\n",
      "           Deprecated *decision_function_shape='ovo' and None*.\n",
      "\n",
      "    break_ties : bool, default=False\n",
      "        If true, ``decision_function_shape='ovr'``, and number of classes > 2,\n",
      "        :term:`predict` will break ties according to the confidence values of\n",
      "        :term:`decision_function`; otherwise the first class among the tied\n",
      "        classes is returned. Please note that breaking ties comes at a\n",
      "        relatively high computational cost compared to a simple predict.\n",
      "\n",
      "        .. versionadded:: 0.22\n",
      "\n",
      "    random_state : int, RandomState instance or None, default=None\n",
      "        Controls the pseudo random number generation for shuffling the data for\n",
      "        probability estimates. Ignored when `probability` is False.\n",
      "        Pass an int for reproducible output across multiple function calls.\n",
      "        See :term:`Glossary <random_state>`.\n",
      "\n",
      "    Attributes\n",
      "    ----------\n",
      "    class_weight_ : ndarray of shape (n_classes,)\n",
      "        Multipliers of parameter C for each class.\n",
      "        Computed based on the ``class_weight`` parameter.\n",
      "\n",
      "    classes_ : ndarray of shape (n_classes,)\n",
      "        The classes labels.\n",
      "\n",
      "    coef_ : ndarray of shape (n_classes * (n_classes - 1) / 2, n_features)\n",
      "        Weights assigned to the features (coefficients in the primal\n",
      "        problem). This is only available in the case of a linear kernel.\n",
      "\n",
      "        `coef_` is a readonly property derived from `dual_coef_` and\n",
      "        `support_vectors_`.\n",
      "\n",
      "    dual_coef_ : ndarray of shape (n_classes -1, n_SV)\n",
      "        Dual coefficients of the support vector in the decision\n",
      "        function (see :ref:`sgd_mathematical_formulation`), multiplied by\n",
      "        their targets.\n",
      "        For multiclass, coefficient for all 1-vs-1 classifiers.\n",
      "        The layout of the coefficients in the multiclass case is somewhat\n",
      "        non-trivial. See the :ref:`multi-class section of the User Guide\n",
      "        <svm_multi_class>` for details.\n",
      "\n",
      "    fit_status_ : int\n",
      "        0 if correctly fitted, 1 otherwise (will raise warning)\n",
      "\n",
      "    intercept_ : ndarray of shape (n_classes * (n_classes - 1) / 2,)\n",
      "        Constants in decision function.\n",
      "\n",
      "    n_features_in_ : int\n",
      "        Number of features seen during :term:`fit`.\n",
      "\n",
      "        .. versionadded:: 0.24\n",
      "\n",
      "    feature_names_in_ : ndarray of shape (`n_features_in_`,)\n",
      "        Names of features seen during :term:`fit`. Defined only when `X`\n",
      "        has feature names that are all strings.\n",
      "\n",
      "        .. versionadded:: 1.0\n",
      "\n",
      "    support_ : ndarray of shape (n_SV)\n",
      "        Indices of support vectors.\n",
      "\n",
      "    support_vectors_ : ndarray of shape (n_SV, n_features)\n",
      "        Support vectors.\n",
      "\n",
      "    n_support_ : ndarray of shape (n_classes,), dtype=int32\n",
      "        Number of support vectors for each class.\n",
      "\n",
      "    probA_ : ndarray of shape (n_classes * (n_classes - 1) / 2)\n",
      "    probB_ : ndarray of shape (n_classes * (n_classes - 1) / 2)\n",
      "        If `probability=True`, it corresponds to the parameters learned in\n",
      "        Platt scaling to produce probability estimates from decision values.\n",
      "        If `probability=False`, it's an empty array. Platt scaling uses the\n",
      "        logistic function\n",
      "        ``1 / (1 + exp(decision_value * probA_ + probB_))``\n",
      "        where ``probA_`` and ``probB_`` are learned from the dataset [2]_. For\n",
      "        more information on the multiclass case and training procedure see\n",
      "        section 8 of [1]_.\n",
      "\n",
      "    shape_fit_ : tuple of int of shape (n_dimensions_of_X,)\n",
      "        Array dimensions of training vector ``X``.\n",
      "\n",
      "    See Also\n",
      "    --------\n",
      "    SVR : Support Vector Machine for Regression implemented using libsvm.\n",
      "\n",
      "    LinearSVC : Scalable Linear Support Vector Machine for classification\n",
      "        implemented using liblinear. Check the See Also section of\n",
      "        LinearSVC for more comparison element.\n",
      "\n",
      "    References\n",
      "    ----------\n",
      "    .. [1] `LIBSVM: A Library for Support Vector Machines\n",
      "        <http://www.csie.ntu.edu.tw/~cjlin/papers/libsvm.pdf>`_\n",
      "\n",
      "    .. [2] `Platt, John (1999). \"Probabilistic outputs for support vector\n",
      "        machines and comparison to regularizedlikelihood methods.\"\n",
      "        <http://citeseer.ist.psu.edu/viewdoc/summary?doi=10.1.1.41.1639>`_\n",
      "\n",
      "    Examples\n",
      "    --------\n",
      "    >>> import numpy as np\n",
      "    >>> from sklearn.pipeline import make_pipeline\n",
      "    >>> from sklearn.preprocessing import StandardScaler\n",
      "    >>> X = np.array([[-1, -1], [-2, -1], [1, 1], [2, 1]])\n",
      "    >>> y = np.array([1, 1, 2, 2])\n",
      "    >>> from sklearn.svm import SVC\n",
      "    >>> clf = make_pipeline(StandardScaler(), SVC(gamma='auto'))\n",
      "    >>> clf.fit(X, y)\n",
      "    Pipeline(steps=[('standardscaler', StandardScaler()),\n",
      "                    ('svc', SVC(gamma='auto'))])\n",
      "\n",
      "    >>> print(clf.predict([[-0.8, -1]]))\n",
      "    [1]\n",
      "    \n"
     ]
    }
   ],
   "source": [
    "print(SVC.__doc__)"
   ]
  },
  {
   "cell_type": "code",
   "execution_count": 12,
   "metadata": {},
   "outputs": [],
   "source": [
    "modelo_svm=SVC()"
   ]
  },
  {
   "cell_type": "code",
   "execution_count": 14,
   "metadata": {},
   "outputs": [
    {
     "data": {
      "text/plain": [
       "SVC()"
      ]
     },
     "execution_count": 14,
     "metadata": {},
     "output_type": "execute_result"
    }
   ],
   "source": [
    "modelo_svm.fit(df.drop(columns=\"target\"),df[\"target\"])"
   ]
  },
  {
   "cell_type": "code",
   "execution_count": 15,
   "metadata": {},
   "outputs": [
    {
     "data": {
      "text/plain": [
       "array([[5.7, 3.8, 1.7, 0.3],\n",
       "       [5.4, 3.4, 1.7, 0.2],\n",
       "       [5.1, 3.3, 1.7, 0.5],\n",
       "       [4.8, 3.4, 1.9, 0.2],\n",
       "       [5. , 3. , 1.6, 0.2],\n",
       "       [4.5, 2.3, 1.3, 0.3],\n",
       "       [5.1, 3.8, 1.9, 0.4],\n",
       "       [7. , 3.2, 4.7, 1.4],\n",
       "       [6.4, 3.2, 4.5, 1.5],\n",
       "       [6.9, 3.1, 4.9, 1.5],\n",
       "       [6.5, 2.8, 4.6, 1.5],\n",
       "       [5.7, 2.8, 4.5, 1.3],\n",
       "       [6.3, 3.3, 4.7, 1.6],\n",
       "       [4.9, 2.4, 3.3, 1. ],\n",
       "       [6.6, 2.9, 4.6, 1.3],\n",
       "       [6.1, 2.9, 4.7, 1.4],\n",
       "       [5.6, 2.9, 3.6, 1.3],\n",
       "       [5.6, 3. , 4.5, 1.5],\n",
       "       [6.2, 2.2, 4.5, 1.5],\n",
       "       [5.9, 3.2, 4.8, 1.8],\n",
       "       [6.3, 2.5, 4.9, 1.5],\n",
       "       [6.1, 2.8, 4.7, 1.2],\n",
       "       [6.6, 3. , 4.4, 1.4],\n",
       "       [6.8, 2.8, 4.8, 1.4],\n",
       "       [6.7, 3. , 5. , 1.7],\n",
       "       [6. , 2.9, 4.5, 1.5],\n",
       "       [5.7, 2.6, 3.5, 1. ],\n",
       "       [6. , 2.7, 5.1, 1.6],\n",
       "       [5.4, 3. , 4.5, 1.5],\n",
       "       [6. , 3.4, 4.5, 1.6],\n",
       "       [6.7, 3.1, 4.7, 1.5],\n",
       "       [6.3, 2.3, 4.4, 1.3],\n",
       "       [5.5, 2.6, 4.4, 1.2],\n",
       "       [6.1, 3. , 4.6, 1.4],\n",
       "       [5. , 2.3, 3.3, 1. ],\n",
       "       [5.1, 2.5, 3. , 1.1],\n",
       "       [5.8, 2.7, 5.1, 1.9],\n",
       "       [4.9, 2.5, 4.5, 1.7],\n",
       "       [6.5, 3.2, 5.1, 2. ],\n",
       "       [6.4, 2.7, 5.3, 1.9],\n",
       "       [5.7, 2.5, 5. , 2. ],\n",
       "       [6.5, 3. , 5.5, 1.8],\n",
       "       [6. , 2.2, 5. , 1.5],\n",
       "       [5.6, 2.8, 4.9, 2. ],\n",
       "       [6.3, 2.7, 4.9, 1.8],\n",
       "       [6.2, 2.8, 4.8, 1.8],\n",
       "       [6.1, 3. , 4.9, 1.8],\n",
       "       [7.2, 3. , 5.8, 1.6],\n",
       "       [7.9, 3.8, 6.4, 2. ],\n",
       "       [6.3, 2.8, 5.1, 1.5],\n",
       "       [6.1, 2.6, 5.6, 1.4],\n",
       "       [6.4, 3.1, 5.5, 1.8],\n",
       "       [6. , 3. , 4.8, 1.8],\n",
       "       [6.9, 3.1, 5.4, 2.1],\n",
       "       [6.9, 3.1, 5.1, 2.3],\n",
       "       [5.8, 2.7, 5.1, 1.9],\n",
       "       [6.7, 3. , 5.2, 2.3],\n",
       "       [6.3, 2.5, 5. , 1.9],\n",
       "       [6.5, 3. , 5.2, 2. ],\n",
       "       [5.9, 3. , 5.1, 1.8]])"
      ]
     },
     "execution_count": 15,
     "metadata": {},
     "output_type": "execute_result"
    }
   ],
   "source": [
    "modelo_svm.support_vectors_"
   ]
  },
  {
   "cell_type": "code",
   "execution_count": 16,
   "metadata": {},
   "outputs": [
    {
     "data": {
      "text/plain": [
       "array([ 7, 29, 24])"
      ]
     },
     "execution_count": 16,
     "metadata": {},
     "output_type": "execute_result"
    }
   ],
   "source": [
    "modelo_svm.n_support_"
   ]
  },
  {
   "cell_type": "code",
   "execution_count": 20,
   "metadata": {},
   "outputs": [],
   "source": [
    "X=iris.data[:,:2]\n",
    "y=iris.target"
   ]
  },
  {
   "cell_type": "code",
   "execution_count": 21,
   "metadata": {},
   "outputs": [
    {
     "data": {
      "text/html": [
       "<div>\n",
       "<style scoped>\n",
       "    .dataframe tbody tr th:only-of-type {\n",
       "        vertical-align: middle;\n",
       "    }\n",
       "\n",
       "    .dataframe tbody tr th {\n",
       "        vertical-align: top;\n",
       "    }\n",
       "\n",
       "    .dataframe thead th {\n",
       "        text-align: right;\n",
       "    }\n",
       "</style>\n",
       "<table border=\"1\" class=\"dataframe\">\n",
       "  <thead>\n",
       "    <tr style=\"text-align: right;\">\n",
       "      <th></th>\n",
       "      <th>0</th>\n",
       "      <th>1</th>\n",
       "    </tr>\n",
       "  </thead>\n",
       "  <tbody>\n",
       "    <tr>\n",
       "      <th>0</th>\n",
       "      <td>5.1</td>\n",
       "      <td>3.5</td>\n",
       "    </tr>\n",
       "    <tr>\n",
       "      <th>1</th>\n",
       "      <td>4.9</td>\n",
       "      <td>3.0</td>\n",
       "    </tr>\n",
       "    <tr>\n",
       "      <th>2</th>\n",
       "      <td>4.7</td>\n",
       "      <td>3.2</td>\n",
       "    </tr>\n",
       "    <tr>\n",
       "      <th>3</th>\n",
       "      <td>4.6</td>\n",
       "      <td>3.1</td>\n",
       "    </tr>\n",
       "    <tr>\n",
       "      <th>4</th>\n",
       "      <td>5.0</td>\n",
       "      <td>3.6</td>\n",
       "    </tr>\n",
       "  </tbody>\n",
       "</table>\n",
       "</div>"
      ],
      "text/plain": [
       "     0    1\n",
       "0  5.1  3.5\n",
       "1  4.9  3.0\n",
       "2  4.7  3.2\n",
       "3  4.6  3.1\n",
       "4  5.0  3.6"
      ]
     },
     "execution_count": 21,
     "metadata": {},
     "output_type": "execute_result"
    }
   ],
   "source": [
    "pd.DataFrame(X).head()"
   ]
  },
  {
   "cell_type": "code",
   "execution_count": 22,
   "metadata": {},
   "outputs": [],
   "source": [
    "from mlxtend.plotting import plot_decision_regions"
   ]
  },
  {
   "attachments": {},
   "cell_type": "markdown",
   "metadata": {},
   "source": [
    "### Kernel Linea\n",
    "$$k(x)=x \\cdot x^t"
   ]
  },
  {
   "cell_type": "markdown",
   "metadata": {},
   "source": []
  },
  {
   "cell_type": "code",
   "execution_count": 24,
   "metadata": {},
   "outputs": [
    {
     "data": {
      "text/plain": [
       "SVC(kernel='linear')"
      ]
     },
     "execution_count": 24,
     "metadata": {},
     "output_type": "execute_result"
    }
   ],
   "source": [
    "modelo_svm_lienal=SVC(kernel=\"linear\")\n",
    "modelo_svm_lienal.fit(X,y)"
   ]
  },
  {
   "cell_type": "code",
   "execution_count": 25,
   "metadata": {},
   "outputs": [
    {
     "data": {
      "text/plain": [
       "<AxesSubplot:>"
      ]
     },
     "execution_count": 25,
     "metadata": {},
     "output_type": "execute_result"
    },
    {
     "data": {
      "image/png": "[encoded data removed]",
      "text/plain": [
       "<Figure size 432x288 with 1 Axes>"
      ]
     },
     "metadata": {
      "needs_background": "light"
     },
     "output_type": "display_data"
    }
   ],
   "source": [
    "plot_decision_regions(X,y,clf=modelo_svm_lienal)"
   ]
  },
  {
   "cell_type": "code",
   "execution_count": 26,
   "metadata": {},
   "outputs": [
    {
     "data": {
      "text/plain": [
       "SVC(kernel='poly')"
      ]
     },
     "execution_count": 26,
     "metadata": {},
     "output_type": "execute_result"
    }
   ],
   "source": [
    "modelo_svm_poly=SVC(kernel=\"poly\")\n",
    "modelo_svm_poly.fit(X,y)"
   ]
  },
  {
   "cell_type": "code",
   "execution_count": 27,
   "metadata": {},
   "outputs": [
    {
     "data": {
      "text/plain": [
       "<AxesSubplot:>"
      ]
     },
     "execution_count": 27,
     "metadata": {},
     "output_type": "execute_result"
    },
    {
     "data": {
      "image/png": "[encoded data removed]",
      "text/plain": [
       "<Figure size 432x288 with 1 Axes>"
      ]
     },
     "metadata": {
      "needs_background": "light"
     },
     "output_type": "display_data"
    }
   ],
   "source": [
    "plot_decision_regions(X,y,clf=modelo_svm_poly)"
   ]
  },
  {
   "cell_type": "code",
   "execution_count": 28,
   "metadata": {},
   "outputs": [
    {
     "data": {
      "text/plain": [
       "<AxesSubplot:>"
      ]
     },
     "execution_count": 28,
     "metadata": {},
     "output_type": "execute_result"
    },
    {
     "data": {
      "image/png": "[encoded data removed]",
      "text/plain": [
       "<Figure size 432x288 with 1 Axes>"
      ]
     },
     "metadata": {
      "needs_background": "light"
     },
     "output_type": "display_data"
    }
   ],
   "source": [
    "modelo_svm_poly_1=SVC(kernel=\"poly\",degree=1)\n",
    "modelo_svm_poly_1.fit(X,y)\n",
    "plot_decision_regions(X,y,clf=modelo_svm_poly_1)"
   ]
  },
  {
   "cell_type": "code",
   "execution_count": 29,
   "metadata": {},
   "outputs": [
    {
     "data": {
      "image/png": "[encoded data removed]",
      "text/plain": [
       "<Figure size 432x288 with 1 Axes>"
      ]
     },
     "metadata": {
      "needs_background": "light"
     },
     "output_type": "display_data"
    }
   ],
   "source": [
    "estimador_svm_gaussian = SVC(kernel=\"rbf\")\n",
    "estimador_svm_gaussian.fit(X, y)\n",
    "\n",
    "plot_decision_regions(X, y, clf=estimador_svm_gaussian);"
   ]
  },
  {
   "cell_type": "code",
   "execution_count": 30,
   "metadata": {},
   "outputs": [
    {
     "data": {
      "image/png": "[encoded data removed]",
      "text/plain": [
       "<Figure size 432x288 with 1 Axes>"
      ]
     },
     "metadata": {
      "needs_background": "light"
     },
     "output_type": "display_data"
    }
   ],
   "source": [
    "estimador_svm_gaussian_gamma = SVC(kernel=\"rbf\",gamma=100).fit(X, y)\n",
    "\n",
    "plot_decision_regions(X, y, clf=estimador_svm_gaussian_gamma);"
   ]
  },
  {
   "cell_type": "code",
   "execution_count": 31,
   "metadata": {},
   "outputs": [
    {
     "data": {
      "text/plain": [
       "array([41, 47, 48])"
      ]
     },
     "execution_count": 31,
     "metadata": {},
     "output_type": "execute_result"
    }
   ],
   "source": [
    "estimador_svm_gaussian_gamma.n_support_"
   ]
  },
  {
   "cell_type": "code",
   "execution_count": 32,
   "metadata": {},
   "outputs": [
    {
     "ename": "AttributeError",
     "evalue": "predict_proba is not available when  probability=False",
     "output_type": "error",
     "traceback": [
      "\u001b[1;31m---------------------------------------------------------------------------\u001b[0m",
      "\u001b[1;31mAttributeError\u001b[0m                            Traceback (most recent call last)",
      "\u001b[1;32mf:\\The Bridge\\Bootcampsep2022\\Bootcamp_Sep2022\\SVM\\SVM.ipynb Cell 28\u001b[0m in \u001b[0;36m<cell line: 1>\u001b[1;34m()\u001b[0m\n\u001b[1;32m----> <a href='vscode-notebook-cell:/f%3A/The%20Bridge/Bootcampsep2022/Bootcamp_Sep2022/SVM/SVM.ipynb#X40sZmlsZQ%3D%3D?line=0'>1</a>\u001b[0m estimador_svm_gaussian_gamma\u001b[39m.\u001b[39;49mpredict_proba(X)\n",
      "File \u001b[1;32mc:\\Users\\Daniel Montes\\Anaconda3\\lib\\site-packages\\sklearn\\utils\\metaestimators.py:109\u001b[0m, in \u001b[0;36m_AvailableIfDescriptor.__get__\u001b[1;34m(self, obj, owner)\u001b[0m\n\u001b[0;32m    103\u001b[0m attr_err \u001b[39m=\u001b[39m \u001b[39mAttributeError\u001b[39;00m(\n\u001b[0;32m    104\u001b[0m     \u001b[39mf\u001b[39m\u001b[39m\"\u001b[39m\u001b[39mThis \u001b[39m\u001b[39m{\u001b[39;00m\u001b[39mrepr\u001b[39m(owner\u001b[39m.\u001b[39m\u001b[39m__name__\u001b[39m)\u001b[39m}\u001b[39;00m\u001b[39m has no attribute \u001b[39m\u001b[39m{\u001b[39;00m\u001b[39mrepr\u001b[39m(\u001b[39mself\u001b[39m\u001b[39m.\u001b[39mattribute_name)\u001b[39m}\u001b[39;00m\u001b[39m\"\u001b[39m\n\u001b[0;32m    105\u001b[0m )\n\u001b[0;32m    106\u001b[0m \u001b[39mif\u001b[39;00m obj \u001b[39mis\u001b[39;00m \u001b[39mnot\u001b[39;00m \u001b[39mNone\u001b[39;00m:\n\u001b[0;32m    107\u001b[0m     \u001b[39m# delegate only on instances, not the classes.\u001b[39;00m\n\u001b[0;32m    108\u001b[0m     \u001b[39m# this is to allow access to the docstrings.\u001b[39;00m\n\u001b[1;32m--> 109\u001b[0m     \u001b[39mif\u001b[39;00m \u001b[39mnot\u001b[39;00m \u001b[39mself\u001b[39;49m\u001b[39m.\u001b[39;49mcheck(obj):\n\u001b[0;32m    110\u001b[0m         \u001b[39mraise\u001b[39;00m attr_err\n\u001b[0;32m    112\u001b[0m     \u001b[39m# lambda, but not partial, allows help() to work with update_wrapper\u001b[39;00m\n",
      "File \u001b[1;32mc:\\Users\\Daniel Montes\\Anaconda3\\lib\\site-packages\\sklearn\\svm\\_base.py:800\u001b[0m, in \u001b[0;36mBaseSVC._check_proba\u001b[1;34m(self)\u001b[0m\n\u001b[0;32m    798\u001b[0m \u001b[39mdef\u001b[39;00m \u001b[39m_check_proba\u001b[39m(\u001b[39mself\u001b[39m):\n\u001b[0;32m    799\u001b[0m     \u001b[39mif\u001b[39;00m \u001b[39mnot\u001b[39;00m \u001b[39mself\u001b[39m\u001b[39m.\u001b[39mprobability:\n\u001b[1;32m--> 800\u001b[0m         \u001b[39mraise\u001b[39;00m \u001b[39mAttributeError\u001b[39;00m(\n\u001b[0;32m    801\u001b[0m             \u001b[39m\"\u001b[39m\u001b[39mpredict_proba is not available when  probability=False\u001b[39m\u001b[39m\"\u001b[39m\n\u001b[0;32m    802\u001b[0m         )\n\u001b[0;32m    803\u001b[0m     \u001b[39mif\u001b[39;00m \u001b[39mself\u001b[39m\u001b[39m.\u001b[39m_impl \u001b[39mnot\u001b[39;00m \u001b[39min\u001b[39;00m (\u001b[39m\"\u001b[39m\u001b[39mc_svc\u001b[39m\u001b[39m\"\u001b[39m, \u001b[39m\"\u001b[39m\u001b[39mnu_svc\u001b[39m\u001b[39m\"\u001b[39m):\n\u001b[0;32m    804\u001b[0m         \u001b[39mraise\u001b[39;00m \u001b[39mAttributeError\u001b[39;00m(\u001b[39m\"\u001b[39m\u001b[39mpredict_proba only implemented for SVC and NuSVC\u001b[39m\u001b[39m\"\u001b[39m)\n",
      "\u001b[1;31mAttributeError\u001b[0m: predict_proba is not available when  probability=False"
     ]
    }
   ],
   "source": [
    "estimador_svm_gaussian_gamma.predict_proba(X)"
   ]
  },
  {
   "cell_type": "code",
   "execution_count": 33,
   "metadata": {},
   "outputs": [
    {
     "data": {
      "text/plain": [
       "array([[9.75417134e-01, 1.17446221e-02, 1.28382440e-02],\n",
       "       [9.00135589e-01, 6.73809358e-02, 3.24834753e-02],\n",
       "       [9.86928741e-01, 6.32429653e-03, 6.74696220e-03],\n",
       "       [9.86226794e-01, 7.00731113e-03, 6.76589487e-03],\n",
       "       [9.90918660e-01, 3.27481526e-03, 5.80652440e-03],\n",
       "       [9.74807997e-01, 9.92393834e-03, 1.52680649e-02],\n",
       "       [9.96103103e-01, 1.32539751e-03, 2.57149962e-03],\n",
       "       [9.78550839e-01, 9.98350111e-03, 1.14656598e-02],\n",
       "       [9.83160247e-01, 9.36762710e-03, 7.47212635e-03],\n",
       "       [9.41983381e-01, 3.56658014e-02, 2.23508171e-02],\n",
       "       [9.46906921e-01, 2.42029793e-02, 2.88900994e-02],\n",
       "       [9.91726585e-01, 3.32958815e-03, 4.94382672e-03],\n",
       "       [9.41270779e-01, 3.76755593e-02, 2.10536617e-02],\n",
       "       [9.92123879e-01, 3.61521165e-03, 4.26090898e-03],\n",
       "       [8.64930703e-01, 5.34161128e-02, 8.16531839e-02],\n",
       "       [9.71551612e-01, 9.33717158e-03, 1.91112165e-02],\n",
       "       [9.74807997e-01, 9.92393834e-03, 1.52680649e-02],\n",
       "       [9.75417134e-01, 1.17446221e-02, 1.28382440e-02],\n",
       "       [8.29233405e-01, 7.68792044e-02, 9.38873908e-02],\n",
       "       [9.92915157e-01, 2.14042637e-03, 4.94441666e-03],\n",
       "       [8.04763331e-01, 1.14222868e-01, 8.10138014e-02],\n",
       "       [9.89982327e-01, 3.42054659e-03, 6.59712599e-03],\n",
       "       [9.97942157e-01, 5.28908339e-04, 1.52893443e-03],\n",
       "       [9.37608471e-01, 3.57625189e-02, 2.66290099e-02],\n",
       "       [9.91726585e-01, 3.32958815e-03, 4.94382672e-03],\n",
       "       [8.35514958e-01, 1.15303659e-01, 4.91813829e-02],\n",
       "       [9.78550839e-01, 9.98350111e-03, 1.14656598e-02],\n",
       "       [9.58040774e-01, 2.09905583e-02, 2.09686677e-02],\n",
       "       [9.33373290e-01, 3.64288456e-02, 3.01978647e-02],\n",
       "       [9.86928741e-01, 6.32429653e-03, 6.74696220e-03],\n",
       "       [9.65588445e-01, 1.99830069e-02, 1.44285484e-02],\n",
       "       [8.04763331e-01, 1.14222868e-01, 8.10138014e-02],\n",
       "       [9.95082133e-01, 1.15698686e-03, 3.76088007e-03],\n",
       "       [9.82434209e-01, 6.04089116e-03, 1.15249001e-02],\n",
       "       [9.41983381e-01, 3.56658014e-02, 2.23508171e-02],\n",
       "       [9.41311187e-01, 3.43871263e-02, 2.43016865e-02],\n",
       "       [7.89990847e-01, 1.16018229e-01, 9.39909242e-02],\n",
       "       [9.94187913e-01, 1.93919473e-03, 3.87289227e-03],\n",
       "       [9.89443147e-01, 5.23304102e-03, 5.32381154e-03],\n",
       "       [9.61394011e-01, 2.02152526e-02, 1.83907365e-02],\n",
       "       [9.86330923e-01, 5.60828334e-03, 8.06079392e-03],\n",
       "       [6.08597106e-01, 3.25074845e-01, 6.63280496e-02],\n",
       "       [9.95430224e-01, 1.73591232e-03, 2.83386356e-03],\n",
       "       [9.86330923e-01, 5.60828334e-03, 8.06079392e-03],\n",
       "       [9.92915157e-01, 2.14042637e-03, 4.94441666e-03],\n",
       "       [9.41270779e-01, 3.76755593e-02, 2.10536617e-02],\n",
       "       [9.92915157e-01, 2.14042637e-03, 4.94441666e-03],\n",
       "       [9.91294944e-01, 3.90289447e-03, 4.80216183e-03],\n",
       "       [9.69066322e-01, 1.36077954e-02, 1.73258831e-02],\n",
       "       [9.65054947e-01, 1.83333943e-02, 1.66116583e-02],\n",
       "       [2.28952659e-03, 1.92479994e-01, 8.05230480e-01],\n",
       "       [7.28334715e-03, 3.72854967e-01, 6.19861686e-01],\n",
       "       [1.77895798e-03, 2.22609522e-01, 7.75611520e-01],\n",
       "       [7.85438044e-03, 8.01249350e-01, 1.90896269e-01],\n",
       "       [1.25951175e-03, 4.00292865e-01, 5.98447623e-01],\n",
       "       [2.05038716e-02, 7.19503872e-01, 2.59992256e-01],\n",
       "       [1.65348433e-02, 3.97625938e-01, 5.85839218e-01],\n",
       "       [2.13778447e-01, 6.76372297e-01, 1.09849256e-01],\n",
       "       [1.41543284e-03, 3.42403585e-01, 6.56180983e-01],\n",
       "       [1.81542127e-01, 6.80638996e-01, 1.37818876e-01],\n",
       "       [3.45820226e-02, 8.18796422e-01, 1.46621556e-01],\n",
       "       [2.06619996e-02, 6.24215534e-01, 3.55122466e-01],\n",
       "       [8.95980758e-04, 6.92062682e-01, 3.07041338e-01],\n",
       "       [5.49183777e-03, 5.62123961e-01, 4.32384201e-01],\n",
       "       [5.64350955e-02, 7.11128727e-01, 2.32436178e-01],\n",
       "       [2.30341794e-03, 2.76667382e-01, 7.21029200e-01],\n",
       "       [9.56233865e-02, 6.70725884e-01, 2.33650730e-01],\n",
       "       [8.07560190e-03, 7.07278445e-01, 2.84645954e-01],\n",
       "       [5.71127820e-04, 6.23495006e-01, 3.75933866e-01],\n",
       "       [9.58895452e-03, 7.75094355e-01, 2.15316690e-01],\n",
       "       [5.73609665e-02, 5.72330574e-01, 3.70308460e-01],\n",
       "       [3.60825788e-03, 5.79513904e-01, 4.16877839e-01],\n",
       "       [8.19572019e-04, 5.41350411e-01, 4.57830017e-01],\n",
       "       [3.60825788e-03, 5.79513904e-01, 4.16877839e-01],\n",
       "       [2.15319518e-03, 4.25411593e-01, 5.72435212e-01],\n",
       "       [1.95429026e-03, 3.25864130e-01, 6.72181580e-01],\n",
       "       [8.55168980e-04, 2.90592820e-01, 7.08552011e-01],\n",
       "       [1.64141447e-03, 2.90987241e-01, 7.07371344e-01],\n",
       "       [8.18287646e-03, 6.04948715e-01, 3.86868408e-01],\n",
       "       [8.46246666e-03, 7.45642410e-01, 2.45895124e-01],\n",
       "       [1.04683749e-02, 7.97266279e-01, 1.92265346e-01],\n",
       "       [1.04683749e-02, 7.97266279e-01, 1.92265346e-01],\n",
       "       [8.07560190e-03, 7.07278445e-01, 2.84645954e-01],\n",
       "       [3.50771573e-03, 6.37062789e-01, 3.59429496e-01],\n",
       "       [2.73610447e-01, 5.56326372e-01, 1.70063181e-01],\n",
       "       [1.00377300e-01, 4.76874401e-01, 4.22748300e-01],\n",
       "       [2.30341794e-03, 2.76667382e-01, 7.21029200e-01],\n",
       "       [5.64598323e-04, 5.72173298e-01, 4.27262104e-01],\n",
       "       [9.56233865e-02, 6.70725884e-01, 2.33650730e-01],\n",
       "       [1.47134207e-02, 7.90934612e-01, 1.94351967e-01],\n",
       "       [2.18240759e-02, 7.81330894e-01, 1.96845030e-01],\n",
       "       [8.62726895e-03, 5.43657892e-01, 4.47714839e-01],\n",
       "       [5.39523709e-03, 7.18927269e-01, 2.75677494e-01],\n",
       "       [8.59199803e-02, 7.87136498e-01, 1.26943522e-01],\n",
       "       [2.06939824e-02, 7.54712319e-01, 2.24593699e-01],\n",
       "       [5.60498492e-02, 6.72599284e-01, 2.71350867e-01],\n",
       "       [3.26425873e-02, 7.00677861e-01, 2.66679552e-01],\n",
       "       [3.84605570e-03, 5.16819953e-01, 4.79333991e-01],\n",
       "       [1.19641797e-01, 7.50914793e-01, 1.29443410e-01],\n",
       "       [2.05038716e-02, 7.19503872e-01, 2.59992256e-01],\n",
       "       [1.65348433e-02, 3.97625938e-01, 5.85839218e-01],\n",
       "       [8.07560190e-03, 7.07278445e-01, 2.84645954e-01],\n",
       "       [1.26422720e-03, 1.94961880e-01, 8.03773893e-01],\n",
       "       [2.81635345e-03, 4.70719780e-01, 5.26463866e-01],\n",
       "       [2.42460146e-03, 3.64883301e-01, 6.32692098e-01],\n",
       "       [2.32730968e-03, 1.52123653e-01, 8.45549037e-01],\n",
       "       [3.20901219e-01, 5.76510680e-01, 1.02588102e-01],\n",
       "       [1.18399702e-03, 1.79117596e-01, 8.19698407e-01],\n",
       "       [5.58494476e-04, 3.77507910e-01, 6.21933596e-01],\n",
       "       [8.42323004e-03, 1.45732584e-01, 8.45844186e-01],\n",
       "       [5.38226085e-03, 3.32579610e-01, 6.62038129e-01],\n",
       "       [1.14157620e-03, 4.62115338e-01, 5.36743085e-01],\n",
       "       [1.43880742e-03, 2.60547305e-01, 7.38013888e-01],\n",
       "       [5.80631698e-03, 7.54535914e-01, 2.39657769e-01],\n",
       "       [1.25767131e-02, 6.93247472e-01, 2.94175815e-01],\n",
       "       [7.28334715e-03, 3.72854967e-01, 6.19861686e-01],\n",
       "       [2.42460146e-03, 3.64883301e-01, 6.32692098e-01],\n",
       "       [1.83791758e-02, 1.30899096e-01, 8.50721728e-01],\n",
       "       [1.99375399e-03, 1.87267000e-01, 8.10739246e-01],\n",
       "       [8.95980758e-04, 6.92062682e-01, 3.07041338e-01],\n",
       "       [2.48087651e-03, 2.12054513e-01, 7.85464610e-01],\n",
       "       [3.39801930e-02, 7.36952443e-01, 2.29067364e-01],\n",
       "       [2.27098823e-03, 1.66601026e-01, 8.31127986e-01],\n",
       "       [1.40357989e-03, 5.07003323e-01, 4.91593097e-01],\n",
       "       [4.97893112e-03, 2.51895379e-01, 7.43125690e-01],\n",
       "       [2.23016067e-03, 1.64032193e-01, 8.33737646e-01],\n",
       "       [2.59013618e-03, 5.34760114e-01, 4.62649749e-01],\n",
       "       [8.62726895e-03, 5.43657892e-01, 4.47714839e-01],\n",
       "       [1.53708418e-03, 4.43723925e-01, 5.54738991e-01],\n",
       "       [1.32240505e-03, 1.80682810e-01, 8.17994785e-01],\n",
       "       [1.17494278e-03, 1.80303212e-01, 8.18521845e-01],\n",
       "       [2.30207557e-02, 1.38251580e-01, 8.38727664e-01],\n",
       "       [1.53708418e-03, 4.43723925e-01, 5.54738991e-01],\n",
       "       [1.95077255e-03, 4.89000420e-01, 5.09048807e-01],\n",
       "       [1.74408529e-03, 6.11041494e-01, 3.87214421e-01],\n",
       "       [2.89911232e-03, 1.50740582e-01, 8.46360306e-01],\n",
       "       [2.69478687e-02, 3.79339067e-01, 5.93713064e-01],\n",
       "       [4.70890645e-03, 3.89835048e-01, 6.05456046e-01],\n",
       "       [1.31165205e-02, 5.86357610e-01, 4.00525869e-01],\n",
       "       [1.77895798e-03, 2.22609522e-01, 7.75611520e-01],\n",
       "       [2.30341794e-03, 2.76667382e-01, 7.21029200e-01],\n",
       "       [1.77895798e-03, 2.22609522e-01, 7.75611520e-01],\n",
       "       [8.07560190e-03, 7.07278445e-01, 2.84645954e-01],\n",
       "       [2.81402871e-03, 2.35680544e-01, 7.61505428e-01],\n",
       "       [4.97893112e-03, 2.51895379e-01, 7.43125690e-01],\n",
       "       [1.64141447e-03, 2.90987241e-01, 7.07371344e-01],\n",
       "       [8.19572019e-04, 5.41350411e-01, 4.57830017e-01],\n",
       "       [2.42460146e-03, 3.64883301e-01, 6.32692098e-01],\n",
       "       [4.06832324e-02, 4.17892903e-01, 5.41423865e-01],\n",
       "       [2.06619996e-02, 6.24215534e-01, 3.55122466e-01]])"
      ]
     },
     "execution_count": 33,
     "metadata": {},
     "output_type": "execute_result"
    }
   ],
   "source": [
    "estimador_svm_probabilidad = SVC(probability=True).fit(X, y)\n",
    "estimador_svm_probabilidad.predict_proba(X)\n"
   ]
  },
  {
   "attachments": {},
   "cell_type": "markdown",
   "metadata": {},
   "source": [
    "## Kernel Sigmoid\n",
    "$$\\tanh(\\gamma||X\\cdot X^t||+c)$$"
   ]
  },
  {
   "cell_type": "code",
   "execution_count": 35,
   "metadata": {},
   "outputs": [
    {
     "data": {
      "image/png": "[encoded data removed]",
      "text/plain": [
       "<Figure size 432x288 with 1 Axes>"
      ]
     },
     "metadata": {
      "needs_background": "light"
     },
     "output_type": "display_data"
    }
   ],
   "source": [
    "estimador_svm_sigmoid = SVC(kernel=\"sigmoid\")\n",
    "estimador_svm_sigmoid.fit(X, y)\n",
    "\n",
    "plot_decision_regions(X, y, clf=estimador_svm_sigmoid);"
   ]
  },
  {
   "cell_type": "code",
   "execution_count": null,
   "metadata": {},
   "outputs": [],
   "source": []
  }
 ],
 "metadata": {
  "kernelspec": {
   "display_name": "base",
   "language": "python",
   "name": "python3"
  },
  "language_info": {
   "codemirror_mode": {
    "name": "ipython",
    "version": 3
   },
   "file_extension": ".py",
   "mimetype": "text/x-python",
   "name": "python",
   "nbconvert_exporter": "python",
   "pygments_lexer": "ipython3",
   "version": "3.9.12 (main, Apr  4 2022, 05:22:27) [MSC v.1916 64 bit (AMD64)]"
  },
  "orig_nbformat": 4,
  "vscode": {
   "interpreter": {
    "hash": "93b270aff94e38196a98effae74ed121e7c4be36a010106ff9b6f6d47d6f1709"
   }
  }
 },
 "nbformat": 4,
 "nbformat_minor": 2
}
