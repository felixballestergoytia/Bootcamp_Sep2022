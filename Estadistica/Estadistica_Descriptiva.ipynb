{
 "cells": [
  {
   "cell_type": "code",
   "execution_count": null,
   "id": "27a9eb94",
   "metadata": {},
   "outputs": [],
   "source": [
    "import numpy as np\n",
    "import scipy.stats as stats"
   ]
  },
  {
   "cell_type": "code",
   "execution_count": null,
   "id": "a8685287",
   "metadata": {},
   "outputs": [],
   "source": [
    "pesos=[100,50,75,85,65,73,123]"
   ]
  },
  {
   "cell_type": "code",
   "execution_count": null,
   "id": "7e5c282c",
   "metadata": {},
   "outputs": [],
   "source": [
    "pesos_media=np.mean(pesos)"
   ]
  },
  {
   "cell_type": "code",
   "execution_count": null,
   "id": "ec8fab11",
   "metadata": {},
   "outputs": [],
   "source": [
    "pesos_media"
   ]
  },
  {
   "cell_type": "code",
   "execution_count": null,
   "id": "36514c15",
   "metadata": {},
   "outputs": [],
   "source": [
    "## Mediana\n",
    "np.median(pesos)"
   ]
  },
  {
   "cell_type": "code",
   "execution_count": null,
   "id": "2338539f",
   "metadata": {},
   "outputs": [],
   "source": [
    "len(pesos)"
   ]
  },
  {
   "cell_type": "code",
   "execution_count": null,
   "id": "9b7e68fd",
   "metadata": {},
   "outputs": [],
   "source": [
    "np.mode(pesos)"
   ]
  },
  {
   "cell_type": "code",
   "execution_count": null,
   "id": "e4731a89",
   "metadata": {},
   "outputs": [],
   "source": [
    "stats.mode(pesos)"
   ]
  },
  {
   "cell_type": "code",
   "execution_count": null,
   "id": "4fa486fb",
   "metadata": {},
   "outputs": [],
   "source": [
    "pesos=[100,49,50,75,85,65,73,123]"
   ]
  },
  {
   "cell_type": "code",
   "execution_count": null,
   "id": "6d2f659d",
   "metadata": {},
   "outputs": [],
   "source": [
    "stats.mode(pesos)"
   ]
  },
  {
   "cell_type": "code",
   "execution_count": null,
   "id": "c428fd32",
   "metadata": {},
   "outputs": [],
   "source": [
    "pesos=[100,49,50,75,85,65,73,123,50,49]\n",
    "stats.mode(pesos)"
   ]
  },
  {
   "cell_type": "code",
   "execution_count": null,
   "id": "fde9793f",
   "metadata": {},
   "outputs": [],
   "source": [
    "## Rango\n",
    "np.max(pesos)-np.min(pesos)"
   ]
  },
  {
   "cell_type": "code",
   "execution_count": null,
   "id": "e290cce0",
   "metadata": {},
   "outputs": [],
   "source": [
    "## Cuartiles P75 el percentil 25"
   ]
  },
  {
   "cell_type": "code",
   "execution_count": null,
   "id": "934560ec",
   "metadata": {},
   "outputs": [],
   "source": [
    "stats.mstats.mquantiles(pesos)"
   ]
  },
  {
   "cell_type": "code",
   "execution_count": null,
   "id": "11bb1e28",
   "metadata": {},
   "outputs": [],
   "source": [
    "## Calcular el RI"
   ]
  },
  {
   "cell_type": "code",
   "execution_count": null,
   "id": "a5d53a45",
   "metadata": {},
   "outputs": [],
   "source": [
    "RI=stats.mstats.mquantiles(pesos)[2]-stats.mstats.mquantiles(pesos)[0]"
   ]
  },
  {
   "cell_type": "code",
   "execution_count": null,
   "id": "1849ab9d",
   "metadata": {},
   "outputs": [],
   "source": [
    "np.max(stats.mstats.mquantiles(pesos))"
   ]
  },
  {
   "cell_type": "code",
   "execution_count": null,
   "id": "287d838a",
   "metadata": {},
   "outputs": [],
   "source": [
    "np.min(stats.mstats.mquantiles(pesos))"
   ]
  },
  {
   "cell_type": "code",
   "execution_count": null,
   "id": "bfca8894",
   "metadata": {},
   "outputs": [],
   "source": [
    "import pandas as pd"
   ]
  },
  {
   "cell_type": "code",
   "execution_count": null,
   "id": "cc487111",
   "metadata": {},
   "outputs": [],
   "source": [
    "pd.qcut(pesos,4)"
   ]
  },
  {
   "cell_type": "code",
   "execution_count": null,
   "id": "9c41d8ca",
   "metadata": {},
   "outputs": [],
   "source": [
    "pd.qcut(pesos,4).categories"
   ]
  },
  {
   "cell_type": "code",
   "execution_count": null,
   "id": "2209035e",
   "metadata": {},
   "outputs": [],
   "source": [
    "##\n",
    "np.std(pesos)"
   ]
  },
  {
   "cell_type": "code",
   "execution_count": null,
   "id": "aef45d76",
   "metadata": {},
   "outputs": [],
   "source": [
    "def varianza(x):\n",
    "    n=len(x)\n",
    "    x_bar=np.mean(x)\n",
    "    c=0\n",
    "    for i in x:\n",
    "        c+=(i-x_bar)**2\n",
    "    return c/n"
   ]
  },
  {
   "cell_type": "code",
   "execution_count": null,
   "id": "8818824e",
   "metadata": {},
   "outputs": [],
   "source": [
    "varianza(pesos)**(1/2)"
   ]
  },
  {
   "cell_type": "code",
   "execution_count": null,
   "id": "01bd7853",
   "metadata": {},
   "outputs": [],
   "source": [
    "np.std(pesos)"
   ]
  },
  {
   "cell_type": "code",
   "execution_count": null,
   "id": "f1a7b7bb",
   "metadata": {},
   "outputs": [],
   "source": [
    "np.var(pesos)"
   ]
  },
  {
   "cell_type": "code",
   "execution_count": null,
   "id": "1a5f9bff",
   "metadata": {},
   "outputs": [],
   "source": [
    "varianza(pesos)"
   ]
  },
  {
   "cell_type": "markdown",
   "id": "aa32c331",
   "metadata": {},
   "source": [
    "$$\\gamma_1 = \\cfrac{m_3}{S^3}$$\n",
    "$$\\gamma_1 = \\cfrac{\\sum_{i=1}^n (x_i - \\bar{x})^3}{n \\times S^3}$$"
   ]
  },
  {
   "cell_type": "markdown",
   "id": "5d5e55cd",
   "metadata": {},
   "source": [
    "$$\\gamma_2 = \\cfrac{m_4}{S^4} -3$$\n",
    "$$\\gamma_2 = \\cfrac{\\sum_{i=1}^n (x_i - \\bar{x})^4}{n \\times S^4} - 3$$"
   ]
  },
  {
   "cell_type": "code",
   "execution_count": null,
   "id": "e9a2190c",
   "metadata": {},
   "outputs": [],
   "source": [
    "stats.skew(pesos)"
   ]
  },
  {
   "cell_type": "code",
   "execution_count": null,
   "id": "72581bc8",
   "metadata": {},
   "outputs": [],
   "source": [
    "stats.kurtosis(pesos)"
   ]
  },
  {
   "cell_type": "code",
   "execution_count": null,
   "id": "4aa70e7e",
   "metadata": {},
   "outputs": [],
   "source": []
  }
 ],
 "metadata": {
  "kernelspec": {
   "display_name": "base",
   "language": "python",
   "name": "python3"
  },
  "language_info": {
   "codemirror_mode": {
    "name": "ipython",
    "version": 3
   },
   "file_extension": ".py",
   "mimetype": "text/x-python",
   "name": "python",
   "nbconvert_exporter": "python",
   "pygments_lexer": "ipython3",
   "version": "3.9.12"
  },
  "vscode": {
   "interpreter": {
    "hash": "93b270aff94e38196a98effae74ed121e7c4be36a010106ff9b6f6d47d6f1709"
   }
  }
 },
 "nbformat": 4,
 "nbformat_minor": 5
}
